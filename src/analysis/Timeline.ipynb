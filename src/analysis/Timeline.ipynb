{
 "cells": [
  {
   "cell_type": "code",
   "execution_count": 83,
   "id": "6db00eeb",
   "metadata": {},
   "outputs": [],
   "source": [
    "from analysis.analyze_results import *\n",
    "from pathlib import Path\n",
    "import matplotlib.pyplot as plt\n",
    "import numpy as np\n",
    "import matplotlib\n",
    "from collections import defaultdict"
   ]
  },
  {
   "cell_type": "code",
   "execution_count": 82,
   "id": "020c78e9",
   "metadata": {},
   "outputs": [],
   "source": [
    "output_base_folder = Path(\"/home/ivan/Documents/git/storage-benchmarking/src/benchmark_output\")"
   ]
  },
  {
   "cell_type": "code",
   "execution_count": 31,
   "id": "9a6ef240",
   "metadata": {},
   "outputs": [],
   "source": [
    "s3_folder_filter=\"2810/*benchmark_e2e_s3*\""
   ]
  },
  {
   "cell_type": "code",
   "execution_count": 32,
   "id": "7a880b15",
   "metadata": {},
   "outputs": [],
   "source": [
    "def extract_timelines(output_base_folder: Path, folder_filter: str = \"**\", filter_by_metadata: Dict[str, List[str]] = None,\n",
    "):\n",
    "    files = list(output_base_folder.rglob(f\"{folder_filter}/timeline-*.log\"))\n",
    "    data = []\n",
    "    for working_file_path in tqdm.tqdm(files, total=len(files)):\n",
    "        results = parse_results_log(working_file_path)\n",
    "        if len(results) == 0:\n",
    "            continue\n",
    "        results = pd.DataFrame.from_records(data=results)\n",
    "        results = pd.merge(results[results[\"end_time\"].isnull()], \n",
    "                           results[results[\"start_time\"].isnull()], \n",
    "                           left_on='id', \n",
    "                           right_on='id').drop(['end_time_x', \n",
    "                                                      'start_time_y'], axis=1)\n",
    "        results[\"source_file\"] = working_file_path\n",
    "        results[\"run\"] = working_file_path.parent.name\n",
    "        # filter out old data format missing dataset etc.\n",
    "        data.append(results)\n",
    "    df = pd.concat(data)\n",
    "    df.groupby\n",
    "    return df\n"
   ]
  },
  {
   "cell_type": "code",
   "execution_count": 33,
   "id": "799d3587",
   "metadata": {},
   "outputs": [
    {
     "name": "stderr",
     "output_type": "stream",
     "text": [
      "100%|████████████████████████████████████████████████████████████████████████████████████████████████████████████████████████████████████████████████████████████████████| 21/21 [00:00<00:00, 184.60it/s]\n"
     ]
    }
   ],
   "source": [
    "df_dataloader = extract_timelines(output_base_folder, folder_filter=s3_folder_filter)"
   ]
  },
  {
   "cell_type": "code",
   "execution_count": 34,
   "id": "be807323",
   "metadata": {},
   "outputs": [
    {
     "data": {
      "text/html": [
       "<div>\n",
       "<style scoped>\n",
       "    .dataframe tbody tr th:only-of-type {\n",
       "        vertical-align: middle;\n",
       "    }\n",
       "\n",
       "    .dataframe tbody tr th {\n",
       "        vertical-align: top;\n",
       "    }\n",
       "\n",
       "    .dataframe thead th {\n",
       "        text-align: right;\n",
       "    }\n",
       "</style>\n",
       "<table border=\"1\" class=\"dataframe\">\n",
       "  <thead>\n",
       "    <tr style=\"text-align: right;\">\n",
       "      <th></th>\n",
       "      <th>item_x</th>\n",
       "      <th>id</th>\n",
       "      <th>start_time_x</th>\n",
       "      <th>item_y</th>\n",
       "      <th>end_time_y</th>\n",
       "      <th>source_file</th>\n",
       "      <th>run</th>\n",
       "    </tr>\n",
       "  </thead>\n",
       "  <tbody>\n",
       "    <tr>\n",
       "      <th>74</th>\n",
       "      <td>run_training_batch</td>\n",
       "      <td>1448829564773625763</td>\n",
       "      <td>1.635434e+09</td>\n",
       "      <td>run_training_batch</td>\n",
       "      <td>1.635434e+09</td>\n",
       "      <td>/home/ivan/Documents/git/storage-benchmarking/...</td>\n",
       "      <td>20211028f171716_benchmark_e2e_s3_10_4_16_1_thr...</td>\n",
       "    </tr>\n",
       "    <tr>\n",
       "      <th>73</th>\n",
       "      <td>training_batch_to_device</td>\n",
       "      <td>1448829564773625764</td>\n",
       "      <td>1.635434e+09</td>\n",
       "      <td>training_batch_to_device</td>\n",
       "      <td>1.635434e+09</td>\n",
       "      <td>/home/ivan/Documents/git/storage-benchmarking/...</td>\n",
       "      <td>20211028f171716_benchmark_e2e_s3_10_4_16_1_thr...</td>\n",
       "    </tr>\n",
       "    <tr>\n",
       "      <th>72</th>\n",
       "      <td>next_data</td>\n",
       "      <td>24</td>\n",
       "      <td>1.635434e+09</td>\n",
       "      <td>next_data</td>\n",
       "      <td>1.635434e+09</td>\n",
       "      <td>/home/ivan/Documents/git/storage-benchmarking/...</td>\n",
       "      <td>20211028f171716_benchmark_e2e_s3_10_4_16_1_thr...</td>\n",
       "    </tr>\n",
       "    <tr>\n",
       "      <th>71</th>\n",
       "      <td>run_training_batch</td>\n",
       "      <td>4832487347084061842</td>\n",
       "      <td>1.635434e+09</td>\n",
       "      <td>run_training_batch</td>\n",
       "      <td>1.635434e+09</td>\n",
       "      <td>/home/ivan/Documents/git/storage-benchmarking/...</td>\n",
       "      <td>20211028f171716_benchmark_e2e_s3_10_4_16_1_thr...</td>\n",
       "    </tr>\n",
       "    <tr>\n",
       "      <th>70</th>\n",
       "      <td>training_batch_to_device</td>\n",
       "      <td>220801328656673941</td>\n",
       "      <td>1.635434e+09</td>\n",
       "      <td>training_batch_to_device</td>\n",
       "      <td>1.635434e+09</td>\n",
       "      <td>/home/ivan/Documents/git/storage-benchmarking/...</td>\n",
       "      <td>20211028f171716_benchmark_e2e_s3_10_4_16_1_thr...</td>\n",
       "    </tr>\n",
       "    <tr>\n",
       "      <th>...</th>\n",
       "      <td>...</td>\n",
       "      <td>...</td>\n",
       "      <td>...</td>\n",
       "      <td>...</td>\n",
       "      <td>...</td>\n",
       "      <td>...</td>\n",
       "      <td>...</td>\n",
       "    </tr>\n",
       "    <tr>\n",
       "      <th>0</th>\n",
       "      <td>batch</td>\n",
       "      <td>3</td>\n",
       "      <td>1.635434e+09</td>\n",
       "      <td>batch</td>\n",
       "      <td>1.635434e+09</td>\n",
       "      <td>/home/ivan/Documents/git/storage-benchmarking/...</td>\n",
       "      <td>20211028f171716_benchmark_e2e_s3_10_4_16_1_thr...</td>\n",
       "    </tr>\n",
       "    <tr>\n",
       "      <th>0</th>\n",
       "      <td>batch</td>\n",
       "      <td>2</td>\n",
       "      <td>1.635434e+09</td>\n",
       "      <td>batch</td>\n",
       "      <td>1.635434e+09</td>\n",
       "      <td>/home/ivan/Documents/git/storage-benchmarking/...</td>\n",
       "      <td>20211028f171716_benchmark_e2e_s3_10_4_16_1_thr...</td>\n",
       "    </tr>\n",
       "    <tr>\n",
       "      <th>0</th>\n",
       "      <td>batch</td>\n",
       "      <td>1</td>\n",
       "      <td>1.635434e+09</td>\n",
       "      <td>batch</td>\n",
       "      <td>1.635434e+09</td>\n",
       "      <td>/home/ivan/Documents/git/storage-benchmarking/...</td>\n",
       "      <td>20211028f171716_benchmark_e2e_s3_10_4_16_1_thr...</td>\n",
       "    </tr>\n",
       "    <tr>\n",
       "      <th>0</th>\n",
       "      <td>batch</td>\n",
       "      <td>0</td>\n",
       "      <td>1.635434e+09</td>\n",
       "      <td>batch</td>\n",
       "      <td>1.635434e+09</td>\n",
       "      <td>/home/ivan/Documents/git/storage-benchmarking/...</td>\n",
       "      <td>20211028f171716_benchmark_e2e_s3_10_4_16_1_thr...</td>\n",
       "    </tr>\n",
       "    <tr>\n",
       "      <th>0</th>\n",
       "      <td>next_data</td>\n",
       "      <td>0</td>\n",
       "      <td>1.635434e+09</td>\n",
       "      <td>next_data</td>\n",
       "      <td>1.635434e+09</td>\n",
       "      <td>/home/ivan/Documents/git/storage-benchmarking/...</td>\n",
       "      <td>20211028f171716_benchmark_e2e_s3_10_4_16_1_thr...</td>\n",
       "    </tr>\n",
       "  </tbody>\n",
       "</table>\n",
       "<p>100 rows × 7 columns</p>\n",
       "</div>"
      ],
      "text/plain": [
       "                      item_x                   id  start_time_x  \\\n",
       "74        run_training_batch  1448829564773625763  1.635434e+09   \n",
       "73  training_batch_to_device  1448829564773625764  1.635434e+09   \n",
       "72                 next_data                   24  1.635434e+09   \n",
       "71        run_training_batch  4832487347084061842  1.635434e+09   \n",
       "70  training_batch_to_device   220801328656673941  1.635434e+09   \n",
       "..                       ...                  ...           ...   \n",
       "0                      batch                    3  1.635434e+09   \n",
       "0                      batch                    2  1.635434e+09   \n",
       "0                      batch                    1  1.635434e+09   \n",
       "0                      batch                    0  1.635434e+09   \n",
       "0                  next_data                    0  1.635434e+09   \n",
       "\n",
       "                      item_y    end_time_y  \\\n",
       "74        run_training_batch  1.635434e+09   \n",
       "73  training_batch_to_device  1.635434e+09   \n",
       "72                 next_data  1.635434e+09   \n",
       "71        run_training_batch  1.635434e+09   \n",
       "70  training_batch_to_device  1.635434e+09   \n",
       "..                       ...           ...   \n",
       "0                      batch  1.635434e+09   \n",
       "0                      batch  1.635434e+09   \n",
       "0                      batch  1.635434e+09   \n",
       "0                      batch  1.635434e+09   \n",
       "0                  next_data  1.635434e+09   \n",
       "\n",
       "                                          source_file  \\\n",
       "74  /home/ivan/Documents/git/storage-benchmarking/...   \n",
       "73  /home/ivan/Documents/git/storage-benchmarking/...   \n",
       "72  /home/ivan/Documents/git/storage-benchmarking/...   \n",
       "71  /home/ivan/Documents/git/storage-benchmarking/...   \n",
       "70  /home/ivan/Documents/git/storage-benchmarking/...   \n",
       "..                                                ...   \n",
       "0   /home/ivan/Documents/git/storage-benchmarking/...   \n",
       "0   /home/ivan/Documents/git/storage-benchmarking/...   \n",
       "0   /home/ivan/Documents/git/storage-benchmarking/...   \n",
       "0   /home/ivan/Documents/git/storage-benchmarking/...   \n",
       "0   /home/ivan/Documents/git/storage-benchmarking/...   \n",
       "\n",
       "                                                  run  \n",
       "74  20211028f171716_benchmark_e2e_s3_10_4_16_1_thr...  \n",
       "73  20211028f171716_benchmark_e2e_s3_10_4_16_1_thr...  \n",
       "72  20211028f171716_benchmark_e2e_s3_10_4_16_1_thr...  \n",
       "71  20211028f171716_benchmark_e2e_s3_10_4_16_1_thr...  \n",
       "70  20211028f171716_benchmark_e2e_s3_10_4_16_1_thr...  \n",
       "..                                                ...  \n",
       "0   20211028f171716_benchmark_e2e_s3_10_4_16_1_thr...  \n",
       "0   20211028f171716_benchmark_e2e_s3_10_4_16_1_thr...  \n",
       "0   20211028f171716_benchmark_e2e_s3_10_4_16_1_thr...  \n",
       "0   20211028f171716_benchmark_e2e_s3_10_4_16_1_thr...  \n",
       "0   20211028f171716_benchmark_e2e_s3_10_4_16_1_thr...  \n",
       "\n",
       "[100 rows x 7 columns]"
      ]
     },
     "execution_count": 34,
     "metadata": {},
     "output_type": "execute_result"
    }
   ],
   "source": [
    "df_dataloader.sort_values([\"start_time_x\"], ascending=False)"
   ]
  },
  {
   "cell_type": "code",
   "execution_count": 84,
   "id": "91e235a5",
   "metadata": {},
   "outputs": [
    {
     "data": {
      "application/javascript": [
       "IPython.OutputArea.auto_scroll_threshold = 9999\n"
      ],
      "text/plain": [
       "<IPython.core.display.Javascript object>"
      ]
     },
     "metadata": {},
     "output_type": "display_data"
    }
   ],
   "source": [
    "%%javascript\n",
    "IPython.OutputArea.auto_scroll_threshold = 9999"
   ]
  },
  {
   "cell_type": "code",
   "execution_count": 85,
   "id": "37392fab",
   "metadata": {},
   "outputs": [],
   "source": [
    "colors={}\n",
    "unique_functions = np.unique(df_dataloader[\"item_x\"])\n",
    "for i, color in zip(unique_functions, [\"red\", \"blue\", \"green\", \"black\"]):\n",
    "    colors[str(i)] = color\n",
    "lanes={}\n",
    "for i, lane in zip(unique_functions, range(len(unique_functions))):\n",
    "    lanes[str(i)] = lane"
   ]
  },
  {
   "cell_type": "code",
   "execution_count": 86,
   "id": "c20fa102",
   "metadata": {},
   "outputs": [
    {
     "data": {
      "text/plain": [
       "{'batch': 0,\n",
       " 'next_data': 1,\n",
       " 'run_training_batch': 2,\n",
       " 'training_batch_to_device': 3}"
      ]
     },
     "execution_count": 86,
     "metadata": {},
     "output_type": "execute_result"
    }
   ],
   "source": [
    "lanes"
   ]
  },
  {
   "cell_type": "code",
   "execution_count": 87,
   "id": "53609e83",
   "metadata": {},
   "outputs": [
    {
     "data": {
      "text/plain": [
       "array(['20211028f171716_benchmark_e2e_s3_10_4_16_1_threaded_sync'],\n",
       "      dtype=object)"
      ]
     },
     "execution_count": 87,
     "metadata": {},
     "output_type": "execute_result"
    }
   ],
   "source": [
    "unique_runs = np.unique(df_dataloader[\"run\"])\n",
    "unique_runs"
   ]
  },
  {
   "cell_type": "code",
   "execution_count": 95,
   "id": "790498df",
   "metadata": {},
   "outputs": [],
   "source": [
    "def show_timelines(df, run, flat=False):\n",
    "    fig, ax = plt.subplots(figsize=(15, 5))\n",
    "    # fig, ax = plt.subplots()\n",
    "    data = defaultdict(list)\n",
    "    start = min(df[\"start_time_x\"]) \n",
    "    for index, row in df.iterrows():\n",
    "        duration = row[\"end_time_y\"] - row[\"start_time_x\"] \n",
    "        x1 = row[\"start_time_x\"] - start \n",
    "        if duration < 0.001 and row[\"item_x\"] == \"training_batch_to_device\" and flat:\n",
    "            duration = 0.08\n",
    "        x2 = x1 + duration\n",
    "        if not flat:\n",
    "            lane = index\n",
    "        else:\n",
    "            lane = lanes[row[\"item_x\"]]\n",
    "        ax.plot([x1, x2], [lane, lane], color=colors[row[\"item_x\"]], label=row[\"item_x\"], linewidth=3)\n",
    "    ax.set_xlabel(\"Experiment duration\", loc=\"center\")\n",
    "    ax.set_ylabel(\"Item\", loc=\"top\")\n",
    "    ax.set_title(f\"Runtime for each function, impl: {run.split('_')[8]},\"\n",
    "                 f\"cache: {run.split('_')[7]}, \"\n",
    "                 f\"batch size: {run.split('_')[4]}\",\n",
    "                 loc='center')\n",
    "    ax.legend()\n",
    "    ax.grid(linestyle='--', which=\"both\")\n",
    "\n",
    "    handles, labels = plt.gca().get_legend_handles_labels()\n",
    "    by_label = dict(zip(labels, handles))\n",
    "    plt.legend(by_label.values(), by_label.keys(), loc='upper right')\n",
    "    plt.show()\n",
    "# single run, 6 log files, downloading batches"
   ]
  },
  {
   "cell_type": "code",
   "execution_count": 96,
   "id": "f9b1ec0d",
   "metadata": {},
   "outputs": [
    {
     "data": {
      "image/png": "[encoded data removed]",
      "text/plain": [
       "<Figure size 1080x360 with 1 Axes>"
      ]
     },
     "metadata": {
      "needs_background": "light"
     },
     "output_type": "display_data"
    }
   ],
   "source": [
    "for run in unique_runs:\n",
    "    df = df_dataloader[df_dataloader[\"run\"]==run]\n",
    "    show_timelines(df, run, True)"
   ]
  },
  {
   "cell_type": "code",
   "execution_count": 97,
   "id": "bef0bafd",
   "metadata": {},
   "outputs": [
    {
     "data": {
      "image/png": "[encoded data removed]",
      "text/plain": [
       "<Figure size 1080x360 with 1 Axes>"
      ]
     },
     "metadata": {
      "needs_background": "light"
     },
     "output_type": "display_data"
    }
   ],
   "source": [
    "for run in unique_runs:\n",
    "    df = df_dataloader[df_dataloader[\"run\"]==run]\n",
    "    show_timelines(df, run, False)\n",
    "# Second run is without caching..."
   ]
  },
  {
   "cell_type": "code",
   "execution_count": null,
   "id": "ebb5593d",
   "metadata": {},
   "outputs": [],
   "source": []
  }
 ],
 "metadata": {
  "kernelspec": {
   "display_name": "storage-benchmarking",
   "language": "python",
   "name": "storage-benchmarking"
  },
  "language_info": {
   "codemirror_mode": {
    "name": "ipython",
    "version": 3
   },
   "file_extension": ".py",
   "mimetype": "text/x-python",
   "name": "python",
   "nbconvert_exporter": "python",
   "pygments_lexer": "ipython3",
   "version": "3.9.2"
  }
 },
 "nbformat": 4,
 "nbformat_minor": 5
}
