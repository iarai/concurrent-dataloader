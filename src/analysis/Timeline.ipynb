{
 "cells": [
  {
   "cell_type": "code",
   "execution_count": 1,
   "id": "6db00eeb",
   "metadata": {},
   "outputs": [],
   "source": [
    "from analysis.analyze_results import *\n",
    "from pathlib import Path\n",
    "import matplotlib.pyplot as plt\n",
    "import numpy as np\n",
    "import matplotlib\n",
    "from collections import defaultdict"
   ]
  },
  {
   "cell_type": "code",
   "execution_count": 2,
   "id": "020c78e9",
   "metadata": {},
   "outputs": [],
   "source": [
    "output_base_folder = Path(\"/home/ivan/Documents/git/storage-benchmarking/src/benchmark_output\")"
   ]
  },
  {
   "cell_type": "code",
   "execution_count": 9,
   "id": "9a6ef240",
   "metadata": {},
   "outputs": [],
   "source": [
    "s3_folder_filter=\"2810/*benchmark_e2e_s3*\""
   ]
  },
  {
   "cell_type": "code",
   "execution_count": 10,
   "id": "7a880b15",
   "metadata": {},
   "outputs": [],
   "source": [
    "def extract_timelines(output_base_folder: Path, folder_filter: str = \"**\", filter_by_metadata: Dict[str, List[str]] = None,\n",
    "):\n",
    "    files = list(output_base_folder.rglob(f\"{folder_filter}/timeline-*.log\"))\n",
    "    data = []\n",
    "    for working_file_path in tqdm.tqdm(files, total=len(files)):\n",
    "        results = parse_results_log(working_file_path)\n",
    "        if len(results) == 0:\n",
    "            continue\n",
    "        results = pd.DataFrame.from_records(data=results)\n",
    "        results = pd.merge(results[results[\"end_time\"].isnull()], \n",
    "                           results[results[\"start_time\"].isnull()], \n",
    "                           left_on='id', \n",
    "                           right_on='id').drop(['end_time_x', \n",
    "                                                      'start_time_y'], axis=1)\n",
    "        results[\"source_file\"] = working_file_path\n",
    "        results[\"run\"] = working_file_path.parent.name\n",
    "        # filter out old data format missing dataset etc.\n",
    "        data.append(results)\n",
    "    df = pd.concat(data)\n",
    "    df.groupby\n",
    "    return df\n"
   ]
  },
  {
   "cell_type": "code",
   "execution_count": 68,
   "id": "2da3647b",
   "metadata": {},
   "outputs": [],
   "source": [
    "def show_timelines(df, run, flat=False):\n",
    "    fig, ax = plt.subplots(figsize=(15, 5))\n",
    "    # fig, ax = plt.subplots()\n",
    "    data = defaultdict(list)\n",
    "    start = min(df[\"start_time_x\"]) \n",
    "    i = 0\n",
    "    for index, row in df.iterrows():\n",
    "        duration = row[\"end_time_y\"] - row[\"start_time_x\"] \n",
    "        x1 = row[\"start_time_x\"] - start \n",
    "        if duration < 0.08:\n",
    "            duration = 0.1\n",
    "        x2 = x1 + duration\n",
    "        if not flat:\n",
    "            lane = i\n",
    "            i += 2\n",
    "        else:\n",
    "            lane = lanes[row[\"item_x\"]]\n",
    "        ax.plot([x1, x2], [lane, lane], color=colors[row[\"item_x\"]], label=row[\"item_x\"], linewidth=4)\n",
    "    ax.set_xlabel(\"Experiment duration\", loc=\"center\")\n",
    "    ax.set_ylabel(\"Item\", loc=\"top\")\n",
    "    ax.set_title(f\"Runtime for each function, impl: {run.split('_')[8]},\"\n",
    "                 f\"cache: {run.split('_')[7]}, \"\n",
    "                 f\"batch size: {run.split('_')[4]}\",\n",
    "                 loc='center')\n",
    "    ax.legend()\n",
    "    ax.grid(linestyle='--', which=\"both\")\n",
    "\n",
    "    handles, labels = plt.gca().get_legend_handles_labels()\n",
    "    by_label = dict(zip(labels, handles))\n",
    "\n",
    "    # Put a legend below current axis\n",
    "    ax.legend(by_label.values(), by_label.keys(), \n",
    "              loc='upper center', bbox_to_anchor=(0.5, -0.05),\n",
    "              fancybox=True, shadow=True, ncol=5)\n",
    "    plt.show()\n"
   ]
  },
  {
   "cell_type": "code",
   "execution_count": 62,
   "id": "799d3587",
   "metadata": {},
   "outputs": [
    {
     "name": "stderr",
     "output_type": "stream",
     "text": [
      "100%|████████████████████████████████████████████████████████████████████████████████████████████████████████████████████████████████████████████████████████████████████| 14/14 [00:00<00:00, 482.66it/s]\n"
     ]
    }
   ],
   "source": [
    "df_dataloader = extract_timelines(output_base_folder, folder_filter=s3_folder_filter)"
   ]
  },
  {
   "cell_type": "code",
   "execution_count": 63,
   "id": "603a16f9",
   "metadata": {},
   "outputs": [
    {
     "data": {
      "text/html": [
       "<div>\n",
       "<style scoped>\n",
       "    .dataframe tbody tr th:only-of-type {\n",
       "        vertical-align: middle;\n",
       "    }\n",
       "\n",
       "    .dataframe tbody tr th {\n",
       "        vertical-align: top;\n",
       "    }\n",
       "\n",
       "    .dataframe thead th {\n",
       "        text-align: right;\n",
       "    }\n",
       "</style>\n",
       "<table border=\"1\" class=\"dataframe\">\n",
       "  <thead>\n",
       "    <tr style=\"text-align: right;\">\n",
       "      <th></th>\n",
       "      <th>item_x</th>\n",
       "      <th>id</th>\n",
       "      <th>start_time_x</th>\n",
       "      <th>item_y</th>\n",
       "      <th>end_time_y</th>\n",
       "      <th>source_file</th>\n",
       "      <th>run</th>\n",
       "    </tr>\n",
       "  </thead>\n",
       "  <tbody>\n",
       "    <tr>\n",
       "      <th>11</th>\n",
       "      <td>run_training_batch</td>\n",
       "      <td>1376953438968158862</td>\n",
       "      <td>1.636103e+09</td>\n",
       "      <td>run_training_batch</td>\n",
       "      <td>1.636103e+09</td>\n",
       "      <td>/home/ivan/Documents/git/storage-benchmarking/...</td>\n",
       "      <td>20211105f100706_benchmark_e2e_s3_4_2_16_1_vani...</td>\n",
       "    </tr>\n",
       "    <tr>\n",
       "      <th>10</th>\n",
       "      <td>training_batch_to_device</td>\n",
       "      <td>1376953438968158863</td>\n",
       "      <td>1.636103e+09</td>\n",
       "      <td>training_batch_to_device</td>\n",
       "      <td>1.636103e+09</td>\n",
       "      <td>/home/ivan/Documents/git/storage-benchmarking/...</td>\n",
       "      <td>20211105f100706_benchmark_e2e_s3_4_2_16_1_vani...</td>\n",
       "    </tr>\n",
       "    <tr>\n",
       "      <th>9</th>\n",
       "      <td>next_data</td>\n",
       "      <td>3</td>\n",
       "      <td>1.636103e+09</td>\n",
       "      <td>next_data</td>\n",
       "      <td>1.636103e+09</td>\n",
       "      <td>/home/ivan/Documents/git/storage-benchmarking/...</td>\n",
       "      <td>20211105f100706_benchmark_e2e_s3_4_2_16_1_vani...</td>\n",
       "    </tr>\n",
       "    <tr>\n",
       "      <th>8</th>\n",
       "      <td>run_training_batch</td>\n",
       "      <td>5912474518011469011</td>\n",
       "      <td>1.636103e+09</td>\n",
       "      <td>run_training_batch</td>\n",
       "      <td>1.636103e+09</td>\n",
       "      <td>/home/ivan/Documents/git/storage-benchmarking/...</td>\n",
       "      <td>20211105f100706_benchmark_e2e_s3_4_2_16_1_vani...</td>\n",
       "    </tr>\n",
       "    <tr>\n",
       "      <th>7</th>\n",
       "      <td>training_batch_to_device</td>\n",
       "      <td>1300788499584081110</td>\n",
       "      <td>1.636103e+09</td>\n",
       "      <td>training_batch_to_device</td>\n",
       "      <td>1.636103e+09</td>\n",
       "      <td>/home/ivan/Documents/git/storage-benchmarking/...</td>\n",
       "      <td>20211105f100706_benchmark_e2e_s3_4_2_16_1_vani...</td>\n",
       "    </tr>\n",
       "    <tr>\n",
       "      <th>6</th>\n",
       "      <td>next_data</td>\n",
       "      <td>2</td>\n",
       "      <td>1.636103e+09</td>\n",
       "      <td>next_data</td>\n",
       "      <td>1.636103e+09</td>\n",
       "      <td>/home/ivan/Documents/git/storage-benchmarking/...</td>\n",
       "      <td>20211105f100706_benchmark_e2e_s3_4_2_16_1_vani...</td>\n",
       "    </tr>\n",
       "    <tr>\n",
       "      <th>5</th>\n",
       "      <td>run_training_batch</td>\n",
       "      <td>-8179595164159012896</td>\n",
       "      <td>1.636103e+09</td>\n",
       "      <td>run_training_batch</td>\n",
       "      <td>1.636103e+09</td>\n",
       "      <td>/home/ivan/Documents/git/storage-benchmarking/...</td>\n",
       "      <td>20211105f100706_benchmark_e2e_s3_4_2_16_1_vani...</td>\n",
       "    </tr>\n",
       "    <tr>\n",
       "      <th>4</th>\n",
       "      <td>training_batch_to_device</td>\n",
       "      <td>-1262066136517931042</td>\n",
       "      <td>1.636103e+09</td>\n",
       "      <td>training_batch_to_device</td>\n",
       "      <td>1.636103e+09</td>\n",
       "      <td>/home/ivan/Documents/git/storage-benchmarking/...</td>\n",
       "      <td>20211105f100706_benchmark_e2e_s3_4_2_16_1_vani...</td>\n",
       "    </tr>\n",
       "    <tr>\n",
       "      <th>3</th>\n",
       "      <td>next_data</td>\n",
       "      <td>1</td>\n",
       "      <td>1.636103e+09</td>\n",
       "      <td>next_data</td>\n",
       "      <td>1.636103e+09</td>\n",
       "      <td>/home/ivan/Documents/git/storage-benchmarking/...</td>\n",
       "      <td>20211105f100706_benchmark_e2e_s3_4_2_16_1_vani...</td>\n",
       "    </tr>\n",
       "    <tr>\n",
       "      <th>2</th>\n",
       "      <td>run_training_batch</td>\n",
       "      <td>-1648385367916444886</td>\n",
       "      <td>1.636103e+09</td>\n",
       "      <td>run_training_batch</td>\n",
       "      <td>1.636103e+09</td>\n",
       "      <td>/home/ivan/Documents/git/storage-benchmarking/...</td>\n",
       "      <td>20211105f100706_benchmark_e2e_s3_4_2_16_1_vani...</td>\n",
       "    </tr>\n",
       "    <tr>\n",
       "      <th>1</th>\n",
       "      <td>training_batch_to_device</td>\n",
       "      <td>-1648385367916444885</td>\n",
       "      <td>1.636103e+09</td>\n",
       "      <td>training_batch_to_device</td>\n",
       "      <td>1.636103e+09</td>\n",
       "      <td>/home/ivan/Documents/git/storage-benchmarking/...</td>\n",
       "      <td>20211105f100706_benchmark_e2e_s3_4_2_16_1_vani...</td>\n",
       "    </tr>\n",
       "    <tr>\n",
       "      <th>2</th>\n",
       "      <td>batch</td>\n",
       "      <td>-3641784562588435648</td>\n",
       "      <td>1.636103e+09</td>\n",
       "      <td>batch</td>\n",
       "      <td>1.636103e+09</td>\n",
       "      <td>/home/ivan/Documents/git/storage-benchmarking/...</td>\n",
       "      <td>20211105f100706_benchmark_e2e_s3_4_2_16_1_vani...</td>\n",
       "    </tr>\n",
       "    <tr>\n",
       "      <th>1</th>\n",
       "      <td>batch</td>\n",
       "      <td>2261615107880026386</td>\n",
       "      <td>1.636103e+09</td>\n",
       "      <td>batch</td>\n",
       "      <td>1.636103e+09</td>\n",
       "      <td>/home/ivan/Documents/git/storage-benchmarking/...</td>\n",
       "      <td>20211105f100706_benchmark_e2e_s3_4_2_16_1_vani...</td>\n",
       "    </tr>\n",
       "    <tr>\n",
       "      <th>1</th>\n",
       "      <td>batch</td>\n",
       "      <td>-5133125421876715600</td>\n",
       "      <td>1.636103e+09</td>\n",
       "      <td>batch</td>\n",
       "      <td>1.636103e+09</td>\n",
       "      <td>/home/ivan/Documents/git/storage-benchmarking/...</td>\n",
       "      <td>20211105f100706_benchmark_e2e_s3_4_2_16_1_vani...</td>\n",
       "    </tr>\n",
       "    <tr>\n",
       "      <th>0</th>\n",
       "      <td>batch</td>\n",
       "      <td>-5837640237450333633</td>\n",
       "      <td>1.636103e+09</td>\n",
       "      <td>batch</td>\n",
       "      <td>1.636103e+09</td>\n",
       "      <td>/home/ivan/Documents/git/storage-benchmarking/...</td>\n",
       "      <td>20211105f100706_benchmark_e2e_s3_4_2_16_1_vani...</td>\n",
       "    </tr>\n",
       "    <tr>\n",
       "      <th>0</th>\n",
       "      <td>batch</td>\n",
       "      <td>7327027465595056883</td>\n",
       "      <td>1.636103e+09</td>\n",
       "      <td>batch</td>\n",
       "      <td>1.636103e+09</td>\n",
       "      <td>/home/ivan/Documents/git/storage-benchmarking/...</td>\n",
       "      <td>20211105f100706_benchmark_e2e_s3_4_2_16_1_vani...</td>\n",
       "    </tr>\n",
       "    <tr>\n",
       "      <th>0</th>\n",
       "      <td>next_data</td>\n",
       "      <td>0</td>\n",
       "      <td>1.636103e+09</td>\n",
       "      <td>next_data</td>\n",
       "      <td>1.636103e+09</td>\n",
       "      <td>/home/ivan/Documents/git/storage-benchmarking/...</td>\n",
       "      <td>20211105f100706_benchmark_e2e_s3_4_2_16_1_vani...</td>\n",
       "    </tr>\n",
       "  </tbody>\n",
       "</table>\n",
       "</div>"
      ],
      "text/plain": [
       "                      item_x                   id  start_time_x  \\\n",
       "11        run_training_batch  1376953438968158862  1.636103e+09   \n",
       "10  training_batch_to_device  1376953438968158863  1.636103e+09   \n",
       "9                  next_data                    3  1.636103e+09   \n",
       "8         run_training_batch  5912474518011469011  1.636103e+09   \n",
       "7   training_batch_to_device  1300788499584081110  1.636103e+09   \n",
       "6                  next_data                    2  1.636103e+09   \n",
       "5         run_training_batch -8179595164159012896  1.636103e+09   \n",
       "4   training_batch_to_device -1262066136517931042  1.636103e+09   \n",
       "3                  next_data                    1  1.636103e+09   \n",
       "2         run_training_batch -1648385367916444886  1.636103e+09   \n",
       "1   training_batch_to_device -1648385367916444885  1.636103e+09   \n",
       "2                      batch -3641784562588435648  1.636103e+09   \n",
       "1                      batch  2261615107880026386  1.636103e+09   \n",
       "1                      batch -5133125421876715600  1.636103e+09   \n",
       "0                      batch -5837640237450333633  1.636103e+09   \n",
       "0                      batch  7327027465595056883  1.636103e+09   \n",
       "0                  next_data                    0  1.636103e+09   \n",
       "\n",
       "                      item_y    end_time_y  \\\n",
       "11        run_training_batch  1.636103e+09   \n",
       "10  training_batch_to_device  1.636103e+09   \n",
       "9                  next_data  1.636103e+09   \n",
       "8         run_training_batch  1.636103e+09   \n",
       "7   training_batch_to_device  1.636103e+09   \n",
       "6                  next_data  1.636103e+09   \n",
       "5         run_training_batch  1.636103e+09   \n",
       "4   training_batch_to_device  1.636103e+09   \n",
       "3                  next_data  1.636103e+09   \n",
       "2         run_training_batch  1.636103e+09   \n",
       "1   training_batch_to_device  1.636103e+09   \n",
       "2                      batch  1.636103e+09   \n",
       "1                      batch  1.636103e+09   \n",
       "1                      batch  1.636103e+09   \n",
       "0                      batch  1.636103e+09   \n",
       "0                      batch  1.636103e+09   \n",
       "0                  next_data  1.636103e+09   \n",
       "\n",
       "                                          source_file  \\\n",
       "11  /home/ivan/Documents/git/storage-benchmarking/...   \n",
       "10  /home/ivan/Documents/git/storage-benchmarking/...   \n",
       "9   /home/ivan/Documents/git/storage-benchmarking/...   \n",
       "8   /home/ivan/Documents/git/storage-benchmarking/...   \n",
       "7   /home/ivan/Documents/git/storage-benchmarking/...   \n",
       "6   /home/ivan/Documents/git/storage-benchmarking/...   \n",
       "5   /home/ivan/Documents/git/storage-benchmarking/...   \n",
       "4   /home/ivan/Documents/git/storage-benchmarking/...   \n",
       "3   /home/ivan/Documents/git/storage-benchmarking/...   \n",
       "2   /home/ivan/Documents/git/storage-benchmarking/...   \n",
       "1   /home/ivan/Documents/git/storage-benchmarking/...   \n",
       "2   /home/ivan/Documents/git/storage-benchmarking/...   \n",
       "1   /home/ivan/Documents/git/storage-benchmarking/...   \n",
       "1   /home/ivan/Documents/git/storage-benchmarking/...   \n",
       "0   /home/ivan/Documents/git/storage-benchmarking/...   \n",
       "0   /home/ivan/Documents/git/storage-benchmarking/...   \n",
       "0   /home/ivan/Documents/git/storage-benchmarking/...   \n",
       "\n",
       "                                                  run  \n",
       "11  20211105f100706_benchmark_e2e_s3_4_2_16_1_vani...  \n",
       "10  20211105f100706_benchmark_e2e_s3_4_2_16_1_vani...  \n",
       "9   20211105f100706_benchmark_e2e_s3_4_2_16_1_vani...  \n",
       "8   20211105f100706_benchmark_e2e_s3_4_2_16_1_vani...  \n",
       "7   20211105f100706_benchmark_e2e_s3_4_2_16_1_vani...  \n",
       "6   20211105f100706_benchmark_e2e_s3_4_2_16_1_vani...  \n",
       "5   20211105f100706_benchmark_e2e_s3_4_2_16_1_vani...  \n",
       "4   20211105f100706_benchmark_e2e_s3_4_2_16_1_vani...  \n",
       "3   20211105f100706_benchmark_e2e_s3_4_2_16_1_vani...  \n",
       "2   20211105f100706_benchmark_e2e_s3_4_2_16_1_vani...  \n",
       "1   20211105f100706_benchmark_e2e_s3_4_2_16_1_vani...  \n",
       "2   20211105f100706_benchmark_e2e_s3_4_2_16_1_vani...  \n",
       "1   20211105f100706_benchmark_e2e_s3_4_2_16_1_vani...  \n",
       "1   20211105f100706_benchmark_e2e_s3_4_2_16_1_vani...  \n",
       "0   20211105f100706_benchmark_e2e_s3_4_2_16_1_vani...  \n",
       "0   20211105f100706_benchmark_e2e_s3_4_2_16_1_vani...  \n",
       "0   20211105f100706_benchmark_e2e_s3_4_2_16_1_vani...  "
      ]
     },
     "execution_count": 63,
     "metadata": {},
     "output_type": "execute_result"
    }
   ],
   "source": [
    "df_dataloader.sort_values([\"start_time_x\"], ascending=False)"
   ]
  },
  {
   "cell_type": "code",
   "execution_count": 64,
   "id": "68c07590",
   "metadata": {},
   "outputs": [
    {
     "data": {
      "application/javascript": [
       "IPython.OutputArea.auto_scroll_threshold = 9999\n"
      ],
      "text/plain": [
       "<IPython.core.display.Javascript object>"
      ]
     },
     "metadata": {},
     "output_type": "display_data"
    }
   ],
   "source": [
    "%%javascript\n",
    "IPython.OutputArea.auto_scroll_threshold = 9999"
   ]
  },
  {
   "cell_type": "code",
   "execution_count": 112,
   "id": "37392fab",
   "metadata": {},
   "outputs": [
    {
     "name": "stderr",
     "output_type": "stream",
     "text": [
      "100%|████████████████████████████████████████████████████████████████████████████████████████████████████████████████████████████████████████████████████████████████████| 26/26 [00:00<00:00, 277.94it/s]\n"
     ]
    }
   ],
   "source": [
    "colors={}\n",
    "unique_functions = np.unique(df_dataloader[\"item_x\"])\n",
    "for i, color in zip(unique_functions, [\"red\", \"gold\", \"blue\", \"magenta\", \"aqua\"]):\n",
    "    colors[str(i)] = color\n",
    "lanes={}\n",
    "for i, lane in zip(unique_functions, range(len(unique_functions))):\n",
    "    lanes[str(i)] = lane\n",
    "    \n",
    "df_dataloader = extract_timelines(output_base_folder, folder_filter=s3_folder_filter)\n",
    "df_dataloader.sort_values([\"start_time_x\"], ascending=False)\n",
    "unique_runs = np.unique(df_dataloader[\"run\"])"
   ]
  },
  {
   "cell_type": "code",
   "execution_count": 113,
   "id": "20b28816",
   "metadata": {},
   "outputs": [
    {
     "data": {
      "image/png": "[encoded data removed]",
      "text/plain": [
       "<Figure size 1080x360 with 1 Axes>"
      ]
     },
     "metadata": {
      "needs_background": "light"
     },
     "output_type": "display_data"
    },
    {
     "data": {
      "image/png": "[encoded data removed]",
      "text/plain": [
       "<Figure size 1080x360 with 1 Axes>"
      ]
     },
     "metadata": {
      "needs_background": "light"
     },
     "output_type": "display_data"
    }
   ],
   "source": [
    "for run in unique_runs:\n",
    "    df = df_dataloader[df_dataloader[\"run\"]==run]\n",
    "    show_timelines(df, run, False)\n",
    "# Second run is without caching..."
   ]
  },
  {
   "cell_type": "code",
   "execution_count": 89,
   "id": "af1e651d",
   "metadata": {},
   "outputs": [],
   "source": [
    "def extract_gpuutil(output_base_folder: Path, folder_filter: str = \"**\", filter_by_metadata: Dict[str, List[str]] = None,\n",
    "):\n",
    "    files = list(output_base_folder.rglob(f\"{folder_filter}/gpuutil-*.log\"))\n",
    "    data = []\n",
    "    for working_file_path in tqdm.tqdm(files, total=len(files)):\n",
    "        results = parse_results_log(working_file_path)\n",
    "        if len(results) == 0:\n",
    "            continue\n",
    "        header = []\n",
    "        header.append(\"timestamp\")\n",
    "        for i in results[0][\"gpu_data\"]:\n",
    "            header.append(f\"gpu_{i}\")\n",
    "        header.append(\"run\")\n",
    "        lines = []\n",
    "        for result in results:\n",
    "            line = []\n",
    "            line.append(result[\"timestamp\"])\n",
    "            for item in result[\"gpu_data\"]:\n",
    "                line.append(result[\"gpu_data\"][item][\"gpu_util\"])\n",
    "            line.append(working_file_path.parent.name)\n",
    "            lines.append(line)\n",
    "        results = pd.DataFrame.from_records(lines)\n",
    "        data.append(results)\n",
    "    df = pd.concat(data)\n",
    "    df.columns = header\n",
    "    df.groupby\n",
    "    df.sort_values([\"timestamp\"], ascending=True)\n",
    "    return df"
   ]
  },
  {
   "cell_type": "code",
   "execution_count": 15,
   "id": "55d84e19",
   "metadata": {},
   "outputs": [],
   "source": [
    "# df_gpuutil = extract_gpuutil(output_base_folder, folder_filter=s3_folder_filter)"
   ]
  },
  {
   "cell_type": "code",
   "execution_count": 16,
   "id": "0eb5447f",
   "metadata": {},
   "outputs": [
    {
     "ename": "NameError",
     "evalue": "name 'df_gpuutil' is not defined",
     "output_type": "error",
     "traceback": [
      "\u001b[0;31m---------------------------------------------------------------------------\u001b[0m",
      "\u001b[0;31mNameError\u001b[0m                                 Traceback (most recent call last)",
      "\u001b[0;32m/tmp/ipykernel_39464/960399309.py\u001b[0m in \u001b[0;36m<module>\u001b[0;34m\u001b[0m\n\u001b[0;32m----> 1\u001b[0;31m \u001b[0mdf_gpuutil\u001b[0m\u001b[0;34m\u001b[0m\u001b[0;34m\u001b[0m\u001b[0m\n\u001b[0m",
      "\u001b[0;31mNameError\u001b[0m: name 'df_gpuutil' is not defined"
     ]
    }
   ],
   "source": [
    "df_gpuutil"
   ]
  },
  {
   "cell_type": "code",
   "execution_count": null,
   "id": "12d63d85",
   "metadata": {},
   "outputs": [],
   "source": [
    "fig, ax = plt.subplots(figsize=(15, 5))\n",
    "for run in df_gpuutil:\n",
    "    for i in list(df_gpuutil[k]):\n",
    "        if not np.all(np.array(df_gpuutil[k][i]) == 0):\n",
    "            ax.plot(df_gpuutil[k][i], linewidth=2)\n",
    "plt.show()"
   ]
  },
  {
   "cell_type": "code",
   "execution_count": null,
   "id": "1fa24a7f",
   "metadata": {},
   "outputs": [],
   "source": [
    "df_gpuutil"
   ]
  },
  {
   "cell_type": "code",
   "execution_count": null,
   "id": "26928dbb",
   "metadata": {},
   "outputs": [],
   "source": []
  }
 ],
 "metadata": {
  "kernelspec": {
   "display_name": "storage-benchmarking",
   "language": "python",
   "name": "storage-benchmarking"
  },
  "language_info": {
   "codemirror_mode": {
    "name": "ipython",
    "version": 3
   },
   "file_extension": ".py",
   "mimetype": "text/x-python",
   "name": "python",
   "nbconvert_exporter": "python",
   "pygments_lexer": "ipython3",
   "version": "3.9.2"
  }
 },
 "nbformat": 4,
 "nbformat_minor": 5
}
