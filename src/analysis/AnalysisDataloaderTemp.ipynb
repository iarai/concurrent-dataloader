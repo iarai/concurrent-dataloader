{
 "cells": [
  {
   "cell_type": "code",
   "execution_count": 171,
   "metadata": {},
   "outputs": [],
   "source": [
    "from analysis.analyze_results import *\n",
    "from pathlib import Path\n",
    "import matplotlib"
   ]
  },
  {
   "cell_type": "code",
   "execution_count": 172,
   "metadata": {},
   "outputs": [],
   "source": [
    "# output_base_folder = Path(\"/Users/che/iarai/work/logs/storage_benchmarking\")\n",
    "# output_base_folder = Path(\"/iarai/work/logs/storage_benchmarking\")\n",
    "# output_base_folder = Path(\"/home/ivan/temp/temp-benchmarking\")\n",
    "output_base_folder = Path(\"/home/ivan/Documents/git/storage-benchmarking/src/benchmark_output\")\n"
   ]
  },
  {
   "cell_type": "markdown",
   "metadata": {},
   "source": [
    "## Dataloader benchmark"
   ]
  },
  {
   "cell_type": "markdown",
   "metadata": {},
   "source": [
    "**parameters**\n",
    "\n",
    "| param | range |\n",
    "| --- | --- |\n",
    "| batch_pool_size | 2, 4, 8, 16, 32, 64 | \n",
    "| num_fetch_workers | 2, 4, 8, 16, 32, 64, 128 | \n",
    "| fetch_impl | asyncio, threaded |\n",
    "| dataset | s3,scratch |\n"
   ]
  },
  {
   "cell_type": "markdown",
   "metadata": {},
   "source": [
    "**parameters explained**\n",
    "\n",
    "| param | implementation | details | \n",
    "| --- | --- | --- |\n",
    "| batch_pool_size | asyncio | Unused |\n",
    "|  | threaded | Number of batches to fetch in parallel (normally, one batch is fetched, and items are downloaded (sequentiall or in parallel). This implementation takes N batches, and starts downloading items in parallel. Individual items are yielded and once a full batch is collected it is yielded.)|\n",
    "| num_fetch_workers | asyncio | ThreadPoolExecutor argument for the maximum number of threads that can be used to execute the given calls. Also, the number of tasks initiall placed into the task (worker) queue.  |\n",
    "|  | threaded | ThreadPoolExecutor argument for the maximum number of threads that can be used to execute the given calls |"
   ]
  },
  {
   "cell_type": "code",
   "execution_count": 173,
   "metadata": {},
   "outputs": [],
   "source": [
    "group_by_dataloader = [\"dataset\",  \"num_fetch_workers\", \"num_workers\", \"batch_pool\"]"
   ]
  },
  {
   "cell_type": "code",
   "execution_count": 175,
   "metadata": {},
   "outputs": [
    {
     "name": "stderr",
     "output_type": "stream",
     "text": [
      "100%|███████████████████████████████████████████████████████████████████████████████████████████████████████████████████████████████████████| 2/2 [00:00<00:00, 63.26it/s]\n"
     ]
    }
   ],
   "source": [
    "df_dataloader = extract_pandas(output_base_folder, folder_filter=\"*benchmark_dataloader*\")\n",
    "# df_dataloader = extract_pandas(output_base_folder, folder_filter=\"*benchmark_dataloader_s3*\")"
   ]
  },
  {
   "cell_type": "markdown",
   "metadata": {},
   "source": [
    "Let's visualize the timeline of dataloading, a new color for each thread (cycle 8)"
   ]
  },
  {
   "cell_type": "code",
   "execution_count": 183,
   "metadata": {},
   "outputs": [],
   "source": [
    "df_dataloader_zeroworkers_th=df_dataloader[df_dataloader[\"num_workers\"]==0]\n",
    "df_dataloader_zeroworkers_th=df_dataloader_zeroworkers_th[df_dataloader_zeroworkers_th[\"fetch_impl\"]==\"threaded\"]"
   ]
  },
  {
   "cell_type": "code",
   "execution_count": 184,
   "metadata": {},
   "outputs": [
    {
     "data": {
      "text/html": [
       "<div>\n",
       "<style scoped>\n",
       "    .dataframe tbody tr th:only-of-type {\n",
       "        vertical-align: middle;\n",
       "    }\n",
       "\n",
       "    .dataframe tbody tr th {\n",
       "        vertical-align: top;\n",
       "    }\n",
       "\n",
       "    .dataframe thead th {\n",
       "        text-align: right;\n",
       "    }\n",
       "</style>\n",
       "<table border=\"1\" class=\"dataframe\">\n",
       "  <thead>\n",
       "    <tr style=\"text-align: right;\">\n",
       "      <th></th>\n",
       "      <th></th>\n",
       "      <th></th>\n",
       "      <th></th>\n",
       "      <th></th>\n",
       "      <th>downloaded data [B]</th>\n",
       "      <th>time_start</th>\n",
       "      <th>time_end</th>\n",
       "      <th>total_elpased_time [s]</th>\n",
       "      <th>downloaded data [MB]</th>\n",
       "      <th>throughput [MBit/s]</th>\n",
       "    </tr>\n",
       "    <tr>\n",
       "      <th>dataset</th>\n",
       "      <th>num_fetch_workers</th>\n",
       "      <th>num_workers</th>\n",
       "      <th>batch_pool</th>\n",
       "      <th>run</th>\n",
       "      <th></th>\n",
       "      <th></th>\n",
       "      <th></th>\n",
       "      <th></th>\n",
       "      <th></th>\n",
       "      <th></th>\n",
       "    </tr>\n",
       "  </thead>\n",
       "  <tbody>\n",
       "    <tr>\n",
       "      <th>s3</th>\n",
       "      <th>8</th>\n",
       "      <th>0</th>\n",
       "      <th>10</th>\n",
       "      <th>20211001f140644_benchmark_dataloader_s3_16_0_8_sync</th>\n",
       "      <td>48869878.0</td>\n",
       "      <td>1.633090e+09</td>\n",
       "      <td>1.633090e+09</td>\n",
       "      <td>48.756164</td>\n",
       "      <td>48.869878</td>\n",
       "      <td>8.018658</td>\n",
       "    </tr>\n",
       "  </tbody>\n",
       "</table>\n",
       "</div>"
      ],
      "text/plain": [
       "                                                                                                     downloaded data [B]  \\\n",
       "dataset num_fetch_workers num_workers batch_pool run                                                                       \n",
       "s3      8                 0           10         20211001f140644_benchmark_dataloader_s3_16_0_8_...           48869878.0   \n",
       "\n",
       "                                                                                                       time_start  \\\n",
       "dataset num_fetch_workers num_workers batch_pool run                                                                \n",
       "s3      8                 0           10         20211001f140644_benchmark_dataloader_s3_16_0_8_...  1.633090e+09   \n",
       "\n",
       "                                                                                                         time_end  \\\n",
       "dataset num_fetch_workers num_workers batch_pool run                                                                \n",
       "s3      8                 0           10         20211001f140644_benchmark_dataloader_s3_16_0_8_...  1.633090e+09   \n",
       "\n",
       "                                                                                                     total_elpased_time [s]  \\\n",
       "dataset num_fetch_workers num_workers batch_pool run                                                                          \n",
       "s3      8                 0           10         20211001f140644_benchmark_dataloader_s3_16_0_8_...               48.756164   \n",
       "\n",
       "                                                                                                     downloaded data [MB]  \\\n",
       "dataset num_fetch_workers num_workers batch_pool run                                                                        \n",
       "s3      8                 0           10         20211001f140644_benchmark_dataloader_s3_16_0_8_...             48.869878   \n",
       "\n",
       "                                                                                                     throughput [MBit/s]  \n",
       "dataset num_fetch_workers num_workers batch_pool run                                                                      \n",
       "s3      8                 0           10         20211001f140644_benchmark_dataloader_s3_16_0_8_...             8.018658  "
      ]
     },
     "metadata": {},
     "output_type": "display_data"
    }
   ],
   "source": [
    "display(get_run_stats(df_dataloader_zeroworkers_th, group_by=group_by_dataloader))"
   ]
  },
  {
   "cell_type": "code",
   "execution_count": 185,
   "metadata": {},
   "outputs": [],
   "source": [
    "# rate_matrix = np.ndarray(shape=(6,7), dtype=float, order='F')\n",
    "rate_matrix_threaded = pd.DataFrame(columns=[\"x\", \"y\", \"rate\"])\n",
    "\n",
    "# print(f\"Batch pool size: {num_fetch_workers}, {batch_pool_size}\")\n",
    "# run = df_dataloader_zeroworkers_th[(df_dataloader_zeroworkers_th[\"num_fetch_workers\"]==16)][\"run\"].iloc[0]\n",
    "# mbps, mbitps = plot_events_timeline(df_dataloader_zeroworkers_th[df_dataloader_zeroworkers_th[\"run\"]==run], summary_only=True)\n",
    "# if list(mbitps)[0] != \"0 Bytes\":\n",
    "#     r = float(list(mbitps)[0].replace(\"MB\", \"\"))\n",
    "#     rate_matrix_threaded = rate_matrix_threaded.append({'x': batch_pool_size, 'y': num_fetch_workers, 'rate': r}, ignore_index=True)\n",
    "\n",
    "# print(rate_matrix_threaded)"
   ]
  },
  {
   "cell_type": "code",
   "execution_count": 186,
   "metadata": {},
   "outputs": [
    {
     "name": "stdout",
     "output_type": "stream",
     "text": [
      "Index(['trace_name', 'trace_level', 'function_name', 'elapsed', 'time_start',\n",
      "       'time_end', 'process_time', 'process_time_start', 'process_time_end',\n",
      "       'pid', 'threading_ident', 'global_step', 'len', 'output_base_folder',\n",
      "       'dataset', 'batch_size', 'num_workers', 'data_loader_type',\n",
      "       'num_fetch_workers', 'prefetch_factor', 'repeat', 'num_batches',\n",
      "       'shuffle', 'fetch_impl', 'batch_pool', 'system', 'node', 'release',\n",
      "       'version', 'machine', 'source_file', 'run'],\n",
      "      dtype='object')\n"
     ]
    }
   ],
   "source": [
    "print(df_dataloader_zeroworkers_th.keys())"
   ]
  },
  {
   "cell_type": "code",
   "execution_count": 187,
   "metadata": {},
   "outputs": [
    {
     "name": "stdout",
     "output_type": "stream",
     "text": [
      "130\n"
     ]
    },
    {
     "name": "stderr",
     "output_type": "stream",
     "text": [
      "/tmp/ipykernel_35675/2393023035.py:9: RuntimeWarning: Mean of empty slice.\n",
      "  ax.axhline(step_time_list_process_time.mean(), color='purple', linewidth=1.5, linestyle=\"--\")\n",
      "/home/ivan/anaconda3/envs/storage-benchmarking/lib/python3.9/site-packages/numpy/core/_methods.py:189: RuntimeWarning: invalid value encountered in double_scalars\n",
      "  ret = ret.dtype.type(ret / rcount)\n",
      "/home/ivan/anaconda3/envs/storage-benchmarking/lib/python3.9/site-packages/numpy/core/fromnumeric.py:3440: RuntimeWarning: Mean of empty slice.\n",
      "  return _methods._mean(a, axis=axis, dtype=dtype,\n"
     ]
    },
    {
     "ename": "ValueError",
     "evalue": "zero-size array to reduction operation minimum which has no identity",
     "output_type": "error",
     "traceback": [
      "\u001b[0;31m---------------------------------------------------------------------------\u001b[0m",
      "\u001b[0;31mValueError\u001b[0m                                Traceback (most recent call last)",
      "\u001b[0;32m/tmp/ipykernel_35675/2393023035.py\u001b[0m in \u001b[0;36m<module>\u001b[0;34m\u001b[0m\n\u001b[1;32m      9\u001b[0m \u001b[0max\u001b[0m\u001b[0;34m.\u001b[0m\u001b[0maxhline\u001b[0m\u001b[0;34m(\u001b[0m\u001b[0mstep_time_list_process_time\u001b[0m\u001b[0;34m.\u001b[0m\u001b[0mmean\u001b[0m\u001b[0;34m(\u001b[0m\u001b[0;34m)\u001b[0m\u001b[0;34m,\u001b[0m \u001b[0mcolor\u001b[0m\u001b[0;34m=\u001b[0m\u001b[0;34m'purple'\u001b[0m\u001b[0;34m,\u001b[0m \u001b[0mlinewidth\u001b[0m\u001b[0;34m=\u001b[0m\u001b[0;36m1.5\u001b[0m\u001b[0;34m,\u001b[0m \u001b[0mlinestyle\u001b[0m\u001b[0;34m=\u001b[0m\u001b[0;34m\"--\"\u001b[0m\u001b[0;34m)\u001b[0m\u001b[0;34m\u001b[0m\u001b[0;34m\u001b[0m\u001b[0m\n\u001b[1;32m     10\u001b[0m \u001b[0max\u001b[0m\u001b[0;34m.\u001b[0m\u001b[0maxhline\u001b[0m\u001b[0;34m(\u001b[0m\u001b[0mnp\u001b[0m\u001b[0;34m.\u001b[0m\u001b[0mmedian\u001b[0m\u001b[0;34m(\u001b[0m\u001b[0mstep_time_list_process_time\u001b[0m\u001b[0;34m)\u001b[0m\u001b[0;34m,\u001b[0m \u001b[0mcolor\u001b[0m\u001b[0;34m=\u001b[0m\u001b[0;34m'green'\u001b[0m\u001b[0;34m,\u001b[0m \u001b[0mlinewidth\u001b[0m\u001b[0;34m=\u001b[0m\u001b[0;36m1.5\u001b[0m\u001b[0;34m,\u001b[0m \u001b[0mlinestyle\u001b[0m\u001b[0;34m=\u001b[0m\u001b[0;34m\":\"\u001b[0m\u001b[0;34m)\u001b[0m\u001b[0;34m\u001b[0m\u001b[0;34m\u001b[0m\u001b[0m\n\u001b[0;32m---> 11\u001b[0;31m \u001b[0max\u001b[0m\u001b[0;34m.\u001b[0m\u001b[0maxhline\u001b[0m\u001b[0;34m(\u001b[0m\u001b[0mnp\u001b[0m\u001b[0;34m.\u001b[0m\u001b[0mmin\u001b[0m\u001b[0;34m(\u001b[0m\u001b[0mstep_time_list_process_time\u001b[0m\u001b[0;34m)\u001b[0m\u001b[0;34m,\u001b[0m \u001b[0mcolor\u001b[0m\u001b[0;34m=\u001b[0m\u001b[0;34m'red'\u001b[0m\u001b[0;34m,\u001b[0m \u001b[0mlinewidth\u001b[0m\u001b[0;34m=\u001b[0m\u001b[0;36m1.5\u001b[0m\u001b[0;34m,\u001b[0m \u001b[0mlinestyle\u001b[0m\u001b[0;34m=\u001b[0m\u001b[0;34m\"-.\"\u001b[0m\u001b[0;34m)\u001b[0m\u001b[0;34m\u001b[0m\u001b[0;34m\u001b[0m\u001b[0m\n\u001b[0m\u001b[1;32m     12\u001b[0m \u001b[0max\u001b[0m\u001b[0;34m.\u001b[0m\u001b[0maxhline\u001b[0m\u001b[0;34m(\u001b[0m\u001b[0mnp\u001b[0m\u001b[0;34m.\u001b[0m\u001b[0mmax\u001b[0m\u001b[0;34m(\u001b[0m\u001b[0mstep_time_list_process_time\u001b[0m\u001b[0;34m)\u001b[0m\u001b[0;34m,\u001b[0m \u001b[0mcolor\u001b[0m\u001b[0;34m=\u001b[0m\u001b[0;34m'blue'\u001b[0m\u001b[0;34m,\u001b[0m \u001b[0mlinewidth\u001b[0m\u001b[0;34m=\u001b[0m\u001b[0;36m1.5\u001b[0m\u001b[0;34m,\u001b[0m \u001b[0mlinestyle\u001b[0m\u001b[0;34m=\u001b[0m\u001b[0;34m\"-.\"\u001b[0m\u001b[0;34m)\u001b[0m\u001b[0;34m\u001b[0m\u001b[0;34m\u001b[0m\u001b[0m\n\u001b[1;32m     13\u001b[0m \u001b[0;34m\u001b[0m\u001b[0m\n",
      "\u001b[0;32m<__array_function__ internals>\u001b[0m in \u001b[0;36mamin\u001b[0;34m(*args, **kwargs)\u001b[0m\n",
      "\u001b[0;32m~/anaconda3/envs/storage-benchmarking/lib/python3.9/site-packages/numpy/core/fromnumeric.py\u001b[0m in \u001b[0;36mamin\u001b[0;34m(a, axis, out, keepdims, initial, where)\u001b[0m\n\u001b[1;32m   2877\u001b[0m     \u001b[0;36m6\u001b[0m\u001b[0;34m\u001b[0m\u001b[0;34m\u001b[0m\u001b[0m\n\u001b[1;32m   2878\u001b[0m     \"\"\"\n\u001b[0;32m-> 2879\u001b[0;31m     return _wrapreduction(a, np.minimum, 'min', axis, None, out,\n\u001b[0m\u001b[1;32m   2880\u001b[0m                           keepdims=keepdims, initial=initial, where=where)\n\u001b[1;32m   2881\u001b[0m \u001b[0;34m\u001b[0m\u001b[0m\n",
      "\u001b[0;32m~/anaconda3/envs/storage-benchmarking/lib/python3.9/site-packages/numpy/core/fromnumeric.py\u001b[0m in \u001b[0;36m_wrapreduction\u001b[0;34m(obj, ufunc, method, axis, dtype, out, **kwargs)\u001b[0m\n\u001b[1;32m     84\u001b[0m                 \u001b[0;32mreturn\u001b[0m \u001b[0mreduction\u001b[0m\u001b[0;34m(\u001b[0m\u001b[0maxis\u001b[0m\u001b[0;34m=\u001b[0m\u001b[0maxis\u001b[0m\u001b[0;34m,\u001b[0m \u001b[0mout\u001b[0m\u001b[0;34m=\u001b[0m\u001b[0mout\u001b[0m\u001b[0;34m,\u001b[0m \u001b[0;34m**\u001b[0m\u001b[0mpasskwargs\u001b[0m\u001b[0;34m)\u001b[0m\u001b[0;34m\u001b[0m\u001b[0;34m\u001b[0m\u001b[0m\n\u001b[1;32m     85\u001b[0m \u001b[0;34m\u001b[0m\u001b[0m\n\u001b[0;32m---> 86\u001b[0;31m     \u001b[0;32mreturn\u001b[0m \u001b[0mufunc\u001b[0m\u001b[0;34m.\u001b[0m\u001b[0mreduce\u001b[0m\u001b[0;34m(\u001b[0m\u001b[0mobj\u001b[0m\u001b[0;34m,\u001b[0m \u001b[0maxis\u001b[0m\u001b[0;34m,\u001b[0m \u001b[0mdtype\u001b[0m\u001b[0;34m,\u001b[0m \u001b[0mout\u001b[0m\u001b[0;34m,\u001b[0m \u001b[0;34m**\u001b[0m\u001b[0mpasskwargs\u001b[0m\u001b[0;34m)\u001b[0m\u001b[0;34m\u001b[0m\u001b[0;34m\u001b[0m\u001b[0m\n\u001b[0m\u001b[1;32m     87\u001b[0m \u001b[0;34m\u001b[0m\u001b[0m\n\u001b[1;32m     88\u001b[0m \u001b[0;34m\u001b[0m\u001b[0m\n",
      "\u001b[0;31mValueError\u001b[0m: zero-size array to reduction operation minimum which has no identity"
     ]
    },
    {
     "data": {
      "image/png": "[encoded data removed]",
      "text/plain": [
       "<Figure size 1080x720 with 1 Axes>"
      ]
     },
     "metadata": {
      "needs_background": "light"
     },
     "output_type": "display_data"
    }
   ],
   "source": [
    "df_step_time = df_dataloader_zeroworkers_th[df_dataloader_zeroworkers_th[\"trace_name\"]==\"(6)-training_step\"]\n",
    "# step_time_list = list(df_step_time[\"process_time\"])\n",
    "step_time_list_process_time = df_step_time[\"process_time\"].to_numpy()\n",
    "step_time_list_elapsed = df_step_time[\"elapsed\"].to_numpy()\n",
    "print(len(step_time_list))\n",
    "\n",
    "fig, ax = plt.subplots(figsize=(15, 10))\n",
    "ax.bar(x=range(len(step_time_list_process_time)), height=step_time_list_process_time, width=0.4, color=\"silver\")\n",
    "ax.axhline(step_time_list_process_time.mean(), color='purple', linewidth=1.5, linestyle=\"--\")\n",
    "ax.axhline(np.median(step_time_list_process_time), color='green', linewidth=1.5, linestyle=\":\")\n",
    "ax.axhline(np.min(step_time_list_process_time), color='red', linewidth=1.5, linestyle=\"-.\")\n",
    "ax.axhline(np.max(step_time_list_process_time), color='blue', linewidth=1.5, linestyle=\"-.\")\n",
    "\n",
    "ax.bar(x=range(len(step_time_list_elapsed)), height=step_time_list_elapsed, width=0.4, color=\"black\")\n",
    "\n",
    "# plt.bar(x=range(len(step_time_list)), height=step_time_list, width=0.1)"
   ]
  },
  {
   "cell_type": "code",
   "execution_count": 167,
   "metadata": {},
   "outputs": [
    {
     "name": "stdout",
     "output_type": "stream",
     "text": [
      "130\n"
     ]
    },
    {
     "data": {
      "text/plain": [
       "<BarContainer object of 262 artists>"
      ]
     },
     "execution_count": 167,
     "metadata": {},
     "output_type": "execute_result"
    },
    {
     "data": {
      "image/png": "[encoded data removed]",
      "text/plain": [
       "<Figure size 1800x720 with 1 Axes>"
      ]
     },
     "metadata": {
      "needs_background": "light"
     },
     "output_type": "display_data"
    }
   ],
   "source": [
    "# df_step_time = df_dataloader_zeroworkers_th[df_dataloader_zeroworkers_th[\"trace_name\"]==\"(7)-training_step\"]\n",
    "# df_step_time = df_dataloader_zeroworkers_th[df_dataloader_zeroworkers_th[\"trace_name\"]==\"(5)-get_item\"]\n",
    "# df_step_time = df_dataloader_zeroworkers_th[df_dataloader_zeroworkers_th[\"trace_name\"]==\"(4)-asyncmapdataset-fetcher\"]\n",
    "# df_step_time = df_dataloader_zeroworkers_th[df_dataloader_zeroworkers_th[\"trace_name\"]==\"(4)-threadedmapdataset-fetcher\"]\n",
    "df_step_time = df_dataloader_zeroworkers_th[df_dataloader_zeroworkers_th[\"trace_name\"]==\"(4)-mapdataset-fetcher\"]\n",
    "\n",
    "\n",
    "step_time_list_process_time = df_step_time[\"process_time\"].to_numpy()\n",
    "step_time_list_elapsed = df_step_time[\"elapsed\"].to_numpy()\n",
    "print(len(step_time_list))\n",
    "\n",
    "fig, ax = plt.subplots(figsize=(25, 10))\n",
    "ax.bar(x=range(len(step_time_list_process_time)), height=step_time_list_process_time, width=0.6, color=\"silver\")\n",
    "ax.axhline(step_time_list_process_time.mean(), color='purple', linewidth=1.5, linestyle=\"--\")\n",
    "ax.axhline(np.median(step_time_list_process_time), color='green', linewidth=1.5, linestyle=\":\")\n",
    "ax.axhline(np.min(step_time_list_process_time), color='red', linewidth=1.5, linestyle=\"-.\")\n",
    "ax.axhline(np.max(step_time_list_process_time), color='blue', linewidth=1.5, linestyle=\"-.\")\n",
    "\n",
    "ax.bar(x=range(len(step_time_list_elapsed)), height=step_time_list_elapsed, width=0.6, color=\"black\")"
   ]
  },
  {
   "cell_type": "markdown",
   "metadata": {},
   "source": [
    "### Threaded best run "
   ]
  },
  {
   "cell_type": "code",
   "execution_count": 188,
   "metadata": {},
   "outputs": [],
   "source": [
    "import numpy as np\n",
    "import seaborn as sns\n",
    "def plot_events_timeline2(df_dataloader, color_column: str = \"threading_ident\", cycle=11, summary_only=False):\n",
    "#     df_dataloader = df_dataloader[(df_dataloader[\"function_name\"] == \"__getitem__\")]\n",
    "#     print(len(df_dataloader))\n",
    "#     df_dataloader = df_dataloader[(df_dataloader[\"process_time\"] >= 10.0e-02)]\n",
    "#     print(len(df_dataloader))\n",
    "\n",
    "    \n",
    "    clrz = {}\n",
    "    x = np.array(list(df_dataloader[\"threading_ident\"]))\n",
    "    pallete = sns.color_palette(None, len(np.unique(x)))\n",
    "    for index, t in enumerate(np.unique(x)):\n",
    "        clrz[t] = pallete[index]\n",
    "    print(np.unique(x))\n",
    "#     x = np.array(list(df_dataloader[\"function_name\"]))\n",
    "#     print(np.unique(x))\n",
    "#     x = np.array(list(df_dataloader[\"process_time\"]))\n",
    "#     print(np.unique(x))\n",
    "    \n",
    "    df_dataloader = df_dataloader.sort_values(\n",
    "        [\"pid\",\"threading_ident\", \"process_time\"], ascending=[False, False, False]\n",
    "    ).reset_index(drop=True)\n",
    "#     print(df_dataloader.info())\n",
    "\n",
    "\n",
    "#     df_dataloader = df_dataloader.sort_values([\"threading_ident\",\"trace_level\"], \n",
    "#                                               ascending=[False,False]).reset_index(drop=False)\n",
    "#     df_dataloader = df_dataloader.sort_values([\"threading_ident\"], ascending=[False])\n",
    "    \n",
    "\n",
    "#     df_dataloader = df_dataloader[(df_dataloader[\"function_name\"] == \"yield_item\")]\n",
    "    \n",
    "#     df_dataloader = df_dataloader[(df_dataloader[\"threading_ident\"] == 139630727501568)]\n",
    "#     print(df_dataloader[\"function_name\"])\n",
    "\n",
    "#     df_dataloader = df_dataloader.sort_values(\n",
    "#         [\"threading_ident\", \"time_start\"], ascending=[False, False]\n",
    "#     ).reset_index(drop=True)\n",
    "#     df_dataloader = df_dataloader.groupby([\"threading_ident\"])\n",
    "\n",
    "    dict_dataloader = df_dataloader.to_dict(\"index\")\n",
    "    \n",
    "    print(len(dict_dataloader.items()))\n",
    "#     print(list(dict_dataloader)[:10])\n",
    "\n",
    "#     dict_dataloader = df_dataloader.groupby('threading_ident').apply(pd.DataFrame).to_dict(\"index\")\n",
    "#     dict_dataloader = dict_dataloader['threading_ident'].reset_index()\n",
    "#     dict_dataloader = dict_dataloader.set_index('threading_ident')\n",
    "\n",
    "    colors = []\n",
    "    lines = []\n",
    "    for i, (_, param_series) in enumerate(dict_dataloader.items()):\n",
    "        colors.append(clrz[param_series[\"threading_ident\"]])\n",
    "        lines.append([(param_series[\"process_time_start\"], i), (param_series[\"process_time_end\"], i)])\n",
    "#         if param_series[\"threading_ident\"] == 140133508577024:\n",
    "#             colors.append(\"black\")\n",
    "#         else:\n",
    "#             colors.append(\"red\")\n",
    "\n",
    "    print(f\"Lines num: {len(lines)}\")\n",
    "#     for line in list(lines):\n",
    "#         d = line[1][0] - line[0][0]\n",
    "#         if d > 5:\n",
    "#             lines.remove(line)\n",
    "\n",
    "    lc = matplotlib.collections.LineCollection(lines, colors=colors, linewidths=3)\n",
    "    fig, ax = plt.subplots(figsize=(50, 50))\n",
    "    ax.add_collection(lc)\n",
    "    ax.autoscale()\n",
    "    ax.margins(0.1)\n"
   ]
  },
  {
   "cell_type": "code",
   "execution_count": 189,
   "metadata": {},
   "outputs": [
    {
     "ename": "IndexError",
     "evalue": "single positional indexer is out-of-bounds",
     "output_type": "error",
     "traceback": [
      "\u001b[0;31m---------------------------------------------------------------------------\u001b[0m",
      "\u001b[0;31mIndexError\u001b[0m                                Traceback (most recent call last)",
      "\u001b[0;32m/tmp/ipykernel_35675/2007733318.py\u001b[0m in \u001b[0;36m<module>\u001b[0;34m\u001b[0m\n\u001b[0;32m----> 1\u001b[0;31m \u001b[0mrun\u001b[0m \u001b[0;34m=\u001b[0m \u001b[0mdf_dataloader_zeroworkers_th\u001b[0m\u001b[0;34m[\u001b[0m\u001b[0;34m(\u001b[0m\u001b[0mdf_dataloader_zeroworkers_th\u001b[0m\u001b[0;34m[\u001b[0m\u001b[0;34m\"num_fetch_workers\"\u001b[0m\u001b[0;34m]\u001b[0m\u001b[0;34m==\u001b[0m\u001b[0;36m10\u001b[0m\u001b[0;34m)\u001b[0m\u001b[0;34m]\u001b[0m\u001b[0;34m[\u001b[0m\u001b[0;34m\"run\"\u001b[0m\u001b[0;34m]\u001b[0m\u001b[0;34m.\u001b[0m\u001b[0miloc\u001b[0m\u001b[0;34m[\u001b[0m\u001b[0;36m0\u001b[0m\u001b[0;34m]\u001b[0m\u001b[0;34m\u001b[0m\u001b[0;34m\u001b[0m\u001b[0m\n\u001b[0m\u001b[1;32m      2\u001b[0m \u001b[0mplot_events_timeline\u001b[0m\u001b[0;34m(\u001b[0m\u001b[0mdf_dataloader_zeroworkers_th\u001b[0m\u001b[0;34m[\u001b[0m\u001b[0mdf_dataloader_zeroworkers_th\u001b[0m\u001b[0;34m[\u001b[0m\u001b[0;34m\"run\"\u001b[0m\u001b[0;34m]\u001b[0m\u001b[0;34m==\u001b[0m\u001b[0mrun\u001b[0m\u001b[0;34m]\u001b[0m\u001b[0;34m,\u001b[0m \u001b[0msummary_only\u001b[0m\u001b[0;34m=\u001b[0m\u001b[0;32mFalse\u001b[0m\u001b[0;34m)\u001b[0m\u001b[0;34m\u001b[0m\u001b[0;34m\u001b[0m\u001b[0m\n",
      "\u001b[0;32m~/anaconda3/envs/storage-benchmarking/lib/python3.9/site-packages/pandas/core/indexing.py\u001b[0m in \u001b[0;36m__getitem__\u001b[0;34m(self, key)\u001b[0m\n\u001b[1;32m    929\u001b[0m \u001b[0;34m\u001b[0m\u001b[0m\n\u001b[1;32m    930\u001b[0m             \u001b[0mmaybe_callable\u001b[0m \u001b[0;34m=\u001b[0m \u001b[0mcom\u001b[0m\u001b[0;34m.\u001b[0m\u001b[0mapply_if_callable\u001b[0m\u001b[0;34m(\u001b[0m\u001b[0mkey\u001b[0m\u001b[0;34m,\u001b[0m \u001b[0mself\u001b[0m\u001b[0;34m.\u001b[0m\u001b[0mobj\u001b[0m\u001b[0;34m)\u001b[0m\u001b[0;34m\u001b[0m\u001b[0;34m\u001b[0m\u001b[0m\n\u001b[0;32m--> 931\u001b[0;31m             \u001b[0;32mreturn\u001b[0m \u001b[0mself\u001b[0m\u001b[0;34m.\u001b[0m\u001b[0m_getitem_axis\u001b[0m\u001b[0;34m(\u001b[0m\u001b[0mmaybe_callable\u001b[0m\u001b[0;34m,\u001b[0m \u001b[0maxis\u001b[0m\u001b[0;34m=\u001b[0m\u001b[0maxis\u001b[0m\u001b[0;34m)\u001b[0m\u001b[0;34m\u001b[0m\u001b[0;34m\u001b[0m\u001b[0m\n\u001b[0m\u001b[1;32m    932\u001b[0m \u001b[0;34m\u001b[0m\u001b[0m\n\u001b[1;32m    933\u001b[0m     \u001b[0;32mdef\u001b[0m \u001b[0m_is_scalar_access\u001b[0m\u001b[0;34m(\u001b[0m\u001b[0mself\u001b[0m\u001b[0;34m,\u001b[0m \u001b[0mkey\u001b[0m\u001b[0;34m:\u001b[0m \u001b[0mtuple\u001b[0m\u001b[0;34m)\u001b[0m\u001b[0;34m:\u001b[0m\u001b[0;34m\u001b[0m\u001b[0;34m\u001b[0m\u001b[0m\n",
      "\u001b[0;32m~/anaconda3/envs/storage-benchmarking/lib/python3.9/site-packages/pandas/core/indexing.py\u001b[0m in \u001b[0;36m_getitem_axis\u001b[0;34m(self, key, axis)\u001b[0m\n\u001b[1;32m   1564\u001b[0m \u001b[0;34m\u001b[0m\u001b[0m\n\u001b[1;32m   1565\u001b[0m             \u001b[0;31m# validate the location\u001b[0m\u001b[0;34m\u001b[0m\u001b[0;34m\u001b[0m\u001b[0;34m\u001b[0m\u001b[0m\n\u001b[0;32m-> 1566\u001b[0;31m             \u001b[0mself\u001b[0m\u001b[0;34m.\u001b[0m\u001b[0m_validate_integer\u001b[0m\u001b[0;34m(\u001b[0m\u001b[0mkey\u001b[0m\u001b[0;34m,\u001b[0m \u001b[0maxis\u001b[0m\u001b[0;34m)\u001b[0m\u001b[0;34m\u001b[0m\u001b[0;34m\u001b[0m\u001b[0m\n\u001b[0m\u001b[1;32m   1567\u001b[0m \u001b[0;34m\u001b[0m\u001b[0m\n\u001b[1;32m   1568\u001b[0m             \u001b[0;32mreturn\u001b[0m \u001b[0mself\u001b[0m\u001b[0;34m.\u001b[0m\u001b[0mobj\u001b[0m\u001b[0;34m.\u001b[0m\u001b[0m_ixs\u001b[0m\u001b[0;34m(\u001b[0m\u001b[0mkey\u001b[0m\u001b[0;34m,\u001b[0m \u001b[0maxis\u001b[0m\u001b[0;34m=\u001b[0m\u001b[0maxis\u001b[0m\u001b[0;34m)\u001b[0m\u001b[0;34m\u001b[0m\u001b[0;34m\u001b[0m\u001b[0m\n",
      "\u001b[0;32m~/anaconda3/envs/storage-benchmarking/lib/python3.9/site-packages/pandas/core/indexing.py\u001b[0m in \u001b[0;36m_validate_integer\u001b[0;34m(self, key, axis)\u001b[0m\n\u001b[1;32m   1498\u001b[0m         \u001b[0mlen_axis\u001b[0m \u001b[0;34m=\u001b[0m \u001b[0mlen\u001b[0m\u001b[0;34m(\u001b[0m\u001b[0mself\u001b[0m\u001b[0;34m.\u001b[0m\u001b[0mobj\u001b[0m\u001b[0;34m.\u001b[0m\u001b[0m_get_axis\u001b[0m\u001b[0;34m(\u001b[0m\u001b[0maxis\u001b[0m\u001b[0;34m)\u001b[0m\u001b[0;34m)\u001b[0m\u001b[0;34m\u001b[0m\u001b[0;34m\u001b[0m\u001b[0m\n\u001b[1;32m   1499\u001b[0m         \u001b[0;32mif\u001b[0m \u001b[0mkey\u001b[0m \u001b[0;34m>=\u001b[0m \u001b[0mlen_axis\u001b[0m \u001b[0;32mor\u001b[0m \u001b[0mkey\u001b[0m \u001b[0;34m<\u001b[0m \u001b[0;34m-\u001b[0m\u001b[0mlen_axis\u001b[0m\u001b[0;34m:\u001b[0m\u001b[0;34m\u001b[0m\u001b[0;34m\u001b[0m\u001b[0m\n\u001b[0;32m-> 1500\u001b[0;31m             \u001b[0;32mraise\u001b[0m \u001b[0mIndexError\u001b[0m\u001b[0;34m(\u001b[0m\u001b[0;34m\"single positional indexer is out-of-bounds\"\u001b[0m\u001b[0;34m)\u001b[0m\u001b[0;34m\u001b[0m\u001b[0;34m\u001b[0m\u001b[0m\n\u001b[0m\u001b[1;32m   1501\u001b[0m \u001b[0;34m\u001b[0m\u001b[0m\n\u001b[1;32m   1502\u001b[0m     \u001b[0;31m# -------------------------------------------------------------------\u001b[0m\u001b[0;34m\u001b[0m\u001b[0;34m\u001b[0m\u001b[0;34m\u001b[0m\u001b[0m\n",
      "\u001b[0;31mIndexError\u001b[0m: single positional indexer is out-of-bounds"
     ]
    }
   ],
   "source": [
    "run = df_dataloader_zeroworkers_th[(df_dataloader_zeroworkers_th[\"num_fetch_workers\"]==10)][\"run\"].iloc[0]\n",
    "plot_events_timeline(df_dataloader_zeroworkers_th[df_dataloader_zeroworkers_th[\"run\"]==run], summary_only=False)"
   ]
  },
  {
   "cell_type": "code",
   "execution_count": 170,
   "metadata": {},
   "outputs": [
    {
     "data": {
      "text/html": [
       "<div>\n",
       "<style scoped>\n",
       "    .dataframe tbody tr th:only-of-type {\n",
       "        vertical-align: middle;\n",
       "    }\n",
       "\n",
       "    .dataframe tbody tr th {\n",
       "        vertical-align: top;\n",
       "    }\n",
       "\n",
       "    .dataframe thead th {\n",
       "        text-align: right;\n",
       "    }\n",
       "</style>\n",
       "<table border=\"1\" class=\"dataframe\">\n",
       "  <thead>\n",
       "    <tr style=\"text-align: right;\">\n",
       "      <th></th>\n",
       "      <th>time_start_thread</th>\n",
       "      <th>time_end_thread</th>\n",
       "      <th>total_elapsed_thread</th>\n",
       "      <th>pid</th>\n",
       "      <th>elapsed_thread</th>\n",
       "      <th>elapsed_processing</th>\n",
       "    </tr>\n",
       "    <tr>\n",
       "      <th>threading_ident</th>\n",
       "      <th></th>\n",
       "      <th></th>\n",
       "      <th></th>\n",
       "      <th></th>\n",
       "      <th></th>\n",
       "      <th></th>\n",
       "    </tr>\n",
       "  </thead>\n",
       "  <tbody>\n",
       "    <tr>\n",
       "      <th>140628420720448</th>\n",
       "      <td>1.633034e+09</td>\n",
       "      <td>1.633034e+09</td>\n",
       "      <td>690.157543</td>\n",
       "      <td>43250</td>\n",
       "      <td>752.194101</td>\n",
       "      <td>0.917526</td>\n",
       "    </tr>\n",
       "  </tbody>\n",
       "</table>\n",
       "</div>"
      ],
      "text/plain": [
       "                 time_start_thread  time_end_thread  total_elapsed_thread  \\\n",
       "threading_ident                                                             \n",
       "140628420720448       1.633034e+09     1.633034e+09            690.157543   \n",
       "\n",
       "                   pid  elapsed_thread  elapsed_processing  \n",
       "threading_ident                                             \n",
       "140628420720448  43250      752.194101            0.917526  "
      ]
     },
     "execution_count": 170,
     "metadata": {},
     "output_type": "execute_result"
    }
   ],
   "source": [
    "get_thread_stats(df_dataloader_zeroworkers_th[df_dataloader_zeroworkers_th[\"run\"]==run], group_by=[\"pid\"], trace_level=5)"
   ]
  },
  {
   "cell_type": "markdown",
   "metadata": {},
   "source": [
    "### Threaded worst run "
   ]
  },
  {
   "cell_type": "code",
   "execution_count": null,
   "metadata": {},
   "outputs": [],
   "source": [
    "# for i, batch_pool_size in enumerate([2, 4, 8, 16, 32, 64]):\n",
    "#     for j, num_fetch_workers in enumerate([2, 4, 8, 16, 32, 64, 128]):\n",
    "run = df_dataloader_zeroworkers_aio[(df_dataloader_zeroworkers_aio[\"num_fetch_workers\"]==4) & (df_dataloader_zeroworkers_aio[\"batch_pool\"]==16)][\"run\"].iloc[0]\n",
    "plot_events_timeline2(df_dataloader_zeroworkers_aio[df_dataloader_zeroworkers_aio[\"run\"]==run], summary_only=False)"
   ]
  },
  {
   "cell_type": "markdown",
   "metadata": {},
   "source": [
    "### Asyncio worst run"
   ]
  },
  {
   "cell_type": "code",
   "execution_count": null,
   "metadata": {},
   "outputs": [],
   "source": [
    "run = df_dataloader_zeroworkers_aio[(df_dataloader_zeroworkers_aio[\"num_fetch_workers\"]==2) & (df_dataloader_zeroworkers_aio[\"batch_pool\"]==2)][\"run\"].iloc[0]\n",
    "plot_events_timeline(df_dataloader_zeroworkers_aio[df_dataloader_zeroworkers_aio[\"run\"]==run], summary_only=False)"
   ]
  },
  {
   "cell_type": "code",
   "execution_count": null,
   "metadata": {},
   "outputs": [],
   "source": []
  }
 ],
 "metadata": {
  "kernelspec": {
   "display_name": "storage-benchmarking",
   "language": "python",
   "name": "storage-benchmarking"
  },
  "language_info": {
   "codemirror_mode": {
    "name": "ipython",
    "version": 3
   },
   "file_extension": ".py",
   "mimetype": "text/x-python",
   "name": "python",
   "nbconvert_exporter": "python",
   "pygments_lexer": "ipython3",
   "version": "3.9.2"
  }
 },
 "nbformat": 4,
 "nbformat_minor": 5
}
