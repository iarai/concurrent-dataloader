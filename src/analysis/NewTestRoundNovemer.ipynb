{
 "cells": [
  {
   "cell_type": "markdown",
   "id": "4f7cc9f2",
   "metadata": {},
   "source": [
    "### November Benchmarks\n",
    "\n",
    "The goal of this serieso of benchmarks is to compare the performance of our dataloader and the vanilla implementation that comes with PyTorch. \n",
    "\n",
    "Our implementation includes several improvements:\n",
    " - paralel data download (using two approaches, Asyncio and Threading) \n",
    " - offloaded Dataloader initialization (constructor cleanup)\n",
    " - use of caching (Varnish)\n",
    " \n",
    "####  What to test?\n",
    "\n",
    "In our benchmarking we want to make some assumptions:\n",
    " - the data is on the remote server accessible via HTTP (we use ImageNet on Amazon S3 storage). The ImageNet project is a large visual database designed for use in visual object recognition software research. More than 14 million images have been hand-annotated by the project to indicate what objects are pictured and in at least one million of the images, bounding boxes are also provided.\n",
    " - the experiment defaults we use (i.e. the parameters) are the ones that come with default implementations of ResNet-18. ResNet-18 is a convolutional neural network that is 18 layers deep. You can load a pretrained version of the network trained on more than a million images from the ImageNet database.\n",
    "   - [PyTorch](https://github.com/pytorch/examples/blob/master/imagenet/main.py)\n",
    "   - [Lightning](https://github.com/PyTorchLightning/pytorch-lightning/blob/master/pl_examples/domain_templates/imagenet.py) "
   ]
  },
  {
   "cell_type": "markdown",
   "id": "95fa7c36",
   "metadata": {},
   "source": [
    "### Lightning implementation\n",
    "\n",
    "**Default parameters:** \n",
    "\n",
    "\n",
    "| Parameter         | Value       |\n",
    "| ----------------- | ----------- |\n",
    "| Workers           | 4           |\n",
    "| Batch size        | 256         |\n",
    "| Learning rate     | 0.1         |\n",
    "| Weight decay      | 1.e4        |\n",
    "| Max epochs        | 90          |\n",
    "| Pin memory        | Not defined (default: False) |\n",
    "| Prefetch factor   | Not defined (default: 2) |\n",
    "| Seed              | 42          |\n",
    "\n",
    " \n",
    "**If DDP is used:**\n",
    " - batch size: `batch size / number of GPUs`\n",
    " - workers: `workers / number of GPUs`\n",
    "  "
   ]
  },
  {
   "cell_type": "markdown",
   "id": "16e9556e",
   "metadata": {},
   "source": [
    "### Torch implementation:\n",
    "\n",
    "**Default parameters:**\n",
    "\n",
    "\n",
    "| Parameter         | Value       |\n",
    "| ----------------- | ----------- |\n",
    "| Workers           | 4           |\n",
    "| Batch size        | 256         |\n",
    "| Learning rate     | 0.1         |\n",
    "| Weight decay      | 1.e4        |\n",
    "| Max epochs        | 90          |\n",
    "| Pin memory        | True        |\n",
    "| Prefetch factor   | Not defined (default: 2) |\n",
    "| Seed              | None        |\n",
    "| Print frequency   | 10          |"
   ]
  },
  {
   "cell_type": "markdown",
   "id": "a09c8b43",
   "metadata": {},
   "source": [
    "### Aditional parameters\n",
    "\n",
    "Due to some changes in the Dataloader implementation, there are some aditional parameters that need to be taken into consideration: \n",
    "\n",
    "| Parameter               | Value                  |\n",
    "| ----------------------- | ---------------------- |\n",
    "| Fetch implementation    | `threaded`, `asyncio`  |\n",
    "| Batch pool              | 16                     |\n",
    "| Number of fetch workers | 8                      |\n",
    "| Use cache               | True                   |\n",
    "| Dataset limit           | 7950                   |\n",
    "\n"
   ]
  },
  {
   "cell_type": "code",
   "execution_count": null,
   "id": "d8ffa11e",
   "metadata": {},
   "outputs": [],
   "source": []
  },
  {
   "cell_type": "code",
   "execution_count": null,
   "id": "6627b017",
   "metadata": {},
   "outputs": [],
   "source": []
  }
 ],
 "metadata": {
  "kernelspec": {
   "display_name": "storage-benchmarking",
   "language": "python",
   "name": "storage-benchmarking"
  },
  "language_info": {
   "codemirror_mode": {
    "name": "ipython",
    "version": 3
   },
   "file_extension": ".py",
   "mimetype": "text/x-python",
   "name": "python",
   "nbconvert_exporter": "python",
   "pygments_lexer": "ipython3",
   "version": "3.9.2"
  }
 },
 "nbformat": 4,
 "nbformat_minor": 5
}
