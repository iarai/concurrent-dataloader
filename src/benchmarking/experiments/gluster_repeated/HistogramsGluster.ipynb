{
 "cells": [
  {
   "cell_type": "markdown",
   "id": "6b63b8b0",
   "metadata": {},
   "source": [
    "#### All modifications - repeat 10 times\n",
    "\n",
    "This experiment involves the default setup for all the parameters on GlusterFS (IARAI server local non-scratch local storage), however with the reduced dataset size to 35000, as explained in the write up. The expeirment is repeated 10 times, and here, we are interested in measurement consistency, i.e. throughput dispersion between different experiments. "
   ]
  },
  {
   "cell_type": "code",
   "execution_count": 1,
   "id": "1c4388f7",
   "metadata": {},
   "outputs": [],
   "source": [
    "from benchmarking.analysis.analyze_results import *"
   ]
  },
  {
   "cell_type": "code",
   "execution_count": null,
   "id": "90ed8927",
   "metadata": {},
   "outputs": [],
   "source": []
  },
  {
   "cell_type": "markdown",
   "id": "cf26273a",
   "metadata": {},
   "source": [
    "Data loading function:"
   ]
  },
  {
   "cell_type": "code",
   "execution_count": 2,
   "id": "073ca5f4",
   "metadata": {},
   "outputs": [],
   "source": [
    "# def load_all_experiments(output_base_folder, base_folder):\n",
    "#     results_gluster = []\n",
    "#     for folder_index in range(1, 11):\n",
    "#         print(f\"Working with {folder_index}\")\n",
    "#         gluster_folder_filter= base_folder + str(folder_index) + \"/*benchmark_e2e*\"\n",
    "\n",
    "#         # read data\n",
    "#         df_dataloader_gluster = extract_timelines(output_base_folder, folder_filter=gluster_folder_filter)\n",
    "\n",
    "#         # Get unique functions \n",
    "#         unique_functions_gluster = np.unique(df_dataloader_gluster[\"item_x\"])\n",
    "#         print(f\"Unique functions: {unique_functions_gluster}\")\n",
    "\n",
    "#         unique_runs_gluster = np.unique(df_dataloader_gluster[\"run\"])\n",
    "\n",
    "#         # extract GPU UTIL\n",
    "#         df_gpuutil_gluster = extract_gpuutil(output_base_folder, folder_filter=gluster_folder_filter)\n",
    "#         unique_runs_gluster = np.unique(df_dataloader_gluster[\"run\"])\n",
    "\n",
    "#         # Get data for gluster\n",
    "#         returns_gluster = []\n",
    "#         for run in sorted(unique_runs_gluster):\n",
    "#             df = df_dataloader_gluster[df_dataloader_gluster[\"run\"]==run]\n",
    "#             dfgpu = df_gpuutil_gluster[df_gpuutil_gluster[\"run\"]==run]\n",
    "#             returns_gluster.append(get_gpu_stats(df, dfgpu, run, False, True, False, 2))\n",
    "#         result = pd.DataFrame.from_records(data=returns_gluster)\n",
    "#         result[\"throughput\"] = samples / (result[\"runtime\"] / epochs)\n",
    "#         results_gluster.append(result)\n",
    "#     return results_gluster\n",
    "def load_all_experiments(output_base_folder, base_folder, experiments_num, data_folder, subfolder):\n",
    "    results_data = []\n",
    "    for folder_index in range(1, experiments_num):\n",
    "        print(f\"Working with {folder_index}\")\n",
    "        data_folder_filter= base_folder + str(folder_index) + data_folder\n",
    "\n",
    "        # read data\n",
    "        df_dataloader = extract_timelines(output_base_folder, folder_filter=data_folder_filter)\n",
    "\n",
    "        # Get unique functions \n",
    "        unique_functions = np.unique(df_dataloader[\"item_x\"])\n",
    "        print(f\"Unique functions: {unique_functions}\")\n",
    "        unique_runs = np.unique(df_dataloader[\"run\"])\n",
    "        \n",
    "        # extract GPU UTIL\n",
    "        df_gpuutil = extract_gpuutil(output_base_folder, folder_filter=data_folder_filter)\n",
    "\n",
    "        # Get data\n",
    "        returns_data = []\n",
    "        for run in sorted(unique_runs):\n",
    "            ds, _, epochs, samples, _, _ = get_metadata_info(output_base_folder / Path(base_folder+str(folder_index)+f\"/{subfolder}/\"+run))\n",
    "            df = df_dataloader[df_dataloader[\"run\"]==run]\n",
    "            dfgpu = df_gpuutil[df_gpuutil[\"run\"]==run]\n",
    "            df = df.drop_duplicates(subset=\"id\", keep=\"first\", inplace=False)\n",
    "            _, _, colors, lanes = get_colors_runs_and_lanes(df)\n",
    "            r = show_timelines_with_gpu(df, dfgpu, lanes, colors, run, False, False, False, 2, skip_plot=True)\n",
    "            r[\"run\"]=run\n",
    "            returns_data.append(r)        \n",
    "\n",
    "        df_full = extract_pandas(output_base_folder, folder_filter=data_folder_filter)\n",
    "        r = pd.DataFrame.from_records(data=returns_data)\n",
    "        r = get_throughput(r, base_folder+str(folder_index)+f\"/{subfolder}/\", df_full, unique_runs, output_base_folder)\n",
    "        results_data.append(r)\n",
    "        \n",
    "    return results_data"
   ]
  },
  {
   "cell_type": "code",
   "execution_count": 3,
   "id": "9d6d16d0",
   "metadata": {},
   "outputs": [],
   "source": [
    "impls = [\"threaded\", \"asyncio\", \"vanilla\"]\n",
    "libs = [\"torch\", \"lightning\"]"
   ]
  },
  {
   "cell_type": "code",
   "execution_count": 4,
   "id": "a3a1f47a",
   "metadata": {},
   "outputs": [],
   "source": [
    "def add_stats(throughputs):\n",
    "    df = throughputs.T\n",
    "\n",
    "    mean = df.mean(axis=1)\n",
    "    var = df.var(axis=1)\n",
    "    std = df.std(axis=1)\n",
    "\n",
    "    df[\"mean\"] = mean.round(2)\n",
    "    df[\"var\"] = var.round(2)\n",
    "    df[\"std\"] = std.round(2)\n",
    "    return df"
   ]
  },
  {
   "cell_type": "markdown",
   "id": "bd47bef6",
   "metadata": {},
   "source": [
    "### slim-2 GlusterFS"
   ]
  },
  {
   "cell_type": "code",
   "execution_count": 5,
   "id": "88135d3e",
   "metadata": {
    "scrolled": true
   },
   "outputs": [
    {
     "name": "stdout",
     "output_type": "stream",
     "text": [
      "Working with 1\n"
     ]
    },
    {
     "name": "stderr",
     "output_type": "stream",
     "text": [
      "100%|██████████████████████████████████████████████████████████████████████████████████████████████████████████████████████████████████████████████████████████████████████████████████████████| 2102/2102 [00:11<00:00, 180.38it/s]\n"
     ]
    },
    {
     "name": "stdout",
     "output_type": "stream",
     "text": [
      "Unique functions: ['batch' 'next_data' 'run_training_batch' 'training_batch_to_device']\n"
     ]
    },
    {
     "name": "stderr",
     "output_type": "stream",
     "text": [
      "100%|█████████████████████████████████████████████████████████████████████████████████████████████████████████████████████████████████████████████████████████████████████████████████████████| 2102/2102 [00:01<00:00, 1562.62it/s]\n"
     ]
    },
    {
     "name": "stdout",
     "output_type": "stream",
     "text": [
      "Dataset:  35000\n",
      "Batch size: 256\n",
      "Epochs:  100\n",
      "Images total:  3500000\n",
      "Batches per epoch 137\n",
      "Images total (rounded):  3507200\n",
      "timestamp False\n",
      "Dataset:  35000\n",
      "Batch size: 256\n",
      "Epochs:  100\n",
      "Images total:  3500000\n",
      "Batches per epoch 137\n",
      "Images total (rounded):  3507200\n",
      "timestamp False\n",
      "Dataset:  35000\n",
      "Batch size: 256\n",
      "Epochs:  100\n",
      "Images total:  3500000\n",
      "Batches per epoch 137\n",
      "Images total (rounded):  3507200\n",
      "timestamp False\n",
      "Dataset:  35000\n",
      "Batch size: 256\n",
      "Epochs:  100\n",
      "Images total:  3500000\n",
      "Batches per epoch 137\n",
      "Images total (rounded):  3507200\n",
      "timestamp False\n",
      "Dataset:  35000\n",
      "Batch size: 256\n",
      "Epochs:  100\n",
      "Images total:  3500000\n",
      "Batches per epoch 137\n",
      "Images total (rounded):  3507200\n",
      "timestamp False\n",
      "Dataset:  35000\n",
      "Batch size: 256\n",
      "Epochs:  100\n",
      "Images total:  3500000\n",
      "Batches per epoch 137\n",
      "Images total (rounded):  3507200\n",
      "timestamp False\n"
     ]
    },
    {
     "name": "stderr",
     "output_type": "stream",
     "text": [
      "100%|███████████████████████████████████████████████████████████████████████████████████████████████████████████████████████████████████████████████████████████████████████████████████████████| 2102/2102 [07:55<00:00,  4.42it/s]\n"
     ]
    },
    {
     "name": "stdout",
     "output_type": "stream",
     "text": [
      "Working with 2\n"
     ]
    },
    {
     "name": "stderr",
     "output_type": "stream",
     "text": [
      "100%|██████████████████████████████████████████████████████████████████████████████████████████████████████████████████████████████████████████████████████████████████████████████████████████| 2087/2087 [00:12<00:00, 163.37it/s]\n"
     ]
    },
    {
     "name": "stdout",
     "output_type": "stream",
     "text": [
      "Unique functions: ['batch' 'next_data' 'run_training_batch' 'training_batch_to_device']\n"
     ]
    },
    {
     "name": "stderr",
     "output_type": "stream",
     "text": [
      "100%|█████████████████████████████████████████████████████████████████████████████████████████████████████████████████████████████████████████████████████████████████████████████████████████| 2087/2087 [00:01<00:00, 1347.11it/s]\n"
     ]
    },
    {
     "name": "stdout",
     "output_type": "stream",
     "text": [
      "Dataset:  35000\n",
      "Batch size: 256\n",
      "Epochs:  100\n",
      "Images total:  3500000\n",
      "Batches per epoch 137\n",
      "Images total (rounded):  3507200\n",
      "timestamp False\n",
      "Dataset:  35000\n",
      "Batch size: 256\n",
      "Epochs:  100\n",
      "Images total:  3500000\n",
      "Batches per epoch 137\n",
      "Images total (rounded):  3507200\n",
      "timestamp False\n",
      "Dataset:  35000\n",
      "Batch size: 256\n",
      "Epochs:  100\n",
      "Images total:  3500000\n",
      "Batches per epoch 137\n",
      "Images total (rounded):  3507200\n",
      "timestamp False\n",
      "Dataset:  35000\n",
      "Batch size: 256\n",
      "Epochs:  100\n",
      "Images total:  3500000\n",
      "Batches per epoch 137\n",
      "Images total (rounded):  3507200\n",
      "timestamp False\n",
      "Dataset:  35000\n",
      "Batch size: 256\n",
      "Epochs:  100\n",
      "Images total:  3500000\n",
      "Batches per epoch 137\n",
      "Images total (rounded):  3507200\n",
      "timestamp False\n",
      "Dataset:  35000\n",
      "Batch size: 256\n",
      "Epochs:  100\n",
      "Images total:  3500000\n",
      "Batches per epoch 137\n",
      "Images total (rounded):  3507200\n",
      "timestamp False\n"
     ]
    },
    {
     "name": "stderr",
     "output_type": "stream",
     "text": [
      "100%|███████████████████████████████████████████████████████████████████████████████████████████████████████████████████████████████████████████████████████████████████████████████████████████| 2087/2087 [08:08<00:00,  4.28it/s]\n"
     ]
    },
    {
     "name": "stdout",
     "output_type": "stream",
     "text": [
      "Working with 3\n"
     ]
    },
    {
     "name": "stderr",
     "output_type": "stream",
     "text": [
      "100%|██████████████████████████████████████████████████████████████████████████████████████████████████████████████████████████████████████████████████████████████████████████████████████████| 2095/2095 [00:12<00:00, 168.88it/s]\n"
     ]
    },
    {
     "name": "stdout",
     "output_type": "stream",
     "text": [
      "Unique functions: ['batch' 'next_data' 'run_training_batch' 'training_batch_to_device']\n"
     ]
    },
    {
     "name": "stderr",
     "output_type": "stream",
     "text": [
      "100%|█████████████████████████████████████████████████████████████████████████████████████████████████████████████████████████████████████████████████████████████████████████████████████████| 2095/2095 [00:01<00:00, 1346.17it/s]\n"
     ]
    },
    {
     "name": "stdout",
     "output_type": "stream",
     "text": [
      "Dataset:  35000\n",
      "Batch size: 256\n",
      "Epochs:  100\n",
      "Images total:  3500000\n",
      "Batches per epoch 137\n",
      "Images total (rounded):  3507200\n",
      "timestamp False\n",
      "Dataset:  35000\n",
      "Batch size: 256\n",
      "Epochs:  100\n",
      "Images total:  3500000\n",
      "Batches per epoch 137\n",
      "Images total (rounded):  3507200\n",
      "timestamp False\n",
      "Dataset:  35000\n",
      "Batch size: 256\n",
      "Epochs:  100\n",
      "Images total:  3500000\n",
      "Batches per epoch 137\n",
      "Images total (rounded):  3507200\n",
      "timestamp False\n",
      "Dataset:  35000\n",
      "Batch size: 256\n",
      "Epochs:  100\n",
      "Images total:  3500000\n",
      "Batches per epoch 137\n",
      "Images total (rounded):  3507200\n",
      "timestamp False\n",
      "Dataset:  35000\n",
      "Batch size: 256\n",
      "Epochs:  100\n",
      "Images total:  3500000\n",
      "Batches per epoch 137\n",
      "Images total (rounded):  3507200\n",
      "timestamp False\n",
      "Dataset:  35000\n",
      "Batch size: 256\n",
      "Epochs:  100\n",
      "Images total:  3500000\n",
      "Batches per epoch 137\n",
      "Images total (rounded):  3507200\n",
      "timestamp False\n"
     ]
    },
    {
     "name": "stderr",
     "output_type": "stream",
     "text": [
      "100%|███████████████████████████████████████████████████████████████████████████████████████████████████████████████████████████████████████████████████████████████████████████████████████████| 2095/2095 [08:11<00:00,  4.26it/s]\n"
     ]
    },
    {
     "name": "stdout",
     "output_type": "stream",
     "text": [
      "Working with 4\n"
     ]
    },
    {
     "name": "stderr",
     "output_type": "stream",
     "text": [
      "100%|██████████████████████████████████████████████████████████████████████████████████████████████████████████████████████████████████████████████████████████████████████████████████████████| 2089/2089 [00:12<00:00, 164.89it/s]\n"
     ]
    },
    {
     "name": "stdout",
     "output_type": "stream",
     "text": [
      "Unique functions: ['batch' 'next_data' 'run_training_batch' 'training_batch_to_device']\n"
     ]
    },
    {
     "name": "stderr",
     "output_type": "stream",
     "text": [
      "100%|█████████████████████████████████████████████████████████████████████████████████████████████████████████████████████████████████████████████████████████████████████████████████████████| 2089/2089 [00:02<00:00, 1007.93it/s]\n"
     ]
    },
    {
     "name": "stdout",
     "output_type": "stream",
     "text": [
      "Dataset:  35000\n",
      "Batch size: 256\n",
      "Epochs:  100\n",
      "Images total:  3500000\n",
      "Batches per epoch 137\n",
      "Images total (rounded):  3507200\n",
      "timestamp False\n",
      "Dataset:  35000\n",
      "Batch size: 256\n",
      "Epochs:  100\n",
      "Images total:  3500000\n",
      "Batches per epoch 137\n",
      "Images total (rounded):  3507200\n",
      "timestamp False\n",
      "Dataset:  35000\n",
      "Batch size: 256\n",
      "Epochs:  100\n",
      "Images total:  3500000\n",
      "Batches per epoch 137\n",
      "Images total (rounded):  3507200\n",
      "timestamp False\n",
      "Dataset:  35000\n",
      "Batch size: 256\n",
      "Epochs:  100\n",
      "Images total:  3500000\n",
      "Batches per epoch 137\n",
      "Images total (rounded):  3507200\n",
      "timestamp False\n",
      "Dataset:  35000\n",
      "Batch size: 256\n",
      "Epochs:  100\n",
      "Images total:  3500000\n",
      "Batches per epoch 137\n",
      "Images total (rounded):  3507200\n",
      "timestamp False\n",
      "Dataset:  35000\n",
      "Batch size: 256\n",
      "Epochs:  100\n",
      "Images total:  3500000\n",
      "Batches per epoch 137\n",
      "Images total (rounded):  3507200\n",
      "timestamp False\n"
     ]
    },
    {
     "name": "stderr",
     "output_type": "stream",
     "text": [
      "100%|███████████████████████████████████████████████████████████████████████████████████████████████████████████████████████████████████████████████████████████████████████████████████████████| 2089/2089 [09:07<00:00,  3.82it/s]\n"
     ]
    },
    {
     "name": "stdout",
     "output_type": "stream",
     "text": [
      "Working with 5\n"
     ]
    },
    {
     "name": "stderr",
     "output_type": "stream",
     "text": [
      "100%|██████████████████████████████████████████████████████████████████████████████████████████████████████████████████████████████████████████████████████████████████████████████████████████| 2096/2096 [00:11<00:00, 175.37it/s]\n"
     ]
    },
    {
     "name": "stdout",
     "output_type": "stream",
     "text": [
      "Unique functions: ['batch' 'next_data' 'run_training_batch' 'training_batch_to_device']\n"
     ]
    },
    {
     "name": "stderr",
     "output_type": "stream",
     "text": [
      "100%|█████████████████████████████████████████████████████████████████████████████████████████████████████████████████████████████████████████████████████████████████████████████████████████| 2096/2096 [00:01<00:00, 1085.91it/s]\n"
     ]
    },
    {
     "name": "stdout",
     "output_type": "stream",
     "text": [
      "Dataset:  35000\n",
      "Batch size: 256\n",
      "Epochs:  100\n",
      "Images total:  3500000\n",
      "Batches per epoch 137\n",
      "Images total (rounded):  3507200\n",
      "timestamp False\n",
      "Dataset:  35000\n",
      "Batch size: 256\n",
      "Epochs:  100\n",
      "Images total:  3500000\n",
      "Batches per epoch 137\n",
      "Images total (rounded):  3507200\n",
      "timestamp False\n",
      "Dataset:  35000\n",
      "Batch size: 256\n",
      "Epochs:  100\n",
      "Images total:  3500000\n",
      "Batches per epoch 137\n",
      "Images total (rounded):  3507200\n",
      "timestamp False\n",
      "Dataset:  35000\n",
      "Batch size: 256\n",
      "Epochs:  100\n",
      "Images total:  3500000\n",
      "Batches per epoch 137\n",
      "Images total (rounded):  3507200\n",
      "timestamp False\n",
      "Dataset:  35000\n",
      "Batch size: 256\n",
      "Epochs:  100\n",
      "Images total:  3500000\n",
      "Batches per epoch 137\n",
      "Images total (rounded):  3507200\n",
      "timestamp False\n",
      "Dataset:  35000\n",
      "Batch size: 256\n",
      "Epochs:  100\n",
      "Images total:  3500000\n",
      "Batches per epoch 137\n",
      "Images total (rounded):  3507200\n",
      "timestamp False\n"
     ]
    },
    {
     "name": "stderr",
     "output_type": "stream",
     "text": [
      "100%|███████████████████████████████████████████████████████████████████████████████████████████████████████████████████████████████████████████████████████████████████████████████████████████| 2096/2096 [08:32<00:00,  4.09it/s]\n"
     ]
    },
    {
     "name": "stdout",
     "output_type": "stream",
     "text": [
      "Working with 6\n"
     ]
    },
    {
     "name": "stderr",
     "output_type": "stream",
     "text": [
      "100%|██████████████████████████████████████████████████████████████████████████████████████████████████████████████████████████████████████████████████████████████████████████████████████████| 2100/2100 [00:12<00:00, 164.83it/s]\n"
     ]
    },
    {
     "name": "stdout",
     "output_type": "stream",
     "text": [
      "Unique functions: ['batch' 'next_data' 'run_training_batch' 'training_batch_to_device']\n"
     ]
    },
    {
     "name": "stderr",
     "output_type": "stream",
     "text": [
      "100%|█████████████████████████████████████████████████████████████████████████████████████████████████████████████████████████████████████████████████████████████████████████████████████████| 2100/2100 [00:01<00:00, 1542.09it/s]\n"
     ]
    },
    {
     "name": "stdout",
     "output_type": "stream",
     "text": [
      "Dataset:  35000\n",
      "Batch size: 256\n",
      "Epochs:  100\n",
      "Images total:  3500000\n",
      "Batches per epoch 137\n",
      "Images total (rounded):  3507200\n",
      "timestamp False\n",
      "Dataset:  35000\n",
      "Batch size: 256\n",
      "Epochs:  100\n",
      "Images total:  3500000\n",
      "Batches per epoch 137\n",
      "Images total (rounded):  3507200\n",
      "timestamp False\n",
      "Dataset:  35000\n",
      "Batch size: 256\n",
      "Epochs:  100\n",
      "Images total:  3500000\n",
      "Batches per epoch 137\n",
      "Images total (rounded):  3507200\n",
      "timestamp False\n",
      "Dataset:  35000\n",
      "Batch size: 256\n",
      "Epochs:  100\n",
      "Images total:  3500000\n",
      "Batches per epoch 137\n",
      "Images total (rounded):  3507200\n",
      "timestamp False\n",
      "Dataset:  35000\n",
      "Batch size: 256\n",
      "Epochs:  100\n",
      "Images total:  3500000\n",
      "Batches per epoch 137\n",
      "Images total (rounded):  3507200\n",
      "timestamp False\n",
      "Dataset:  35000\n",
      "Batch size: 256\n",
      "Epochs:  100\n",
      "Images total:  3500000\n",
      "Batches per epoch 137\n",
      "Images total (rounded):  3507200\n",
      "timestamp False\n"
     ]
    },
    {
     "name": "stderr",
     "output_type": "stream",
     "text": [
      "100%|███████████████████████████████████████████████████████████████████████████████████████████████████████████████████████████████████████████████████████████████████████████████████████████| 2100/2100 [08:27<00:00,  4.14it/s]\n"
     ]
    },
    {
     "name": "stdout",
     "output_type": "stream",
     "text": [
      "Working with 7\n"
     ]
    },
    {
     "name": "stderr",
     "output_type": "stream",
     "text": [
      "100%|██████████████████████████████████████████████████████████████████████████████████████████████████████████████████████████████████████████████████████████████████████████████████████████| 2101/2101 [00:12<00:00, 170.06it/s]\n"
     ]
    },
    {
     "name": "stdout",
     "output_type": "stream",
     "text": [
      "Unique functions: ['batch' 'next_data' 'run_training_batch' 'training_batch_to_device']\n"
     ]
    },
    {
     "name": "stderr",
     "output_type": "stream",
     "text": [
      "100%|█████████████████████████████████████████████████████████████████████████████████████████████████████████████████████████████████████████████████████████████████████████████████████████| 2101/2101 [00:01<00:00, 1166.96it/s]\n"
     ]
    },
    {
     "name": "stdout",
     "output_type": "stream",
     "text": [
      "Dataset:  35000\n",
      "Batch size: 256\n",
      "Epochs:  100\n",
      "Images total:  3500000\n",
      "Batches per epoch 137\n",
      "Images total (rounded):  3507200\n",
      "timestamp False\n",
      "Dataset:  35000\n",
      "Batch size: 256\n",
      "Epochs:  100\n",
      "Images total:  3500000\n",
      "Batches per epoch 137\n",
      "Images total (rounded):  3507200\n",
      "timestamp False\n",
      "Dataset:  35000\n",
      "Batch size: 256\n",
      "Epochs:  100\n",
      "Images total:  3500000\n",
      "Batches per epoch 137\n",
      "Images total (rounded):  3507200\n",
      "timestamp False\n",
      "Dataset:  35000\n",
      "Batch size: 256\n",
      "Epochs:  100\n",
      "Images total:  3500000\n",
      "Batches per epoch 137\n",
      "Images total (rounded):  3507200\n",
      "timestamp False\n",
      "Dataset:  35000\n",
      "Batch size: 256\n",
      "Epochs:  100\n",
      "Images total:  3500000\n",
      "Batches per epoch 137\n",
      "Images total (rounded):  3507200\n",
      "timestamp False\n",
      "Dataset:  35000\n",
      "Batch size: 256\n",
      "Epochs:  100\n",
      "Images total:  3500000\n",
      "Batches per epoch 137\n",
      "Images total (rounded):  3507200\n",
      "timestamp False\n"
     ]
    },
    {
     "name": "stderr",
     "output_type": "stream",
     "text": [
      "100%|███████████████████████████████████████████████████████████████████████████████████████████████████████████████████████████████████████████████████████████████████████████████████████████| 2101/2101 [08:26<00:00,  4.15it/s]\n"
     ]
    },
    {
     "name": "stdout",
     "output_type": "stream",
     "text": [
      "Working with 8\n"
     ]
    },
    {
     "name": "stderr",
     "output_type": "stream",
     "text": [
      "100%|██████████████████████████████████████████████████████████████████████████████████████████████████████████████████████████████████████████████████████████████████████████████████████████| 2094/2094 [00:13<00:00, 160.04it/s]\n"
     ]
    },
    {
     "name": "stdout",
     "output_type": "stream",
     "text": [
      "Unique functions: ['batch' 'next_data' 'run_training_batch' 'training_batch_to_device']\n"
     ]
    },
    {
     "name": "stderr",
     "output_type": "stream",
     "text": [
      "100%|█████████████████████████████████████████████████████████████████████████████████████████████████████████████████████████████████████████████████████████████████████████████████████████| 2094/2094 [00:02<00:00, 1032.66it/s]\n"
     ]
    },
    {
     "name": "stdout",
     "output_type": "stream",
     "text": [
      "Dataset:  35000\n",
      "Batch size: 256\n",
      "Epochs:  100\n",
      "Images total:  3500000\n",
      "Batches per epoch 137\n",
      "Images total (rounded):  3507200\n",
      "timestamp False\n",
      "Dataset:  35000\n",
      "Batch size: 256\n",
      "Epochs:  100\n",
      "Images total:  3500000\n",
      "Batches per epoch 137\n",
      "Images total (rounded):  3507200\n",
      "timestamp False\n",
      "Dataset:  35000\n",
      "Batch size: 256\n",
      "Epochs:  100\n",
      "Images total:  3500000\n",
      "Batches per epoch 137\n",
      "Images total (rounded):  3507200\n",
      "timestamp False\n",
      "Dataset:  35000\n",
      "Batch size: 256\n",
      "Epochs:  100\n",
      "Images total:  3500000\n",
      "Batches per epoch 137\n",
      "Images total (rounded):  3507200\n",
      "timestamp False\n",
      "Dataset:  35000\n",
      "Batch size: 256\n",
      "Epochs:  100\n",
      "Images total:  3500000\n",
      "Batches per epoch 137\n",
      "Images total (rounded):  3507200\n",
      "timestamp False\n",
      "Dataset:  35000\n",
      "Batch size: 256\n",
      "Epochs:  100\n",
      "Images total:  3500000\n",
      "Batches per epoch 137\n",
      "Images total (rounded):  3507200\n",
      "timestamp False\n"
     ]
    },
    {
     "name": "stderr",
     "output_type": "stream",
     "text": [
      "100%|███████████████████████████████████████████████████████████████████████████████████████████████████████████████████████████████████████████████████████████████████████████████████████████| 2094/2094 [08:30<00:00,  4.10it/s]\n"
     ]
    },
    {
     "name": "stdout",
     "output_type": "stream",
     "text": [
      "Working with 9\n"
     ]
    },
    {
     "name": "stderr",
     "output_type": "stream",
     "text": [
      "100%|██████████████████████████████████████████████████████████████████████████████████████████████████████████████████████████████████████████████████████████████████████████████████████████| 2102/2102 [00:11<00:00, 176.09it/s]\n"
     ]
    },
    {
     "name": "stdout",
     "output_type": "stream",
     "text": [
      "Unique functions: ['batch' 'next_data' 'run_training_batch' 'training_batch_to_device']\n"
     ]
    },
    {
     "name": "stderr",
     "output_type": "stream",
     "text": [
      "100%|█████████████████████████████████████████████████████████████████████████████████████████████████████████████████████████████████████████████████████████████████████████████████████████| 2102/2102 [00:01<00:00, 1241.30it/s]\n"
     ]
    },
    {
     "name": "stdout",
     "output_type": "stream",
     "text": [
      "Dataset:  35000\n",
      "Batch size: 256\n",
      "Epochs:  100\n",
      "Images total:  3500000\n",
      "Batches per epoch 137\n",
      "Images total (rounded):  3507200\n",
      "timestamp False\n",
      "Dataset:  35000\n",
      "Batch size: 256\n",
      "Epochs:  100\n",
      "Images total:  3500000\n",
      "Batches per epoch 137\n",
      "Images total (rounded):  3507200\n",
      "timestamp False\n",
      "Dataset:  35000\n",
      "Batch size: 256\n",
      "Epochs:  100\n",
      "Images total:  3500000\n",
      "Batches per epoch 137\n",
      "Images total (rounded):  3507200\n",
      "timestamp False\n",
      "Dataset:  35000\n",
      "Batch size: 256\n",
      "Epochs:  100\n",
      "Images total:  3500000\n",
      "Batches per epoch 137\n",
      "Images total (rounded):  3507200\n",
      "timestamp False\n",
      "Dataset:  35000\n",
      "Batch size: 256\n",
      "Epochs:  100\n",
      "Images total:  3500000\n",
      "Batches per epoch 137\n",
      "Images total (rounded):  3507200\n",
      "timestamp False\n",
      "Dataset:  35000\n",
      "Batch size: 256\n",
      "Epochs:  100\n",
      "Images total:  3500000\n",
      "Batches per epoch 137\n",
      "Images total (rounded):  3507200\n",
      "timestamp False\n"
     ]
    },
    {
     "name": "stderr",
     "output_type": "stream",
     "text": [
      "100%|███████████████████████████████████████████████████████████████████████████████████████████████████████████████████████████████████████████████████████████████████████████████████████████| 2102/2102 [08:31<00:00,  4.11it/s]\n"
     ]
    },
    {
     "name": "stdout",
     "output_type": "stream",
     "text": [
      "Working with 10\n"
     ]
    },
    {
     "name": "stderr",
     "output_type": "stream",
     "text": [
      "100%|██████████████████████████████████████████████████████████████████████████████████████████████████████████████████████████████████████████████████████████████████████████████████████████| 2100/2100 [00:12<00:00, 174.77it/s]\n"
     ]
    },
    {
     "name": "stdout",
     "output_type": "stream",
     "text": [
      "Unique functions: ['batch' 'next_data' 'run_training_batch' 'training_batch_to_device']\n"
     ]
    },
    {
     "name": "stderr",
     "output_type": "stream",
     "text": [
      "100%|█████████████████████████████████████████████████████████████████████████████████████████████████████████████████████████████████████████████████████████████████████████████████████████| 2100/2100 [00:01<00:00, 1276.94it/s]\n"
     ]
    },
    {
     "name": "stdout",
     "output_type": "stream",
     "text": [
      "Dataset:  35000\n",
      "Batch size: 256\n",
      "Epochs:  100\n",
      "Images total:  3500000\n",
      "Batches per epoch 137\n",
      "Images total (rounded):  3507200\n",
      "timestamp False\n",
      "Dataset:  35000\n",
      "Batch size: 256\n",
      "Epochs:  100\n",
      "Images total:  3500000\n",
      "Batches per epoch 137\n",
      "Images total (rounded):  3507200\n",
      "timestamp False\n",
      "Dataset:  35000\n",
      "Batch size: 256\n",
      "Epochs:  100\n",
      "Images total:  3500000\n",
      "Batches per epoch 137\n",
      "Images total (rounded):  3507200\n",
      "timestamp False\n",
      "Dataset:  35000\n",
      "Batch size: 256\n",
      "Epochs:  100\n",
      "Images total:  3500000\n",
      "Batches per epoch 137\n",
      "Images total (rounded):  3507200\n",
      "timestamp False\n",
      "Dataset:  35000\n",
      "Batch size: 256\n",
      "Epochs:  100\n",
      "Images total:  3500000\n",
      "Batches per epoch 137\n",
      "Images total (rounded):  3507200\n",
      "timestamp False\n",
      "Dataset:  35000\n",
      "Batch size: 256\n",
      "Epochs:  100\n",
      "Images total:  3500000\n",
      "Batches per epoch 137\n",
      "Images total (rounded):  3507200\n",
      "timestamp False\n"
     ]
    },
    {
     "name": "stderr",
     "output_type": "stream",
     "text": [
      "100%|███████████████████████████████████████████████████████████████████████████████████████████████████████████████████████████████████████████████████████████████████████████████████████████| 2100/2100 [08:36<00:00,  4.06it/s]\n"
     ]
    }
   ],
   "source": [
    "# setup folders\n",
    "output_base_folder = Path(\"/iarai/home/ivan.svogor/storage-benchmarking-raw/referenced-experiments/1701glusterfs_long-temp\")\n",
    "base_folder = \"glusterfs_long_\"\n",
    "\n",
    "# Load data\n",
    "# results_gluster = load_all_experiments(output_base_folder, base_folder)\n",
    "results_ceph = load_all_experiments(output_base_folder, base_folder, 11, \"/*benchmark_e2e*\", \"\")"
   ]
  },
  {
   "cell_type": "code",
   "execution_count": 6,
   "id": "9be74623",
   "metadata": {},
   "outputs": [
    {
     "name": "stdout",
     "output_type": "stream",
     "text": [
      "Experiments loaded ... Gluster: 10\n"
     ]
    }
   ],
   "source": [
    "# Check the sizes\n",
    "results_gluster = results_ceph\n",
    "print(f\"Experiments loaded ... Gluster: {len(results_gluster)}\")"
   ]
  },
  {
   "cell_type": "code",
   "execution_count": 7,
   "id": "d365dadb",
   "metadata": {},
   "outputs": [],
   "source": [
    "throughput_all_gluster = plot_all_histograms(results_gluster, impls, libs, False) # display = False (doesn't plot histogrms)"
   ]
  },
  {
   "cell_type": "code",
   "execution_count": 8,
   "id": "9c98e920",
   "metadata": {},
   "outputs": [
    {
     "data": {
      "text/html": [
       "<div>\n",
       "<style scoped>\n",
       "    .dataframe tbody tr th:only-of-type {\n",
       "        vertical-align: middle;\n",
       "    }\n",
       "\n",
       "    .dataframe tbody tr th {\n",
       "        vertical-align: top;\n",
       "    }\n",
       "\n",
       "    .dataframe thead th {\n",
       "        text-align: right;\n",
       "    }\n",
       "</style>\n",
       "<table border=\"1\" class=\"dataframe\">\n",
       "  <thead>\n",
       "    <tr style=\"text-align: right;\">\n",
       "      <th></th>\n",
       "      <th>0</th>\n",
       "      <th>1</th>\n",
       "      <th>2</th>\n",
       "      <th>3</th>\n",
       "      <th>4</th>\n",
       "      <th>5</th>\n",
       "      <th>6</th>\n",
       "      <th>7</th>\n",
       "      <th>8</th>\n",
       "      <th>9</th>\n",
       "      <th>mean</th>\n",
       "      <th>var</th>\n",
       "      <th>std</th>\n",
       "    </tr>\n",
       "  </thead>\n",
       "  <tbody>\n",
       "    <tr>\n",
       "      <th>threaded_torch</th>\n",
       "      <td>900.48</td>\n",
       "      <td>908.00</td>\n",
       "      <td>957.45</td>\n",
       "      <td>910.19</td>\n",
       "      <td>911.13</td>\n",
       "      <td>908.61</td>\n",
       "      <td>911.00</td>\n",
       "      <td>912.55</td>\n",
       "      <td>915.00</td>\n",
       "      <td>897.58</td>\n",
       "      <td>913.20</td>\n",
       "      <td>270.42</td>\n",
       "      <td>16.44</td>\n",
       "    </tr>\n",
       "    <tr>\n",
       "      <th>threaded_lightning</th>\n",
       "      <td>598.15</td>\n",
       "      <td>599.82</td>\n",
       "      <td>600.15</td>\n",
       "      <td>613.70</td>\n",
       "      <td>603.85</td>\n",
       "      <td>602.64</td>\n",
       "      <td>600.58</td>\n",
       "      <td>591.45</td>\n",
       "      <td>606.94</td>\n",
       "      <td>594.11</td>\n",
       "      <td>601.14</td>\n",
       "      <td>39.59</td>\n",
       "      <td>6.29</td>\n",
       "    </tr>\n",
       "    <tr>\n",
       "      <th>asyncio_torch</th>\n",
       "      <td>886.44</td>\n",
       "      <td>899.39</td>\n",
       "      <td>909.95</td>\n",
       "      <td>949.63</td>\n",
       "      <td>911.01</td>\n",
       "      <td>945.47</td>\n",
       "      <td>912.44</td>\n",
       "      <td>898.34</td>\n",
       "      <td>902.25</td>\n",
       "      <td>890.03</td>\n",
       "      <td>910.50</td>\n",
       "      <td>455.07</td>\n",
       "      <td>21.33</td>\n",
       "    </tr>\n",
       "    <tr>\n",
       "      <th>asyncio_lightning</th>\n",
       "      <td>574.03</td>\n",
       "      <td>593.38</td>\n",
       "      <td>604.68</td>\n",
       "      <td>612.42</td>\n",
       "      <td>608.05</td>\n",
       "      <td>603.15</td>\n",
       "      <td>598.15</td>\n",
       "      <td>595.28</td>\n",
       "      <td>596.46</td>\n",
       "      <td>603.29</td>\n",
       "      <td>598.89</td>\n",
       "      <td>111.76</td>\n",
       "      <td>10.57</td>\n",
       "    </tr>\n",
       "    <tr>\n",
       "      <th>vanilla_torch</th>\n",
       "      <td>360.32</td>\n",
       "      <td>532.52</td>\n",
       "      <td>537.28</td>\n",
       "      <td>329.29</td>\n",
       "      <td>532.64</td>\n",
       "      <td>536.75</td>\n",
       "      <td>371.98</td>\n",
       "      <td>532.80</td>\n",
       "      <td>500.26</td>\n",
       "      <td>425.10</td>\n",
       "      <td>465.89</td>\n",
       "      <td>7217.61</td>\n",
       "      <td>84.96</td>\n",
       "    </tr>\n",
       "    <tr>\n",
       "      <th>vanilla_lightning</th>\n",
       "      <td>132.78</td>\n",
       "      <td>139.82</td>\n",
       "      <td>143.78</td>\n",
       "      <td>130.95</td>\n",
       "      <td>104.84</td>\n",
       "      <td>144.36</td>\n",
       "      <td>104.64</td>\n",
       "      <td>100.80</td>\n",
       "      <td>110.67</td>\n",
       "      <td>107.57</td>\n",
       "      <td>122.02</td>\n",
       "      <td>318.90</td>\n",
       "      <td>17.86</td>\n",
       "    </tr>\n",
       "  </tbody>\n",
       "</table>\n",
       "</div>"
      ],
      "text/plain": [
       "                         0       1       2       3       4       5       6  \\\n",
       "threaded_torch      900.48  908.00  957.45  910.19  911.13  908.61  911.00   \n",
       "threaded_lightning  598.15  599.82  600.15  613.70  603.85  602.64  600.58   \n",
       "asyncio_torch       886.44  899.39  909.95  949.63  911.01  945.47  912.44   \n",
       "asyncio_lightning   574.03  593.38  604.68  612.42  608.05  603.15  598.15   \n",
       "vanilla_torch       360.32  532.52  537.28  329.29  532.64  536.75  371.98   \n",
       "vanilla_lightning   132.78  139.82  143.78  130.95  104.84  144.36  104.64   \n",
       "\n",
       "                         7       8       9    mean      var    std  \n",
       "threaded_torch      912.55  915.00  897.58  913.20   270.42  16.44  \n",
       "threaded_lightning  591.45  606.94  594.11  601.14    39.59   6.29  \n",
       "asyncio_torch       898.34  902.25  890.03  910.50   455.07  21.33  \n",
       "asyncio_lightning   595.28  596.46  603.29  598.89   111.76  10.57  \n",
       "vanilla_torch       532.80  500.26  425.10  465.89  7217.61  84.96  \n",
       "vanilla_lightning   100.80  110.67  107.57  122.02   318.90  17.86  "
      ]
     },
     "execution_count": 8,
     "metadata": {},
     "output_type": "execute_result"
    }
   ],
   "source": [
    "df_t_gluster = add_stats(throughput_all_gluster)\n",
    "df_t_gluster"
   ]
  },
  {
   "cell_type": "code",
   "execution_count": 9,
   "id": "5a910782",
   "metadata": {},
   "outputs": [
    {
     "data": {
      "image/png": "[encoded data removed]",
      "text/plain": [
       "<Figure size 720x720 with 1 Axes>"
      ]
     },
     "metadata": {
      "needs_background": "light"
     },
     "output_type": "display_data"
    }
   ],
   "source": [
    "plot_violins(df_t_gluster, \"Gluster storage\") # "
   ]
  },
  {
   "cell_type": "code",
   "execution_count": 10,
   "id": "1cec4677",
   "metadata": {},
   "outputs": [
    {
     "data": {
      "image/png": "[encoded data removed]",
      "text/plain": [
       "<Figure size 720x720 with 1 Axes>"
      ]
     },
     "metadata": {
      "needs_background": "light"
     },
     "output_type": "display_data"
    }
   ],
   "source": [
    "runtime_all_gluster = plot_all_histograms(results_gluster, impls, libs, False, value=\"runtime\") # display = False (doesn't plot histogrms)\n",
    "plot_violins(add_stats(runtime_all_gluster), \"GlusterFS - runtime\", \"Runtime [S]\")"
   ]
  },
  {
   "cell_type": "code",
   "execution_count": 15,
   "id": "fb725b77",
   "metadata": {},
   "outputs": [
    {
     "data": {
      "image/png": "[encoded data removed]",
      "text/plain": [
       "<Figure size 720x720 with 1 Axes>"
      ]
     },
     "metadata": {
      "needs_background": "light"
     },
     "output_type": "display_data"
    }
   ],
   "source": [
    "runtime_all_gluster = plot_all_histograms(results_gluster, impls, libs, False, value=\"Mbit/s\") # display = False (doesn't plot histogrms)\n",
    "plot_violins(add_stats(runtime_all_gluster), \"GlusterFS [Mbit/s]\", \"Throughput [Mbit/s]\")"
   ]
  },
  {
   "cell_type": "code",
   "execution_count": 16,
   "id": "9f4a47c1",
   "metadata": {},
   "outputs": [
    {
     "data": {
      "text/html": [
       "<div>\n",
       "<style scoped>\n",
       "    .dataframe tbody tr th:only-of-type {\n",
       "        vertical-align: middle;\n",
       "    }\n",
       "\n",
       "    .dataframe tbody tr th {\n",
       "        vertical-align: top;\n",
       "    }\n",
       "\n",
       "    .dataframe thead th {\n",
       "        text-align: right;\n",
       "    }\n",
       "</style>\n",
       "<table border=\"1\" class=\"dataframe\">\n",
       "  <thead>\n",
       "    <tr style=\"text-align: right;\">\n",
       "      <th></th>\n",
       "      <th>0</th>\n",
       "      <th>1</th>\n",
       "      <th>2</th>\n",
       "      <th>3</th>\n",
       "      <th>4</th>\n",
       "      <th>5</th>\n",
       "      <th>6</th>\n",
       "      <th>7</th>\n",
       "      <th>8</th>\n",
       "      <th>9</th>\n",
       "      <th>mean</th>\n",
       "      <th>var</th>\n",
       "      <th>std</th>\n",
       "    </tr>\n",
       "  </thead>\n",
       "  <tbody>\n",
       "    <tr>\n",
       "      <th>threaded_torch</th>\n",
       "      <td>932.21</td>\n",
       "      <td>939.99</td>\n",
       "      <td>991.18</td>\n",
       "      <td>942.26</td>\n",
       "      <td>943.23</td>\n",
       "      <td>940.62</td>\n",
       "      <td>943.10</td>\n",
       "      <td>944.70</td>\n",
       "      <td>947.23</td>\n",
       "      <td>929.20</td>\n",
       "      <td>945.37</td>\n",
       "      <td>289.78</td>\n",
       "      <td>17.02</td>\n",
       "    </tr>\n",
       "    <tr>\n",
       "      <th>threaded_lightning</th>\n",
       "      <td>619.23</td>\n",
       "      <td>620.95</td>\n",
       "      <td>621.30</td>\n",
       "      <td>635.32</td>\n",
       "      <td>625.12</td>\n",
       "      <td>623.87</td>\n",
       "      <td>621.74</td>\n",
       "      <td>612.29</td>\n",
       "      <td>628.32</td>\n",
       "      <td>615.05</td>\n",
       "      <td>622.32</td>\n",
       "      <td>42.39</td>\n",
       "      <td>6.51</td>\n",
       "    </tr>\n",
       "    <tr>\n",
       "      <th>asyncio_torch</th>\n",
       "      <td>819.79</td>\n",
       "      <td>831.76</td>\n",
       "      <td>841.54</td>\n",
       "      <td>878.23</td>\n",
       "      <td>842.52</td>\n",
       "      <td>874.38</td>\n",
       "      <td>843.83</td>\n",
       "      <td>830.80</td>\n",
       "      <td>834.41</td>\n",
       "      <td>823.11</td>\n",
       "      <td>842.04</td>\n",
       "      <td>389.21</td>\n",
       "      <td>19.73</td>\n",
       "    </tr>\n",
       "    <tr>\n",
       "      <th>asyncio_lightning</th>\n",
       "      <td>530.87</td>\n",
       "      <td>548.77</td>\n",
       "      <td>559.22</td>\n",
       "      <td>566.38</td>\n",
       "      <td>562.34</td>\n",
       "      <td>557.80</td>\n",
       "      <td>553.17</td>\n",
       "      <td>550.53</td>\n",
       "      <td>551.61</td>\n",
       "      <td>557.93</td>\n",
       "      <td>553.86</td>\n",
       "      <td>95.62</td>\n",
       "      <td>9.78</td>\n",
       "    </tr>\n",
       "    <tr>\n",
       "      <th>vanilla_torch</th>\n",
       "      <td>333.23</td>\n",
       "      <td>492.48</td>\n",
       "      <td>496.88</td>\n",
       "      <td>304.53</td>\n",
       "      <td>492.59</td>\n",
       "      <td>496.40</td>\n",
       "      <td>344.01</td>\n",
       "      <td>492.74</td>\n",
       "      <td>462.65</td>\n",
       "      <td>393.14</td>\n",
       "      <td>430.86</td>\n",
       "      <td>6173.12</td>\n",
       "      <td>78.57</td>\n",
       "    </tr>\n",
       "    <tr>\n",
       "      <th>vanilla_lightning</th>\n",
       "      <td>122.79</td>\n",
       "      <td>129.30</td>\n",
       "      <td>132.97</td>\n",
       "      <td>121.10</td>\n",
       "      <td>96.96</td>\n",
       "      <td>133.51</td>\n",
       "      <td>96.78</td>\n",
       "      <td>93.22</td>\n",
       "      <td>102.35</td>\n",
       "      <td>99.48</td>\n",
       "      <td>112.85</td>\n",
       "      <td>272.69</td>\n",
       "      <td>16.51</td>\n",
       "    </tr>\n",
       "  </tbody>\n",
       "</table>\n",
       "</div>"
      ],
      "text/plain": [
       "                         0       1       2       3       4       5       6  \\\n",
       "threaded_torch      932.21  939.99  991.18  942.26  943.23  940.62  943.10   \n",
       "threaded_lightning  619.23  620.95  621.30  635.32  625.12  623.87  621.74   \n",
       "asyncio_torch       819.79  831.76  841.54  878.23  842.52  874.38  843.83   \n",
       "asyncio_lightning   530.87  548.77  559.22  566.38  562.34  557.80  553.17   \n",
       "vanilla_torch       333.23  492.48  496.88  304.53  492.59  496.40  344.01   \n",
       "vanilla_lightning   122.79  129.30  132.97  121.10   96.96  133.51   96.78   \n",
       "\n",
       "                         7       8       9    mean      var    std  \n",
       "threaded_torch      944.70  947.23  929.20  945.37   289.78  17.02  \n",
       "threaded_lightning  612.29  628.32  615.05  622.32    42.39   6.51  \n",
       "asyncio_torch       830.80  834.41  823.11  842.04   389.21  19.73  \n",
       "asyncio_lightning   550.53  551.61  557.93  553.86    95.62   9.78  \n",
       "vanilla_torch       492.74  462.65  393.14  430.86  6173.12  78.57  \n",
       "vanilla_lightning    93.22  102.35   99.48  112.85   272.69  16.51  "
      ]
     },
     "execution_count": 16,
     "metadata": {},
     "output_type": "execute_result"
    }
   ],
   "source": [
    "# Throughput in Mbit/s\n",
    "throughput_all_gluster = plot_all_histograms(results_gluster, impls, libs, False, value=\"Mbit/s\") # display = False (doesn't plot histogrms)\n",
    "df_t_gluster = add_stats(throughput_all_gluster)\n",
    "df_t_gluster"
   ]
  },
  {
   "cell_type": "code",
   "execution_count": null,
   "id": "61bf9954",
   "metadata": {},
   "outputs": [],
   "source": []
  }
 ],
 "metadata": {
  "kernelspec": {
   "display_name": "Python (myenv)",
   "language": "python",
   "name": "storage-benchmarking"
  },
  "language_info": {
   "codemirror_mode": {
    "name": "ipython",
    "version": 3
   },
   "file_extension": ".py",
   "mimetype": "text/x-python",
   "name": "python",
   "nbconvert_exporter": "python",
   "pygments_lexer": "ipython3",
   "version": "3.8.11"
  }
 },
 "nbformat": 4,
 "nbformat_minor": 5
}
