{
 "cells": [
  {
   "cell_type": "markdown",
   "id": "6b63b8b0",
   "metadata": {},
   "source": [
    "#### All modifications - repeat 10 times\n",
    "\n",
    "This experiment involves the default setup for all the parameters on GlusterFS (IARAI server local non-scratch local storage), however with the reduced dataset size to 35000, as explained in the write up. The expeirment is repeated 10 times, and here, we are interested in measurement consistency, i.e. throughput dispersion between different experiments. "
   ]
  },
  {
   "cell_type": "code",
   "execution_count": 1,
   "id": "1c4388f7",
   "metadata": {},
   "outputs": [],
   "source": [
    "from benchmarking.analysis.analyze_results import *"
   ]
  },
  {
   "cell_type": "code",
   "execution_count": 2,
   "id": "90ed8927",
   "metadata": {},
   "outputs": [],
   "source": [
    "# dataset size\n",
    "samples = 35000"
   ]
  },
  {
   "cell_type": "markdown",
   "id": "cf26273a",
   "metadata": {},
   "source": [
    "Data loading function:"
   ]
  },
  {
   "cell_type": "code",
   "execution_count": 3,
   "id": "073ca5f4",
   "metadata": {},
   "outputs": [],
   "source": [
    "def load_all_experiments(output_base_folder, base_folder):\n",
    "    results_gluster = []\n",
    "    for folder_index in range(1, 11):\n",
    "        print(f\"Working with {folder_index}\")\n",
    "        gluster_folder_filter= base_folder + str(folder_index) + \"/*benchmark_e2e*\"\n",
    "\n",
    "        # read data\n",
    "        df_dataloader_gluster = extract_timelines(output_base_folder, folder_filter=gluster_folder_filter)\n",
    "\n",
    "        # Get unique functions \n",
    "        unique_functions_gluster = np.unique(df_dataloader_gluster[\"item_x\"])\n",
    "        print(f\"Unique functions: {unique_functions_gluster}\")\n",
    "\n",
    "        unique_runs_gluster = np.unique(df_dataloader_gluster[\"run\"])\n",
    "\n",
    "        # extract GPU UTIL\n",
    "        df_gpuutil_gluster = extract_gpuutil(output_base_folder, folder_filter=gluster_folder_filter)\n",
    "        unique_runs_gluster = np.unique(df_dataloader_gluster[\"run\"])\n",
    "\n",
    "        # Get data for gluster\n",
    "        returns_gluster = []\n",
    "        for run in sorted(unique_runs_gluster):\n",
    "            df = df_dataloader_gluster[df_dataloader_gluster[\"run\"]==run]\n",
    "            dfgpu = df_gpuutil_gluster[df_gpuutil_gluster[\"run\"]==run]\n",
    "            returns_gluster.append(get_gpu_stats(df, dfgpu, run, False, True, False, 2))\n",
    "        result = pd.DataFrame.from_records(data=returns_gluster)\n",
    "        result[\"throughput\"] = samples / result[\"runtime\"]\n",
    "        results_gluster.append(result)\n",
    "    return results_gluster"
   ]
  },
  {
   "cell_type": "code",
   "execution_count": 4,
   "id": "9d6d16d0",
   "metadata": {},
   "outputs": [],
   "source": [
    "impls = [\"threaded\", \"asyncio\", \"vanilla\"]\n",
    "libs = [\"torch\", \"lightning\"]"
   ]
  },
  {
   "cell_type": "code",
   "execution_count": 5,
   "id": "a3a1f47a",
   "metadata": {},
   "outputs": [],
   "source": [
    "def add_stats(throughputs):\n",
    "    df = throughputs.T\n",
    "\n",
    "    mean = df.mean(axis=1)\n",
    "    var = df.var(axis=1)\n",
    "    std = df.std(axis=1)\n",
    "\n",
    "    df[\"mean\"] = mean.round(2)\n",
    "    df[\"var\"] = var.round(2)\n",
    "    df[\"std\"] = std.round(2)\n",
    "    return df"
   ]
  },
  {
   "cell_type": "markdown",
   "id": "bd47bef6",
   "metadata": {},
   "source": [
    "### slim-2 GlusterFS"
   ]
  },
  {
   "cell_type": "code",
   "execution_count": 6,
   "id": "88135d3e",
   "metadata": {
    "scrolled": false
   },
   "outputs": [
    {
     "name": "stdout",
     "output_type": "stream",
     "text": [
      "Working with 1\n"
     ]
    },
    {
     "name": "stderr",
     "output_type": "stream",
     "text": [
      "100%|███████████████████████████████████████████████████████████████████████████████████████████████████████████████████████████████████████████████████████████████████████████████████████████| 2102/2102 [02:19<00:00, 15.10it/s]\n"
     ]
    },
    {
     "name": "stdout",
     "output_type": "stream",
     "text": [
      "Unique functions: ['batch' 'next_data' 'run_training_batch' 'training_batch_to_device']\n"
     ]
    },
    {
     "name": "stderr",
     "output_type": "stream",
     "text": [
      "100%|███████████████████████████████████████████████████████████████████████████████████████████████████████████████████████████████████████████████████████████████████████████████████████████| 2102/2102 [01:41<00:00, 20.73it/s]\n"
     ]
    },
    {
     "name": "stdout",
     "output_type": "stream",
     "text": [
      "Working with 2\n"
     ]
    },
    {
     "name": "stderr",
     "output_type": "stream",
     "text": [
      "100%|███████████████████████████████████████████████████████████████████████████████████████████████████████████████████████████████████████████████████████████████████████████████████████████| 2087/2087 [02:15<00:00, 15.40it/s]\n"
     ]
    },
    {
     "name": "stdout",
     "output_type": "stream",
     "text": [
      "Unique functions: ['batch' 'next_data' 'run_training_batch' 'training_batch_to_device']\n"
     ]
    },
    {
     "name": "stderr",
     "output_type": "stream",
     "text": [
      "100%|███████████████████████████████████████████████████████████████████████████████████████████████████████████████████████████████████████████████████████████████████████████████████████████| 2087/2087 [01:34<00:00, 22.04it/s]\n"
     ]
    },
    {
     "name": "stdout",
     "output_type": "stream",
     "text": [
      "Working with 3\n"
     ]
    },
    {
     "name": "stderr",
     "output_type": "stream",
     "text": [
      "100%|███████████████████████████████████████████████████████████████████████████████████████████████████████████████████████████████████████████████████████████████████████████████████████████| 2095/2095 [02:13<00:00, 15.67it/s]\n"
     ]
    },
    {
     "name": "stdout",
     "output_type": "stream",
     "text": [
      "Unique functions: ['batch' 'next_data' 'run_training_batch' 'training_batch_to_device']\n"
     ]
    },
    {
     "name": "stderr",
     "output_type": "stream",
     "text": [
      "100%|███████████████████████████████████████████████████████████████████████████████████████████████████████████████████████████████████████████████████████████████████████████████████████████| 2095/2095 [01:31<00:00, 22.97it/s]\n"
     ]
    },
    {
     "name": "stdout",
     "output_type": "stream",
     "text": [
      "Working with 4\n"
     ]
    },
    {
     "name": "stderr",
     "output_type": "stream",
     "text": [
      "100%|███████████████████████████████████████████████████████████████████████████████████████████████████████████████████████████████████████████████████████████████████████████████████████████| 2089/2089 [02:13<00:00, 15.61it/s]\n"
     ]
    },
    {
     "name": "stdout",
     "output_type": "stream",
     "text": [
      "Unique functions: ['batch' 'next_data' 'run_training_batch' 'training_batch_to_device']\n"
     ]
    },
    {
     "name": "stderr",
     "output_type": "stream",
     "text": [
      "100%|███████████████████████████████████████████████████████████████████████████████████████████████████████████████████████████████████████████████████████████████████████████████████████████| 2089/2089 [01:34<00:00, 22.14it/s]\n"
     ]
    },
    {
     "name": "stdout",
     "output_type": "stream",
     "text": [
      "Working with 5\n"
     ]
    },
    {
     "name": "stderr",
     "output_type": "stream",
     "text": [
      "100%|███████████████████████████████████████████████████████████████████████████████████████████████████████████████████████████████████████████████████████████████████████████████████████████| 2096/2096 [02:31<00:00, 13.86it/s]\n"
     ]
    },
    {
     "name": "stdout",
     "output_type": "stream",
     "text": [
      "Unique functions: ['batch' 'next_data' 'run_training_batch' 'training_batch_to_device']\n"
     ]
    },
    {
     "name": "stderr",
     "output_type": "stream",
     "text": [
      "100%|███████████████████████████████████████████████████████████████████████████████████████████████████████████████████████████████████████████████████████████████████████████████████████████| 2096/2096 [02:36<00:00, 13.42it/s]\n"
     ]
    },
    {
     "name": "stdout",
     "output_type": "stream",
     "text": [
      "Working with 6\n"
     ]
    },
    {
     "name": "stderr",
     "output_type": "stream",
     "text": [
      "100%|███████████████████████████████████████████████████████████████████████████████████████████████████████████████████████████████████████████████████████████████████████████████████████████| 2100/2100 [02:58<00:00, 11.77it/s]\n"
     ]
    },
    {
     "name": "stdout",
     "output_type": "stream",
     "text": [
      "Unique functions: ['batch' 'next_data' 'run_training_batch' 'training_batch_to_device']\n"
     ]
    },
    {
     "name": "stderr",
     "output_type": "stream",
     "text": [
      "100%|███████████████████████████████████████████████████████████████████████████████████████████████████████████████████████████████████████████████████████████████████████████████████████████| 2100/2100 [02:01<00:00, 17.30it/s]\n"
     ]
    },
    {
     "name": "stdout",
     "output_type": "stream",
     "text": [
      "Working with 7\n"
     ]
    },
    {
     "name": "stderr",
     "output_type": "stream",
     "text": [
      "100%|███████████████████████████████████████████████████████████████████████████████████████████████████████████████████████████████████████████████████████████████████████████████████████████| 2101/2101 [02:48<00:00, 12.45it/s]\n"
     ]
    },
    {
     "name": "stdout",
     "output_type": "stream",
     "text": [
      "Unique functions: ['batch' 'next_data' 'run_training_batch' 'training_batch_to_device']\n"
     ]
    },
    {
     "name": "stderr",
     "output_type": "stream",
     "text": [
      "100%|███████████████████████████████████████████████████████████████████████████████████████████████████████████████████████████████████████████████████████████████████████████████████████████| 2101/2101 [02:21<00:00, 14.89it/s]\n"
     ]
    },
    {
     "name": "stdout",
     "output_type": "stream",
     "text": [
      "Working with 8\n"
     ]
    },
    {
     "name": "stderr",
     "output_type": "stream",
     "text": [
      "100%|███████████████████████████████████████████████████████████████████████████████████████████████████████████████████████████████████████████████████████████████████████████████████████████| 2094/2094 [02:18<00:00, 15.12it/s]\n"
     ]
    },
    {
     "name": "stdout",
     "output_type": "stream",
     "text": [
      "Unique functions: ['batch' 'next_data' 'run_training_batch' 'training_batch_to_device']\n"
     ]
    },
    {
     "name": "stderr",
     "output_type": "stream",
     "text": [
      "100%|███████████████████████████████████████████████████████████████████████████████████████████████████████████████████████████████████████████████████████████████████████████████████████████| 2094/2094 [01:41<00:00, 20.62it/s]\n"
     ]
    },
    {
     "name": "stdout",
     "output_type": "stream",
     "text": [
      "Working with 9\n"
     ]
    },
    {
     "name": "stderr",
     "output_type": "stream",
     "text": [
      "100%|███████████████████████████████████████████████████████████████████████████████████████████████████████████████████████████████████████████████████████████████████████████████████████████| 2102/2102 [02:17<00:00, 15.27it/s]\n"
     ]
    },
    {
     "name": "stdout",
     "output_type": "stream",
     "text": [
      "Unique functions: ['batch' 'next_data' 'run_training_batch' 'training_batch_to_device']\n"
     ]
    },
    {
     "name": "stderr",
     "output_type": "stream",
     "text": [
      "100%|███████████████████████████████████████████████████████████████████████████████████████████████████████████████████████████████████████████████████████████████████████████████████████████| 2102/2102 [01:46<00:00, 19.67it/s]\n"
     ]
    },
    {
     "name": "stdout",
     "output_type": "stream",
     "text": [
      "Working with 10\n"
     ]
    },
    {
     "name": "stderr",
     "output_type": "stream",
     "text": [
      "100%|███████████████████████████████████████████████████████████████████████████████████████████████████████████████████████████████████████████████████████████████████████████████████████████| 2100/2100 [03:00<00:00, 11.64it/s]\n"
     ]
    },
    {
     "name": "stdout",
     "output_type": "stream",
     "text": [
      "Unique functions: ['batch' 'next_data' 'run_training_batch' 'training_batch_to_device']\n"
     ]
    },
    {
     "name": "stderr",
     "output_type": "stream",
     "text": [
      "100%|███████████████████████████████████████████████████████████████████████████████████████████████████████████████████████████████████████████████████████████████████████████████████████████| 2100/2100 [02:47<00:00, 12.52it/s]\n"
     ]
    }
   ],
   "source": [
    "# setup folders\n",
    "# output_base_folder = Path(\"/iarai/home/ivan.svogor/git/storage-benchmarking/benchmark_output/glusterfs_long\")\n",
    "output_base_folder = Path(\"/iarai/home/ivan.svogor/git/storage-benchmarking/benchmark_output/1701glusterfs_long-temp\")\n",
    "base_folder = \"glusterfs_long_\"\n",
    "\n",
    "# Load data\n",
    "results_gluster = load_all_experiments(output_base_folder, base_folder)"
   ]
  },
  {
   "cell_type": "code",
   "execution_count": 12,
   "id": "9be74623",
   "metadata": {},
   "outputs": [
    {
     "name": "stdout",
     "output_type": "stream",
     "text": [
      "Experiments loaded ... Gluster: 10\n"
     ]
    }
   ],
   "source": [
    "# Check the sizes\n",
    "print(f\"Experiments loaded ... Gluster: {len(results_gluster)}\")"
   ]
  },
  {
   "cell_type": "code",
   "execution_count": 7,
   "id": "d365dadb",
   "metadata": {},
   "outputs": [],
   "source": [
    "throughput_all_gluster = plot_all_histograms(results_gluster, impls, libs, False) # display = False (doesn't plot histogrms)"
   ]
  },
  {
   "cell_type": "code",
   "execution_count": 8,
   "id": "9c98e920",
   "metadata": {},
   "outputs": [
    {
     "data": {
      "text/html": [
       "<div>\n",
       "<style scoped>\n",
       "    .dataframe tbody tr th:only-of-type {\n",
       "        vertical-align: middle;\n",
       "    }\n",
       "\n",
       "    .dataframe tbody tr th {\n",
       "        vertical-align: top;\n",
       "    }\n",
       "\n",
       "    .dataframe thead th {\n",
       "        text-align: right;\n",
       "    }\n",
       "</style>\n",
       "<table border=\"1\" class=\"dataframe\">\n",
       "  <thead>\n",
       "    <tr style=\"text-align: right;\">\n",
       "      <th></th>\n",
       "      <th>0</th>\n",
       "      <th>1</th>\n",
       "      <th>2</th>\n",
       "      <th>3</th>\n",
       "      <th>4</th>\n",
       "      <th>5</th>\n",
       "      <th>6</th>\n",
       "      <th>7</th>\n",
       "      <th>8</th>\n",
       "      <th>9</th>\n",
       "      <th>mean</th>\n",
       "      <th>var</th>\n",
       "      <th>std</th>\n",
       "    </tr>\n",
       "  </thead>\n",
       "  <tbody>\n",
       "    <tr>\n",
       "      <th>threaded_torch</th>\n",
       "      <td>9.00</td>\n",
       "      <td>9.08</td>\n",
       "      <td>9.57</td>\n",
       "      <td>9.10</td>\n",
       "      <td>9.11</td>\n",
       "      <td>9.09</td>\n",
       "      <td>9.11</td>\n",
       "      <td>9.13</td>\n",
       "      <td>9.15</td>\n",
       "      <td>8.98</td>\n",
       "      <td>9.13</td>\n",
       "      <td>0.03</td>\n",
       "      <td>0.16</td>\n",
       "    </tr>\n",
       "    <tr>\n",
       "      <th>threaded_lightning</th>\n",
       "      <td>5.98</td>\n",
       "      <td>6.00</td>\n",
       "      <td>6.00</td>\n",
       "      <td>6.14</td>\n",
       "      <td>6.04</td>\n",
       "      <td>6.03</td>\n",
       "      <td>6.01</td>\n",
       "      <td>5.91</td>\n",
       "      <td>6.07</td>\n",
       "      <td>5.94</td>\n",
       "      <td>6.01</td>\n",
       "      <td>0.00</td>\n",
       "      <td>0.06</td>\n",
       "    </tr>\n",
       "    <tr>\n",
       "      <th>asyncio_torch</th>\n",
       "      <td>8.86</td>\n",
       "      <td>8.99</td>\n",
       "      <td>9.10</td>\n",
       "      <td>9.50</td>\n",
       "      <td>9.11</td>\n",
       "      <td>9.45</td>\n",
       "      <td>9.12</td>\n",
       "      <td>8.98</td>\n",
       "      <td>9.02</td>\n",
       "      <td>8.90</td>\n",
       "      <td>9.10</td>\n",
       "      <td>0.05</td>\n",
       "      <td>0.21</td>\n",
       "    </tr>\n",
       "    <tr>\n",
       "      <th>asyncio_lightning</th>\n",
       "      <td>5.74</td>\n",
       "      <td>5.93</td>\n",
       "      <td>6.05</td>\n",
       "      <td>6.12</td>\n",
       "      <td>6.08</td>\n",
       "      <td>6.03</td>\n",
       "      <td>5.98</td>\n",
       "      <td>5.95</td>\n",
       "      <td>5.96</td>\n",
       "      <td>6.03</td>\n",
       "      <td>5.99</td>\n",
       "      <td>0.01</td>\n",
       "      <td>0.11</td>\n",
       "    </tr>\n",
       "    <tr>\n",
       "      <th>vanilla_torch</th>\n",
       "      <td>3.60</td>\n",
       "      <td>5.33</td>\n",
       "      <td>5.37</td>\n",
       "      <td>3.29</td>\n",
       "      <td>5.33</td>\n",
       "      <td>5.37</td>\n",
       "      <td>3.72</td>\n",
       "      <td>5.33</td>\n",
       "      <td>5.00</td>\n",
       "      <td>4.25</td>\n",
       "      <td>4.66</td>\n",
       "      <td>0.72</td>\n",
       "      <td>0.85</td>\n",
       "    </tr>\n",
       "    <tr>\n",
       "      <th>vanilla_lightning</th>\n",
       "      <td>1.33</td>\n",
       "      <td>1.40</td>\n",
       "      <td>1.44</td>\n",
       "      <td>1.31</td>\n",
       "      <td>1.05</td>\n",
       "      <td>1.44</td>\n",
       "      <td>1.05</td>\n",
       "      <td>1.01</td>\n",
       "      <td>1.11</td>\n",
       "      <td>1.08</td>\n",
       "      <td>1.22</td>\n",
       "      <td>0.03</td>\n",
       "      <td>0.18</td>\n",
       "    </tr>\n",
       "  </tbody>\n",
       "</table>\n",
       "</div>"
      ],
      "text/plain": [
       "                       0     1     2     3     4     5     6     7     8  \\\n",
       "threaded_torch      9.00  9.08  9.57  9.10  9.11  9.09  9.11  9.13  9.15   \n",
       "threaded_lightning  5.98  6.00  6.00  6.14  6.04  6.03  6.01  5.91  6.07   \n",
       "asyncio_torch       8.86  8.99  9.10  9.50  9.11  9.45  9.12  8.98  9.02   \n",
       "asyncio_lightning   5.74  5.93  6.05  6.12  6.08  6.03  5.98  5.95  5.96   \n",
       "vanilla_torch       3.60  5.33  5.37  3.29  5.33  5.37  3.72  5.33  5.00   \n",
       "vanilla_lightning   1.33  1.40  1.44  1.31  1.05  1.44  1.05  1.01  1.11   \n",
       "\n",
       "                       9  mean   var   std  \n",
       "threaded_torch      8.98  9.13  0.03  0.16  \n",
       "threaded_lightning  5.94  6.01  0.00  0.06  \n",
       "asyncio_torch       8.90  9.10  0.05  0.21  \n",
       "asyncio_lightning   6.03  5.99  0.01  0.11  \n",
       "vanilla_torch       4.25  4.66  0.72  0.85  \n",
       "vanilla_lightning   1.08  1.22  0.03  0.18  "
      ]
     },
     "execution_count": 8,
     "metadata": {},
     "output_type": "execute_result"
    }
   ],
   "source": [
    "df_t_gluster = add_stats(throughput_all_gluster)\n",
    "df_t_gluster"
   ]
  },
  {
   "cell_type": "code",
   "execution_count": 9,
   "id": "5a910782",
   "metadata": {},
   "outputs": [
    {
     "data": {
      "image/png": "[encoded data removed]",
      "text/plain": [
       "<Figure size 720x720 with 1 Axes>"
      ]
     },
     "metadata": {
      "needs_background": "light"
     },
     "output_type": "display_data"
    }
   ],
   "source": [
    "plot_violins(df_t_gluster, \"Gluster storage\") # "
   ]
  }
 ],
 "metadata": {
  "kernelspec": {
   "display_name": "Python (myenv)",
   "language": "python",
   "name": "storage-benchmarking"
  },
  "language_info": {
   "codemirror_mode": {
    "name": "ipython",
    "version": 3
   },
   "file_extension": ".py",
   "mimetype": "text/x-python",
   "name": "python",
   "nbconvert_exporter": "python",
   "pygments_lexer": "ipython3",
   "version": "3.8.11"
  }
 },
 "nbformat": 4,
 "nbformat_minor": 5
}
