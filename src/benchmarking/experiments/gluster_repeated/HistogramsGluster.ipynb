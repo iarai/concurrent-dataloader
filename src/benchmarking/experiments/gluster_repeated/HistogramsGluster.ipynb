{
 "cells": [
  {
   "cell_type": "markdown",
   "id": "6b63b8b0",
   "metadata": {},
   "source": [
    "#### All modifications - repeat 10 times\n",
    "\n",
    "This experiment involves the default setup for all the parameters on GlusterFS (IARAI server local non-scratch local storage), however with the reduced dataset size to 35000, as explained in the write up. The expeirment is repeated 10 times, and here, we are interested in measurement consistency, i.e. throughput dispersion between different experiments. "
   ]
  },
  {
   "cell_type": "code",
   "execution_count": 1,
   "id": "1c4388f7",
   "metadata": {},
   "outputs": [],
   "source": [
    "from benchmarking.analysis.analyze_results import *"
   ]
  },
  {
   "cell_type": "code",
   "execution_count": 2,
   "id": "90ed8927",
   "metadata": {},
   "outputs": [],
   "source": [
    "# dataset size\n",
    "samples = 35000\n",
    "epochs = 100"
   ]
  },
  {
   "cell_type": "markdown",
   "id": "cf26273a",
   "metadata": {},
   "source": [
    "Data loading function:"
   ]
  },
  {
   "cell_type": "code",
   "execution_count": 3,
   "id": "073ca5f4",
   "metadata": {},
   "outputs": [],
   "source": [
    "def load_all_experiments(output_base_folder, base_folder):\n",
    "    results_gluster = []\n",
    "    for folder_index in range(1, 11):\n",
    "        print(f\"Working with {folder_index}\")\n",
    "        gluster_folder_filter= base_folder + str(folder_index) + \"/*benchmark_e2e*\"\n",
    "\n",
    "        # read data\n",
    "        df_dataloader_gluster = extract_timelines(output_base_folder, folder_filter=gluster_folder_filter)\n",
    "\n",
    "        # Get unique functions \n",
    "        unique_functions_gluster = np.unique(df_dataloader_gluster[\"item_x\"])\n",
    "        print(f\"Unique functions: {unique_functions_gluster}\")\n",
    "\n",
    "        unique_runs_gluster = np.unique(df_dataloader_gluster[\"run\"])\n",
    "\n",
    "        # extract GPU UTIL\n",
    "        df_gpuutil_gluster = extract_gpuutil(output_base_folder, folder_filter=gluster_folder_filter)\n",
    "        unique_runs_gluster = np.unique(df_dataloader_gluster[\"run\"])\n",
    "\n",
    "        # Get data for gluster\n",
    "        returns_gluster = []\n",
    "        for run in sorted(unique_runs_gluster):\n",
    "            df = df_dataloader_gluster[df_dataloader_gluster[\"run\"]==run]\n",
    "            dfgpu = df_gpuutil_gluster[df_gpuutil_gluster[\"run\"]==run]\n",
    "            returns_gluster.append(get_gpu_stats(df, dfgpu, run, False, True, False, 2))\n",
    "        result = pd.DataFrame.from_records(data=returns_gluster)\n",
    "        result[\"throughput\"] = samples / (result[\"runtime\"] / epochs)\n",
    "        results_gluster.append(result)\n",
    "    return results_gluster"
   ]
  },
  {
   "cell_type": "code",
   "execution_count": 4,
   "id": "9d6d16d0",
   "metadata": {},
   "outputs": [],
   "source": [
    "impls = [\"threaded\", \"asyncio\", \"vanilla\"]\n",
    "libs = [\"torch\", \"lightning\"]"
   ]
  },
  {
   "cell_type": "code",
   "execution_count": 5,
   "id": "a3a1f47a",
   "metadata": {},
   "outputs": [],
   "source": [
    "def add_stats(throughputs):\n",
    "    df = throughputs.T\n",
    "\n",
    "    mean = df.mean(axis=1)\n",
    "    var = df.var(axis=1)\n",
    "    std = df.std(axis=1)\n",
    "\n",
    "    df[\"mean\"] = mean.round(2)\n",
    "    df[\"var\"] = var.round(2)\n",
    "    df[\"std\"] = std.round(2)\n",
    "    return df"
   ]
  },
  {
   "cell_type": "markdown",
   "id": "bd47bef6",
   "metadata": {},
   "source": [
    "### slim-2 GlusterFS"
   ]
  },
  {
   "cell_type": "code",
   "execution_count": 6,
   "id": "88135d3e",
   "metadata": {
    "scrolled": false
   },
   "outputs": [
    {
     "name": "stdout",
     "output_type": "stream",
     "text": [
      "Working with 1\n"
     ]
    },
    {
     "name": "stderr",
     "output_type": "stream",
     "text": [
      "100%|██████████████████████████████████████████████████████████████████████████████████████████████████████████████████████████████████████████████████████████████████████████████████████████| 2102/2102 [00:11<00:00, 181.94it/s]\n"
     ]
    },
    {
     "name": "stdout",
     "output_type": "stream",
     "text": [
      "Unique functions: ['batch' 'next_data' 'run_training_batch' 'training_batch_to_device']\n"
     ]
    },
    {
     "name": "stderr",
     "output_type": "stream",
     "text": [
      "100%|█████████████████████████████████████████████████████████████████████████████████████████████████████████████████████████████████████████████████████████████████████████████████████████| 2102/2102 [00:01<00:00, 1639.03it/s]\n"
     ]
    },
    {
     "name": "stdout",
     "output_type": "stream",
     "text": [
      "Working with 2\n"
     ]
    },
    {
     "name": "stderr",
     "output_type": "stream",
     "text": [
      "100%|██████████████████████████████████████████████████████████████████████████████████████████████████████████████████████████████████████████████████████████████████████████████████████████| 2087/2087 [00:11<00:00, 186.00it/s]\n"
     ]
    },
    {
     "name": "stdout",
     "output_type": "stream",
     "text": [
      "Unique functions: ['batch' 'next_data' 'run_training_batch' 'training_batch_to_device']\n"
     ]
    },
    {
     "name": "stderr",
     "output_type": "stream",
     "text": [
      "100%|█████████████████████████████████████████████████████████████████████████████████████████████████████████████████████████████████████████████████████████████████████████████████████████| 2087/2087 [00:01<00:00, 1601.97it/s]\n"
     ]
    },
    {
     "name": "stdout",
     "output_type": "stream",
     "text": [
      "Working with 3\n"
     ]
    },
    {
     "name": "stderr",
     "output_type": "stream",
     "text": [
      "100%|██████████████████████████████████████████████████████████████████████████████████████████████████████████████████████████████████████████████████████████████████████████████████████████| 2095/2095 [00:11<00:00, 181.65it/s]\n"
     ]
    },
    {
     "name": "stdout",
     "output_type": "stream",
     "text": [
      "Unique functions: ['batch' 'next_data' 'run_training_batch' 'training_batch_to_device']\n"
     ]
    },
    {
     "name": "stderr",
     "output_type": "stream",
     "text": [
      "100%|█████████████████████████████████████████████████████████████████████████████████████████████████████████████████████████████████████████████████████████████████████████████████████████| 2095/2095 [00:01<00:00, 1620.34it/s]\n"
     ]
    },
    {
     "name": "stdout",
     "output_type": "stream",
     "text": [
      "Working with 4\n"
     ]
    },
    {
     "name": "stderr",
     "output_type": "stream",
     "text": [
      "100%|██████████████████████████████████████████████████████████████████████████████████████████████████████████████████████████████████████████████████████████████████████████████████████████| 2089/2089 [00:11<00:00, 181.99it/s]\n"
     ]
    },
    {
     "name": "stdout",
     "output_type": "stream",
     "text": [
      "Unique functions: ['batch' 'next_data' 'run_training_batch' 'training_batch_to_device']\n"
     ]
    },
    {
     "name": "stderr",
     "output_type": "stream",
     "text": [
      "100%|█████████████████████████████████████████████████████████████████████████████████████████████████████████████████████████████████████████████████████████████████████████████████████████| 2089/2089 [00:01<00:00, 1500.05it/s]\n"
     ]
    },
    {
     "name": "stdout",
     "output_type": "stream",
     "text": [
      "Working with 5\n"
     ]
    },
    {
     "name": "stderr",
     "output_type": "stream",
     "text": [
      "100%|██████████████████████████████████████████████████████████████████████████████████████████████████████████████████████████████████████████████████████████████████████████████████████████| 2096/2096 [00:11<00:00, 183.74it/s]\n"
     ]
    },
    {
     "name": "stdout",
     "output_type": "stream",
     "text": [
      "Unique functions: ['batch' 'next_data' 'run_training_batch' 'training_batch_to_device']\n"
     ]
    },
    {
     "name": "stderr",
     "output_type": "stream",
     "text": [
      "100%|█████████████████████████████████████████████████████████████████████████████████████████████████████████████████████████████████████████████████████████████████████████████████████████| 2096/2096 [00:01<00:00, 1333.19it/s]\n"
     ]
    },
    {
     "name": "stdout",
     "output_type": "stream",
     "text": [
      "Working with 6\n"
     ]
    },
    {
     "name": "stderr",
     "output_type": "stream",
     "text": [
      "100%|██████████████████████████████████████████████████████████████████████████████████████████████████████████████████████████████████████████████████████████████████████████████████████████| 2100/2100 [00:11<00:00, 185.21it/s]\n"
     ]
    },
    {
     "name": "stdout",
     "output_type": "stream",
     "text": [
      "Unique functions: ['batch' 'next_data' 'run_training_batch' 'training_batch_to_device']\n"
     ]
    },
    {
     "name": "stderr",
     "output_type": "stream",
     "text": [
      "100%|█████████████████████████████████████████████████████████████████████████████████████████████████████████████████████████████████████████████████████████████████████████████████████████| 2100/2100 [00:01<00:00, 1690.79it/s]\n"
     ]
    },
    {
     "name": "stdout",
     "output_type": "stream",
     "text": [
      "Working with 7\n"
     ]
    },
    {
     "name": "stderr",
     "output_type": "stream",
     "text": [
      "100%|██████████████████████████████████████████████████████████████████████████████████████████████████████████████████████████████████████████████████████████████████████████████████████████| 2101/2101 [00:11<00:00, 185.05it/s]\n"
     ]
    },
    {
     "name": "stdout",
     "output_type": "stream",
     "text": [
      "Unique functions: ['batch' 'next_data' 'run_training_batch' 'training_batch_to_device']\n"
     ]
    },
    {
     "name": "stderr",
     "output_type": "stream",
     "text": [
      "100%|█████████████████████████████████████████████████████████████████████████████████████████████████████████████████████████████████████████████████████████████████████████████████████████| 2101/2101 [00:01<00:00, 1454.17it/s]\n"
     ]
    },
    {
     "name": "stdout",
     "output_type": "stream",
     "text": [
      "Working with 8\n"
     ]
    },
    {
     "name": "stderr",
     "output_type": "stream",
     "text": [
      "100%|██████████████████████████████████████████████████████████████████████████████████████████████████████████████████████████████████████████████████████████████████████████████████████████| 2094/2094 [00:11<00:00, 185.58it/s]\n"
     ]
    },
    {
     "name": "stdout",
     "output_type": "stream",
     "text": [
      "Unique functions: ['batch' 'next_data' 'run_training_batch' 'training_batch_to_device']\n"
     ]
    },
    {
     "name": "stderr",
     "output_type": "stream",
     "text": [
      "100%|█████████████████████████████████████████████████████████████████████████████████████████████████████████████████████████████████████████████████████████████████████████████████████████| 2094/2094 [00:01<00:00, 1395.61it/s]\n"
     ]
    },
    {
     "name": "stdout",
     "output_type": "stream",
     "text": [
      "Working with 9\n"
     ]
    },
    {
     "name": "stderr",
     "output_type": "stream",
     "text": [
      "100%|██████████████████████████████████████████████████████████████████████████████████████████████████████████████████████████████████████████████████████████████████████████████████████████| 2102/2102 [00:11<00:00, 185.47it/s]\n"
     ]
    },
    {
     "name": "stdout",
     "output_type": "stream",
     "text": [
      "Unique functions: ['batch' 'next_data' 'run_training_batch' 'training_batch_to_device']\n"
     ]
    },
    {
     "name": "stderr",
     "output_type": "stream",
     "text": [
      "100%|█████████████████████████████████████████████████████████████████████████████████████████████████████████████████████████████████████████████████████████████████████████████████████████| 2102/2102 [00:01<00:00, 1544.56it/s]\n"
     ]
    },
    {
     "name": "stdout",
     "output_type": "stream",
     "text": [
      "Working with 10\n"
     ]
    },
    {
     "name": "stderr",
     "output_type": "stream",
     "text": [
      "100%|██████████████████████████████████████████████████████████████████████████████████████████████████████████████████████████████████████████████████████████████████████████████████████████| 2100/2100 [00:11<00:00, 186.55it/s]\n"
     ]
    },
    {
     "name": "stdout",
     "output_type": "stream",
     "text": [
      "Unique functions: ['batch' 'next_data' 'run_training_batch' 'training_batch_to_device']\n"
     ]
    },
    {
     "name": "stderr",
     "output_type": "stream",
     "text": [
      "100%|█████████████████████████████████████████████████████████████████████████████████████████████████████████████████████████████████████████████████████████████████████████████████████████| 2100/2100 [00:01<00:00, 1440.64it/s]\n"
     ]
    }
   ],
   "source": [
    "# setup folders\n",
    "output_base_folder = Path(\"/iarai/home/ivan.svogor/storage-benchmarking-raw/referenced-experiments/1701glusterfs_long-temp\")\n",
    "base_folder = \"glusterfs_long_\"\n",
    "\n",
    "# Load data\n",
    "results_gluster = load_all_experiments(output_base_folder, base_folder)"
   ]
  },
  {
   "cell_type": "code",
   "execution_count": 7,
   "id": "9be74623",
   "metadata": {},
   "outputs": [
    {
     "name": "stdout",
     "output_type": "stream",
     "text": [
      "Experiments loaded ... Gluster: 10\n"
     ]
    }
   ],
   "source": [
    "# Check the sizes\n",
    "print(f\"Experiments loaded ... Gluster: {len(results_gluster)}\")"
   ]
  },
  {
   "cell_type": "code",
   "execution_count": 8,
   "id": "d365dadb",
   "metadata": {},
   "outputs": [],
   "source": [
    "throughput_all_gluster = plot_all_histograms(results_gluster, impls, libs, False) # display = False (doesn't plot histogrms)"
   ]
  },
  {
   "cell_type": "code",
   "execution_count": 9,
   "id": "9c98e920",
   "metadata": {},
   "outputs": [
    {
     "data": {
      "text/html": [
       "<div>\n",
       "<style scoped>\n",
       "    .dataframe tbody tr th:only-of-type {\n",
       "        vertical-align: middle;\n",
       "    }\n",
       "\n",
       "    .dataframe tbody tr th {\n",
       "        vertical-align: top;\n",
       "    }\n",
       "\n",
       "    .dataframe thead th {\n",
       "        text-align: right;\n",
       "    }\n",
       "</style>\n",
       "<table border=\"1\" class=\"dataframe\">\n",
       "  <thead>\n",
       "    <tr style=\"text-align: right;\">\n",
       "      <th></th>\n",
       "      <th>0</th>\n",
       "      <th>1</th>\n",
       "      <th>2</th>\n",
       "      <th>3</th>\n",
       "      <th>4</th>\n",
       "      <th>5</th>\n",
       "      <th>6</th>\n",
       "      <th>7</th>\n",
       "      <th>8</th>\n",
       "      <th>9</th>\n",
       "      <th>mean</th>\n",
       "      <th>var</th>\n",
       "      <th>std</th>\n",
       "    </tr>\n",
       "  </thead>\n",
       "  <tbody>\n",
       "    <tr>\n",
       "      <th>threaded_torch</th>\n",
       "      <td>900.48</td>\n",
       "      <td>908.00</td>\n",
       "      <td>957.45</td>\n",
       "      <td>910.19</td>\n",
       "      <td>911.13</td>\n",
       "      <td>908.61</td>\n",
       "      <td>911.00</td>\n",
       "      <td>912.55</td>\n",
       "      <td>915.00</td>\n",
       "      <td>897.58</td>\n",
       "      <td>913.20</td>\n",
       "      <td>270.42</td>\n",
       "      <td>16.44</td>\n",
       "    </tr>\n",
       "    <tr>\n",
       "      <th>threaded_lightning</th>\n",
       "      <td>598.15</td>\n",
       "      <td>599.82</td>\n",
       "      <td>600.15</td>\n",
       "      <td>613.70</td>\n",
       "      <td>603.85</td>\n",
       "      <td>602.64</td>\n",
       "      <td>600.58</td>\n",
       "      <td>591.45</td>\n",
       "      <td>606.94</td>\n",
       "      <td>594.11</td>\n",
       "      <td>601.14</td>\n",
       "      <td>39.59</td>\n",
       "      <td>6.29</td>\n",
       "    </tr>\n",
       "    <tr>\n",
       "      <th>asyncio_torch</th>\n",
       "      <td>886.44</td>\n",
       "      <td>899.39</td>\n",
       "      <td>909.95</td>\n",
       "      <td>949.63</td>\n",
       "      <td>911.01</td>\n",
       "      <td>945.47</td>\n",
       "      <td>912.44</td>\n",
       "      <td>898.34</td>\n",
       "      <td>902.25</td>\n",
       "      <td>890.03</td>\n",
       "      <td>910.50</td>\n",
       "      <td>455.07</td>\n",
       "      <td>21.33</td>\n",
       "    </tr>\n",
       "    <tr>\n",
       "      <th>asyncio_lightning</th>\n",
       "      <td>574.03</td>\n",
       "      <td>593.38</td>\n",
       "      <td>604.68</td>\n",
       "      <td>612.42</td>\n",
       "      <td>608.05</td>\n",
       "      <td>603.15</td>\n",
       "      <td>598.15</td>\n",
       "      <td>595.28</td>\n",
       "      <td>596.46</td>\n",
       "      <td>603.29</td>\n",
       "      <td>598.89</td>\n",
       "      <td>111.76</td>\n",
       "      <td>10.57</td>\n",
       "    </tr>\n",
       "    <tr>\n",
       "      <th>vanilla_torch</th>\n",
       "      <td>360.32</td>\n",
       "      <td>532.52</td>\n",
       "      <td>537.28</td>\n",
       "      <td>329.29</td>\n",
       "      <td>532.64</td>\n",
       "      <td>536.75</td>\n",
       "      <td>371.98</td>\n",
       "      <td>532.80</td>\n",
       "      <td>500.26</td>\n",
       "      <td>425.10</td>\n",
       "      <td>465.89</td>\n",
       "      <td>7217.61</td>\n",
       "      <td>84.96</td>\n",
       "    </tr>\n",
       "    <tr>\n",
       "      <th>vanilla_lightning</th>\n",
       "      <td>132.78</td>\n",
       "      <td>139.82</td>\n",
       "      <td>143.78</td>\n",
       "      <td>130.95</td>\n",
       "      <td>104.84</td>\n",
       "      <td>144.36</td>\n",
       "      <td>104.64</td>\n",
       "      <td>100.80</td>\n",
       "      <td>110.67</td>\n",
       "      <td>107.57</td>\n",
       "      <td>122.02</td>\n",
       "      <td>318.90</td>\n",
       "      <td>17.86</td>\n",
       "    </tr>\n",
       "  </tbody>\n",
       "</table>\n",
       "</div>"
      ],
      "text/plain": [
       "                         0       1       2       3       4       5       6  \\\n",
       "threaded_torch      900.48  908.00  957.45  910.19  911.13  908.61  911.00   \n",
       "threaded_lightning  598.15  599.82  600.15  613.70  603.85  602.64  600.58   \n",
       "asyncio_torch       886.44  899.39  909.95  949.63  911.01  945.47  912.44   \n",
       "asyncio_lightning   574.03  593.38  604.68  612.42  608.05  603.15  598.15   \n",
       "vanilla_torch       360.32  532.52  537.28  329.29  532.64  536.75  371.98   \n",
       "vanilla_lightning   132.78  139.82  143.78  130.95  104.84  144.36  104.64   \n",
       "\n",
       "                         7       8       9    mean      var    std  \n",
       "threaded_torch      912.55  915.00  897.58  913.20   270.42  16.44  \n",
       "threaded_lightning  591.45  606.94  594.11  601.14    39.59   6.29  \n",
       "asyncio_torch       898.34  902.25  890.03  910.50   455.07  21.33  \n",
       "asyncio_lightning   595.28  596.46  603.29  598.89   111.76  10.57  \n",
       "vanilla_torch       532.80  500.26  425.10  465.89  7217.61  84.96  \n",
       "vanilla_lightning   100.80  110.67  107.57  122.02   318.90  17.86  "
      ]
     },
     "execution_count": 9,
     "metadata": {},
     "output_type": "execute_result"
    }
   ],
   "source": [
    "df_t_gluster = add_stats(throughput_all_gluster)\n",
    "df_t_gluster"
   ]
  },
  {
   "cell_type": "code",
   "execution_count": 10,
   "id": "5a910782",
   "metadata": {},
   "outputs": [
    {
     "data": {
      "image/png": "[encoded data removed]",
      "text/plain": [
       "<Figure size 720x720 with 1 Axes>"
      ]
     },
     "metadata": {
      "needs_background": "light"
     },
     "output_type": "display_data"
    }
   ],
   "source": [
    "plot_violins(df_t_gluster, \"Gluster storage\") # "
   ]
  },
  {
   "cell_type": "code",
   "execution_count": 11,
   "id": "1cec4677",
   "metadata": {},
   "outputs": [],
   "source": [
    "runtime_all_gluster = plot_all_histograms(results_gluster, impls, libs, False, value=\"runtime\") # display = False (doesn't plot histogrms)"
   ]
  },
  {
   "cell_type": "code",
   "execution_count": 12,
   "id": "fb725b77",
   "metadata": {},
   "outputs": [
    {
     "data": {
      "image/png": "[encoded data removed]",
      "text/plain": [
       "<Figure size 720x720 with 1 Axes>"
      ]
     },
     "metadata": {
      "needs_background": "light"
     },
     "output_type": "display_data"
    }
   ],
   "source": [
    "plot_violins(add_stats(runtime_all_gluster), \"GlusterFS - runtime\", \"Runtime [S]\")"
   ]
  },
  {
   "cell_type": "code",
   "execution_count": null,
   "id": "9f4a47c1",
   "metadata": {},
   "outputs": [],
   "source": []
  }
 ],
 "metadata": {
  "kernelspec": {
   "display_name": "Python (myenv)",
   "language": "python",
   "name": "storage-benchmarking"
  },
  "language_info": {
   "codemirror_mode": {
    "name": "ipython",
    "version": 3
   },
   "file_extension": ".py",
   "mimetype": "text/x-python",
   "name": "python",
   "nbconvert_exporter": "python",
   "pygments_lexer": "ipython3",
   "version": "3.8.11"
  }
 },
 "nbformat": 4,
 "nbformat_minor": 5
}
