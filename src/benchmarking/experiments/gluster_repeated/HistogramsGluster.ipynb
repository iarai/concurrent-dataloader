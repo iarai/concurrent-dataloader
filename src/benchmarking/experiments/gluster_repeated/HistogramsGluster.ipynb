{
 "cells": [
  {
   "cell_type": "markdown",
   "id": "6b63b8b0",
   "metadata": {},
   "source": [
    "#### All modifications - repeat 10 times\n",
    "\n",
    "This experiment involves the default setup for all the parameters on GlusterFS (IARAI server local non-scratch local storage), however with the reduced dataset size to 35000, as explained in the write up. The expeirment is repeated 10 times, and here, we are interested in measurement consistency, i.e. throughput dispersion between different experiments. "
   ]
  },
  {
   "cell_type": "code",
   "execution_count": 1,
   "id": "1c4388f7",
   "metadata": {},
   "outputs": [],
   "source": [
    "from benchmarking.analysis.analyze_results import *"
   ]
  },
  {
   "cell_type": "code",
   "execution_count": null,
   "id": "90ed8927",
   "metadata": {},
   "outputs": [],
   "source": []
  },
  {
   "cell_type": "markdown",
   "id": "cf26273a",
   "metadata": {},
   "source": [
    "Data loading function:"
   ]
  },
  {
   "cell_type": "code",
   "execution_count": 2,
   "id": "073ca5f4",
   "metadata": {},
   "outputs": [],
   "source": [
    "# def load_all_experiments(output_base_folder, base_folder):\n",
    "#     results_gluster = []\n",
    "#     for folder_index in range(1, 11):\n",
    "#         print(f\"Working with {folder_index}\")\n",
    "#         gluster_folder_filter= base_folder + str(folder_index) + \"/*benchmark_e2e*\"\n",
    "\n",
    "#         # read data\n",
    "#         df_dataloader_gluster = extract_timelines(output_base_folder, folder_filter=gluster_folder_filter)\n",
    "\n",
    "#         # Get unique functions \n",
    "#         unique_functions_gluster = np.unique(df_dataloader_gluster[\"item_x\"])\n",
    "#         print(f\"Unique functions: {unique_functions_gluster}\")\n",
    "\n",
    "#         unique_runs_gluster = np.unique(df_dataloader_gluster[\"run\"])\n",
    "\n",
    "#         # extract GPU UTIL\n",
    "#         df_gpuutil_gluster = extract_gpuutil(output_base_folder, folder_filter=gluster_folder_filter)\n",
    "#         unique_runs_gluster = np.unique(df_dataloader_gluster[\"run\"])\n",
    "\n",
    "#         # Get data for gluster\n",
    "#         returns_gluster = []\n",
    "#         for run in sorted(unique_runs_gluster):\n",
    "#             df = df_dataloader_gluster[df_dataloader_gluster[\"run\"]==run]\n",
    "#             dfgpu = df_gpuutil_gluster[df_gpuutil_gluster[\"run\"]==run]\n",
    "#             returns_gluster.append(get_gpu_stats(df, dfgpu, run, False, True, False, 2))\n",
    "#         result = pd.DataFrame.from_records(data=returns_gluster)\n",
    "#         result[\"throughput\"] = samples / (result[\"runtime\"] / epochs)\n",
    "#         results_gluster.append(result)\n",
    "#     return results_gluster\n",
    "def load_all_experiments(output_base_folder, base_folder, experiments_num, data_folder, subfolder):\n",
    "    results_data = []\n",
    "    for folder_index in range(1, experiments_num):\n",
    "        print(f\"Working with {folder_index}\")\n",
    "        data_folder_filter= base_folder + str(folder_index) + data_folder\n",
    "\n",
    "        # read data\n",
    "        df_dataloader = extract_timelines(output_base_folder, folder_filter=data_folder_filter)\n",
    "\n",
    "        # Get unique functions \n",
    "        unique_functions = np.unique(df_dataloader[\"item_x\"])\n",
    "        print(f\"Unique functions: {unique_functions}\")\n",
    "        unique_runs = np.unique(df_dataloader[\"run\"])\n",
    "        \n",
    "        # extract GPU UTIL\n",
    "        df_gpuutil = extract_gpuutil(output_base_folder, folder_filter=data_folder_filter)\n",
    "\n",
    "        # Get data\n",
    "        returns_data = []\n",
    "        for run in sorted(unique_runs):\n",
    "            ds, _, epochs, samples, _, _ = get_metadata_info(output_base_folder / Path(base_folder+str(folder_index)+f\"/{subfolder}/\"+run))\n",
    "            df = df_dataloader[df_dataloader[\"run\"]==run]\n",
    "            dfgpu = df_gpuutil[df_gpuutil[\"run\"]==run]\n",
    "            df = df.drop_duplicates(subset=\"id\", keep=\"first\", inplace=False)\n",
    "            _, _, colors, lanes = get_colors_runs_and_lanes(df)\n",
    "            r = show_timelines_with_gpu(df, dfgpu, lanes, colors, run, False, False, False, 2, skip_plot=True)\n",
    "            r[\"run\"]=run\n",
    "            returns_data.append(r)        \n",
    "\n",
    "        df_full = extract_pandas(output_base_folder, folder_filter=data_folder_filter)\n",
    "        r = pd.DataFrame.from_records(data=returns_data)\n",
    "        r = get_throughput(r, base_folder+str(folder_index)+f\"/{subfolder}/\", df_full, unique_runs, output_base_folder)\n",
    "        results_data.append(r)\n",
    "        \n",
    "    return results_data"
   ]
  },
  {
   "cell_type": "code",
   "execution_count": 3,
   "id": "9d6d16d0",
   "metadata": {},
   "outputs": [],
   "source": [
    "impls = [\"threaded\", \"asyncio\", \"vanilla\"]\n",
    "libs = [\"torch\", \"lightning\"]"
   ]
  },
  {
   "cell_type": "code",
   "execution_count": 4,
   "id": "a3a1f47a",
   "metadata": {},
   "outputs": [],
   "source": [
    "def add_stats(throughputs):\n",
    "    df = throughputs.T\n",
    "\n",
    "    mean = df.mean(axis=1)\n",
    "    var = df.var(axis=1)\n",
    "    std = df.std(axis=1)\n",
    "\n",
    "    df[\"mean\"] = mean.round(2)\n",
    "    df[\"var\"] = var.round(2)\n",
    "    df[\"std\"] = std.round(2)\n",
    "    return df"
   ]
  },
  {
   "cell_type": "markdown",
   "id": "bd47bef6",
   "metadata": {},
   "source": [
    "### slim-2 GlusterFS"
   ]
  },
  {
   "cell_type": "code",
   "execution_count": 5,
   "id": "88135d3e",
   "metadata": {
    "scrolled": true
   },
   "outputs": [
    {
     "name": "stdout",
     "output_type": "stream",
     "text": [
      "Working with 1\n"
     ]
    },
    {
     "name": "stderr",
     "output_type": "stream",
     "text": [
      "100%|██████████████████████████████████████████████████████████████████████████████████████████████████████████████████████████████████████████████████████████████████████████████████████████| 2102/2102 [00:11<00:00, 176.39it/s]\n"
     ]
    },
    {
     "name": "stdout",
     "output_type": "stream",
     "text": [
      "Unique functions: ['batch' 'next_data' 'run_training_batch' 'training_batch_to_device']\n"
     ]
    },
    {
     "name": "stderr",
     "output_type": "stream",
     "text": [
      "100%|█████████████████████████████████████████████████████████████████████████████████████████████████████████████████████████████████████████████████████████████████████████████████████████| 2102/2102 [00:01<00:00, 1664.34it/s]\n"
     ]
    },
    {
     "name": "stdout",
     "output_type": "stream",
     "text": [
      "Dataset:  35000\n",
      "Batch size: 256\n",
      "Epochs:  100\n",
      "Images total:  3500000\n",
      "Batches per epoch 137\n",
      "Images total (rounded):  3507200\n",
      "timestamp False\n",
      "Dataset:  35000\n",
      "Batch size: 256\n",
      "Epochs:  100\n",
      "Images total:  3500000\n",
      "Batches per epoch 137\n",
      "Images total (rounded):  3507200\n",
      "timestamp False\n",
      "Dataset:  35000\n",
      "Batch size: 256\n",
      "Epochs:  100\n",
      "Images total:  3500000\n",
      "Batches per epoch 137\n",
      "Images total (rounded):  3507200\n",
      "timestamp False\n",
      "Dataset:  35000\n",
      "Batch size: 256\n",
      "Epochs:  100\n",
      "Images total:  3500000\n",
      "Batches per epoch 137\n",
      "Images total (rounded):  3507200\n",
      "timestamp False\n",
      "Dataset:  35000\n",
      "Batch size: 256\n",
      "Epochs:  100\n",
      "Images total:  3500000\n",
      "Batches per epoch 137\n",
      "Images total (rounded):  3507200\n",
      "timestamp False\n",
      "Dataset:  35000\n",
      "Batch size: 256\n",
      "Epochs:  100\n",
      "Images total:  3500000\n",
      "Batches per epoch 137\n",
      "Images total (rounded):  3507200\n",
      "timestamp False\n"
     ]
    },
    {
     "name": "stderr",
     "output_type": "stream",
     "text": [
      "100%|███████████████████████████████████████████████████████████████████████████████████████████████████████████████████████████████████████████████████████████████████████████████████████████| 2102/2102 [08:15<00:00,  4.24it/s]\n"
     ]
    },
    {
     "name": "stdout",
     "output_type": "stream",
     "text": [
      "Working with 2\n"
     ]
    },
    {
     "name": "stderr",
     "output_type": "stream",
     "text": [
      "100%|██████████████████████████████████████████████████████████████████████████████████████████████████████████████████████████████████████████████████████████████████████████████████████████| 2087/2087 [00:13<00:00, 160.16it/s]\n"
     ]
    },
    {
     "name": "stdout",
     "output_type": "stream",
     "text": [
      "Unique functions: ['batch' 'next_data' 'run_training_batch' 'training_batch_to_device']\n"
     ]
    },
    {
     "name": "stderr",
     "output_type": "stream",
     "text": [
      "100%|█████████████████████████████████████████████████████████████████████████████████████████████████████████████████████████████████████████████████████████████████████████████████████████| 2087/2087 [00:01<00:00, 1344.53it/s]\n"
     ]
    },
    {
     "name": "stdout",
     "output_type": "stream",
     "text": [
      "Dataset:  35000\n",
      "Batch size: 256\n",
      "Epochs:  100\n",
      "Images total:  3500000\n",
      "Batches per epoch 137\n",
      "Images total (rounded):  3507200\n",
      "timestamp False\n",
      "Dataset:  35000\n",
      "Batch size: 256\n",
      "Epochs:  100\n",
      "Images total:  3500000\n",
      "Batches per epoch 137\n",
      "Images total (rounded):  3507200\n",
      "timestamp False\n",
      "Dataset:  35000\n",
      "Batch size: 256\n",
      "Epochs:  100\n",
      "Images total:  3500000\n",
      "Batches per epoch 137\n",
      "Images total (rounded):  3507200\n",
      "timestamp False\n",
      "Dataset:  35000\n",
      "Batch size: 256\n",
      "Epochs:  100\n",
      "Images total:  3500000\n",
      "Batches per epoch 137\n",
      "Images total (rounded):  3507200\n",
      "timestamp False\n",
      "Dataset:  35000\n",
      "Batch size: 256\n",
      "Epochs:  100\n",
      "Images total:  3500000\n",
      "Batches per epoch 137\n",
      "Images total (rounded):  3507200\n",
      "timestamp False\n",
      "Dataset:  35000\n",
      "Batch size: 256\n",
      "Epochs:  100\n",
      "Images total:  3500000\n",
      "Batches per epoch 137\n",
      "Images total (rounded):  3507200\n",
      "timestamp False\n"
     ]
    },
    {
     "name": "stderr",
     "output_type": "stream",
     "text": [
      "100%|███████████████████████████████████████████████████████████████████████████████████████████████████████████████████████████████████████████████████████████████████████████████████████████| 2087/2087 [08:16<00:00,  4.21it/s]\n"
     ]
    },
    {
     "name": "stdout",
     "output_type": "stream",
     "text": [
      "Working with 3\n"
     ]
    },
    {
     "name": "stderr",
     "output_type": "stream",
     "text": [
      "100%|██████████████████████████████████████████████████████████████████████████████████████████████████████████████████████████████████████████████████████████████████████████████████████████| 2095/2095 [00:13<00:00, 161.00it/s]\n"
     ]
    },
    {
     "name": "stdout",
     "output_type": "stream",
     "text": [
      "Unique functions: ['batch' 'next_data' 'run_training_batch' 'training_batch_to_device']\n"
     ]
    },
    {
     "name": "stderr",
     "output_type": "stream",
     "text": [
      "100%|█████████████████████████████████████████████████████████████████████████████████████████████████████████████████████████████████████████████████████████████████████████████████████████| 2095/2095 [00:01<00:00, 1316.63it/s]\n"
     ]
    },
    {
     "name": "stdout",
     "output_type": "stream",
     "text": [
      "Dataset:  35000\n",
      "Batch size: 256\n",
      "Epochs:  100\n",
      "Images total:  3500000\n",
      "Batches per epoch 137\n",
      "Images total (rounded):  3507200\n",
      "timestamp False\n",
      "Dataset:  35000\n",
      "Batch size: 256\n",
      "Epochs:  100\n",
      "Images total:  3500000\n",
      "Batches per epoch 137\n",
      "Images total (rounded):  3507200\n",
      "timestamp False\n",
      "Dataset:  35000\n",
      "Batch size: 256\n",
      "Epochs:  100\n",
      "Images total:  3500000\n",
      "Batches per epoch 137\n",
      "Images total (rounded):  3507200\n",
      "timestamp False\n",
      "Dataset:  35000\n",
      "Batch size: 256\n",
      "Epochs:  100\n",
      "Images total:  3500000\n",
      "Batches per epoch 137\n",
      "Images total (rounded):  3507200\n",
      "timestamp False\n",
      "Dataset:  35000\n",
      "Batch size: 256\n",
      "Epochs:  100\n",
      "Images total:  3500000\n",
      "Batches per epoch 137\n",
      "Images total (rounded):  3507200\n",
      "timestamp False\n",
      "Dataset:  35000\n",
      "Batch size: 256\n",
      "Epochs:  100\n",
      "Images total:  3500000\n",
      "Batches per epoch 137\n",
      "Images total (rounded):  3507200\n",
      "timestamp False\n"
     ]
    },
    {
     "name": "stderr",
     "output_type": "stream",
     "text": [
      "100%|███████████████████████████████████████████████████████████████████████████████████████████████████████████████████████████████████████████████████████████████████████████████████████████| 2095/2095 [08:39<00:00,  4.03it/s]\n"
     ]
    },
    {
     "name": "stdout",
     "output_type": "stream",
     "text": [
      "Working with 4\n"
     ]
    },
    {
     "name": "stderr",
     "output_type": "stream",
     "text": [
      "100%|██████████████████████████████████████████████████████████████████████████████████████████████████████████████████████████████████████████████████████████████████████████████████████████| 2089/2089 [00:12<00:00, 162.93it/s]\n"
     ]
    },
    {
     "name": "stdout",
     "output_type": "stream",
     "text": [
      "Unique functions: ['batch' 'next_data' 'run_training_batch' 'training_batch_to_device']\n"
     ]
    },
    {
     "name": "stderr",
     "output_type": "stream",
     "text": [
      "100%|█████████████████████████████████████████████████████████████████████████████████████████████████████████████████████████████████████████████████████████████████████████████████████████| 2089/2089 [00:01<00:00, 1229.78it/s]\n"
     ]
    },
    {
     "name": "stdout",
     "output_type": "stream",
     "text": [
      "Dataset:  35000\n",
      "Batch size: 256\n",
      "Epochs:  100\n",
      "Images total:  3500000\n",
      "Batches per epoch 137\n",
      "Images total (rounded):  3507200\n",
      "timestamp False\n",
      "Dataset:  35000\n",
      "Batch size: 256\n",
      "Epochs:  100\n",
      "Images total:  3500000\n",
      "Batches per epoch 137\n",
      "Images total (rounded):  3507200\n",
      "timestamp False\n",
      "Dataset:  35000\n",
      "Batch size: 256\n",
      "Epochs:  100\n",
      "Images total:  3500000\n",
      "Batches per epoch 137\n",
      "Images total (rounded):  3507200\n",
      "timestamp False\n",
      "Dataset:  35000\n",
      "Batch size: 256\n",
      "Epochs:  100\n",
      "Images total:  3500000\n",
      "Batches per epoch 137\n",
      "Images total (rounded):  3507200\n",
      "timestamp False\n",
      "Dataset:  35000\n",
      "Batch size: 256\n",
      "Epochs:  100\n",
      "Images total:  3500000\n",
      "Batches per epoch 137\n",
      "Images total (rounded):  3507200\n",
      "timestamp False\n",
      "Dataset:  35000\n",
      "Batch size: 256\n",
      "Epochs:  100\n",
      "Images total:  3500000\n",
      "Batches per epoch 137\n",
      "Images total (rounded):  3507200\n",
      "timestamp False\n"
     ]
    },
    {
     "name": "stderr",
     "output_type": "stream",
     "text": [
      "100%|███████████████████████████████████████████████████████████████████████████████████████████████████████████████████████████████████████████████████████████████████████████████████████████| 2089/2089 [09:03<00:00,  3.84it/s]\n"
     ]
    },
    {
     "name": "stdout",
     "output_type": "stream",
     "text": [
      "Working with 5\n"
     ]
    },
    {
     "name": "stderr",
     "output_type": "stream",
     "text": [
      "100%|██████████████████████████████████████████████████████████████████████████████████████████████████████████████████████████████████████████████████████████████████████████████████████████| 2096/2096 [00:12<00:00, 164.26it/s]\n"
     ]
    },
    {
     "name": "stdout",
     "output_type": "stream",
     "text": [
      "Unique functions: ['batch' 'next_data' 'run_training_batch' 'training_batch_to_device']\n"
     ]
    },
    {
     "name": "stderr",
     "output_type": "stream",
     "text": [
      "100%|█████████████████████████████████████████████████████████████████████████████████████████████████████████████████████████████████████████████████████████████████████████████████████████| 2096/2096 [00:01<00:00, 1111.18it/s]\n"
     ]
    },
    {
     "name": "stdout",
     "output_type": "stream",
     "text": [
      "Dataset:  35000\n",
      "Batch size: 256\n",
      "Epochs:  100\n",
      "Images total:  3500000\n",
      "Batches per epoch 137\n",
      "Images total (rounded):  3507200\n",
      "timestamp False\n",
      "Dataset:  35000\n",
      "Batch size: 256\n",
      "Epochs:  100\n",
      "Images total:  3500000\n",
      "Batches per epoch 137\n",
      "Images total (rounded):  3507200\n",
      "timestamp False\n",
      "Dataset:  35000\n",
      "Batch size: 256\n",
      "Epochs:  100\n",
      "Images total:  3500000\n",
      "Batches per epoch 137\n",
      "Images total (rounded):  3507200\n",
      "timestamp False\n",
      "Dataset:  35000\n",
      "Batch size: 256\n",
      "Epochs:  100\n",
      "Images total:  3500000\n",
      "Batches per epoch 137\n",
      "Images total (rounded):  3507200\n",
      "timestamp False\n",
      "Dataset:  35000\n",
      "Batch size: 256\n",
      "Epochs:  100\n",
      "Images total:  3500000\n",
      "Batches per epoch 137\n",
      "Images total (rounded):  3507200\n",
      "timestamp False\n",
      "Dataset:  35000\n",
      "Batch size: 256\n",
      "Epochs:  100\n",
      "Images total:  3500000\n",
      "Batches per epoch 137\n",
      "Images total (rounded):  3507200\n",
      "timestamp False\n"
     ]
    },
    {
     "name": "stderr",
     "output_type": "stream",
     "text": [
      "100%|███████████████████████████████████████████████████████████████████████████████████████████████████████████████████████████████████████████████████████████████████████████████████████████| 2096/2096 [09:00<00:00,  3.88it/s]\n"
     ]
    },
    {
     "name": "stdout",
     "output_type": "stream",
     "text": [
      "Working with 6\n"
     ]
    },
    {
     "name": "stderr",
     "output_type": "stream",
     "text": [
      "100%|██████████████████████████████████████████████████████████████████████████████████████████████████████████████████████████████████████████████████████████████████████████████████████████| 2100/2100 [00:12<00:00, 166.22it/s]\n"
     ]
    },
    {
     "name": "stdout",
     "output_type": "stream",
     "text": [
      "Unique functions: ['batch' 'next_data' 'run_training_batch' 'training_batch_to_device']\n"
     ]
    },
    {
     "name": "stderr",
     "output_type": "stream",
     "text": [
      "100%|█████████████████████████████████████████████████████████████████████████████████████████████████████████████████████████████████████████████████████████████████████████████████████████| 2100/2100 [00:01<00:00, 1203.87it/s]\n"
     ]
    },
    {
     "name": "stdout",
     "output_type": "stream",
     "text": [
      "Dataset:  35000\n",
      "Batch size: 256\n",
      "Epochs:  100\n",
      "Images total:  3500000\n",
      "Batches per epoch 137\n",
      "Images total (rounded):  3507200\n",
      "timestamp False\n",
      "Dataset:  35000\n",
      "Batch size: 256\n",
      "Epochs:  100\n",
      "Images total:  3500000\n",
      "Batches per epoch 137\n",
      "Images total (rounded):  3507200\n",
      "timestamp False\n",
      "Dataset:  35000\n",
      "Batch size: 256\n",
      "Epochs:  100\n",
      "Images total:  3500000\n",
      "Batches per epoch 137\n",
      "Images total (rounded):  3507200\n",
      "timestamp False\n",
      "Dataset:  35000\n",
      "Batch size: 256\n",
      "Epochs:  100\n",
      "Images total:  3500000\n",
      "Batches per epoch 137\n",
      "Images total (rounded):  3507200\n",
      "timestamp False\n",
      "Dataset:  35000\n",
      "Batch size: 256\n",
      "Epochs:  100\n",
      "Images total:  3500000\n",
      "Batches per epoch 137\n",
      "Images total (rounded):  3507200\n",
      "timestamp False\n",
      "Dataset:  35000\n",
      "Batch size: 256\n",
      "Epochs:  100\n",
      "Images total:  3500000\n",
      "Batches per epoch 137\n",
      "Images total (rounded):  3507200\n",
      "timestamp False\n"
     ]
    },
    {
     "name": "stderr",
     "output_type": "stream",
     "text": [
      "100%|███████████████████████████████████████████████████████████████████████████████████████████████████████████████████████████████████████████████████████████████████████████████████████████| 2100/2100 [09:04<00:00,  3.85it/s]\n"
     ]
    },
    {
     "name": "stdout",
     "output_type": "stream",
     "text": [
      "Working with 7\n"
     ]
    },
    {
     "name": "stderr",
     "output_type": "stream",
     "text": [
      "100%|██████████████████████████████████████████████████████████████████████████████████████████████████████████████████████████████████████████████████████████████████████████████████████████| 2101/2101 [00:12<00:00, 165.47it/s]\n"
     ]
    },
    {
     "name": "stdout",
     "output_type": "stream",
     "text": [
      "Unique functions: ['batch' 'next_data' 'run_training_batch' 'training_batch_to_device']\n"
     ]
    },
    {
     "name": "stderr",
     "output_type": "stream",
     "text": [
      "100%|█████████████████████████████████████████████████████████████████████████████████████████████████████████████████████████████████████████████████████████████████████████████████████████| 2101/2101 [00:01<00:00, 1074.52it/s]\n"
     ]
    },
    {
     "name": "stdout",
     "output_type": "stream",
     "text": [
      "Dataset:  35000\n",
      "Batch size: 256\n",
      "Epochs:  100\n",
      "Images total:  3500000\n",
      "Batches per epoch 137\n",
      "Images total (rounded):  3507200\n",
      "timestamp False\n",
      "Dataset:  35000\n",
      "Batch size: 256\n",
      "Epochs:  100\n",
      "Images total:  3500000\n",
      "Batches per epoch 137\n",
      "Images total (rounded):  3507200\n",
      "timestamp False\n",
      "Dataset:  35000\n",
      "Batch size: 256\n",
      "Epochs:  100\n",
      "Images total:  3500000\n",
      "Batches per epoch 137\n",
      "Images total (rounded):  3507200\n",
      "timestamp False\n",
      "Dataset:  35000\n",
      "Batch size: 256\n",
      "Epochs:  100\n",
      "Images total:  3500000\n",
      "Batches per epoch 137\n",
      "Images total (rounded):  3507200\n",
      "timestamp False\n",
      "Dataset:  35000\n",
      "Batch size: 256\n",
      "Epochs:  100\n",
      "Images total:  3500000\n",
      "Batches per epoch 137\n",
      "Images total (rounded):  3507200\n",
      "timestamp False\n",
      "Dataset:  35000\n",
      "Batch size: 256\n",
      "Epochs:  100\n",
      "Images total:  3500000\n",
      "Batches per epoch 137\n",
      "Images total (rounded):  3507200\n",
      "timestamp False\n"
     ]
    },
    {
     "name": "stderr",
     "output_type": "stream",
     "text": [
      "100%|███████████████████████████████████████████████████████████████████████████████████████████████████████████████████████████████████████████████████████████████████████████████████████████| 2101/2101 [08:55<00:00,  3.92it/s]\n"
     ]
    },
    {
     "name": "stdout",
     "output_type": "stream",
     "text": [
      "Working with 8\n"
     ]
    },
    {
     "name": "stderr",
     "output_type": "stream",
     "text": [
      "100%|██████████████████████████████████████████████████████████████████████████████████████████████████████████████████████████████████████████████████████████████████████████████████████████| 2094/2094 [00:12<00:00, 165.83it/s]\n"
     ]
    },
    {
     "name": "stdout",
     "output_type": "stream",
     "text": [
      "Unique functions: ['batch' 'next_data' 'run_training_batch' 'training_batch_to_device']\n"
     ]
    },
    {
     "name": "stderr",
     "output_type": "stream",
     "text": [
      "100%|█████████████████████████████████████████████████████████████████████████████████████████████████████████████████████████████████████████████████████████████████████████████████████████| 2094/2094 [00:01<00:00, 1136.32it/s]\n"
     ]
    },
    {
     "name": "stdout",
     "output_type": "stream",
     "text": [
      "Dataset:  35000\n",
      "Batch size: 256\n",
      "Epochs:  100\n",
      "Images total:  3500000\n",
      "Batches per epoch 137\n",
      "Images total (rounded):  3507200\n",
      "timestamp False\n",
      "Dataset:  35000\n",
      "Batch size: 256\n",
      "Epochs:  100\n",
      "Images total:  3500000\n",
      "Batches per epoch 137\n",
      "Images total (rounded):  3507200\n",
      "timestamp False\n",
      "Dataset:  35000\n",
      "Batch size: 256\n",
      "Epochs:  100\n",
      "Images total:  3500000\n",
      "Batches per epoch 137\n",
      "Images total (rounded):  3507200\n",
      "timestamp False\n",
      "Dataset:  35000\n",
      "Batch size: 256\n",
      "Epochs:  100\n",
      "Images total:  3500000\n",
      "Batches per epoch 137\n",
      "Images total (rounded):  3507200\n",
      "timestamp False\n",
      "Dataset:  35000\n",
      "Batch size: 256\n",
      "Epochs:  100\n",
      "Images total:  3500000\n",
      "Batches per epoch 137\n",
      "Images total (rounded):  3507200\n",
      "timestamp False\n",
      "Dataset:  35000\n",
      "Batch size: 256\n",
      "Epochs:  100\n",
      "Images total:  3500000\n",
      "Batches per epoch 137\n",
      "Images total (rounded):  3507200\n",
      "timestamp False\n"
     ]
    },
    {
     "name": "stderr",
     "output_type": "stream",
     "text": [
      "100%|███████████████████████████████████████████████████████████████████████████████████████████████████████████████████████████████████████████████████████████████████████████████████████████| 2094/2094 [08:54<00:00,  3.91it/s]\n"
     ]
    },
    {
     "name": "stdout",
     "output_type": "stream",
     "text": [
      "Working with 9\n"
     ]
    },
    {
     "name": "stderr",
     "output_type": "stream",
     "text": [
      "100%|██████████████████████████████████████████████████████████████████████████████████████████████████████████████████████████████████████████████████████████████████████████████████████████| 2102/2102 [00:11<00:00, 175.26it/s]\n"
     ]
    },
    {
     "name": "stdout",
     "output_type": "stream",
     "text": [
      "Unique functions: ['batch' 'next_data' 'run_training_batch' 'training_batch_to_device']\n"
     ]
    },
    {
     "name": "stderr",
     "output_type": "stream",
     "text": [
      "100%|█████████████████████████████████████████████████████████████████████████████████████████████████████████████████████████████████████████████████████████████████████████████████████████| 2102/2102 [00:01<00:00, 1256.64it/s]\n"
     ]
    },
    {
     "name": "stdout",
     "output_type": "stream",
     "text": [
      "Dataset:  35000\n",
      "Batch size: 256\n",
      "Epochs:  100\n",
      "Images total:  3500000\n",
      "Batches per epoch 137\n",
      "Images total (rounded):  3507200\n",
      "timestamp False\n",
      "Dataset:  35000\n",
      "Batch size: 256\n",
      "Epochs:  100\n",
      "Images total:  3500000\n",
      "Batches per epoch 137\n",
      "Images total (rounded):  3507200\n",
      "timestamp False\n",
      "Dataset:  35000\n",
      "Batch size: 256\n",
      "Epochs:  100\n",
      "Images total:  3500000\n",
      "Batches per epoch 137\n",
      "Images total (rounded):  3507200\n",
      "timestamp False\n",
      "Dataset:  35000\n",
      "Batch size: 256\n",
      "Epochs:  100\n",
      "Images total:  3500000\n",
      "Batches per epoch 137\n",
      "Images total (rounded):  3507200\n",
      "timestamp False\n",
      "Dataset:  35000\n",
      "Batch size: 256\n",
      "Epochs:  100\n",
      "Images total:  3500000\n",
      "Batches per epoch 137\n",
      "Images total (rounded):  3507200\n",
      "timestamp False\n",
      "Dataset:  35000\n",
      "Batch size: 256\n",
      "Epochs:  100\n",
      "Images total:  3500000\n",
      "Batches per epoch 137\n",
      "Images total (rounded):  3507200\n",
      "timestamp False\n"
     ]
    },
    {
     "name": "stderr",
     "output_type": "stream",
     "text": [
      "100%|███████████████████████████████████████████████████████████████████████████████████████████████████████████████████████████████████████████████████████████████████████████████████████████| 2102/2102 [08:57<00:00,  3.91it/s]\n"
     ]
    },
    {
     "name": "stdout",
     "output_type": "stream",
     "text": [
      "Working with 10\n"
     ]
    },
    {
     "name": "stderr",
     "output_type": "stream",
     "text": [
      "100%|██████████████████████████████████████████████████████████████████████████████████████████████████████████████████████████████████████████████████████████████████████████████████████████| 2100/2100 [00:12<00:00, 172.60it/s]\n"
     ]
    },
    {
     "name": "stdout",
     "output_type": "stream",
     "text": [
      "Unique functions: ['batch' 'next_data' 'run_training_batch' 'training_batch_to_device']\n"
     ]
    },
    {
     "name": "stderr",
     "output_type": "stream",
     "text": [
      "100%|█████████████████████████████████████████████████████████████████████████████████████████████████████████████████████████████████████████████████████████████████████████████████████████| 2100/2100 [00:01<00:00, 1100.32it/s]\n"
     ]
    },
    {
     "name": "stdout",
     "output_type": "stream",
     "text": [
      "Dataset:  35000\n",
      "Batch size: 256\n",
      "Epochs:  100\n",
      "Images total:  3500000\n",
      "Batches per epoch 137\n",
      "Images total (rounded):  3507200\n",
      "timestamp False\n",
      "Dataset:  35000\n",
      "Batch size: 256\n",
      "Epochs:  100\n",
      "Images total:  3500000\n",
      "Batches per epoch 137\n",
      "Images total (rounded):  3507200\n",
      "timestamp False\n",
      "Dataset:  35000\n",
      "Batch size: 256\n",
      "Epochs:  100\n",
      "Images total:  3500000\n",
      "Batches per epoch 137\n",
      "Images total (rounded):  3507200\n",
      "timestamp False\n",
      "Dataset:  35000\n",
      "Batch size: 256\n",
      "Epochs:  100\n",
      "Images total:  3500000\n",
      "Batches per epoch 137\n",
      "Images total (rounded):  3507200\n",
      "timestamp False\n",
      "Dataset:  35000\n",
      "Batch size: 256\n",
      "Epochs:  100\n",
      "Images total:  3500000\n",
      "Batches per epoch 137\n",
      "Images total (rounded):  3507200\n",
      "timestamp False\n",
      "Dataset:  35000\n",
      "Batch size: 256\n",
      "Epochs:  100\n",
      "Images total:  3500000\n",
      "Batches per epoch 137\n",
      "Images total (rounded):  3507200\n",
      "timestamp False\n"
     ]
    },
    {
     "name": "stderr",
     "output_type": "stream",
     "text": [
      "100%|███████████████████████████████████████████████████████████████████████████████████████████████████████████████████████████████████████████████████████████████████████████████████████████| 2100/2100 [08:57<00:00,  3.90it/s]\n"
     ]
    }
   ],
   "source": [
    "# setup folders\n",
    "output_base_folder = Path(\"/iarai/home/ivan.svogor/storage-benchmarking-raw/referenced-experiments/1701glusterfs_long-temp\")\n",
    "base_folder = \"glusterfs_long_\"\n",
    "\n",
    "# Load data\n",
    "# results_gluster = load_all_experiments(output_base_folder, base_folder)\n",
    "results_gluster = load_all_experiments(output_base_folder, base_folder, 11, \"/*benchmark_e2e*\", \"\")"
   ]
  },
  {
   "cell_type": "code",
   "execution_count": 6,
   "id": "9be74623",
   "metadata": {},
   "outputs": [
    {
     "name": "stdout",
     "output_type": "stream",
     "text": [
      "Experiments loaded ... Gluster: 10\n"
     ]
    }
   ],
   "source": [
    "# Check the sizes\n",
    "print(f\"Experiments loaded ... Gluster: {len(results_gluster)}\")"
   ]
  },
  {
   "cell_type": "code",
   "execution_count": 14,
   "id": "d365dadb",
   "metadata": {},
   "outputs": [],
   "source": [
    "throughput_all_gluster = plot_all_histograms(results_gluster, impls, libs, False) # display = False (doesn't plot histogrms)"
   ]
  },
  {
   "cell_type": "code",
   "execution_count": 15,
   "id": "9c98e920",
   "metadata": {},
   "outputs": [],
   "source": [
    "df_t_gluster = add_stats(throughput_all_gluster)\n",
    "df_t_gluster\n",
    "df_t_gluster.to_csv(\"df_t_gluster_imgs.csv\")"
   ]
  },
  {
   "cell_type": "code",
   "execution_count": 16,
   "id": "5a910782",
   "metadata": {},
   "outputs": [
    {
     "data": {
      "image/png": "[encoded data removed]",
      "text/plain": [
       "<Figure size 720x720 with 1 Axes>"
      ]
     },
     "metadata": {
      "needs_background": "light"
     },
     "output_type": "display_data"
    }
   ],
   "source": [
    "plot_violins(df_t_gluster, \"Gluster storage\") # "
   ]
  },
  {
   "cell_type": "code",
   "execution_count": 17,
   "id": "1cec4677",
   "metadata": {},
   "outputs": [
    {
     "data": {
      "image/png": "[encoded data removed]",
      "text/plain": [
       "<Figure size 720x720 with 1 Axes>"
      ]
     },
     "metadata": {
      "needs_background": "light"
     },
     "output_type": "display_data"
    }
   ],
   "source": [
    "runtime_all_gluster = plot_all_histograms(results_gluster, impls, libs, False, value=\"runtime\") # display = False (doesn't plot histogrms)\n",
    "plot_violins(add_stats(runtime_all_gluster), \"GlusterFS - runtime\", \"Runtime [S]\")"
   ]
  },
  {
   "cell_type": "code",
   "execution_count": 18,
   "id": "fb725b77",
   "metadata": {},
   "outputs": [
    {
     "data": {
      "image/png": "[encoded data removed]",
      "text/plain": [
       "<Figure size 720x720 with 1 Axes>"
      ]
     },
     "metadata": {
      "needs_background": "light"
     },
     "output_type": "display_data"
    }
   ],
   "source": [
    "runtime_all_gluster = plot_all_histograms(results_gluster, impls, libs, False, value=\"Mbit/s\") # display = False (doesn't plot histogrms)\n",
    "plot_violins(add_stats(runtime_all_gluster), \"GlusterFS [Mbit/s]\", \"Throughput [Mbit/s]\")"
   ]
  },
  {
   "cell_type": "code",
   "execution_count": 19,
   "id": "9f4a47c1",
   "metadata": {},
   "outputs": [],
   "source": [
    "# Throughput in Mbit/s\n",
    "throughput_all_gluster = plot_all_histograms(results_gluster, impls, libs, False, value=\"Mbit/s\") # display = False (doesn't plot histogrms)\n",
    "df_t_gluster = add_stats(throughput_all_gluster)\n",
    "df_t_gluster\n",
    "df_t_gluster.to_csv(\"df_t_gluster_mbit.csv\")"
   ]
  },
  {
   "cell_type": "code",
   "execution_count": null,
   "id": "61bf9954",
   "metadata": {},
   "outputs": [],
   "source": []
  }
 ],
 "metadata": {
  "kernelspec": {
   "display_name": "Python (myenv)",
   "language": "python",
   "name": "storage-benchmarking"
  },
  "language_info": {
   "codemirror_mode": {
    "name": "ipython",
    "version": 3
   },
   "file_extension": ".py",
   "mimetype": "text/x-python",
   "name": "python",
   "nbconvert_exporter": "python",
   "pygments_lexer": "ipython3",
   "version": "3.8.11"
  }
 },
 "nbformat": 4,
 "nbformat_minor": 5
}
