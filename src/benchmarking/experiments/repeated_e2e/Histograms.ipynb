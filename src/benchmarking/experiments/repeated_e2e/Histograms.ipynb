{
 "cells": [
  {
   "cell_type": "markdown",
   "id": "6b63b8b0",
   "metadata": {},
   "source": [
    "### All modifications - repeat 10 times\n",
    "\n",
    "This experiment involves the default setup for all the parameters, however with the reduced dataset size to 15000, as explained in the write up. The expeirment is repeated 10 times, and here, we are interested in measurement consistency, i.e. throughput dispersion between different experiments. \n",
    "Also, we consider two different execution environments, IARAI and TU."
   ]
  },
  {
   "cell_type": "code",
   "execution_count": 1,
   "id": "1c4388f7",
   "metadata": {},
   "outputs": [],
   "source": [
    "from benchmarking.analysis.analyze_results import *"
   ]
  },
  {
   "cell_type": "markdown",
   "id": "cf26273a",
   "metadata": {},
   "source": [
    "Data loading function:"
   ]
  },
  {
   "cell_type": "code",
   "execution_count": 2,
   "id": "9d6d16d0",
   "metadata": {},
   "outputs": [],
   "source": [
    "impls = [\"threaded\", \"asyncio\", \"vanilla\"]\n",
    "libs = [\"torch\", \"lightning\"]"
   ]
  },
  {
   "cell_type": "code",
   "execution_count": 3,
   "id": "a3a1f47a",
   "metadata": {},
   "outputs": [],
   "source": [
    "def add_stats(throughputs):\n",
    "    df = throughputs.T\n",
    "\n",
    "    mean = df.mean(axis=1)\n",
    "    var = df.var(axis=1)\n",
    "    std = df.std(axis=1)\n",
    "\n",
    "    df[\"mean\"] = mean.round(2)\n",
    "    df[\"var\"] = var.round(2)\n",
    "    df[\"std\"] = std.round(2)\n",
    "    return df"
   ]
  },
  {
   "cell_type": "markdown",
   "id": "bd47bef6",
   "metadata": {},
   "source": [
    "### TU environment"
   ]
  },
  {
   "cell_type": "code",
   "execution_count": 4,
   "id": "88135d3e",
   "metadata": {
    "scrolled": true
   },
   "outputs": [
    {
     "name": "stdout",
     "output_type": "stream",
     "text": [
      "Working with 1\n"
     ]
    },
    {
     "name": "stderr",
     "output_type": "stream",
     "text": [
      "100%|████████████████████████████████████████████████████████████████████████████████████████████████████████████████████████████████████████████████████████████████████████████████████████████| 216/216 [00:01<00:00, 201.91it/s]\n"
     ]
    },
    {
     "name": "stdout",
     "output_type": "stream",
     "text": [
      "Unique functions: ['batch' 'next_data' 'run_training_batch' 'training_batch_to_device']\n"
     ]
    },
    {
     "name": "stderr",
     "output_type": "stream",
     "text": [
      "100%|████████████████████████████████████████████████████████████████████████████████████████████████████████████████████████████████████████████████████████████████████████████████████████████| 216/216 [00:00<00:00, 287.15it/s]\n"
     ]
    },
    {
     "name": "stdout",
     "output_type": "stream",
     "text": [
      "Dataset:  15000\n",
      "Batch size: 256\n",
      "Epochs:  10\n",
      "Images total:  150000\n",
      "Batches per epoch 59\n",
      "Images total (rounded):  151040\n",
      "timestamp False\n",
      "Dataset:  15000\n",
      "Batch size: 256\n",
      "Epochs:  10\n",
      "Images total:  150000\n",
      "Batches per epoch 59\n",
      "Images total (rounded):  151040\n",
      "timestamp False\n",
      "Dataset:  15000\n",
      "Batch size: 256\n",
      "Epochs:  10\n",
      "Images total:  150000\n",
      "Batches per epoch 59\n",
      "Images total (rounded):  151040\n",
      "timestamp False\n",
      "Dataset:  15000\n",
      "Batch size: 256\n",
      "Epochs:  10\n",
      "Images total:  150000\n",
      "Batches per epoch 59\n",
      "Images total (rounded):  151040\n",
      "timestamp False\n",
      "Dataset:  15000\n",
      "Batch size: 256\n",
      "Epochs:  10\n",
      "Images total:  150000\n",
      "Batches per epoch 59\n",
      "Images total (rounded):  151040\n",
      "timestamp False\n",
      "Dataset:  15000\n",
      "Batch size: 256\n",
      "Epochs:  10\n",
      "Images total:  150000\n",
      "Batches per epoch 59\n",
      "Images total (rounded):  151040\n",
      "timestamp False\n"
     ]
    },
    {
     "name": "stderr",
     "output_type": "stream",
     "text": [
      "100%|█████████████████████████████████████████████████████████████████████████████████████████████████████████████████████████████████████████████████████████████████████████████████████████████| 216/216 [00:18<00:00, 11.43it/s]\n"
     ]
    },
    {
     "name": "stdout",
     "output_type": "stream",
     "text": [
      "Working with 2\n"
     ]
    },
    {
     "name": "stderr",
     "output_type": "stream",
     "text": [
      "100%|████████████████████████████████████████████████████████████████████████████████████████████████████████████████████████████████████████████████████████████████████████████████████████████| 216/216 [00:01<00:00, 212.61it/s]\n"
     ]
    },
    {
     "name": "stdout",
     "output_type": "stream",
     "text": [
      "Unique functions: ['batch' 'next_data' 'run_training_batch' 'training_batch_to_device']\n"
     ]
    },
    {
     "name": "stderr",
     "output_type": "stream",
     "text": [
      "100%|████████████████████████████████████████████████████████████████████████████████████████████████████████████████████████████████████████████████████████████████████████████████████████████| 216/216 [00:00<00:00, 305.40it/s]\n"
     ]
    },
    {
     "name": "stdout",
     "output_type": "stream",
     "text": [
      "Dataset:  15000\n",
      "Batch size: 256\n",
      "Epochs:  10\n",
      "Images total:  150000\n",
      "Batches per epoch 59\n",
      "Images total (rounded):  151040\n",
      "timestamp False\n",
      "Dataset:  15000\n",
      "Batch size: 256\n",
      "Epochs:  10\n",
      "Images total:  150000\n",
      "Batches per epoch 59\n",
      "Images total (rounded):  151040\n",
      "timestamp False\n",
      "Dataset:  15000\n",
      "Batch size: 256\n",
      "Epochs:  10\n",
      "Images total:  150000\n",
      "Batches per epoch 59\n",
      "Images total (rounded):  151040\n",
      "timestamp False\n",
      "Dataset:  15000\n",
      "Batch size: 256\n",
      "Epochs:  10\n",
      "Images total:  150000\n",
      "Batches per epoch 59\n",
      "Images total (rounded):  151040\n",
      "timestamp False\n",
      "Dataset:  15000\n",
      "Batch size: 256\n",
      "Epochs:  10\n",
      "Images total:  150000\n",
      "Batches per epoch 59\n",
      "Images total (rounded):  151040\n",
      "timestamp False\n",
      "Dataset:  15000\n",
      "Batch size: 256\n",
      "Epochs:  10\n",
      "Images total:  150000\n",
      "Batches per epoch 59\n",
      "Images total (rounded):  151040\n",
      "timestamp False\n"
     ]
    },
    {
     "name": "stderr",
     "output_type": "stream",
     "text": [
      "100%|█████████████████████████████████████████████████████████████████████████████████████████████████████████████████████████████████████████████████████████████████████████████████████████████| 216/216 [00:20<00:00, 10.79it/s]\n"
     ]
    },
    {
     "name": "stdout",
     "output_type": "stream",
     "text": [
      "Working with 3\n"
     ]
    },
    {
     "name": "stderr",
     "output_type": "stream",
     "text": [
      "100%|████████████████████████████████████████████████████████████████████████████████████████████████████████████████████████████████████████████████████████████████████████████████████████████| 216/216 [00:01<00:00, 202.61it/s]\n"
     ]
    },
    {
     "name": "stdout",
     "output_type": "stream",
     "text": [
      "Unique functions: ['batch' 'next_data' 'run_training_batch' 'training_batch_to_device']\n"
     ]
    },
    {
     "name": "stderr",
     "output_type": "stream",
     "text": [
      "100%|████████████████████████████████████████████████████████████████████████████████████████████████████████████████████████████████████████████████████████████████████████████████████████████| 216/216 [00:00<00:00, 276.23it/s]\n"
     ]
    },
    {
     "name": "stdout",
     "output_type": "stream",
     "text": [
      "Dataset:  15000\n",
      "Batch size: 256\n",
      "Epochs:  10\n",
      "Images total:  150000\n",
      "Batches per epoch 59\n",
      "Images total (rounded):  151040\n",
      "timestamp False\n",
      "Dataset:  15000\n",
      "Batch size: 256\n",
      "Epochs:  10\n",
      "Images total:  150000\n",
      "Batches per epoch 59\n",
      "Images total (rounded):  151040\n",
      "timestamp False\n",
      "Dataset:  15000\n",
      "Batch size: 256\n",
      "Epochs:  10\n",
      "Images total:  150000\n",
      "Batches per epoch 59\n",
      "Images total (rounded):  151040\n",
      "timestamp False\n",
      "Dataset:  15000\n",
      "Batch size: 256\n",
      "Epochs:  10\n",
      "Images total:  150000\n",
      "Batches per epoch 59\n",
      "Images total (rounded):  151040\n",
      "timestamp False\n",
      "Dataset:  15000\n",
      "Batch size: 256\n",
      "Epochs:  10\n",
      "Images total:  150000\n",
      "Batches per epoch 59\n",
      "Images total (rounded):  151040\n",
      "timestamp False\n",
      "Dataset:  15000\n",
      "Batch size: 256\n",
      "Epochs:  10\n",
      "Images total:  150000\n",
      "Batches per epoch 59\n",
      "Images total (rounded):  151040\n",
      "timestamp False\n"
     ]
    },
    {
     "name": "stderr",
     "output_type": "stream",
     "text": [
      "100%|█████████████████████████████████████████████████████████████████████████████████████████████████████████████████████████████████████████████████████████████████████████████████████████████| 216/216 [00:22<00:00,  9.77it/s]\n"
     ]
    },
    {
     "name": "stdout",
     "output_type": "stream",
     "text": [
      "Working with 4\n"
     ]
    },
    {
     "name": "stderr",
     "output_type": "stream",
     "text": [
      "100%|████████████████████████████████████████████████████████████████████████████████████████████████████████████████████████████████████████████████████████████████████████████████████████████| 216/216 [00:00<00:00, 217.51it/s]\n"
     ]
    },
    {
     "name": "stdout",
     "output_type": "stream",
     "text": [
      "Unique functions: ['batch' 'next_data' 'run_training_batch' 'training_batch_to_device']\n"
     ]
    },
    {
     "name": "stderr",
     "output_type": "stream",
     "text": [
      "100%|████████████████████████████████████████████████████████████████████████████████████████████████████████████████████████████████████████████████████████████████████████████████████████████| 216/216 [00:00<00:00, 288.03it/s]\n"
     ]
    },
    {
     "name": "stdout",
     "output_type": "stream",
     "text": [
      "Dataset:  15000\n",
      "Batch size: 256\n",
      "Epochs:  10\n",
      "Images total:  150000\n",
      "Batches per epoch 59\n",
      "Images total (rounded):  151040\n",
      "timestamp False\n",
      "Dataset:  15000\n",
      "Batch size: 256\n",
      "Epochs:  10\n",
      "Images total:  150000\n",
      "Batches per epoch 59\n",
      "Images total (rounded):  151040\n",
      "timestamp False\n",
      "Dataset:  15000\n",
      "Batch size: 256\n",
      "Epochs:  10\n",
      "Images total:  150000\n",
      "Batches per epoch 59\n",
      "Images total (rounded):  151040\n",
      "timestamp False\n",
      "Dataset:  15000\n",
      "Batch size: 256\n",
      "Epochs:  10\n",
      "Images total:  150000\n",
      "Batches per epoch 59\n",
      "Images total (rounded):  151040\n",
      "timestamp False\n",
      "Dataset:  15000\n",
      "Batch size: 256\n",
      "Epochs:  10\n",
      "Images total:  150000\n",
      "Batches per epoch 59\n",
      "Images total (rounded):  151040\n",
      "timestamp False\n",
      "Dataset:  15000\n",
      "Batch size: 256\n",
      "Epochs:  10\n",
      "Images total:  150000\n",
      "Batches per epoch 59\n",
      "Images total (rounded):  151040\n",
      "timestamp False\n"
     ]
    },
    {
     "name": "stderr",
     "output_type": "stream",
     "text": [
      "100%|█████████████████████████████████████████████████████████████████████████████████████████████████████████████████████████████████████████████████████████████████████████████████████████████| 216/216 [00:21<00:00,  9.83it/s]\n"
     ]
    },
    {
     "name": "stdout",
     "output_type": "stream",
     "text": [
      "Working with 5\n"
     ]
    },
    {
     "name": "stderr",
     "output_type": "stream",
     "text": [
      "100%|████████████████████████████████████████████████████████████████████████████████████████████████████████████████████████████████████████████████████████████████████████████████████████████| 216/216 [00:01<00:00, 206.65it/s]\n"
     ]
    },
    {
     "name": "stdout",
     "output_type": "stream",
     "text": [
      "Unique functions: ['batch' 'next_data' 'run_training_batch' 'training_batch_to_device']\n"
     ]
    },
    {
     "name": "stderr",
     "output_type": "stream",
     "text": [
      "100%|████████████████████████████████████████████████████████████████████████████████████████████████████████████████████████████████████████████████████████████████████████████████████████████| 216/216 [00:00<00:00, 297.07it/s]\n"
     ]
    },
    {
     "name": "stdout",
     "output_type": "stream",
     "text": [
      "Dataset:  15000\n",
      "Batch size: 256\n",
      "Epochs:  10\n",
      "Images total:  150000\n",
      "Batches per epoch 59\n",
      "Images total (rounded):  151040\n",
      "timestamp False\n",
      "Dataset:  15000\n",
      "Batch size: 256\n",
      "Epochs:  10\n",
      "Images total:  150000\n",
      "Batches per epoch 59\n",
      "Images total (rounded):  151040\n",
      "timestamp False\n",
      "Dataset:  15000\n",
      "Batch size: 256\n",
      "Epochs:  10\n",
      "Images total:  150000\n",
      "Batches per epoch 59\n",
      "Images total (rounded):  151040\n",
      "timestamp False\n",
      "Dataset:  15000\n",
      "Batch size: 256\n",
      "Epochs:  10\n",
      "Images total:  150000\n",
      "Batches per epoch 59\n",
      "Images total (rounded):  151040\n",
      "timestamp False\n",
      "Dataset:  15000\n",
      "Batch size: 256\n",
      "Epochs:  10\n",
      "Images total:  150000\n",
      "Batches per epoch 59\n",
      "Images total (rounded):  151040\n",
      "timestamp False\n",
      "Dataset:  15000\n",
      "Batch size: 256\n",
      "Epochs:  10\n",
      "Images total:  150000\n",
      "Batches per epoch 59\n",
      "Images total (rounded):  151040\n",
      "timestamp False\n"
     ]
    },
    {
     "name": "stderr",
     "output_type": "stream",
     "text": [
      "100%|█████████████████████████████████████████████████████████████████████████████████████████████████████████████████████████████████████████████████████████████████████████████████████████████| 216/216 [00:21<00:00, 10.20it/s]\n"
     ]
    },
    {
     "name": "stdout",
     "output_type": "stream",
     "text": [
      "Working with 6\n"
     ]
    },
    {
     "name": "stderr",
     "output_type": "stream",
     "text": [
      "100%|████████████████████████████████████████████████████████████████████████████████████████████████████████████████████████████████████████████████████████████████████████████████████████████| 216/216 [00:01<00:00, 206.25it/s]\n"
     ]
    },
    {
     "name": "stdout",
     "output_type": "stream",
     "text": [
      "Unique functions: ['batch' 'next_data' 'run_training_batch' 'training_batch_to_device']\n"
     ]
    },
    {
     "name": "stderr",
     "output_type": "stream",
     "text": [
      "100%|████████████████████████████████████████████████████████████████████████████████████████████████████████████████████████████████████████████████████████████████████████████████████████████| 216/216 [00:00<00:00, 314.17it/s]\n"
     ]
    },
    {
     "name": "stdout",
     "output_type": "stream",
     "text": [
      "Dataset:  15000\n",
      "Batch size: 256\n",
      "Epochs:  10\n",
      "Images total:  150000\n",
      "Batches per epoch 59\n",
      "Images total (rounded):  151040\n",
      "timestamp False\n",
      "Dataset:  15000\n",
      "Batch size: 256\n",
      "Epochs:  10\n",
      "Images total:  150000\n",
      "Batches per epoch 59\n",
      "Images total (rounded):  151040\n",
      "timestamp False\n",
      "Dataset:  15000\n",
      "Batch size: 256\n",
      "Epochs:  10\n",
      "Images total:  150000\n",
      "Batches per epoch 59\n",
      "Images total (rounded):  151040\n",
      "timestamp False\n",
      "Dataset:  15000\n",
      "Batch size: 256\n",
      "Epochs:  10\n",
      "Images total:  150000\n",
      "Batches per epoch 59\n",
      "Images total (rounded):  151040\n",
      "timestamp False\n",
      "Dataset:  15000\n",
      "Batch size: 256\n",
      "Epochs:  10\n",
      "Images total:  150000\n",
      "Batches per epoch 59\n",
      "Images total (rounded):  151040\n",
      "timestamp False\n",
      "Dataset:  15000\n",
      "Batch size: 256\n",
      "Epochs:  10\n",
      "Images total:  150000\n",
      "Batches per epoch 59\n",
      "Images total (rounded):  151040\n",
      "timestamp False\n"
     ]
    },
    {
     "name": "stderr",
     "output_type": "stream",
     "text": [
      "100%|█████████████████████████████████████████████████████████████████████████████████████████████████████████████████████████████████████████████████████████████████████████████████████████████| 216/216 [00:21<00:00, 10.00it/s]\n"
     ]
    },
    {
     "name": "stdout",
     "output_type": "stream",
     "text": [
      "Working with 7\n"
     ]
    },
    {
     "name": "stderr",
     "output_type": "stream",
     "text": [
      "100%|████████████████████████████████████████████████████████████████████████████████████████████████████████████████████████████████████████████████████████████████████████████████████████████| 216/216 [00:01<00:00, 212.92it/s]\n"
     ]
    },
    {
     "name": "stdout",
     "output_type": "stream",
     "text": [
      "Unique functions: ['batch' 'next_data' 'run_training_batch' 'training_batch_to_device']\n"
     ]
    },
    {
     "name": "stderr",
     "output_type": "stream",
     "text": [
      "100%|████████████████████████████████████████████████████████████████████████████████████████████████████████████████████████████████████████████████████████████████████████████████████████████| 216/216 [00:00<00:00, 337.94it/s]\n"
     ]
    },
    {
     "name": "stdout",
     "output_type": "stream",
     "text": [
      "Dataset:  15000\n",
      "Batch size: 256\n",
      "Epochs:  10\n",
      "Images total:  150000\n",
      "Batches per epoch 59\n",
      "Images total (rounded):  151040\n",
      "timestamp False\n",
      "Dataset:  15000\n",
      "Batch size: 256\n",
      "Epochs:  10\n",
      "Images total:  150000\n",
      "Batches per epoch 59\n",
      "Images total (rounded):  151040\n",
      "timestamp False\n",
      "Dataset:  15000\n",
      "Batch size: 256\n",
      "Epochs:  10\n",
      "Images total:  150000\n",
      "Batches per epoch 59\n",
      "Images total (rounded):  151040\n",
      "timestamp False\n",
      "Dataset:  15000\n",
      "Batch size: 256\n",
      "Epochs:  10\n",
      "Images total:  150000\n",
      "Batches per epoch 59\n",
      "Images total (rounded):  151040\n",
      "timestamp False\n",
      "Dataset:  15000\n",
      "Batch size: 256\n",
      "Epochs:  10\n",
      "Images total:  150000\n",
      "Batches per epoch 59\n",
      "Images total (rounded):  151040\n",
      "timestamp False\n",
      "Dataset:  15000\n",
      "Batch size: 256\n",
      "Epochs:  10\n",
      "Images total:  150000\n",
      "Batches per epoch 59\n",
      "Images total (rounded):  151040\n",
      "timestamp False\n"
     ]
    },
    {
     "name": "stderr",
     "output_type": "stream",
     "text": [
      "100%|█████████████████████████████████████████████████████████████████████████████████████████████████████████████████████████████████████████████████████████████████████████████████████████████| 216/216 [00:21<00:00,  9.98it/s]\n"
     ]
    },
    {
     "name": "stdout",
     "output_type": "stream",
     "text": [
      "Working with 8\n"
     ]
    },
    {
     "name": "stderr",
     "output_type": "stream",
     "text": [
      "100%|████████████████████████████████████████████████████████████████████████████████████████████████████████████████████████████████████████████████████████████████████████████████████████████| 216/216 [00:01<00:00, 191.15it/s]\n"
     ]
    },
    {
     "name": "stdout",
     "output_type": "stream",
     "text": [
      "Unique functions: ['batch' 'next_data' 'run_training_batch' 'training_batch_to_device']\n"
     ]
    },
    {
     "name": "stderr",
     "output_type": "stream",
     "text": [
      "100%|████████████████████████████████████████████████████████████████████████████████████████████████████████████████████████████████████████████████████████████████████████████████████████████| 216/216 [00:00<00:00, 249.78it/s]\n"
     ]
    },
    {
     "name": "stdout",
     "output_type": "stream",
     "text": [
      "Dataset:  15000\n",
      "Batch size: 256\n",
      "Epochs:  10\n",
      "Images total:  150000\n",
      "Batches per epoch 59\n",
      "Images total (rounded):  151040\n",
      "timestamp False\n",
      "Dataset:  15000\n",
      "Batch size: 256\n",
      "Epochs:  10\n",
      "Images total:  150000\n",
      "Batches per epoch 59\n",
      "Images total (rounded):  151040\n",
      "timestamp False\n",
      "Dataset:  15000\n",
      "Batch size: 256\n",
      "Epochs:  10\n",
      "Images total:  150000\n",
      "Batches per epoch 59\n",
      "Images total (rounded):  151040\n",
      "timestamp False\n",
      "Dataset:  15000\n",
      "Batch size: 256\n",
      "Epochs:  10\n",
      "Images total:  150000\n",
      "Batches per epoch 59\n",
      "Images total (rounded):  151040\n",
      "timestamp False\n",
      "Dataset:  15000\n",
      "Batch size: 256\n",
      "Epochs:  10\n",
      "Images total:  150000\n",
      "Batches per epoch 59\n",
      "Images total (rounded):  151040\n",
      "timestamp False\n",
      "Dataset:  15000\n",
      "Batch size: 256\n",
      "Epochs:  10\n",
      "Images total:  150000\n",
      "Batches per epoch 59\n",
      "Images total (rounded):  151040\n",
      "timestamp False\n"
     ]
    },
    {
     "name": "stderr",
     "output_type": "stream",
     "text": [
      "100%|█████████████████████████████████████████████████████████████████████████████████████████████████████████████████████████████████████████████████████████████████████████████████████████████| 216/216 [00:22<00:00,  9.59it/s]\n"
     ]
    },
    {
     "name": "stdout",
     "output_type": "stream",
     "text": [
      "Working with 9\n"
     ]
    },
    {
     "name": "stderr",
     "output_type": "stream",
     "text": [
      "100%|████████████████████████████████████████████████████████████████████████████████████████████████████████████████████████████████████████████████████████████████████████████████████████████| 216/216 [00:01<00:00, 206.61it/s]\n"
     ]
    },
    {
     "name": "stdout",
     "output_type": "stream",
     "text": [
      "Unique functions: ['batch' 'next_data' 'run_training_batch' 'training_batch_to_device']\n"
     ]
    },
    {
     "name": "stderr",
     "output_type": "stream",
     "text": [
      "100%|████████████████████████████████████████████████████████████████████████████████████████████████████████████████████████████████████████████████████████████████████████████████████████████| 216/216 [00:00<00:00, 279.52it/s]\n"
     ]
    },
    {
     "name": "stdout",
     "output_type": "stream",
     "text": [
      "Dataset:  15000\n",
      "Batch size: 256\n",
      "Epochs:  10\n",
      "Images total:  150000\n",
      "Batches per epoch 59\n",
      "Images total (rounded):  151040\n",
      "timestamp False\n",
      "Dataset:  15000\n",
      "Batch size: 256\n",
      "Epochs:  10\n",
      "Images total:  150000\n",
      "Batches per epoch 59\n",
      "Images total (rounded):  151040\n",
      "timestamp False\n",
      "Dataset:  15000\n",
      "Batch size: 256\n",
      "Epochs:  10\n",
      "Images total:  150000\n",
      "Batches per epoch 59\n",
      "Images total (rounded):  151040\n",
      "timestamp False\n",
      "Dataset:  15000\n",
      "Batch size: 256\n",
      "Epochs:  10\n",
      "Images total:  150000\n",
      "Batches per epoch 59\n",
      "Images total (rounded):  151040\n",
      "timestamp False\n",
      "Dataset:  15000\n",
      "Batch size: 256\n",
      "Epochs:  10\n",
      "Images total:  150000\n",
      "Batches per epoch 59\n",
      "Images total (rounded):  151040\n",
      "timestamp False\n",
      "Dataset:  15000\n",
      "Batch size: 256\n",
      "Epochs:  10\n",
      "Images total:  150000\n",
      "Batches per epoch 59\n",
      "Images total (rounded):  151040\n",
      "timestamp False\n"
     ]
    },
    {
     "name": "stderr",
     "output_type": "stream",
     "text": [
      "100%|█████████████████████████████████████████████████████████████████████████████████████████████████████████████████████████████████████████████████████████████████████████████████████████████| 216/216 [00:22<00:00,  9.62it/s]\n"
     ]
    },
    {
     "name": "stdout",
     "output_type": "stream",
     "text": [
      "Working with 10\n"
     ]
    },
    {
     "name": "stderr",
     "output_type": "stream",
     "text": [
      "100%|████████████████████████████████████████████████████████████████████████████████████████████████████████████████████████████████████████████████████████████████████████████████████████████| 216/216 [00:01<00:00, 207.02it/s]\n"
     ]
    },
    {
     "name": "stdout",
     "output_type": "stream",
     "text": [
      "Unique functions: ['batch' 'next_data' 'run_training_batch' 'training_batch_to_device']\n"
     ]
    },
    {
     "name": "stderr",
     "output_type": "stream",
     "text": [
      "100%|████████████████████████████████████████████████████████████████████████████████████████████████████████████████████████████████████████████████████████████████████████████████████████████| 216/216 [00:00<00:00, 346.21it/s]\n"
     ]
    },
    {
     "name": "stdout",
     "output_type": "stream",
     "text": [
      "Dataset:  15000\n",
      "Batch size: 256\n",
      "Epochs:  10\n",
      "Images total:  150000\n",
      "Batches per epoch 59\n",
      "Images total (rounded):  151040\n",
      "timestamp False\n",
      "Dataset:  15000\n",
      "Batch size: 256\n",
      "Epochs:  10\n",
      "Images total:  150000\n",
      "Batches per epoch 59\n",
      "Images total (rounded):  151040\n",
      "timestamp False\n",
      "Dataset:  15000\n",
      "Batch size: 256\n",
      "Epochs:  10\n",
      "Images total:  150000\n",
      "Batches per epoch 59\n",
      "Images total (rounded):  151040\n",
      "timestamp False\n",
      "Dataset:  15000\n",
      "Batch size: 256\n",
      "Epochs:  10\n",
      "Images total:  150000\n",
      "Batches per epoch 59\n",
      "Images total (rounded):  151040\n",
      "timestamp False\n",
      "Dataset:  15000\n",
      "Batch size: 256\n",
      "Epochs:  10\n",
      "Images total:  150000\n",
      "Batches per epoch 59\n",
      "Images total (rounded):  151040\n",
      "timestamp False\n",
      "Dataset:  15000\n",
      "Batch size: 256\n",
      "Epochs:  10\n",
      "Images total:  150000\n",
      "Batches per epoch 59\n",
      "Images total (rounded):  151040\n",
      "timestamp False\n"
     ]
    },
    {
     "name": "stderr",
     "output_type": "stream",
     "text": [
      "100%|█████████████████████████████████████████████████████████████████████████████████████████████████████████████████████████████████████████████████████████████████████████████████████████████| 216/216 [00:22<00:00,  9.75it/s]\n"
     ]
    },
    {
     "name": "stdout",
     "output_type": "stream",
     "text": [
      "Working with 1\n"
     ]
    },
    {
     "name": "stderr",
     "output_type": "stream",
     "text": [
      "100%|████████████████████████████████████████████████████████████████████████████████████████████████████████████████████████████████████████████████████████████████████████████████████████████| 216/216 [00:01<00:00, 207.01it/s]\n"
     ]
    },
    {
     "name": "stdout",
     "output_type": "stream",
     "text": [
      "Unique functions: ['batch' 'next_data' 'run_training_batch' 'training_batch_to_device']\n"
     ]
    },
    {
     "name": "stderr",
     "output_type": "stream",
     "text": [
      "100%|███████████████████████████████████████████████████████████████████████████████████████████████████████████████████████████████████████████████████████████████████████████████████████████| 216/216 [00:00<00:00, 2929.38it/s]\n"
     ]
    },
    {
     "name": "stdout",
     "output_type": "stream",
     "text": [
      "Dataset:  15000\n",
      "Batch size: 256\n",
      "Epochs:  10\n",
      "Images total:  150000\n",
      "Batches per epoch 59\n",
      "Images total (rounded):  151040\n",
      "timestamp False\n",
      "Dataset:  15000\n",
      "Batch size: 256\n",
      "Epochs:  10\n",
      "Images total:  150000\n",
      "Batches per epoch 59\n",
      "Images total (rounded):  151040\n",
      "timestamp False\n",
      "Dataset:  15000\n",
      "Batch size: 256\n",
      "Epochs:  10\n",
      "Images total:  150000\n",
      "Batches per epoch 59\n",
      "Images total (rounded):  151040\n",
      "timestamp False\n",
      "Dataset:  15000\n",
      "Batch size: 256\n",
      "Epochs:  10\n",
      "Images total:  150000\n",
      "Batches per epoch 59\n",
      "Images total (rounded):  151040\n",
      "timestamp False\n",
      "Dataset:  15000\n",
      "Batch size: 256\n",
      "Epochs:  10\n",
      "Images total:  150000\n",
      "Batches per epoch 59\n",
      "Images total (rounded):  151040\n",
      "timestamp False\n",
      "Dataset:  15000\n",
      "Batch size: 256\n",
      "Epochs:  10\n",
      "Images total:  150000\n",
      "Batches per epoch 59\n",
      "Images total (rounded):  151040\n",
      "timestamp False\n"
     ]
    },
    {
     "name": "stderr",
     "output_type": "stream",
     "text": [
      "100%|█████████████████████████████████████████████████████████████████████████████████████████████████████████████████████████████████████████████████████████████████████████████████████████████| 216/216 [00:19<00:00, 11.00it/s]\n"
     ]
    },
    {
     "name": "stdout",
     "output_type": "stream",
     "text": [
      "Working with 2\n"
     ]
    },
    {
     "name": "stderr",
     "output_type": "stream",
     "text": [
      "100%|████████████████████████████████████████████████████████████████████████████████████████████████████████████████████████████████████████████████████████████████████████████████████████████| 216/216 [00:01<00:00, 185.29it/s]\n"
     ]
    },
    {
     "name": "stdout",
     "output_type": "stream",
     "text": [
      "Unique functions: ['batch' 'next_data' 'run_training_batch' 'training_batch_to_device']\n"
     ]
    },
    {
     "name": "stderr",
     "output_type": "stream",
     "text": [
      "100%|███████████████████████████████████████████████████████████████████████████████████████████████████████████████████████████████████████████████████████████████████████████████████████████| 216/216 [00:00<00:00, 3248.94it/s]\n"
     ]
    },
    {
     "name": "stdout",
     "output_type": "stream",
     "text": [
      "Dataset:  15000\n",
      "Batch size: 256\n",
      "Epochs:  10\n",
      "Images total:  150000\n",
      "Batches per epoch 59\n",
      "Images total (rounded):  151040\n",
      "timestamp False\n",
      "Dataset:  15000\n",
      "Batch size: 256\n",
      "Epochs:  10\n",
      "Images total:  150000\n",
      "Batches per epoch 59\n",
      "Images total (rounded):  151040\n",
      "timestamp False\n",
      "Dataset:  15000\n",
      "Batch size: 256\n",
      "Epochs:  10\n",
      "Images total:  150000\n",
      "Batches per epoch 59\n",
      "Images total (rounded):  151040\n",
      "timestamp False\n",
      "Dataset:  15000\n",
      "Batch size: 256\n",
      "Epochs:  10\n",
      "Images total:  150000\n",
      "Batches per epoch 59\n",
      "Images total (rounded):  151040\n",
      "timestamp False\n",
      "Dataset:  15000\n",
      "Batch size: 256\n",
      "Epochs:  10\n",
      "Images total:  150000\n",
      "Batches per epoch 59\n",
      "Images total (rounded):  151040\n",
      "timestamp False\n",
      "Dataset:  15000\n",
      "Batch size: 256\n",
      "Epochs:  10\n",
      "Images total:  150000\n",
      "Batches per epoch 59\n",
      "Images total (rounded):  151040\n",
      "timestamp False\n"
     ]
    },
    {
     "name": "stderr",
     "output_type": "stream",
     "text": [
      "100%|█████████████████████████████████████████████████████████████████████████████████████████████████████████████████████████████████████████████████████████████████████████████████████████████| 216/216 [00:20<00:00, 10.70it/s]\n"
     ]
    },
    {
     "name": "stdout",
     "output_type": "stream",
     "text": [
      "Working with 3\n"
     ]
    },
    {
     "name": "stderr",
     "output_type": "stream",
     "text": [
      "100%|████████████████████████████████████████████████████████████████████████████████████████████████████████████████████████████████████████████████████████████████████████████████████████████| 216/216 [00:00<00:00, 217.80it/s]\n"
     ]
    },
    {
     "name": "stdout",
     "output_type": "stream",
     "text": [
      "Unique functions: ['batch' 'next_data' 'run_training_batch' 'training_batch_to_device']\n"
     ]
    },
    {
     "name": "stderr",
     "output_type": "stream",
     "text": [
      "100%|███████████████████████████████████████████████████████████████████████████████████████████████████████████████████████████████████████████████████████████████████████████████████████████| 216/216 [00:00<00:00, 3196.82it/s]\n"
     ]
    },
    {
     "name": "stdout",
     "output_type": "stream",
     "text": [
      "Dataset:  15000\n",
      "Batch size: 256\n",
      "Epochs:  10\n",
      "Images total:  150000\n",
      "Batches per epoch 59\n",
      "Images total (rounded):  151040\n",
      "timestamp False\n",
      "Dataset:  15000\n",
      "Batch size: 256\n",
      "Epochs:  10\n",
      "Images total:  150000\n",
      "Batches per epoch 59\n",
      "Images total (rounded):  151040\n",
      "timestamp False\n",
      "Dataset:  15000\n",
      "Batch size: 256\n",
      "Epochs:  10\n",
      "Images total:  150000\n",
      "Batches per epoch 59\n",
      "Images total (rounded):  151040\n",
      "timestamp False\n",
      "Dataset:  15000\n",
      "Batch size: 256\n",
      "Epochs:  10\n",
      "Images total:  150000\n",
      "Batches per epoch 59\n",
      "Images total (rounded):  151040\n",
      "timestamp False\n",
      "Dataset:  15000\n",
      "Batch size: 256\n",
      "Epochs:  10\n",
      "Images total:  150000\n",
      "Batches per epoch 59\n",
      "Images total (rounded):  151040\n",
      "timestamp False\n",
      "Dataset:  15000\n",
      "Batch size: 256\n",
      "Epochs:  10\n",
      "Images total:  150000\n",
      "Batches per epoch 59\n",
      "Images total (rounded):  151040\n",
      "timestamp False\n"
     ]
    },
    {
     "name": "stderr",
     "output_type": "stream",
     "text": [
      "100%|█████████████████████████████████████████████████████████████████████████████████████████████████████████████████████████████████████████████████████████████████████████████████████████████| 216/216 [00:20<00:00, 10.61it/s]\n"
     ]
    },
    {
     "name": "stdout",
     "output_type": "stream",
     "text": [
      "Working with 4\n"
     ]
    },
    {
     "name": "stderr",
     "output_type": "stream",
     "text": [
      "100%|████████████████████████████████████████████████████████████████████████████████████████████████████████████████████████████████████████████████████████████████████████████████████████████| 216/216 [00:01<00:00, 210.47it/s]\n"
     ]
    },
    {
     "name": "stdout",
     "output_type": "stream",
     "text": [
      "Unique functions: ['batch' 'next_data' 'run_training_batch' 'training_batch_to_device']\n"
     ]
    },
    {
     "name": "stderr",
     "output_type": "stream",
     "text": [
      "100%|███████████████████████████████████████████████████████████████████████████████████████████████████████████████████████████████████████████████████████████████████████████████████████████| 216/216 [00:00<00:00, 2257.63it/s]"
     ]
    },
    {
     "name": "stdout",
     "output_type": "stream",
     "text": [
      "Dataset:  15000\n",
      "Batch size: 256\n",
      "Epochs:  10\n",
      "Images total:  150000\n",
      "Batches per epoch 59\n",
      "Images total (rounded):  151040\n",
      "timestamp False\n",
      "Dataset:  15000\n",
      "Batch size: 256\n",
      "Epochs:  10\n",
      "Images total:  150000\n",
      "Batches per epoch 59\n",
      "Images total (rounded):  151040\n",
      "timestamp False\n",
      "Dataset:  15000\n",
      "Batch size: 256\n",
      "Epochs:  10\n",
      "Images total:  150000\n",
      "Batches per epoch 59\n",
      "Images total (rounded):  151040\n",
      "timestamp False\n",
      "Dataset:  15000\n",
      "Batch size: 256\n",
      "Epochs:  10\n",
      "Images total:  150000\n",
      "Batches per epoch 59\n",
      "Images total (rounded):  151040\n",
      "timestamp False\n",
      "Dataset:  15000\n",
      "Batch size: 256\n",
      "Epochs:  10\n",
      "Images total:  150000\n",
      "Batches per epoch 59\n",
      "Images total (rounded):  151040\n",
      "timestamp False\n",
      "Dataset:  15000\n",
      "Batch size: 256\n",
      "Epochs:  10\n",
      "Images total:  150000\n",
      "Batches per epoch 59\n",
      "Images total (rounded):  151040\n",
      "timestamp False\n"
     ]
    },
    {
     "name": "stderr",
     "output_type": "stream",
     "text": [
      "\n",
      "100%|█████████████████████████████████████████████████████████████████████████████████████████████████████████████████████████████████████████████████████████████████████████████████████████████| 216/216 [00:23<00:00,  9.04it/s]\n"
     ]
    },
    {
     "name": "stdout",
     "output_type": "stream",
     "text": [
      "Working with 5\n"
     ]
    },
    {
     "name": "stderr",
     "output_type": "stream",
     "text": [
      "100%|████████████████████████████████████████████████████████████████████████████████████████████████████████████████████████████████████████████████████████████████████████████████████████████| 216/216 [00:01<00:00, 205.09it/s]\n"
     ]
    },
    {
     "name": "stdout",
     "output_type": "stream",
     "text": [
      "Unique functions: ['batch' 'next_data' 'run_training_batch' 'training_batch_to_device']\n"
     ]
    },
    {
     "name": "stderr",
     "output_type": "stream",
     "text": [
      "100%|███████████████████████████████████████████████████████████████████████████████████████████████████████████████████████████████████████████████████████████████████████████████████████████| 216/216 [00:00<00:00, 3148.99it/s]\n"
     ]
    },
    {
     "name": "stdout",
     "output_type": "stream",
     "text": [
      "Dataset:  15000\n",
      "Batch size: 256\n",
      "Epochs:  10\n",
      "Images total:  150000\n",
      "Batches per epoch 59\n",
      "Images total (rounded):  151040\n",
      "timestamp False\n",
      "Dataset:  15000\n",
      "Batch size: 256\n",
      "Epochs:  10\n",
      "Images total:  150000\n",
      "Batches per epoch 59\n",
      "Images total (rounded):  151040\n",
      "timestamp False\n",
      "Dataset:  15000\n",
      "Batch size: 256\n",
      "Epochs:  10\n",
      "Images total:  150000\n",
      "Batches per epoch 59\n",
      "Images total (rounded):  151040\n",
      "timestamp False\n",
      "Dataset:  15000\n",
      "Batch size: 256\n",
      "Epochs:  10\n",
      "Images total:  150000\n",
      "Batches per epoch 59\n",
      "Images total (rounded):  151040\n",
      "timestamp False\n",
      "Dataset:  15000\n",
      "Batch size: 256\n",
      "Epochs:  10\n",
      "Images total:  150000\n",
      "Batches per epoch 59\n",
      "Images total (rounded):  151040\n",
      "timestamp False\n",
      "Dataset:  15000\n",
      "Batch size: 256\n",
      "Epochs:  10\n",
      "Images total:  150000\n",
      "Batches per epoch 59\n",
      "Images total (rounded):  151040\n",
      "timestamp False\n"
     ]
    },
    {
     "name": "stderr",
     "output_type": "stream",
     "text": [
      "100%|█████████████████████████████████████████████████████████████████████████████████████████████████████████████████████████████████████████████████████████████████████████████████████████████| 216/216 [00:22<00:00,  9.61it/s]\n"
     ]
    },
    {
     "name": "stdout",
     "output_type": "stream",
     "text": [
      "Working with 6\n"
     ]
    },
    {
     "name": "stderr",
     "output_type": "stream",
     "text": [
      "100%|████████████████████████████████████████████████████████████████████████████████████████████████████████████████████████████████████████████████████████████████████████████████████████████| 216/216 [00:01<00:00, 196.96it/s]\n"
     ]
    },
    {
     "name": "stdout",
     "output_type": "stream",
     "text": [
      "Unique functions: ['batch' 'next_data' 'run_training_batch' 'training_batch_to_device']\n"
     ]
    },
    {
     "name": "stderr",
     "output_type": "stream",
     "text": [
      "100%|███████████████████████████████████████████████████████████████████████████████████████████████████████████████████████████████████████████████████████████████████████████████████████████| 216/216 [00:00<00:00, 1312.74it/s]"
     ]
    },
    {
     "name": "stdout",
     "output_type": "stream",
     "text": [
      "Dataset:  15000\n",
      "Batch size: 256\n",
      "Epochs:  10\n",
      "Images total:  150000\n",
      "Batches per epoch 59\n",
      "Images total (rounded):  151040\n"
     ]
    },
    {
     "name": "stderr",
     "output_type": "stream",
     "text": [
      "\n"
     ]
    },
    {
     "name": "stdout",
     "output_type": "stream",
     "text": [
      "timestamp False\n",
      "Dataset:  15000\n",
      "Batch size: 256\n",
      "Epochs:  10\n",
      "Images total:  150000\n",
      "Batches per epoch 59\n",
      "Images total (rounded):  151040\n",
      "timestamp False\n",
      "Dataset:  15000\n",
      "Batch size: 256\n",
      "Epochs:  10\n",
      "Images total:  150000\n",
      "Batches per epoch 59\n",
      "Images total (rounded):  151040\n",
      "timestamp False\n",
      "Dataset:  15000\n",
      "Batch size: 256\n",
      "Epochs:  10\n",
      "Images total:  150000\n",
      "Batches per epoch 59\n",
      "Images total (rounded):  151040\n",
      "timestamp False\n",
      "Dataset:  15000\n",
      "Batch size: 256\n",
      "Epochs:  10\n",
      "Images total:  150000\n",
      "Batches per epoch 59\n",
      "Images total (rounded):  151040\n",
      "timestamp False\n",
      "Dataset:  15000\n",
      "Batch size: 256\n",
      "Epochs:  10\n",
      "Images total:  150000\n",
      "Batches per epoch 59\n",
      "Images total (rounded):  151040\n",
      "timestamp False\n"
     ]
    },
    {
     "name": "stderr",
     "output_type": "stream",
     "text": [
      "100%|█████████████████████████████████████████████████████████████████████████████████████████████████████████████████████████████████████████████████████████████████████████████████████████████| 216/216 [00:22<00:00,  9.65it/s]\n"
     ]
    },
    {
     "name": "stdout",
     "output_type": "stream",
     "text": [
      "Working with 7\n"
     ]
    },
    {
     "name": "stderr",
     "output_type": "stream",
     "text": [
      "100%|████████████████████████████████████████████████████████████████████████████████████████████████████████████████████████████████████████████████████████████████████████████████████████████| 216/216 [00:01<00:00, 189.29it/s]\n"
     ]
    },
    {
     "name": "stdout",
     "output_type": "stream",
     "text": [
      "Unique functions: ['batch' 'next_data' 'run_training_batch' 'training_batch_to_device']\n"
     ]
    },
    {
     "name": "stderr",
     "output_type": "stream",
     "text": [
      "100%|███████████████████████████████████████████████████████████████████████████████████████████████████████████████████████████████████████████████████████████████████████████████████████████| 216/216 [00:00<00:00, 2608.41it/s]\n"
     ]
    },
    {
     "name": "stdout",
     "output_type": "stream",
     "text": [
      "Dataset:  15000\n",
      "Batch size: 256\n",
      "Epochs:  10\n",
      "Images total:  150000\n",
      "Batches per epoch 59\n",
      "Images total (rounded):  151040\n",
      "timestamp False\n",
      "Dataset:  15000\n",
      "Batch size: 256\n",
      "Epochs:  10\n",
      "Images total:  150000\n",
      "Batches per epoch 59\n",
      "Images total (rounded):  151040\n",
      "timestamp False\n",
      "Dataset:  15000\n",
      "Batch size: 256\n",
      "Epochs:  10\n",
      "Images total:  150000\n",
      "Batches per epoch 59\n",
      "Images total (rounded):  151040\n",
      "timestamp False\n",
      "Dataset:  15000\n",
      "Batch size: 256\n",
      "Epochs:  10\n",
      "Images total:  150000\n",
      "Batches per epoch 59\n",
      "Images total (rounded):  151040\n",
      "timestamp False\n",
      "Dataset:  15000\n",
      "Batch size: 256\n",
      "Epochs:  10\n",
      "Images total:  150000\n",
      "Batches per epoch 59\n",
      "Images total (rounded):  151040\n",
      "timestamp False\n",
      "Dataset:  15000\n",
      "Batch size: 256\n",
      "Epochs:  10\n",
      "Images total:  150000\n",
      "Batches per epoch 59\n",
      "Images total (rounded):  151040\n",
      "timestamp False\n"
     ]
    },
    {
     "name": "stderr",
     "output_type": "stream",
     "text": [
      "100%|█████████████████████████████████████████████████████████████████████████████████████████████████████████████████████████████████████████████████████████████████████████████████████████████| 216/216 [00:24<00:00,  8.97it/s]\n"
     ]
    },
    {
     "name": "stdout",
     "output_type": "stream",
     "text": [
      "Working with 8\n"
     ]
    },
    {
     "name": "stderr",
     "output_type": "stream",
     "text": [
      "100%|████████████████████████████████████████████████████████████████████████████████████████████████████████████████████████████████████████████████████████████████████████████████████████████| 216/216 [00:00<00:00, 217.15it/s]\n"
     ]
    },
    {
     "name": "stdout",
     "output_type": "stream",
     "text": [
      "Unique functions: ['batch' 'next_data' 'run_training_batch' 'training_batch_to_device']\n"
     ]
    },
    {
     "name": "stderr",
     "output_type": "stream",
     "text": [
      "100%|███████████████████████████████████████████████████████████████████████████████████████████████████████████████████████████████████████████████████████████████████████████████████████████| 216/216 [00:00<00:00, 2606.93it/s]\n"
     ]
    },
    {
     "name": "stdout",
     "output_type": "stream",
     "text": [
      "Dataset:  15000\n",
      "Batch size: 256\n",
      "Epochs:  10\n",
      "Images total:  150000\n",
      "Batches per epoch 59\n",
      "Images total (rounded):  151040\n",
      "timestamp False\n",
      "Dataset:  15000\n",
      "Batch size: 256\n",
      "Epochs:  10\n",
      "Images total:  150000\n",
      "Batches per epoch 59\n",
      "Images total (rounded):  151040\n",
      "timestamp False\n",
      "Dataset:  15000\n",
      "Batch size: 256\n",
      "Epochs:  10\n",
      "Images total:  150000\n",
      "Batches per epoch 59\n",
      "Images total (rounded):  151040\n",
      "timestamp False\n",
      "Dataset:  15000\n",
      "Batch size: 256\n",
      "Epochs:  10\n",
      "Images total:  150000\n",
      "Batches per epoch 59\n",
      "Images total (rounded):  151040\n",
      "timestamp False\n",
      "Dataset:  15000\n",
      "Batch size: 256\n",
      "Epochs:  10\n",
      "Images total:  150000\n",
      "Batches per epoch 59\n",
      "Images total (rounded):  151040\n",
      "timestamp False\n",
      "Dataset:  15000\n",
      "Batch size: 256\n",
      "Epochs:  10\n",
      "Images total:  150000\n",
      "Batches per epoch 59\n",
      "Images total (rounded):  151040\n",
      "timestamp False\n"
     ]
    },
    {
     "name": "stderr",
     "output_type": "stream",
     "text": [
      "100%|█████████████████████████████████████████████████████████████████████████████████████████████████████████████████████████████████████████████████████████████████████████████████████████████| 216/216 [00:23<00:00,  9.24it/s]\n"
     ]
    },
    {
     "name": "stdout",
     "output_type": "stream",
     "text": [
      "Working with 9\n"
     ]
    },
    {
     "name": "stderr",
     "output_type": "stream",
     "text": [
      "100%|████████████████████████████████████████████████████████████████████████████████████████████████████████████████████████████████████████████████████████████████████████████████████████████| 216/216 [00:01<00:00, 202.77it/s]\n"
     ]
    },
    {
     "name": "stdout",
     "output_type": "stream",
     "text": [
      "Unique functions: ['batch' 'next_data' 'run_training_batch' 'training_batch_to_device']\n"
     ]
    },
    {
     "name": "stderr",
     "output_type": "stream",
     "text": [
      "100%|███████████████████████████████████████████████████████████████████████████████████████████████████████████████████████████████████████████████████████████████████████████████████████████| 216/216 [00:00<00:00, 2993.46it/s]\n"
     ]
    },
    {
     "name": "stdout",
     "output_type": "stream",
     "text": [
      "Dataset:  15000\n",
      "Batch size: 256\n",
      "Epochs:  10\n",
      "Images total:  150000\n",
      "Batches per epoch 59\n",
      "Images total (rounded):  151040\n",
      "timestamp False\n",
      "Dataset:  15000\n",
      "Batch size: 256\n",
      "Epochs:  10\n",
      "Images total:  150000\n",
      "Batches per epoch 59\n",
      "Images total (rounded):  151040\n",
      "timestamp False\n",
      "Dataset:  15000\n",
      "Batch size: 256\n",
      "Epochs:  10\n",
      "Images total:  150000\n",
      "Batches per epoch 59\n",
      "Images total (rounded):  151040\n",
      "timestamp False\n",
      "Dataset:  15000\n",
      "Batch size: 256\n",
      "Epochs:  10\n",
      "Images total:  150000\n",
      "Batches per epoch 59\n",
      "Images total (rounded):  151040\n",
      "timestamp False\n",
      "Dataset:  15000\n",
      "Batch size: 256\n",
      "Epochs:  10\n",
      "Images total:  150000\n",
      "Batches per epoch 59\n",
      "Images total (rounded):  151040\n",
      "timestamp False\n",
      "Dataset:  15000\n",
      "Batch size: 256\n",
      "Epochs:  10\n",
      "Images total:  150000\n",
      "Batches per epoch 59\n",
      "Images total (rounded):  151040\n",
      "timestamp False\n"
     ]
    },
    {
     "name": "stderr",
     "output_type": "stream",
     "text": [
      "100%|█████████████████████████████████████████████████████████████████████████████████████████████████████████████████████████████████████████████████████████████████████████████████████████████| 216/216 [00:22<00:00,  9.62it/s]\n"
     ]
    },
    {
     "name": "stdout",
     "output_type": "stream",
     "text": [
      "Working with 10\n"
     ]
    },
    {
     "name": "stderr",
     "output_type": "stream",
     "text": [
      "100%|████████████████████████████████████████████████████████████████████████████████████████████████████████████████████████████████████████████████████████████████████████████████████████████| 216/216 [00:01<00:00, 191.42it/s]\n"
     ]
    },
    {
     "name": "stdout",
     "output_type": "stream",
     "text": [
      "Unique functions: ['batch' 'next_data' 'run_training_batch' 'training_batch_to_device']\n"
     ]
    },
    {
     "name": "stderr",
     "output_type": "stream",
     "text": [
      "100%|███████████████████████████████████████████████████████████████████████████████████████████████████████████████████████████████████████████████████████████████████████████████████████████| 216/216 [00:00<00:00, 2718.15it/s]\n"
     ]
    },
    {
     "name": "stdout",
     "output_type": "stream",
     "text": [
      "Dataset:  15000\n",
      "Batch size: 256\n",
      "Epochs:  10\n",
      "Images total:  150000\n",
      "Batches per epoch 59\n",
      "Images total (rounded):  151040\n",
      "timestamp False\n",
      "Dataset:  15000\n",
      "Batch size: 256\n",
      "Epochs:  10\n",
      "Images total:  150000\n",
      "Batches per epoch 59\n",
      "Images total (rounded):  151040\n",
      "timestamp False\n",
      "Dataset:  15000\n",
      "Batch size: 256\n",
      "Epochs:  10\n",
      "Images total:  150000\n",
      "Batches per epoch 59\n",
      "Images total (rounded):  151040\n",
      "timestamp False\n",
      "Dataset:  15000\n",
      "Batch size: 256\n",
      "Epochs:  10\n",
      "Images total:  150000\n",
      "Batches per epoch 59\n",
      "Images total (rounded):  151040\n",
      "timestamp False\n",
      "Dataset:  15000\n",
      "Batch size: 256\n",
      "Epochs:  10\n",
      "Images total:  150000\n",
      "Batches per epoch 59\n",
      "Images total (rounded):  151040\n",
      "timestamp False\n",
      "Dataset:  15000\n",
      "Batch size: 256\n",
      "Epochs:  10\n",
      "Images total:  150000\n",
      "Batches per epoch 59\n",
      "Images total (rounded):  151040\n",
      "timestamp False\n"
     ]
    },
    {
     "name": "stderr",
     "output_type": "stream",
     "text": [
      "100%|█████████████████████████████████████████████████████████████████████████████████████████████████████████████████████████████████████████████████████████████████████████████████████████████| 216/216 [00:23<00:00,  9.29it/s]\n"
     ]
    }
   ],
   "source": [
    "# setup folders\n",
    "output_base_folder = Path(\"/iarai/home/ivan.svogor/storage-benchmarking-raw/referenced-experiments/repeated-runs-0212/tu\")\n",
    "base_folder = \"0212_run_\"\n",
    "\n",
    "\n",
    "# Load data\n",
    "results_s3 = load_all_experiments(output_base_folder, base_folder, 11, \"/s3/*benchmark_e2e*\", \"s3\")\n",
    "results_scratch = load_all_experiments(output_base_folder, base_folder, 11, \"/scratch/*benchmark_e2e*\", \"scratch\")"
   ]
  },
  {
   "cell_type": "code",
   "execution_count": 5,
   "id": "9be74623",
   "metadata": {},
   "outputs": [
    {
     "name": "stdout",
     "output_type": "stream",
     "text": [
      "Experiments loaded ... S3: 10, Scratch: 10\n"
     ]
    }
   ],
   "source": [
    "# Check the sizes\n",
    "print(f\"Experiments loaded ... S3: {len(results_s3)}, Scratch: {len(results_scratch)}\")"
   ]
  },
  {
   "cell_type": "code",
   "execution_count": 6,
   "id": "0661b0e7",
   "metadata": {},
   "outputs": [
    {
     "data": {
      "text/html": [
       "<div>\n",
       "<style scoped>\n",
       "    .dataframe tbody tr th:only-of-type {\n",
       "        vertical-align: middle;\n",
       "    }\n",
       "\n",
       "    .dataframe tbody tr th {\n",
       "        vertical-align: top;\n",
       "    }\n",
       "\n",
       "    .dataframe thead th {\n",
       "        text-align: right;\n",
       "    }\n",
       "</style>\n",
       "<table border=\"1\" class=\"dataframe\">\n",
       "  <thead>\n",
       "    <tr style=\"text-align: right;\">\n",
       "      <th></th>\n",
       "      <th>runtime</th>\n",
       "      <th>gpu_util_zero</th>\n",
       "      <th>gpu_util_mean_no_zeros</th>\n",
       "      <th>mem_util_mean</th>\n",
       "      <th>mem_util_mean_no_zeros</th>\n",
       "      <th>implementation</th>\n",
       "      <th>cache</th>\n",
       "      <th>library</th>\n",
       "      <th>throughput</th>\n",
       "      <th>dl_MB</th>\n",
       "      <th>imgs</th>\n",
       "      <th>Mbit/s</th>\n",
       "      <th>MB/s</th>\n",
       "    </tr>\n",
       "  </thead>\n",
       "  <tbody>\n",
       "    <tr>\n",
       "      <th>0</th>\n",
       "      <td>195.838140</td>\n",
       "      <td>8.450704</td>\n",
       "      <td>76.469231</td>\n",
       "      <td>39.031690</td>\n",
       "      <td>43.470588</td>\n",
       "      <td>threaded</td>\n",
       "      <td>1</td>\n",
       "      <td>torch</td>\n",
       "      <td>765.938649</td>\n",
       "      <td>19417.482185</td>\n",
       "      <td>150000</td>\n",
       "      <td>793.205337</td>\n",
       "      <td>99.150667</td>\n",
       "    </tr>\n",
       "    <tr>\n",
       "      <th>1</th>\n",
       "      <td>291.006994</td>\n",
       "      <td>3.782506</td>\n",
       "      <td>71.149877</td>\n",
       "      <td>18.007092</td>\n",
       "      <td>20.097625</td>\n",
       "      <td>threaded</td>\n",
       "      <td>1</td>\n",
       "      <td>lightning</td>\n",
       "      <td>515.451528</td>\n",
       "      <td>19417.482185</td>\n",
       "      <td>150000</td>\n",
       "      <td>533.801113</td>\n",
       "      <td>66.725139</td>\n",
       "    </tr>\n",
       "    <tr>\n",
       "      <th>2</th>\n",
       "      <td>186.351485</td>\n",
       "      <td>5.371901</td>\n",
       "      <td>77.755459</td>\n",
       "      <td>42.280992</td>\n",
       "      <td>45.475556</td>\n",
       "      <td>asyncio</td>\n",
       "      <td>1</td>\n",
       "      <td>torch</td>\n",
       "      <td>804.930534</td>\n",
       "      <td>16913.542366</td>\n",
       "      <td>150000</td>\n",
       "      <td>726.092090</td>\n",
       "      <td>90.761511</td>\n",
       "    </tr>\n",
       "    <tr>\n",
       "      <th>3</th>\n",
       "      <td>285.805732</td>\n",
       "      <td>4.295943</td>\n",
       "      <td>73.840399</td>\n",
       "      <td>19.066826</td>\n",
       "      <td>20.750649</td>\n",
       "      <td>asyncio</td>\n",
       "      <td>1</td>\n",
       "      <td>lightning</td>\n",
       "      <td>524.832021</td>\n",
       "      <td>16913.542366</td>\n",
       "      <td>150000</td>\n",
       "      <td>473.427660</td>\n",
       "      <td>59.178457</td>\n",
       "    </tr>\n",
       "    <tr>\n",
       "      <th>4</th>\n",
       "      <td>293.089140</td>\n",
       "      <td>32.885906</td>\n",
       "      <td>72.960000</td>\n",
       "      <td>27.167785</td>\n",
       "      <td>42.020761</td>\n",
       "      <td>vanilla</td>\n",
       "      <td>1</td>\n",
       "      <td>torch</td>\n",
       "      <td>511.789690</td>\n",
       "      <td>16913.542366</td>\n",
       "      <td>150000</td>\n",
       "      <td>461.662752</td>\n",
       "      <td>57.707844</td>\n",
       "    </tr>\n",
       "    <tr>\n",
       "      <th>5</th>\n",
       "      <td>1053.782496</td>\n",
       "      <td>66.943734</td>\n",
       "      <td>60.336557</td>\n",
       "      <td>5.369565</td>\n",
       "      <td>18.662222</td>\n",
       "      <td>vanilla</td>\n",
       "      <td>1</td>\n",
       "      <td>lightning</td>\n",
       "      <td>142.344365</td>\n",
       "      <td>16913.542366</td>\n",
       "      <td>150000</td>\n",
       "      <td>128.402530</td>\n",
       "      <td>16.050316</td>\n",
       "    </tr>\n",
       "  </tbody>\n",
       "</table>\n",
       "</div>"
      ],
      "text/plain": [
       "       runtime  gpu_util_zero  gpu_util_mean_no_zeros  mem_util_mean  \\\n",
       "0   195.838140       8.450704               76.469231      39.031690   \n",
       "1   291.006994       3.782506               71.149877      18.007092   \n",
       "2   186.351485       5.371901               77.755459      42.280992   \n",
       "3   285.805732       4.295943               73.840399      19.066826   \n",
       "4   293.089140      32.885906               72.960000      27.167785   \n",
       "5  1053.782496      66.943734               60.336557       5.369565   \n",
       "\n",
       "   mem_util_mean_no_zeros implementation cache    library  throughput  \\\n",
       "0               43.470588       threaded     1      torch  765.938649   \n",
       "1               20.097625       threaded     1  lightning  515.451528   \n",
       "2               45.475556        asyncio     1      torch  804.930534   \n",
       "3               20.750649        asyncio     1  lightning  524.832021   \n",
       "4               42.020761        vanilla     1      torch  511.789690   \n",
       "5               18.662222        vanilla     1  lightning  142.344365   \n",
       "\n",
       "          dl_MB    imgs      Mbit/s       MB/s  \n",
       "0  19417.482185  150000  793.205337  99.150667  \n",
       "1  19417.482185  150000  533.801113  66.725139  \n",
       "2  16913.542366  150000  726.092090  90.761511  \n",
       "3  16913.542366  150000  473.427660  59.178457  \n",
       "4  16913.542366  150000  461.662752  57.707844  \n",
       "5  16913.542366  150000  128.402530  16.050316  "
      ]
     },
     "execution_count": 6,
     "metadata": {},
     "output_type": "execute_result"
    }
   ],
   "source": [
    "results_scratch[0]"
   ]
  },
  {
   "cell_type": "markdown",
   "id": "b44d335b",
   "metadata": {},
   "source": [
    "### img/s"
   ]
  },
  {
   "cell_type": "code",
   "execution_count": 7,
   "id": "469df9e0",
   "metadata": {},
   "outputs": [],
   "source": [
    "throughput_all_s3 = plot_all_histograms(results_s3, impls, libs, False, value=\"throughput\") # display = False (doesn't plot histogrms)\n",
    "throughput_all_scratch = plot_all_histograms(results_scratch, impls, libs, False, value=\"throughput\") # display = False (doesn't plot histogrms)"
   ]
  },
  {
   "cell_type": "code",
   "execution_count": 8,
   "id": "9c98e920",
   "metadata": {},
   "outputs": [
    {
     "data": {
      "text/html": [
       "<div>\n",
       "<style scoped>\n",
       "    .dataframe tbody tr th:only-of-type {\n",
       "        vertical-align: middle;\n",
       "    }\n",
       "\n",
       "    .dataframe tbody tr th {\n",
       "        vertical-align: top;\n",
       "    }\n",
       "\n",
       "    .dataframe thead th {\n",
       "        text-align: right;\n",
       "    }\n",
       "</style>\n",
       "<table border=\"1\" class=\"dataframe\">\n",
       "  <thead>\n",
       "    <tr style=\"text-align: right;\">\n",
       "      <th></th>\n",
       "      <th>0</th>\n",
       "      <th>1</th>\n",
       "      <th>2</th>\n",
       "      <th>3</th>\n",
       "      <th>4</th>\n",
       "      <th>5</th>\n",
       "      <th>6</th>\n",
       "      <th>7</th>\n",
       "      <th>8</th>\n",
       "      <th>9</th>\n",
       "      <th>mean</th>\n",
       "      <th>var</th>\n",
       "      <th>std</th>\n",
       "    </tr>\n",
       "  </thead>\n",
       "  <tbody>\n",
       "    <tr>\n",
       "      <th>threaded_torch</th>\n",
       "      <td>399.33</td>\n",
       "      <td>431.32</td>\n",
       "      <td>383.07</td>\n",
       "      <td>362.52</td>\n",
       "      <td>368.59</td>\n",
       "      <td>363.46</td>\n",
       "      <td>366.37</td>\n",
       "      <td>363.42</td>\n",
       "      <td>364.36</td>\n",
       "      <td>360.42</td>\n",
       "      <td>376.29</td>\n",
       "      <td>519.65</td>\n",
       "      <td>22.80</td>\n",
       "    </tr>\n",
       "    <tr>\n",
       "      <th>threaded_lightning</th>\n",
       "      <td>385.14</td>\n",
       "      <td>405.57</td>\n",
       "      <td>385.16</td>\n",
       "      <td>354.34</td>\n",
       "      <td>361.16</td>\n",
       "      <td>357.71</td>\n",
       "      <td>365.13</td>\n",
       "      <td>363.01</td>\n",
       "      <td>363.05</td>\n",
       "      <td>360.06</td>\n",
       "      <td>370.03</td>\n",
       "      <td>268.71</td>\n",
       "      <td>16.39</td>\n",
       "    </tr>\n",
       "    <tr>\n",
       "      <th>asyncio_torch</th>\n",
       "      <td>385.49</td>\n",
       "      <td>393.06</td>\n",
       "      <td>381.34</td>\n",
       "      <td>345.60</td>\n",
       "      <td>345.02</td>\n",
       "      <td>350.22</td>\n",
       "      <td>346.44</td>\n",
       "      <td>349.12</td>\n",
       "      <td>351.27</td>\n",
       "      <td>349.07</td>\n",
       "      <td>359.66</td>\n",
       "      <td>358.03</td>\n",
       "      <td>18.92</td>\n",
       "    </tr>\n",
       "    <tr>\n",
       "      <th>asyncio_lightning</th>\n",
       "      <td>388.60</td>\n",
       "      <td>382.24</td>\n",
       "      <td>373.40</td>\n",
       "      <td>358.01</td>\n",
       "      <td>352.24</td>\n",
       "      <td>348.05</td>\n",
       "      <td>355.77</td>\n",
       "      <td>352.48</td>\n",
       "      <td>357.08</td>\n",
       "      <td>355.63</td>\n",
       "      <td>362.35</td>\n",
       "      <td>194.00</td>\n",
       "      <td>13.93</td>\n",
       "    </tr>\n",
       "    <tr>\n",
       "      <th>vanilla_torch</th>\n",
       "      <td>40.41</td>\n",
       "      <td>38.91</td>\n",
       "      <td>37.33</td>\n",
       "      <td>38.45</td>\n",
       "      <td>38.33</td>\n",
       "      <td>39.65</td>\n",
       "      <td>40.34</td>\n",
       "      <td>41.07</td>\n",
       "      <td>40.64</td>\n",
       "      <td>40.94</td>\n",
       "      <td>39.61</td>\n",
       "      <td>1.65</td>\n",
       "      <td>1.28</td>\n",
       "    </tr>\n",
       "    <tr>\n",
       "      <th>vanilla_lightning</th>\n",
       "      <td>9.14</td>\n",
       "      <td>9.34</td>\n",
       "      <td>9.38</td>\n",
       "      <td>9.60</td>\n",
       "      <td>9.64</td>\n",
       "      <td>9.93</td>\n",
       "      <td>10.11</td>\n",
       "      <td>10.06</td>\n",
       "      <td>10.12</td>\n",
       "      <td>9.64</td>\n",
       "      <td>9.70</td>\n",
       "      <td>0.12</td>\n",
       "      <td>0.35</td>\n",
       "    </tr>\n",
       "  </tbody>\n",
       "</table>\n",
       "</div>"
      ],
      "text/plain": [
       "                         0       1       2       3       4       5       6  \\\n",
       "threaded_torch      399.33  431.32  383.07  362.52  368.59  363.46  366.37   \n",
       "threaded_lightning  385.14  405.57  385.16  354.34  361.16  357.71  365.13   \n",
       "asyncio_torch       385.49  393.06  381.34  345.60  345.02  350.22  346.44   \n",
       "asyncio_lightning   388.60  382.24  373.40  358.01  352.24  348.05  355.77   \n",
       "vanilla_torch        40.41   38.91   37.33   38.45   38.33   39.65   40.34   \n",
       "vanilla_lightning     9.14    9.34    9.38    9.60    9.64    9.93   10.11   \n",
       "\n",
       "                         7       8       9    mean     var    std  \n",
       "threaded_torch      363.42  364.36  360.42  376.29  519.65  22.80  \n",
       "threaded_lightning  363.01  363.05  360.06  370.03  268.71  16.39  \n",
       "asyncio_torch       349.12  351.27  349.07  359.66  358.03  18.92  \n",
       "asyncio_lightning   352.48  357.08  355.63  362.35  194.00  13.93  \n",
       "vanilla_torch        41.07   40.64   40.94   39.61    1.65   1.28  \n",
       "vanilla_lightning    10.06   10.12    9.64    9.70    0.12   0.35  "
      ]
     },
     "execution_count": 8,
     "metadata": {},
     "output_type": "execute_result"
    }
   ],
   "source": [
    "df_t_s3 = add_stats(throughput_all_s3)\n",
    "df_t_s3"
   ]
  },
  {
   "cell_type": "code",
   "execution_count": 9,
   "id": "3b5451ec",
   "metadata": {},
   "outputs": [
    {
     "data": {
      "text/html": [
       "<div>\n",
       "<style scoped>\n",
       "    .dataframe tbody tr th:only-of-type {\n",
       "        vertical-align: middle;\n",
       "    }\n",
       "\n",
       "    .dataframe tbody tr th {\n",
       "        vertical-align: top;\n",
       "    }\n",
       "\n",
       "    .dataframe thead th {\n",
       "        text-align: right;\n",
       "    }\n",
       "</style>\n",
       "<table border=\"1\" class=\"dataframe\">\n",
       "  <thead>\n",
       "    <tr style=\"text-align: right;\">\n",
       "      <th></th>\n",
       "      <th>0</th>\n",
       "      <th>1</th>\n",
       "      <th>2</th>\n",
       "      <th>3</th>\n",
       "      <th>4</th>\n",
       "      <th>5</th>\n",
       "      <th>6</th>\n",
       "      <th>7</th>\n",
       "      <th>8</th>\n",
       "      <th>9</th>\n",
       "      <th>mean</th>\n",
       "      <th>var</th>\n",
       "      <th>std</th>\n",
       "    </tr>\n",
       "  </thead>\n",
       "  <tbody>\n",
       "    <tr>\n",
       "      <th>threaded_torch</th>\n",
       "      <td>765.94</td>\n",
       "      <td>776.43</td>\n",
       "      <td>817.79</td>\n",
       "      <td>817.43</td>\n",
       "      <td>820.07</td>\n",
       "      <td>822.14</td>\n",
       "      <td>845.58</td>\n",
       "      <td>830.63</td>\n",
       "      <td>824.95</td>\n",
       "      <td>848.02</td>\n",
       "      <td>816.90</td>\n",
       "      <td>701.96</td>\n",
       "      <td>26.49</td>\n",
       "    </tr>\n",
       "    <tr>\n",
       "      <th>threaded_lightning</th>\n",
       "      <td>515.45</td>\n",
       "      <td>513.50</td>\n",
       "      <td>532.30</td>\n",
       "      <td>522.55</td>\n",
       "      <td>526.91</td>\n",
       "      <td>516.76</td>\n",
       "      <td>523.00</td>\n",
       "      <td>520.88</td>\n",
       "      <td>525.94</td>\n",
       "      <td>524.00</td>\n",
       "      <td>522.13</td>\n",
       "      <td>32.75</td>\n",
       "      <td>5.72</td>\n",
       "    </tr>\n",
       "    <tr>\n",
       "      <th>asyncio_torch</th>\n",
       "      <td>804.93</td>\n",
       "      <td>815.02</td>\n",
       "      <td>843.88</td>\n",
       "      <td>815.48</td>\n",
       "      <td>825.56</td>\n",
       "      <td>822.88</td>\n",
       "      <td>811.61</td>\n",
       "      <td>810.60</td>\n",
       "      <td>820.18</td>\n",
       "      <td>809.04</td>\n",
       "      <td>817.92</td>\n",
       "      <td>124.15</td>\n",
       "      <td>11.14</td>\n",
       "    </tr>\n",
       "    <tr>\n",
       "      <th>asyncio_lightning</th>\n",
       "      <td>524.83</td>\n",
       "      <td>524.81</td>\n",
       "      <td>514.76</td>\n",
       "      <td>525.57</td>\n",
       "      <td>518.29</td>\n",
       "      <td>516.25</td>\n",
       "      <td>520.44</td>\n",
       "      <td>522.50</td>\n",
       "      <td>518.46</td>\n",
       "      <td>518.15</td>\n",
       "      <td>520.41</td>\n",
       "      <td>14.72</td>\n",
       "      <td>3.84</td>\n",
       "    </tr>\n",
       "    <tr>\n",
       "      <th>vanilla_torch</th>\n",
       "      <td>511.79</td>\n",
       "      <td>550.61</td>\n",
       "      <td>561.74</td>\n",
       "      <td>562.94</td>\n",
       "      <td>560.93</td>\n",
       "      <td>563.17</td>\n",
       "      <td>564.36</td>\n",
       "      <td>555.63</td>\n",
       "      <td>559.52</td>\n",
       "      <td>562.46</td>\n",
       "      <td>555.32</td>\n",
       "      <td>251.10</td>\n",
       "      <td>15.85</td>\n",
       "    </tr>\n",
       "    <tr>\n",
       "      <th>vanilla_lightning</th>\n",
       "      <td>142.34</td>\n",
       "      <td>154.56</td>\n",
       "      <td>155.89</td>\n",
       "      <td>157.13</td>\n",
       "      <td>155.84</td>\n",
       "      <td>156.87</td>\n",
       "      <td>154.48</td>\n",
       "      <td>155.04</td>\n",
       "      <td>156.22</td>\n",
       "      <td>155.76</td>\n",
       "      <td>154.41</td>\n",
       "      <td>18.77</td>\n",
       "      <td>4.33</td>\n",
       "    </tr>\n",
       "  </tbody>\n",
       "</table>\n",
       "</div>"
      ],
      "text/plain": [
       "                         0       1       2       3       4       5       6  \\\n",
       "threaded_torch      765.94  776.43  817.79  817.43  820.07  822.14  845.58   \n",
       "threaded_lightning  515.45  513.50  532.30  522.55  526.91  516.76  523.00   \n",
       "asyncio_torch       804.93  815.02  843.88  815.48  825.56  822.88  811.61   \n",
       "asyncio_lightning   524.83  524.81  514.76  525.57  518.29  516.25  520.44   \n",
       "vanilla_torch       511.79  550.61  561.74  562.94  560.93  563.17  564.36   \n",
       "vanilla_lightning   142.34  154.56  155.89  157.13  155.84  156.87  154.48   \n",
       "\n",
       "                         7       8       9    mean     var    std  \n",
       "threaded_torch      830.63  824.95  848.02  816.90  701.96  26.49  \n",
       "threaded_lightning  520.88  525.94  524.00  522.13   32.75   5.72  \n",
       "asyncio_torch       810.60  820.18  809.04  817.92  124.15  11.14  \n",
       "asyncio_lightning   522.50  518.46  518.15  520.41   14.72   3.84  \n",
       "vanilla_torch       555.63  559.52  562.46  555.32  251.10  15.85  \n",
       "vanilla_lightning   155.04  156.22  155.76  154.41   18.77   4.33  "
      ]
     },
     "execution_count": 9,
     "metadata": {},
     "output_type": "execute_result"
    }
   ],
   "source": [
    "df_t_scratch = add_stats(throughput_all_scratch)\n",
    "df_t_scratch"
   ]
  },
  {
   "cell_type": "code",
   "execution_count": 10,
   "id": "5a910782",
   "metadata": {},
   "outputs": [
    {
     "data": {
      "image/png": "[encoded data removed]",
      "text/plain": [
       "<Figure size 720x720 with 1 Axes>"
      ]
     },
     "metadata": {
      "needs_background": "light"
     },
     "output_type": "display_data"
    }
   ],
   "source": [
    "plot_violins(df_t_s3, \"TU Remote storage - AWS S3\")"
   ]
  },
  {
   "cell_type": "code",
   "execution_count": 11,
   "id": "77bd4bb1",
   "metadata": {},
   "outputs": [
    {
     "data": {
      "image/png": "[encoded data removed]",
      "text/plain": [
       "<Figure size 720x720 with 1 Axes>"
      ]
     },
     "metadata": {
      "needs_background": "light"
     },
     "output_type": "display_data"
    }
   ],
   "source": [
    "plot_violins(df_t_scratch, \"TU Local storage\")"
   ]
  },
  {
   "cell_type": "code",
   "execution_count": 13,
   "id": "57f5089d",
   "metadata": {},
   "outputs": [],
   "source": [
    "### mibts\n",
    "\n",
    "throughput_all_s3 = plot_all_histograms(results_s3, impls, libs, False, value=\"Mbit/s\") # display = False (doesn't plot histogrms)\n",
    "throughput_all_scratch = plot_all_histograms(results_scratch, impls, libs, False, value=\"Mbit/s\") # display = False (doesn't plot histogrms)"
   ]
  },
  {
   "cell_type": "code",
   "execution_count": 14,
   "id": "41a8cca4",
   "metadata": {},
   "outputs": [
    {
     "data": {
      "text/html": [
       "<div>\n",
       "<style scoped>\n",
       "    .dataframe tbody tr th:only-of-type {\n",
       "        vertical-align: middle;\n",
       "    }\n",
       "\n",
       "    .dataframe tbody tr th {\n",
       "        vertical-align: top;\n",
       "    }\n",
       "\n",
       "    .dataframe thead th {\n",
       "        text-align: right;\n",
       "    }\n",
       "</style>\n",
       "<table border=\"1\" class=\"dataframe\">\n",
       "  <thead>\n",
       "    <tr style=\"text-align: right;\">\n",
       "      <th></th>\n",
       "      <th>0</th>\n",
       "      <th>1</th>\n",
       "      <th>2</th>\n",
       "      <th>3</th>\n",
       "      <th>4</th>\n",
       "      <th>5</th>\n",
       "      <th>6</th>\n",
       "      <th>7</th>\n",
       "      <th>8</th>\n",
       "      <th>9</th>\n",
       "      <th>mean</th>\n",
       "      <th>var</th>\n",
       "      <th>std</th>\n",
       "    </tr>\n",
       "  </thead>\n",
       "  <tbody>\n",
       "    <tr>\n",
       "      <th>threaded_torch</th>\n",
       "      <td>272.92</td>\n",
       "      <td>294.78</td>\n",
       "      <td>261.80</td>\n",
       "      <td>247.76</td>\n",
       "      <td>251.91</td>\n",
       "      <td>248.40</td>\n",
       "      <td>250.39</td>\n",
       "      <td>248.38</td>\n",
       "      <td>249.02</td>\n",
       "      <td>246.32</td>\n",
       "      <td>257.17</td>\n",
       "      <td>242.72</td>\n",
       "      <td>15.58</td>\n",
       "    </tr>\n",
       "    <tr>\n",
       "      <th>threaded_lightning</th>\n",
       "      <td>263.22</td>\n",
       "      <td>277.18</td>\n",
       "      <td>263.24</td>\n",
       "      <td>242.17</td>\n",
       "      <td>246.83</td>\n",
       "      <td>244.47</td>\n",
       "      <td>249.55</td>\n",
       "      <td>248.10</td>\n",
       "      <td>248.12</td>\n",
       "      <td>246.08</td>\n",
       "      <td>252.90</td>\n",
       "      <td>125.51</td>\n",
       "      <td>11.20</td>\n",
       "    </tr>\n",
       "    <tr>\n",
       "      <th>asyncio_torch</th>\n",
       "      <td>348.06</td>\n",
       "      <td>354.89</td>\n",
       "      <td>344.31</td>\n",
       "      <td>312.04</td>\n",
       "      <td>311.52</td>\n",
       "      <td>316.21</td>\n",
       "      <td>312.80</td>\n",
       "      <td>315.22</td>\n",
       "      <td>317.16</td>\n",
       "      <td>315.17</td>\n",
       "      <td>324.74</td>\n",
       "      <td>291.88</td>\n",
       "      <td>17.08</td>\n",
       "    </tr>\n",
       "    <tr>\n",
       "      <th>asyncio_lightning</th>\n",
       "      <td>350.87</td>\n",
       "      <td>345.12</td>\n",
       "      <td>337.14</td>\n",
       "      <td>323.25</td>\n",
       "      <td>318.03</td>\n",
       "      <td>314.25</td>\n",
       "      <td>321.22</td>\n",
       "      <td>318.25</td>\n",
       "      <td>322.41</td>\n",
       "      <td>321.10</td>\n",
       "      <td>327.16</td>\n",
       "      <td>158.18</td>\n",
       "      <td>12.58</td>\n",
       "    </tr>\n",
       "    <tr>\n",
       "      <th>vanilla_torch</th>\n",
       "      <td>36.48</td>\n",
       "      <td>35.13</td>\n",
       "      <td>33.70</td>\n",
       "      <td>34.71</td>\n",
       "      <td>34.60</td>\n",
       "      <td>35.80</td>\n",
       "      <td>36.42</td>\n",
       "      <td>37.08</td>\n",
       "      <td>36.70</td>\n",
       "      <td>36.96</td>\n",
       "      <td>35.76</td>\n",
       "      <td>1.35</td>\n",
       "      <td>1.16</td>\n",
       "    </tr>\n",
       "    <tr>\n",
       "      <th>vanilla_lightning</th>\n",
       "      <td>8.26</td>\n",
       "      <td>8.43</td>\n",
       "      <td>8.47</td>\n",
       "      <td>8.67</td>\n",
       "      <td>8.70</td>\n",
       "      <td>8.96</td>\n",
       "      <td>9.13</td>\n",
       "      <td>9.08</td>\n",
       "      <td>9.13</td>\n",
       "      <td>8.71</td>\n",
       "      <td>8.75</td>\n",
       "      <td>0.10</td>\n",
       "      <td>0.31</td>\n",
       "    </tr>\n",
       "  </tbody>\n",
       "</table>\n",
       "</div>"
      ],
      "text/plain": [
       "                         0       1       2       3       4       5       6  \\\n",
       "threaded_torch      272.92  294.78  261.80  247.76  251.91  248.40  250.39   \n",
       "threaded_lightning  263.22  277.18  263.24  242.17  246.83  244.47  249.55   \n",
       "asyncio_torch       348.06  354.89  344.31  312.04  311.52  316.21  312.80   \n",
       "asyncio_lightning   350.87  345.12  337.14  323.25  318.03  314.25  321.22   \n",
       "vanilla_torch        36.48   35.13   33.70   34.71   34.60   35.80   36.42   \n",
       "vanilla_lightning     8.26    8.43    8.47    8.67    8.70    8.96    9.13   \n",
       "\n",
       "                         7       8       9    mean     var    std  \n",
       "threaded_torch      248.38  249.02  246.32  257.17  242.72  15.58  \n",
       "threaded_lightning  248.10  248.12  246.08  252.90  125.51  11.20  \n",
       "asyncio_torch       315.22  317.16  315.17  324.74  291.88  17.08  \n",
       "asyncio_lightning   318.25  322.41  321.10  327.16  158.18  12.58  \n",
       "vanilla_torch        37.08   36.70   36.96   35.76    1.35   1.16  \n",
       "vanilla_lightning     9.08    9.13    8.71    8.75    0.10   0.31  "
      ]
     },
     "execution_count": 14,
     "metadata": {},
     "output_type": "execute_result"
    }
   ],
   "source": [
    "df_t_s3 = add_stats(throughput_all_s3)\n",
    "df_t_s3"
   ]
  },
  {
   "cell_type": "code",
   "execution_count": 15,
   "id": "a66683e8",
   "metadata": {},
   "outputs": [
    {
     "data": {
      "text/html": [
       "<div>\n",
       "<style scoped>\n",
       "    .dataframe tbody tr th:only-of-type {\n",
       "        vertical-align: middle;\n",
       "    }\n",
       "\n",
       "    .dataframe tbody tr th {\n",
       "        vertical-align: top;\n",
       "    }\n",
       "\n",
       "    .dataframe thead th {\n",
       "        text-align: right;\n",
       "    }\n",
       "</style>\n",
       "<table border=\"1\" class=\"dataframe\">\n",
       "  <thead>\n",
       "    <tr style=\"text-align: right;\">\n",
       "      <th></th>\n",
       "      <th>0</th>\n",
       "      <th>1</th>\n",
       "      <th>2</th>\n",
       "      <th>3</th>\n",
       "      <th>4</th>\n",
       "      <th>5</th>\n",
       "      <th>6</th>\n",
       "      <th>7</th>\n",
       "      <th>8</th>\n",
       "      <th>9</th>\n",
       "      <th>mean</th>\n",
       "      <th>var</th>\n",
       "      <th>std</th>\n",
       "    </tr>\n",
       "  </thead>\n",
       "  <tbody>\n",
       "    <tr>\n",
       "      <th>threaded_torch</th>\n",
       "      <td>793.21</td>\n",
       "      <td>804.07</td>\n",
       "      <td>846.91</td>\n",
       "      <td>846.52</td>\n",
       "      <td>849.27</td>\n",
       "      <td>851.40</td>\n",
       "      <td>875.69</td>\n",
       "      <td>860.20</td>\n",
       "      <td>854.31</td>\n",
       "      <td>878.20</td>\n",
       "      <td>845.98</td>\n",
       "      <td>752.77</td>\n",
       "      <td>27.44</td>\n",
       "    </tr>\n",
       "    <tr>\n",
       "      <th>threaded_lightning</th>\n",
       "      <td>533.80</td>\n",
       "      <td>531.78</td>\n",
       "      <td>551.25</td>\n",
       "      <td>541.15</td>\n",
       "      <td>545.67</td>\n",
       "      <td>535.15</td>\n",
       "      <td>541.62</td>\n",
       "      <td>539.43</td>\n",
       "      <td>544.67</td>\n",
       "      <td>542.65</td>\n",
       "      <td>540.72</td>\n",
       "      <td>35.13</td>\n",
       "      <td>5.93</td>\n",
       "    </tr>\n",
       "    <tr>\n",
       "      <th>asyncio_torch</th>\n",
       "      <td>726.09</td>\n",
       "      <td>735.19</td>\n",
       "      <td>761.23</td>\n",
       "      <td>735.61</td>\n",
       "      <td>744.70</td>\n",
       "      <td>742.28</td>\n",
       "      <td>732.11</td>\n",
       "      <td>731.20</td>\n",
       "      <td>739.85</td>\n",
       "      <td>729.80</td>\n",
       "      <td>737.81</td>\n",
       "      <td>101.06</td>\n",
       "      <td>10.05</td>\n",
       "    </tr>\n",
       "    <tr>\n",
       "      <th>asyncio_lightning</th>\n",
       "      <td>473.43</td>\n",
       "      <td>473.41</td>\n",
       "      <td>464.34</td>\n",
       "      <td>474.09</td>\n",
       "      <td>467.53</td>\n",
       "      <td>465.69</td>\n",
       "      <td>469.47</td>\n",
       "      <td>471.33</td>\n",
       "      <td>467.68</td>\n",
       "      <td>467.40</td>\n",
       "      <td>469.44</td>\n",
       "      <td>11.98</td>\n",
       "      <td>3.46</td>\n",
       "    </tr>\n",
       "    <tr>\n",
       "      <th>vanilla_torch</th>\n",
       "      <td>461.66</td>\n",
       "      <td>496.68</td>\n",
       "      <td>506.72</td>\n",
       "      <td>507.80</td>\n",
       "      <td>505.99</td>\n",
       "      <td>508.01</td>\n",
       "      <td>509.08</td>\n",
       "      <td>501.21</td>\n",
       "      <td>504.72</td>\n",
       "      <td>507.37</td>\n",
       "      <td>500.92</td>\n",
       "      <td>204.33</td>\n",
       "      <td>14.29</td>\n",
       "    </tr>\n",
       "    <tr>\n",
       "      <th>vanilla_lightning</th>\n",
       "      <td>128.40</td>\n",
       "      <td>139.42</td>\n",
       "      <td>140.62</td>\n",
       "      <td>141.74</td>\n",
       "      <td>140.57</td>\n",
       "      <td>141.50</td>\n",
       "      <td>139.35</td>\n",
       "      <td>139.86</td>\n",
       "      <td>140.92</td>\n",
       "      <td>140.50</td>\n",
       "      <td>139.29</td>\n",
       "      <td>15.26</td>\n",
       "      <td>3.91</td>\n",
       "    </tr>\n",
       "  </tbody>\n",
       "</table>\n",
       "</div>"
      ],
      "text/plain": [
       "                         0       1       2       3       4       5       6  \\\n",
       "threaded_torch      793.21  804.07  846.91  846.52  849.27  851.40  875.69   \n",
       "threaded_lightning  533.80  531.78  551.25  541.15  545.67  535.15  541.62   \n",
       "asyncio_torch       726.09  735.19  761.23  735.61  744.70  742.28  732.11   \n",
       "asyncio_lightning   473.43  473.41  464.34  474.09  467.53  465.69  469.47   \n",
       "vanilla_torch       461.66  496.68  506.72  507.80  505.99  508.01  509.08   \n",
       "vanilla_lightning   128.40  139.42  140.62  141.74  140.57  141.50  139.35   \n",
       "\n",
       "                         7       8       9    mean     var    std  \n",
       "threaded_torch      860.20  854.31  878.20  845.98  752.77  27.44  \n",
       "threaded_lightning  539.43  544.67  542.65  540.72   35.13   5.93  \n",
       "asyncio_torch       731.20  739.85  729.80  737.81  101.06  10.05  \n",
       "asyncio_lightning   471.33  467.68  467.40  469.44   11.98   3.46  \n",
       "vanilla_torch       501.21  504.72  507.37  500.92  204.33  14.29  \n",
       "vanilla_lightning   139.86  140.92  140.50  139.29   15.26   3.91  "
      ]
     },
     "execution_count": 15,
     "metadata": {},
     "output_type": "execute_result"
    }
   ],
   "source": [
    "df_t_scratch = add_stats(throughput_all_scratch)\n",
    "df_t_scratch"
   ]
  },
  {
   "cell_type": "code",
   "execution_count": 16,
   "id": "728a610f",
   "metadata": {},
   "outputs": [
    {
     "data": {
      "image/png": "[encoded data removed]",
      "text/plain": [
       "<Figure size 720x720 with 1 Axes>"
      ]
     },
     "metadata": {
      "needs_background": "light"
     },
     "output_type": "display_data"
    },
    {
     "data": {
      "image/png": "[encoded data removed]",
      "text/plain": [
       "<Figure size 720x720 with 1 Axes>"
      ]
     },
     "metadata": {
      "needs_background": "light"
     },
     "output_type": "display_data"
    }
   ],
   "source": [
    "plot_violins(df_t_s3, \"TU Remote storage - AWS S3\", \"Throughput [Mbps]\")\n",
    "plot_violins(df_t_scratch, \"TU Local storage\", \"Throughput [Mbps]\")"
   ]
  },
  {
   "cell_type": "markdown",
   "id": "6badcd77",
   "metadata": {},
   "source": [
    "### IARAI environment"
   ]
  },
  {
   "cell_type": "code",
   "execution_count": 17,
   "id": "0db2a9d2",
   "metadata": {
    "scrolled": true
   },
   "outputs": [
    {
     "name": "stdout",
     "output_type": "stream",
     "text": [
      "Working with 1\n"
     ]
    },
    {
     "name": "stderr",
     "output_type": "stream",
     "text": [
      "100%|████████████████████████████████████████████████████████████████████████████████████████████████████████████████████████████████████████████████████████████████████████████████████████████| 216/216 [00:01<00:00, 187.64it/s]\n"
     ]
    },
    {
     "name": "stdout",
     "output_type": "stream",
     "text": [
      "Unique functions: ['batch' 'next_data' 'run_training_batch' 'training_batch_to_device']\n"
     ]
    },
    {
     "name": "stderr",
     "output_type": "stream",
     "text": [
      "100%|████████████████████████████████████████████████████████████████████████████████████████████████████████████████████████████████████████████████████████████████████████████████████████████| 216/216 [00:00<00:00, 365.23it/s]\n"
     ]
    },
    {
     "name": "stdout",
     "output_type": "stream",
     "text": [
      "Dataset:  15000\n",
      "Batch size: 256\n",
      "Epochs:  10\n",
      "Images total:  150000\n",
      "Batches per epoch 59\n",
      "Images total (rounded):  151040\n",
      "timestamp False\n",
      "Dataset:  15000\n",
      "Batch size: 256\n",
      "Epochs:  10\n",
      "Images total:  150000\n",
      "Batches per epoch 59\n",
      "Images total (rounded):  151040\n",
      "timestamp False\n",
      "Dataset:  15000\n",
      "Batch size: 256\n",
      "Epochs:  10\n",
      "Images total:  150000\n",
      "Batches per epoch 59\n",
      "Images total (rounded):  151040\n",
      "timestamp False\n",
      "Dataset:  15000\n",
      "Batch size: 256\n",
      "Epochs:  10\n",
      "Images total:  150000\n",
      "Batches per epoch 59\n",
      "Images total (rounded):  151040\n",
      "timestamp False\n",
      "Dataset:  15000\n",
      "Batch size: 256\n",
      "Epochs:  10\n",
      "Images total:  150000\n",
      "Batches per epoch 59\n",
      "Images total (rounded):  151040\n",
      "timestamp False\n",
      "Dataset:  15000\n",
      "Batch size: 256\n",
      "Epochs:  10\n",
      "Images total:  150000\n",
      "Batches per epoch 59\n",
      "Images total (rounded):  151040\n",
      "timestamp False\n"
     ]
    },
    {
     "name": "stderr",
     "output_type": "stream",
     "text": [
      "100%|█████████████████████████████████████████████████████████████████████████████████████████████████████████████████████████████████████████████████████████████████████████████████████████████| 216/216 [00:21<00:00,  9.94it/s]\n"
     ]
    },
    {
     "name": "stdout",
     "output_type": "stream",
     "text": [
      "Working with 2\n"
     ]
    },
    {
     "name": "stderr",
     "output_type": "stream",
     "text": [
      "100%|████████████████████████████████████████████████████████████████████████████████████████████████████████████████████████████████████████████████████████████████████████████████████████████| 216/216 [00:01<00:00, 193.55it/s]\n"
     ]
    },
    {
     "name": "stdout",
     "output_type": "stream",
     "text": [
      "Unique functions: ['batch' 'next_data' 'run_training_batch' 'training_batch_to_device']\n"
     ]
    },
    {
     "name": "stderr",
     "output_type": "stream",
     "text": [
      "100%|████████████████████████████████████████████████████████████████████████████████████████████████████████████████████████████████████████████████████████████████████████████████████████████| 216/216 [00:00<00:00, 333.82it/s]\n"
     ]
    },
    {
     "name": "stdout",
     "output_type": "stream",
     "text": [
      "Dataset:  15000\n",
      "Batch size: 256\n",
      "Epochs:  10\n",
      "Images total:  150000\n",
      "Batches per epoch 59\n",
      "Images total (rounded):  151040\n",
      "timestamp False\n",
      "Dataset:  15000\n",
      "Batch size: 256\n",
      "Epochs:  10\n",
      "Images total:  150000\n",
      "Batches per epoch 59\n",
      "Images total (rounded):  151040\n",
      "timestamp False\n",
      "Dataset:  15000\n",
      "Batch size: 256\n",
      "Epochs:  10\n",
      "Images total:  150000\n",
      "Batches per epoch 59\n",
      "Images total (rounded):  151040\n",
      "timestamp False\n",
      "Dataset:  15000\n",
      "Batch size: 256\n",
      "Epochs:  10\n",
      "Images total:  150000\n",
      "Batches per epoch 59\n",
      "Images total (rounded):  151040\n",
      "timestamp False\n",
      "Dataset:  15000\n",
      "Batch size: 256\n",
      "Epochs:  10\n",
      "Images total:  150000\n",
      "Batches per epoch 59\n",
      "Images total (rounded):  151040\n",
      "timestamp False\n",
      "Dataset:  15000\n",
      "Batch size: 256\n",
      "Epochs:  10\n",
      "Images total:  150000\n",
      "Batches per epoch 59\n",
      "Images total (rounded):  151040\n",
      "timestamp False\n"
     ]
    },
    {
     "name": "stderr",
     "output_type": "stream",
     "text": [
      "100%|█████████████████████████████████████████████████████████████████████████████████████████████████████████████████████████████████████████████████████████████████████████████████████████████| 216/216 [00:21<00:00, 10.09it/s]\n"
     ]
    },
    {
     "name": "stdout",
     "output_type": "stream",
     "text": [
      "Working with 3\n"
     ]
    },
    {
     "name": "stderr",
     "output_type": "stream",
     "text": [
      "100%|████████████████████████████████████████████████████████████████████████████████████████████████████████████████████████████████████████████████████████████████████████████████████████████| 216/216 [00:01<00:00, 184.74it/s]\n"
     ]
    },
    {
     "name": "stdout",
     "output_type": "stream",
     "text": [
      "Unique functions: ['batch' 'next_data' 'run_training_batch' 'training_batch_to_device']\n"
     ]
    },
    {
     "name": "stderr",
     "output_type": "stream",
     "text": [
      "100%|████████████████████████████████████████████████████████████████████████████████████████████████████████████████████████████████████████████████████████████████████████████████████████████| 216/216 [00:00<00:00, 282.16it/s]\n"
     ]
    },
    {
     "name": "stdout",
     "output_type": "stream",
     "text": [
      "Dataset:  15000\n",
      "Batch size: 256\n",
      "Epochs:  10\n",
      "Images total:  150000\n",
      "Batches per epoch 59\n",
      "Images total (rounded):  151040\n",
      "timestamp False\n",
      "Dataset:  15000\n",
      "Batch size: 256\n",
      "Epochs:  10\n",
      "Images total:  150000\n",
      "Batches per epoch 59\n",
      "Images total (rounded):  151040\n",
      "timestamp False\n",
      "Dataset:  15000\n",
      "Batch size: 256\n",
      "Epochs:  10\n",
      "Images total:  150000\n",
      "Batches per epoch 59\n",
      "Images total (rounded):  151040\n",
      "timestamp False\n",
      "Dataset:  15000\n",
      "Batch size: 256\n",
      "Epochs:  10\n",
      "Images total:  150000\n",
      "Batches per epoch 59\n",
      "Images total (rounded):  151040\n",
      "timestamp False\n",
      "Dataset:  15000\n",
      "Batch size: 256\n",
      "Epochs:  10\n",
      "Images total:  150000\n",
      "Batches per epoch 59\n",
      "Images total (rounded):  151040\n",
      "timestamp False\n",
      "Dataset:  15000\n",
      "Batch size: 256\n",
      "Epochs:  10\n",
      "Images total:  150000\n",
      "Batches per epoch 59\n",
      "Images total (rounded):  151040\n",
      "timestamp False\n"
     ]
    },
    {
     "name": "stderr",
     "output_type": "stream",
     "text": [
      "100%|█████████████████████████████████████████████████████████████████████████████████████████████████████████████████████████████████████████████████████████████████████████████████████████████| 216/216 [00:25<00:00,  8.31it/s]\n"
     ]
    },
    {
     "name": "stdout",
     "output_type": "stream",
     "text": [
      "Working with 4\n"
     ]
    },
    {
     "name": "stderr",
     "output_type": "stream",
     "text": [
      "100%|████████████████████████████████████████████████████████████████████████████████████████████████████████████████████████████████████████████████████████████████████████████████████████████| 216/216 [00:01<00:00, 200.20it/s]\n"
     ]
    },
    {
     "name": "stdout",
     "output_type": "stream",
     "text": [
      "Unique functions: ['batch' 'next_data' 'run_training_batch' 'training_batch_to_device']\n"
     ]
    },
    {
     "name": "stderr",
     "output_type": "stream",
     "text": [
      "100%|████████████████████████████████████████████████████████████████████████████████████████████████████████████████████████████████████████████████████████████████████████████████████████████| 216/216 [00:00<00:00, 291.21it/s]\n"
     ]
    },
    {
     "name": "stdout",
     "output_type": "stream",
     "text": [
      "Dataset:  15000\n",
      "Batch size: 256\n",
      "Epochs:  10\n",
      "Images total:  150000\n",
      "Batches per epoch 59\n",
      "Images total (rounded):  151040\n",
      "timestamp False\n",
      "Dataset:  15000\n",
      "Batch size: 256\n",
      "Epochs:  10\n",
      "Images total:  150000\n",
      "Batches per epoch 59\n",
      "Images total (rounded):  151040\n",
      "timestamp False\n",
      "Dataset:  15000\n",
      "Batch size: 256\n",
      "Epochs:  10\n",
      "Images total:  150000\n",
      "Batches per epoch 59\n",
      "Images total (rounded):  151040\n",
      "timestamp False\n",
      "Dataset:  15000\n",
      "Batch size: 256\n",
      "Epochs:  10\n",
      "Images total:  150000\n",
      "Batches per epoch 59\n",
      "Images total (rounded):  151040\n",
      "timestamp False\n",
      "Dataset:  15000\n",
      "Batch size: 256\n",
      "Epochs:  10\n",
      "Images total:  150000\n",
      "Batches per epoch 59\n",
      "Images total (rounded):  151040\n",
      "timestamp False\n",
      "Dataset:  15000\n",
      "Batch size: 256\n",
      "Epochs:  10\n",
      "Images total:  150000\n",
      "Batches per epoch 59\n",
      "Images total (rounded):  151040\n",
      "timestamp False\n"
     ]
    },
    {
     "name": "stderr",
     "output_type": "stream",
     "text": [
      "100%|█████████████████████████████████████████████████████████████████████████████████████████████████████████████████████████████████████████████████████████████████████████████████████████████| 216/216 [00:23<00:00,  9.35it/s]\n"
     ]
    },
    {
     "name": "stdout",
     "output_type": "stream",
     "text": [
      "Working with 5\n"
     ]
    },
    {
     "name": "stderr",
     "output_type": "stream",
     "text": [
      "100%|████████████████████████████████████████████████████████████████████████████████████████████████████████████████████████████████████████████████████████████████████████████████████████████| 216/216 [00:01<00:00, 199.33it/s]\n"
     ]
    },
    {
     "name": "stdout",
     "output_type": "stream",
     "text": [
      "Unique functions: ['batch' 'next_data' 'run_training_batch' 'training_batch_to_device']\n"
     ]
    },
    {
     "name": "stderr",
     "output_type": "stream",
     "text": [
      "100%|████████████████████████████████████████████████████████████████████████████████████████████████████████████████████████████████████████████████████████████████████████████████████████████| 216/216 [00:00<00:00, 407.24it/s]\n"
     ]
    },
    {
     "name": "stdout",
     "output_type": "stream",
     "text": [
      "Dataset:  15000\n",
      "Batch size: 256\n",
      "Epochs:  10\n",
      "Images total:  150000\n",
      "Batches per epoch 59\n",
      "Images total (rounded):  151040\n",
      "timestamp False\n",
      "Dataset:  15000\n",
      "Batch size: 256\n",
      "Epochs:  10\n",
      "Images total:  150000\n",
      "Batches per epoch 59\n",
      "Images total (rounded):  151040\n",
      "timestamp False\n",
      "Dataset:  15000\n",
      "Batch size: 256\n",
      "Epochs:  10\n",
      "Images total:  150000\n",
      "Batches per epoch 59\n",
      "Images total (rounded):  151040\n",
      "timestamp False\n",
      "Dataset:  15000\n",
      "Batch size: 256\n",
      "Epochs:  10\n",
      "Images total:  150000\n",
      "Batches per epoch 59\n",
      "Images total (rounded):  151040\n",
      "timestamp False\n",
      "Dataset:  15000\n",
      "Batch size: 256\n",
      "Epochs:  10\n",
      "Images total:  150000\n",
      "Batches per epoch 59\n",
      "Images total (rounded):  151040\n",
      "timestamp False\n",
      "Dataset:  15000\n",
      "Batch size: 256\n",
      "Epochs:  10\n",
      "Images total:  150000\n",
      "Batches per epoch 59\n",
      "Images total (rounded):  151040\n",
      "timestamp False\n"
     ]
    },
    {
     "name": "stderr",
     "output_type": "stream",
     "text": [
      "100%|█████████████████████████████████████████████████████████████████████████████████████████████████████████████████████████████████████████████████████████████████████████████████████████████| 216/216 [00:23<00:00,  9.28it/s]\n"
     ]
    },
    {
     "name": "stdout",
     "output_type": "stream",
     "text": [
      "Working with 6\n"
     ]
    },
    {
     "name": "stderr",
     "output_type": "stream",
     "text": [
      "100%|████████████████████████████████████████████████████████████████████████████████████████████████████████████████████████████████████████████████████████████████████████████████████████████| 216/216 [00:01<00:00, 210.15it/s]\n"
     ]
    },
    {
     "name": "stdout",
     "output_type": "stream",
     "text": [
      "Unique functions: ['batch' 'next_data' 'run_training_batch' 'training_batch_to_device']\n"
     ]
    },
    {
     "name": "stderr",
     "output_type": "stream",
     "text": [
      "100%|████████████████████████████████████████████████████████████████████████████████████████████████████████████████████████████████████████████████████████████████████████████████████████████| 216/216 [00:00<00:00, 322.49it/s]\n"
     ]
    },
    {
     "name": "stdout",
     "output_type": "stream",
     "text": [
      "Dataset:  15000\n",
      "Batch size: 256\n",
      "Epochs:  10\n",
      "Images total:  150000\n",
      "Batches per epoch 59\n",
      "Images total (rounded):  151040\n",
      "timestamp False\n",
      "Dataset:  15000\n",
      "Batch size: 256\n",
      "Epochs:  10\n",
      "Images total:  150000\n",
      "Batches per epoch 59\n",
      "Images total (rounded):  151040\n",
      "timestamp False\n",
      "Dataset:  15000\n",
      "Batch size: 256\n",
      "Epochs:  10\n",
      "Images total:  150000\n",
      "Batches per epoch 59\n",
      "Images total (rounded):  151040\n",
      "timestamp False\n",
      "Dataset:  15000\n",
      "Batch size: 256\n",
      "Epochs:  10\n",
      "Images total:  150000\n",
      "Batches per epoch 59\n",
      "Images total (rounded):  151040\n",
      "timestamp False\n",
      "Dataset:  15000\n",
      "Batch size: 256\n",
      "Epochs:  10\n",
      "Images total:  150000\n",
      "Batches per epoch 59\n",
      "Images total (rounded):  151040\n",
      "timestamp False\n",
      "Dataset:  15000\n",
      "Batch size: 256\n",
      "Epochs:  10\n",
      "Images total:  150000\n",
      "Batches per epoch 59\n",
      "Images total (rounded):  151040\n",
      "timestamp False\n"
     ]
    },
    {
     "name": "stderr",
     "output_type": "stream",
     "text": [
      "100%|█████████████████████████████████████████████████████████████████████████████████████████████████████████████████████████████████████████████████████████████████████████████████████████████| 216/216 [00:22<00:00,  9.60it/s]\n"
     ]
    },
    {
     "name": "stdout",
     "output_type": "stream",
     "text": [
      "Working with 7\n"
     ]
    },
    {
     "name": "stderr",
     "output_type": "stream",
     "text": [
      "100%|████████████████████████████████████████████████████████████████████████████████████████████████████████████████████████████████████████████████████████████████████████████████████████████| 216/216 [00:01<00:00, 203.79it/s]\n"
     ]
    },
    {
     "name": "stdout",
     "output_type": "stream",
     "text": [
      "Unique functions: ['batch' 'next_data' 'run_training_batch' 'training_batch_to_device']\n"
     ]
    },
    {
     "name": "stderr",
     "output_type": "stream",
     "text": [
      "100%|████████████████████████████████████████████████████████████████████████████████████████████████████████████████████████████████████████████████████████████████████████████████████████████| 216/216 [00:00<00:00, 329.69it/s]\n"
     ]
    },
    {
     "name": "stdout",
     "output_type": "stream",
     "text": [
      "Dataset:  15000\n",
      "Batch size: 256\n",
      "Epochs:  10\n",
      "Images total:  150000\n",
      "Batches per epoch 59\n",
      "Images total (rounded):  151040\n",
      "timestamp False\n",
      "Dataset:  15000\n",
      "Batch size: 256\n",
      "Epochs:  10\n",
      "Images total:  150000\n",
      "Batches per epoch 59\n",
      "Images total (rounded):  151040\n",
      "timestamp False\n",
      "Dataset:  15000\n",
      "Batch size: 256\n",
      "Epochs:  10\n",
      "Images total:  150000\n",
      "Batches per epoch 59\n",
      "Images total (rounded):  151040\n",
      "timestamp False\n",
      "Dataset:  15000\n",
      "Batch size: 256\n",
      "Epochs:  10\n",
      "Images total:  150000\n",
      "Batches per epoch 59\n",
      "Images total (rounded):  151040\n",
      "timestamp False\n",
      "Dataset:  15000\n",
      "Batch size: 256\n",
      "Epochs:  10\n",
      "Images total:  150000\n",
      "Batches per epoch 59\n",
      "Images total (rounded):  151040\n",
      "timestamp False\n",
      "Dataset:  15000\n",
      "Batch size: 256\n",
      "Epochs:  10\n",
      "Images total:  150000\n",
      "Batches per epoch 59\n",
      "Images total (rounded):  151040\n",
      "timestamp False\n"
     ]
    },
    {
     "name": "stderr",
     "output_type": "stream",
     "text": [
      "100%|█████████████████████████████████████████████████████████████████████████████████████████████████████████████████████████████████████████████████████████████████████████████████████████████| 216/216 [00:23<00:00,  9.17it/s]\n"
     ]
    },
    {
     "name": "stdout",
     "output_type": "stream",
     "text": [
      "Working with 8\n"
     ]
    },
    {
     "name": "stderr",
     "output_type": "stream",
     "text": [
      "100%|████████████████████████████████████████████████████████████████████████████████████████████████████████████████████████████████████████████████████████████████████████████████████████████| 216/216 [00:01<00:00, 213.34it/s]\n"
     ]
    },
    {
     "name": "stdout",
     "output_type": "stream",
     "text": [
      "Unique functions: ['batch' 'next_data' 'run_training_batch' 'training_batch_to_device']\n"
     ]
    },
    {
     "name": "stderr",
     "output_type": "stream",
     "text": [
      "100%|████████████████████████████████████████████████████████████████████████████████████████████████████████████████████████████████████████████████████████████████████████████████████████████| 216/216 [00:00<00:00, 382.88it/s]\n"
     ]
    },
    {
     "name": "stdout",
     "output_type": "stream",
     "text": [
      "Dataset:  15000\n",
      "Batch size: 256\n",
      "Epochs:  10\n",
      "Images total:  150000\n",
      "Batches per epoch 59\n",
      "Images total (rounded):  151040\n",
      "timestamp False\n",
      "Dataset:  15000\n",
      "Batch size: 256\n",
      "Epochs:  10\n",
      "Images total:  150000\n",
      "Batches per epoch 59\n",
      "Images total (rounded):  151040\n",
      "timestamp False\n",
      "Dataset:  15000\n",
      "Batch size: 256\n",
      "Epochs:  10\n",
      "Images total:  150000\n",
      "Batches per epoch 59\n",
      "Images total (rounded):  151040\n",
      "timestamp False\n",
      "Dataset:  15000\n",
      "Batch size: 256\n",
      "Epochs:  10\n",
      "Images total:  150000\n",
      "Batches per epoch 59\n",
      "Images total (rounded):  151040\n",
      "timestamp False\n",
      "Dataset:  15000\n",
      "Batch size: 256\n",
      "Epochs:  10\n",
      "Images total:  150000\n",
      "Batches per epoch 59\n",
      "Images total (rounded):  151040\n",
      "timestamp False\n",
      "Dataset:  15000\n",
      "Batch size: 256\n",
      "Epochs:  10\n",
      "Images total:  150000\n",
      "Batches per epoch 59\n",
      "Images total (rounded):  151040\n",
      "timestamp False\n"
     ]
    },
    {
     "name": "stderr",
     "output_type": "stream",
     "text": [
      "100%|█████████████████████████████████████████████████████████████████████████████████████████████████████████████████████████████████████████████████████████████████████████████████████████████| 216/216 [00:21<00:00, 10.25it/s]\n"
     ]
    },
    {
     "name": "stdout",
     "output_type": "stream",
     "text": [
      "Working with 9\n"
     ]
    },
    {
     "name": "stderr",
     "output_type": "stream",
     "text": [
      "100%|████████████████████████████████████████████████████████████████████████████████████████████████████████████████████████████████████████████████████████████████████████████████████████████| 216/216 [00:01<00:00, 213.41it/s]\n"
     ]
    },
    {
     "name": "stdout",
     "output_type": "stream",
     "text": [
      "Unique functions: ['batch' 'next_data' 'run_training_batch' 'training_batch_to_device']\n"
     ]
    },
    {
     "name": "stderr",
     "output_type": "stream",
     "text": [
      "100%|████████████████████████████████████████████████████████████████████████████████████████████████████████████████████████████████████████████████████████████████████████████████████████████| 216/216 [00:00<00:00, 501.71it/s]\n"
     ]
    },
    {
     "name": "stdout",
     "output_type": "stream",
     "text": [
      "Dataset:  15000\n",
      "Batch size: 256\n",
      "Epochs:  10\n",
      "Images total:  150000\n",
      "Batches per epoch 59\n",
      "Images total (rounded):  151040\n",
      "timestamp False\n",
      "Dataset:  15000\n",
      "Batch size: 256\n",
      "Epochs:  10\n",
      "Images total:  150000\n",
      "Batches per epoch 59\n",
      "Images total (rounded):  151040\n",
      "timestamp False\n",
      "Dataset:  15000\n",
      "Batch size: 256\n",
      "Epochs:  10\n",
      "Images total:  150000\n",
      "Batches per epoch 59\n",
      "Images total (rounded):  151040\n",
      "timestamp False\n",
      "Dataset:  15000\n",
      "Batch size: 256\n",
      "Epochs:  10\n",
      "Images total:  150000\n",
      "Batches per epoch 59\n",
      "Images total (rounded):  151040\n",
      "timestamp False\n",
      "Dataset:  15000\n",
      "Batch size: 256\n",
      "Epochs:  10\n",
      "Images total:  150000\n",
      "Batches per epoch 59\n",
      "Images total (rounded):  151040\n",
      "timestamp False\n",
      "Dataset:  15000\n",
      "Batch size: 256\n",
      "Epochs:  10\n",
      "Images total:  150000\n",
      "Batches per epoch 59\n",
      "Images total (rounded):  151040\n",
      "timestamp False\n"
     ]
    },
    {
     "name": "stderr",
     "output_type": "stream",
     "text": [
      "100%|█████████████████████████████████████████████████████████████████████████████████████████████████████████████████████████████████████████████████████████████████████████████████████████████| 216/216 [00:23<00:00,  9.37it/s]\n"
     ]
    },
    {
     "name": "stdout",
     "output_type": "stream",
     "text": [
      "Working with 10\n"
     ]
    },
    {
     "name": "stderr",
     "output_type": "stream",
     "text": [
      "100%|████████████████████████████████████████████████████████████████████████████████████████████████████████████████████████████████████████████████████████████████████████████████████████████| 216/216 [00:01<00:00, 211.45it/s]\n"
     ]
    },
    {
     "name": "stdout",
     "output_type": "stream",
     "text": [
      "Unique functions: ['batch' 'next_data' 'run_training_batch' 'training_batch_to_device']\n"
     ]
    },
    {
     "name": "stderr",
     "output_type": "stream",
     "text": [
      "100%|████████████████████████████████████████████████████████████████████████████████████████████████████████████████████████████████████████████████████████████████████████████████████████████| 216/216 [00:00<00:00, 428.82it/s]\n"
     ]
    },
    {
     "name": "stdout",
     "output_type": "stream",
     "text": [
      "Dataset:  15000\n",
      "Batch size: 256\n",
      "Epochs:  10\n",
      "Images total:  150000\n",
      "Batches per epoch 59\n",
      "Images total (rounded):  151040\n",
      "timestamp False\n",
      "Dataset:  15000\n",
      "Batch size: 256\n",
      "Epochs:  10\n",
      "Images total:  150000\n",
      "Batches per epoch 59\n",
      "Images total (rounded):  151040\n",
      "timestamp False\n",
      "Dataset:  15000\n",
      "Batch size: 256\n",
      "Epochs:  10\n",
      "Images total:  150000\n",
      "Batches per epoch 59\n",
      "Images total (rounded):  151040\n",
      "timestamp False\n",
      "Dataset:  15000\n",
      "Batch size: 256\n",
      "Epochs:  10\n",
      "Images total:  150000\n",
      "Batches per epoch 59\n",
      "Images total (rounded):  151040\n",
      "timestamp False\n",
      "Dataset:  15000\n",
      "Batch size: 256\n",
      "Epochs:  10\n",
      "Images total:  150000\n",
      "Batches per epoch 59\n",
      "Images total (rounded):  151040\n",
      "timestamp False\n",
      "Dataset:  15000\n",
      "Batch size: 256\n",
      "Epochs:  10\n",
      "Images total:  150000\n",
      "Batches per epoch 59\n",
      "Images total (rounded):  151040\n",
      "timestamp False\n"
     ]
    },
    {
     "name": "stderr",
     "output_type": "stream",
     "text": [
      "100%|█████████████████████████████████████████████████████████████████████████████████████████████████████████████████████████████████████████████████████████████████████████████████████████████| 216/216 [00:20<00:00, 10.35it/s]\n"
     ]
    },
    {
     "name": "stdout",
     "output_type": "stream",
     "text": [
      "Working with 1\n"
     ]
    },
    {
     "name": "stderr",
     "output_type": "stream",
     "text": [
      "100%|████████████████████████████████████████████████████████████████████████████████████████████████████████████████████████████████████████████████████████████████████████████████████████████| 216/216 [00:01<00:00, 210.33it/s]\n"
     ]
    },
    {
     "name": "stdout",
     "output_type": "stream",
     "text": [
      "Unique functions: ['batch' 'next_data' 'run_training_batch' 'training_batch_to_device']\n"
     ]
    },
    {
     "name": "stderr",
     "output_type": "stream",
     "text": [
      "100%|███████████████████████████████████████████████████████████████████████████████████████████████████████████████████████████████████████████████████████████████████████████████████████████| 216/216 [00:00<00:00, 4518.69it/s]\n"
     ]
    },
    {
     "name": "stdout",
     "output_type": "stream",
     "text": [
      "Dataset:  15000\n",
      "Batch size: 256\n",
      "Epochs:  10\n",
      "Images total:  150000\n",
      "Batches per epoch 59\n",
      "Images total (rounded):  151040\n",
      "timestamp False\n",
      "Dataset:  15000\n",
      "Batch size: 256\n",
      "Epochs:  10\n",
      "Images total:  150000\n",
      "Batches per epoch 59\n",
      "Images total (rounded):  151040\n",
      "timestamp False\n",
      "Dataset:  15000\n",
      "Batch size: 256\n",
      "Epochs:  10\n",
      "Images total:  150000\n",
      "Batches per epoch 59\n",
      "Images total (rounded):  151040\n",
      "timestamp False\n",
      "Dataset:  15000\n",
      "Batch size: 256\n",
      "Epochs:  10\n",
      "Images total:  150000\n",
      "Batches per epoch 59\n",
      "Images total (rounded):  151040\n",
      "timestamp False\n",
      "Dataset:  15000\n",
      "Batch size: 256\n",
      "Epochs:  10\n",
      "Images total:  150000\n",
      "Batches per epoch 59\n",
      "Images total (rounded):  151040\n",
      "timestamp False\n",
      "Dataset:  15000\n",
      "Batch size: 256\n",
      "Epochs:  10\n",
      "Images total:  150000\n",
      "Batches per epoch 59\n",
      "Images total (rounded):  151040\n",
      "timestamp False\n"
     ]
    },
    {
     "name": "stderr",
     "output_type": "stream",
     "text": [
      "100%|█████████████████████████████████████████████████████████████████████████████████████████████████████████████████████████████████████████████████████████████████████████████████████████████| 216/216 [00:21<00:00, 10.17it/s]\n"
     ]
    },
    {
     "name": "stdout",
     "output_type": "stream",
     "text": [
      "Working with 2\n"
     ]
    },
    {
     "name": "stderr",
     "output_type": "stream",
     "text": [
      "100%|████████████████████████████████████████████████████████████████████████████████████████████████████████████████████████████████████████████████████████████████████████████████████████████| 216/216 [00:01<00:00, 203.27it/s]\n"
     ]
    },
    {
     "name": "stdout",
     "output_type": "stream",
     "text": [
      "Unique functions: ['batch' 'next_data' 'run_training_batch' 'training_batch_to_device']\n"
     ]
    },
    {
     "name": "stderr",
     "output_type": "stream",
     "text": [
      "100%|███████████████████████████████████████████████████████████████████████████████████████████████████████████████████████████████████████████████████████████████████████████████████████████| 216/216 [00:00<00:00, 4581.92it/s]\n"
     ]
    },
    {
     "name": "stdout",
     "output_type": "stream",
     "text": [
      "Dataset:  15000\n",
      "Batch size: 256\n",
      "Epochs:  10\n",
      "Images total:  150000\n",
      "Batches per epoch 59\n",
      "Images total (rounded):  151040\n",
      "timestamp False\n",
      "Dataset:  15000\n",
      "Batch size: 256\n",
      "Epochs:  10\n",
      "Images total:  150000\n",
      "Batches per epoch 59\n",
      "Images total (rounded):  151040\n",
      "timestamp False\n",
      "Dataset:  15000\n",
      "Batch size: 256\n",
      "Epochs:  10\n",
      "Images total:  150000\n",
      "Batches per epoch 59\n",
      "Images total (rounded):  151040\n",
      "timestamp False\n",
      "Dataset:  15000\n",
      "Batch size: 256\n",
      "Epochs:  10\n",
      "Images total:  150000\n",
      "Batches per epoch 59\n",
      "Images total (rounded):  151040\n",
      "timestamp False\n",
      "Dataset:  15000\n",
      "Batch size: 256\n",
      "Epochs:  10\n",
      "Images total:  150000\n",
      "Batches per epoch 59\n",
      "Images total (rounded):  151040\n",
      "timestamp False\n",
      "Dataset:  15000\n",
      "Batch size: 256\n",
      "Epochs:  10\n",
      "Images total:  150000\n",
      "Batches per epoch 59\n",
      "Images total (rounded):  151040\n",
      "timestamp False\n"
     ]
    },
    {
     "name": "stderr",
     "output_type": "stream",
     "text": [
      "100%|█████████████████████████████████████████████████████████████████████████████████████████████████████████████████████████████████████████████████████████████████████████████████████████████| 216/216 [00:20<00:00, 10.71it/s]\n"
     ]
    },
    {
     "name": "stdout",
     "output_type": "stream",
     "text": [
      "Working with 3\n"
     ]
    },
    {
     "name": "stderr",
     "output_type": "stream",
     "text": [
      "100%|████████████████████████████████████████████████████████████████████████████████████████████████████████████████████████████████████████████████████████████████████████████████████████████| 216/216 [00:01<00:00, 203.08it/s]\n"
     ]
    },
    {
     "name": "stdout",
     "output_type": "stream",
     "text": [
      "Unique functions: ['batch' 'next_data' 'run_training_batch' 'training_batch_to_device']\n"
     ]
    },
    {
     "name": "stderr",
     "output_type": "stream",
     "text": [
      "100%|███████████████████████████████████████████████████████████████████████████████████████████████████████████████████████████████████████████████████████████████████████████████████████████| 216/216 [00:00<00:00, 3621.85it/s]\n"
     ]
    },
    {
     "name": "stdout",
     "output_type": "stream",
     "text": [
      "Dataset:  15000\n",
      "Batch size: 256\n",
      "Epochs:  10\n",
      "Images total:  150000\n",
      "Batches per epoch 59\n",
      "Images total (rounded):  151040\n",
      "timestamp False\n",
      "Dataset:  15000\n",
      "Batch size: 256\n",
      "Epochs:  10\n",
      "Images total:  150000\n",
      "Batches per epoch 59\n",
      "Images total (rounded):  151040\n",
      "timestamp False\n",
      "Dataset:  15000\n",
      "Batch size: 256\n",
      "Epochs:  10\n",
      "Images total:  150000\n",
      "Batches per epoch 59\n",
      "Images total (rounded):  151040\n",
      "timestamp False\n",
      "Dataset:  15000\n",
      "Batch size: 256\n",
      "Epochs:  10\n",
      "Images total:  150000\n",
      "Batches per epoch 59\n",
      "Images total (rounded):  151040\n",
      "timestamp False\n",
      "Dataset:  15000\n",
      "Batch size: 256\n",
      "Epochs:  10\n",
      "Images total:  150000\n",
      "Batches per epoch 59\n",
      "Images total (rounded):  151040\n",
      "timestamp False\n",
      "Dataset:  15000\n",
      "Batch size: 256\n",
      "Epochs:  10\n",
      "Images total:  150000\n",
      "Batches per epoch 59\n",
      "Images total (rounded):  151040\n",
      "timestamp False\n"
     ]
    },
    {
     "name": "stderr",
     "output_type": "stream",
     "text": [
      "100%|█████████████████████████████████████████████████████████████████████████████████████████████████████████████████████████████████████████████████████████████████████████████████████████████| 216/216 [00:20<00:00, 10.36it/s]\n"
     ]
    },
    {
     "name": "stdout",
     "output_type": "stream",
     "text": [
      "Working with 4\n"
     ]
    },
    {
     "name": "stderr",
     "output_type": "stream",
     "text": [
      "100%|████████████████████████████████████████████████████████████████████████████████████████████████████████████████████████████████████████████████████████████████████████████████████████████| 216/216 [00:00<00:00, 219.91it/s]\n"
     ]
    },
    {
     "name": "stdout",
     "output_type": "stream",
     "text": [
      "Unique functions: ['batch' 'next_data' 'run_training_batch' 'training_batch_to_device']\n"
     ]
    },
    {
     "name": "stderr",
     "output_type": "stream",
     "text": [
      "100%|███████████████████████████████████████████████████████████████████████████████████████████████████████████████████████████████████████████████████████████████████████████████████████████| 216/216 [00:00<00:00, 4144.68it/s]\n"
     ]
    },
    {
     "name": "stdout",
     "output_type": "stream",
     "text": [
      "Dataset:  15000\n",
      "Batch size: 256\n",
      "Epochs:  10\n",
      "Images total:  150000\n",
      "Batches per epoch 59\n",
      "Images total (rounded):  151040\n",
      "timestamp False\n",
      "Dataset:  15000\n",
      "Batch size: 256\n",
      "Epochs:  10\n",
      "Images total:  150000\n",
      "Batches per epoch 59\n",
      "Images total (rounded):  151040\n",
      "timestamp False\n",
      "Dataset:  15000\n",
      "Batch size: 256\n",
      "Epochs:  10\n",
      "Images total:  150000\n",
      "Batches per epoch 59\n",
      "Images total (rounded):  151040\n",
      "timestamp False\n",
      "Dataset:  15000\n",
      "Batch size: 256\n",
      "Epochs:  10\n",
      "Images total:  150000\n",
      "Batches per epoch 59\n",
      "Images total (rounded):  151040\n",
      "timestamp False\n",
      "Dataset:  15000\n",
      "Batch size: 256\n",
      "Epochs:  10\n",
      "Images total:  150000\n",
      "Batches per epoch 59\n",
      "Images total (rounded):  151040\n",
      "timestamp False\n",
      "Dataset:  15000\n",
      "Batch size: 256\n",
      "Epochs:  10\n",
      "Images total:  150000\n",
      "Batches per epoch 59\n",
      "Images total (rounded):  151040\n",
      "timestamp False\n"
     ]
    },
    {
     "name": "stderr",
     "output_type": "stream",
     "text": [
      "100%|█████████████████████████████████████████████████████████████████████████████████████████████████████████████████████████████████████████████████████████████████████████████████████████████| 216/216 [00:20<00:00, 10.46it/s]\n"
     ]
    },
    {
     "name": "stdout",
     "output_type": "stream",
     "text": [
      "Working with 5\n"
     ]
    },
    {
     "name": "stderr",
     "output_type": "stream",
     "text": [
      "100%|████████████████████████████████████████████████████████████████████████████████████████████████████████████████████████████████████████████████████████████████████████████████████████████| 216/216 [00:01<00:00, 209.82it/s]\n"
     ]
    },
    {
     "name": "stdout",
     "output_type": "stream",
     "text": [
      "Unique functions: ['batch' 'next_data' 'run_training_batch' 'training_batch_to_device']\n"
     ]
    },
    {
     "name": "stderr",
     "output_type": "stream",
     "text": [
      "100%|███████████████████████████████████████████████████████████████████████████████████████████████████████████████████████████████████████████████████████████████████████████████████████████| 216/216 [00:00<00:00, 3534.04it/s]\n"
     ]
    },
    {
     "name": "stdout",
     "output_type": "stream",
     "text": [
      "Dataset:  15000\n",
      "Batch size: 256\n",
      "Epochs:  10\n",
      "Images total:  150000\n",
      "Batches per epoch 59\n",
      "Images total (rounded):  151040\n",
      "timestamp False\n",
      "Dataset:  15000\n",
      "Batch size: 256\n",
      "Epochs:  10\n",
      "Images total:  150000\n",
      "Batches per epoch 59\n",
      "Images total (rounded):  151040\n",
      "timestamp False\n",
      "Dataset:  15000\n",
      "Batch size: 256\n",
      "Epochs:  10\n",
      "Images total:  150000\n",
      "Batches per epoch 59\n",
      "Images total (rounded):  151040\n",
      "timestamp False\n",
      "Dataset:  15000\n",
      "Batch size: 256\n",
      "Epochs:  10\n",
      "Images total:  150000\n",
      "Batches per epoch 59\n",
      "Images total (rounded):  151040\n",
      "timestamp False\n",
      "Dataset:  15000\n",
      "Batch size: 256\n",
      "Epochs:  10\n",
      "Images total:  150000\n",
      "Batches per epoch 59\n",
      "Images total (rounded):  151040\n",
      "timestamp False\n",
      "Dataset:  15000\n",
      "Batch size: 256\n",
      "Epochs:  10\n",
      "Images total:  150000\n",
      "Batches per epoch 59\n",
      "Images total (rounded):  151040\n",
      "timestamp False\n"
     ]
    },
    {
     "name": "stderr",
     "output_type": "stream",
     "text": [
      "100%|█████████████████████████████████████████████████████████████████████████████████████████████████████████████████████████████████████████████████████████████████████████████████████████████| 216/216 [00:20<00:00, 10.34it/s]\n"
     ]
    },
    {
     "name": "stdout",
     "output_type": "stream",
     "text": [
      "Working with 6\n"
     ]
    },
    {
     "name": "stderr",
     "output_type": "stream",
     "text": [
      "100%|████████████████████████████████████████████████████████████████████████████████████████████████████████████████████████████████████████████████████████████████████████████████████████████| 216/216 [00:01<00:00, 210.18it/s]\n"
     ]
    },
    {
     "name": "stdout",
     "output_type": "stream",
     "text": [
      "Unique functions: ['batch' 'next_data' 'run_training_batch' 'training_batch_to_device']\n"
     ]
    },
    {
     "name": "stderr",
     "output_type": "stream",
     "text": [
      "100%|███████████████████████████████████████████████████████████████████████████████████████████████████████████████████████████████████████████████████████████████████████████████████████████| 216/216 [00:00<00:00, 3646.81it/s]\n"
     ]
    },
    {
     "name": "stdout",
     "output_type": "stream",
     "text": [
      "Dataset:  15000\n",
      "Batch size: 256\n",
      "Epochs:  10\n",
      "Images total:  150000\n",
      "Batches per epoch 59\n",
      "Images total (rounded):  151040\n",
      "timestamp False\n",
      "Dataset:  15000\n",
      "Batch size: 256\n",
      "Epochs:  10\n",
      "Images total:  150000\n",
      "Batches per epoch 59\n",
      "Images total (rounded):  151040\n",
      "timestamp False\n",
      "Dataset:  15000\n",
      "Batch size: 256\n",
      "Epochs:  10\n",
      "Images total:  150000\n",
      "Batches per epoch 59\n",
      "Images total (rounded):  151040\n",
      "timestamp False\n",
      "Dataset:  15000\n",
      "Batch size: 256\n",
      "Epochs:  10\n",
      "Images total:  150000\n",
      "Batches per epoch 59\n",
      "Images total (rounded):  151040\n",
      "timestamp False\n",
      "Dataset:  15000\n",
      "Batch size: 256\n",
      "Epochs:  10\n",
      "Images total:  150000\n",
      "Batches per epoch 59\n",
      "Images total (rounded):  151040\n",
      "timestamp False\n",
      "Dataset:  15000\n",
      "Batch size: 256\n",
      "Epochs:  10\n",
      "Images total:  150000\n",
      "Batches per epoch 59\n",
      "Images total (rounded):  151040\n",
      "timestamp False\n"
     ]
    },
    {
     "name": "stderr",
     "output_type": "stream",
     "text": [
      "100%|█████████████████████████████████████████████████████████████████████████████████████████████████████████████████████████████████████████████████████████████████████████████████████████████| 216/216 [00:20<00:00, 10.42it/s]\n"
     ]
    },
    {
     "name": "stdout",
     "output_type": "stream",
     "text": [
      "Working with 7\n"
     ]
    },
    {
     "name": "stderr",
     "output_type": "stream",
     "text": [
      "100%|████████████████████████████████████████████████████████████████████████████████████████████████████████████████████████████████████████████████████████████████████████████████████████████| 216/216 [00:01<00:00, 213.95it/s]\n"
     ]
    },
    {
     "name": "stdout",
     "output_type": "stream",
     "text": [
      "Unique functions: ['batch' 'next_data' 'run_training_batch' 'training_batch_to_device']\n"
     ]
    },
    {
     "name": "stderr",
     "output_type": "stream",
     "text": [
      "100%|███████████████████████████████████████████████████████████████████████████████████████████████████████████████████████████████████████████████████████████████████████████████████████████| 216/216 [00:00<00:00, 4195.31it/s]\n"
     ]
    },
    {
     "name": "stdout",
     "output_type": "stream",
     "text": [
      "Dataset:  15000\n",
      "Batch size: 256\n",
      "Epochs:  10\n",
      "Images total:  150000\n",
      "Batches per epoch 59\n",
      "Images total (rounded):  151040\n",
      "timestamp False\n",
      "Dataset:  15000\n",
      "Batch size: 256\n",
      "Epochs:  10\n",
      "Images total:  150000\n",
      "Batches per epoch 59\n",
      "Images total (rounded):  151040\n",
      "timestamp False\n",
      "Dataset:  15000\n",
      "Batch size: 256\n",
      "Epochs:  10\n",
      "Images total:  150000\n",
      "Batches per epoch 59\n",
      "Images total (rounded):  151040\n",
      "timestamp False\n",
      "Dataset:  15000\n",
      "Batch size: 256\n",
      "Epochs:  10\n",
      "Images total:  150000\n",
      "Batches per epoch 59\n",
      "Images total (rounded):  151040\n",
      "timestamp False\n",
      "Dataset:  15000\n",
      "Batch size: 256\n",
      "Epochs:  10\n",
      "Images total:  150000\n",
      "Batches per epoch 59\n",
      "Images total (rounded):  151040\n",
      "timestamp False\n",
      "Dataset:  15000\n",
      "Batch size: 256\n",
      "Epochs:  10\n",
      "Images total:  150000\n",
      "Batches per epoch 59\n",
      "Images total (rounded):  151040\n",
      "timestamp False\n"
     ]
    },
    {
     "name": "stderr",
     "output_type": "stream",
     "text": [
      "100%|█████████████████████████████████████████████████████████████████████████████████████████████████████████████████████████████████████████████████████████████████████████████████████████████| 216/216 [00:20<00:00, 10.36it/s]\n"
     ]
    },
    {
     "name": "stdout",
     "output_type": "stream",
     "text": [
      "Working with 8\n"
     ]
    },
    {
     "name": "stderr",
     "output_type": "stream",
     "text": [
      "100%|████████████████████████████████████████████████████████████████████████████████████████████████████████████████████████████████████████████████████████████████████████████████████████████| 216/216 [00:01<00:00, 170.36it/s]\n"
     ]
    },
    {
     "name": "stdout",
     "output_type": "stream",
     "text": [
      "Unique functions: ['batch' 'next_data' 'run_training_batch' 'training_batch_to_device']\n"
     ]
    },
    {
     "name": "stderr",
     "output_type": "stream",
     "text": [
      "100%|███████████████████████████████████████████████████████████████████████████████████████████████████████████████████████████████████████████████████████████████████████████████████████████| 216/216 [00:00<00:00, 4155.92it/s]\n"
     ]
    },
    {
     "name": "stdout",
     "output_type": "stream",
     "text": [
      "Dataset:  15000\n",
      "Batch size: 256\n",
      "Epochs:  10\n",
      "Images total:  150000\n",
      "Batches per epoch 59\n",
      "Images total (rounded):  151040\n",
      "timestamp False\n",
      "Dataset:  15000\n",
      "Batch size: 256\n",
      "Epochs:  10\n",
      "Images total:  150000\n",
      "Batches per epoch 59\n",
      "Images total (rounded):  151040\n",
      "timestamp False\n",
      "Dataset:  15000\n",
      "Batch size: 256\n",
      "Epochs:  10\n",
      "Images total:  150000\n",
      "Batches per epoch 59\n",
      "Images total (rounded):  151040\n",
      "timestamp False\n",
      "Dataset:  15000\n",
      "Batch size: 256\n",
      "Epochs:  10\n",
      "Images total:  150000\n",
      "Batches per epoch 59\n",
      "Images total (rounded):  151040\n",
      "timestamp False\n",
      "Dataset:  15000\n",
      "Batch size: 256\n",
      "Epochs:  10\n",
      "Images total:  150000\n",
      "Batches per epoch 59\n",
      "Images total (rounded):  151040\n",
      "timestamp False\n",
      "Dataset:  15000\n",
      "Batch size: 256\n",
      "Epochs:  10\n",
      "Images total:  150000\n",
      "Batches per epoch 59\n",
      "Images total (rounded):  151040\n",
      "timestamp False\n"
     ]
    },
    {
     "name": "stderr",
     "output_type": "stream",
     "text": [
      "100%|█████████████████████████████████████████████████████████████████████████████████████████████████████████████████████████████████████████████████████████████████████████████████████████████| 216/216 [00:22<00:00,  9.62it/s]\n"
     ]
    },
    {
     "name": "stdout",
     "output_type": "stream",
     "text": [
      "Working with 9\n"
     ]
    },
    {
     "name": "stderr",
     "output_type": "stream",
     "text": [
      "100%|████████████████████████████████████████████████████████████████████████████████████████████████████████████████████████████████████████████████████████████████████████████████████████████| 216/216 [00:01<00:00, 196.96it/s]\n"
     ]
    },
    {
     "name": "stdout",
     "output_type": "stream",
     "text": [
      "Unique functions: ['batch' 'next_data' 'run_training_batch' 'training_batch_to_device']\n"
     ]
    },
    {
     "name": "stderr",
     "output_type": "stream",
     "text": [
      "100%|███████████████████████████████████████████████████████████████████████████████████████████████████████████████████████████████████████████████████████████████████████████████████████████| 216/216 [00:00<00:00, 4220.13it/s]\n"
     ]
    },
    {
     "name": "stdout",
     "output_type": "stream",
     "text": [
      "Dataset:  15000\n",
      "Batch size: 256\n",
      "Epochs:  10\n",
      "Images total:  150000\n",
      "Batches per epoch 59\n",
      "Images total (rounded):  151040\n",
      "timestamp False\n",
      "Dataset:  15000\n",
      "Batch size: 256\n",
      "Epochs:  10\n",
      "Images total:  150000\n",
      "Batches per epoch 59\n",
      "Images total (rounded):  151040\n",
      "timestamp False\n",
      "Dataset:  15000\n",
      "Batch size: 256\n",
      "Epochs:  10\n",
      "Images total:  150000\n",
      "Batches per epoch 59\n",
      "Images total (rounded):  151040\n",
      "timestamp False\n",
      "Dataset:  15000\n",
      "Batch size: 256\n",
      "Epochs:  10\n",
      "Images total:  150000\n",
      "Batches per epoch 59\n",
      "Images total (rounded):  151040\n",
      "timestamp False\n",
      "Dataset:  15000\n",
      "Batch size: 256\n",
      "Epochs:  10\n",
      "Images total:  150000\n",
      "Batches per epoch 59\n",
      "Images total (rounded):  151040\n",
      "timestamp False\n",
      "Dataset:  15000\n",
      "Batch size: 256\n",
      "Epochs:  10\n",
      "Images total:  150000\n",
      "Batches per epoch 59\n",
      "Images total (rounded):  151040\n",
      "timestamp False\n"
     ]
    },
    {
     "name": "stderr",
     "output_type": "stream",
     "text": [
      "100%|█████████████████████████████████████████████████████████████████████████████████████████████████████████████████████████████████████████████████████████████████████████████████████████████| 216/216 [00:21<00:00, 10.16it/s]\n"
     ]
    },
    {
     "name": "stdout",
     "output_type": "stream",
     "text": [
      "Working with 10\n"
     ]
    },
    {
     "name": "stderr",
     "output_type": "stream",
     "text": [
      "100%|████████████████████████████████████████████████████████████████████████████████████████████████████████████████████████████████████████████████████████████████████████████████████████████| 216/216 [00:01<00:00, 211.84it/s]\n"
     ]
    },
    {
     "name": "stdout",
     "output_type": "stream",
     "text": [
      "Unique functions: ['batch' 'next_data' 'run_training_batch' 'training_batch_to_device']\n"
     ]
    },
    {
     "name": "stderr",
     "output_type": "stream",
     "text": [
      "100%|███████████████████████████████████████████████████████████████████████████████████████████████████████████████████████████████████████████████████████████████████████████████████████████| 216/216 [00:00<00:00, 4588.54it/s]\n"
     ]
    },
    {
     "name": "stdout",
     "output_type": "stream",
     "text": [
      "Dataset:  15000\n",
      "Batch size: 256\n",
      "Epochs:  10\n",
      "Images total:  150000\n",
      "Batches per epoch 59\n",
      "Images total (rounded):  151040\n",
      "timestamp False\n",
      "Dataset:  15000\n",
      "Batch size: 256\n",
      "Epochs:  10\n",
      "Images total:  150000\n",
      "Batches per epoch 59\n",
      "Images total (rounded):  151040\n",
      "timestamp False\n",
      "Dataset:  15000\n",
      "Batch size: 256\n",
      "Epochs:  10\n",
      "Images total:  150000\n",
      "Batches per epoch 59\n",
      "Images total (rounded):  151040\n",
      "timestamp False\n",
      "Dataset:  15000\n",
      "Batch size: 256\n",
      "Epochs:  10\n",
      "Images total:  150000\n",
      "Batches per epoch 59\n",
      "Images total (rounded):  151040\n",
      "timestamp False\n",
      "Dataset:  15000\n",
      "Batch size: 256\n",
      "Epochs:  10\n",
      "Images total:  150000\n",
      "Batches per epoch 59\n",
      "Images total (rounded):  151040\n",
      "timestamp False\n",
      "Dataset:  15000\n",
      "Batch size: 256\n",
      "Epochs:  10\n",
      "Images total:  150000\n",
      "Batches per epoch 59\n",
      "Images total (rounded):  151040\n",
      "timestamp False\n"
     ]
    },
    {
     "name": "stderr",
     "output_type": "stream",
     "text": [
      "100%|█████████████████████████████████████████████████████████████████████████████████████████████████████████████████████████████████████████████████████████████████████████████████████████████| 216/216 [00:22<00:00,  9.51it/s]\n"
     ]
    }
   ],
   "source": [
    "# setup folders\n",
    "output_base_folder = Path(\"/iarai/home/ivan.svogor/storage-benchmarking-raw/referenced-experiments/repeated-runs-0212/iarai\")\n",
    "base_folder = \"0212_run_\"\n",
    "\n",
    "# Load data\n",
    "# Load data\n",
    "results_s3 = load_all_experiments(output_base_folder, base_folder, 11, \"/s3/*benchmark_e2e*\", \"s3\")\n",
    "results_scratch = load_all_experiments(output_base_folder, base_folder, 11, \"/scratch/*benchmark_e2e*\", \"scratch\")"
   ]
  },
  {
   "cell_type": "code",
   "execution_count": 18,
   "id": "b75ae1de",
   "metadata": {},
   "outputs": [
    {
     "name": "stdout",
     "output_type": "stream",
     "text": [
      "Experiments loaded ... S3: 10, Scratch: 10\n"
     ]
    }
   ],
   "source": [
    "# Check the sizes\n",
    "print(f\"Experiments loaded ... S3: {len(results_s3)}, Scratch: {len(results_scratch)}\")"
   ]
  },
  {
   "cell_type": "code",
   "execution_count": 19,
   "id": "ab45935b",
   "metadata": {},
   "outputs": [],
   "source": [
    "throughput_all_s3 = plot_all_histograms(results_s3, impls, libs, False) # display = False (doesn't plot histogrms)"
   ]
  },
  {
   "cell_type": "code",
   "execution_count": 20,
   "id": "e691cc64",
   "metadata": {},
   "outputs": [],
   "source": [
    "throughput_all_scratch = plot_all_histograms(results_scratch, impls, libs, False) # display = False (doesn't plot histogrms)"
   ]
  },
  {
   "cell_type": "code",
   "execution_count": 21,
   "id": "54549606",
   "metadata": {},
   "outputs": [
    {
     "data": {
      "text/html": [
       "<div>\n",
       "<style scoped>\n",
       "    .dataframe tbody tr th:only-of-type {\n",
       "        vertical-align: middle;\n",
       "    }\n",
       "\n",
       "    .dataframe tbody tr th {\n",
       "        vertical-align: top;\n",
       "    }\n",
       "\n",
       "    .dataframe thead th {\n",
       "        text-align: right;\n",
       "    }\n",
       "</style>\n",
       "<table border=\"1\" class=\"dataframe\">\n",
       "  <thead>\n",
       "    <tr style=\"text-align: right;\">\n",
       "      <th></th>\n",
       "      <th>0</th>\n",
       "      <th>1</th>\n",
       "      <th>2</th>\n",
       "      <th>3</th>\n",
       "      <th>4</th>\n",
       "      <th>5</th>\n",
       "      <th>6</th>\n",
       "      <th>7</th>\n",
       "      <th>8</th>\n",
       "      <th>9</th>\n",
       "      <th>mean</th>\n",
       "      <th>var</th>\n",
       "      <th>std</th>\n",
       "    </tr>\n",
       "  </thead>\n",
       "  <tbody>\n",
       "    <tr>\n",
       "      <th>threaded_torch</th>\n",
       "      <td>254.81</td>\n",
       "      <td>294.47</td>\n",
       "      <td>263.60</td>\n",
       "      <td>270.62</td>\n",
       "      <td>296.06</td>\n",
       "      <td>259.10</td>\n",
       "      <td>263.11</td>\n",
       "      <td>280.70</td>\n",
       "      <td>276.27</td>\n",
       "      <td>264.52</td>\n",
       "      <td>272.33</td>\n",
       "      <td>205.11</td>\n",
       "      <td>14.32</td>\n",
       "    </tr>\n",
       "    <tr>\n",
       "      <th>threaded_lightning</th>\n",
       "      <td>311.39</td>\n",
       "      <td>281.37</td>\n",
       "      <td>293.97</td>\n",
       "      <td>291.39</td>\n",
       "      <td>293.90</td>\n",
       "      <td>281.01</td>\n",
       "      <td>285.26</td>\n",
       "      <td>288.99</td>\n",
       "      <td>287.07</td>\n",
       "      <td>280.80</td>\n",
       "      <td>289.52</td>\n",
       "      <td>84.45</td>\n",
       "      <td>9.19</td>\n",
       "    </tr>\n",
       "    <tr>\n",
       "      <th>asyncio_torch</th>\n",
       "      <td>300.49</td>\n",
       "      <td>285.56</td>\n",
       "      <td>256.46</td>\n",
       "      <td>277.53</td>\n",
       "      <td>285.77</td>\n",
       "      <td>269.35</td>\n",
       "      <td>271.00</td>\n",
       "      <td>282.95</td>\n",
       "      <td>285.45</td>\n",
       "      <td>271.31</td>\n",
       "      <td>278.59</td>\n",
       "      <td>148.07</td>\n",
       "      <td>12.17</td>\n",
       "    </tr>\n",
       "    <tr>\n",
       "      <th>asyncio_lightning</th>\n",
       "      <td>305.22</td>\n",
       "      <td>283.23</td>\n",
       "      <td>290.63</td>\n",
       "      <td>283.20</td>\n",
       "      <td>290.29</td>\n",
       "      <td>279.66</td>\n",
       "      <td>280.61</td>\n",
       "      <td>283.88</td>\n",
       "      <td>283.16</td>\n",
       "      <td>276.87</td>\n",
       "      <td>285.68</td>\n",
       "      <td>65.43</td>\n",
       "      <td>8.09</td>\n",
       "    </tr>\n",
       "    <tr>\n",
       "      <th>vanilla_torch</th>\n",
       "      <td>38.50</td>\n",
       "      <td>39.79</td>\n",
       "      <td>38.96</td>\n",
       "      <td>39.93</td>\n",
       "      <td>40.36</td>\n",
       "      <td>38.58</td>\n",
       "      <td>41.20</td>\n",
       "      <td>42.83</td>\n",
       "      <td>41.76</td>\n",
       "      <td>41.22</td>\n",
       "      <td>40.31</td>\n",
       "      <td>2.06</td>\n",
       "      <td>1.44</td>\n",
       "    </tr>\n",
       "    <tr>\n",
       "      <th>vanilla_lightning</th>\n",
       "      <td>8.94</td>\n",
       "      <td>9.00</td>\n",
       "      <td>9.38</td>\n",
       "      <td>9.69</td>\n",
       "      <td>9.60</td>\n",
       "      <td>9.76</td>\n",
       "      <td>9.97</td>\n",
       "      <td>10.35</td>\n",
       "      <td>10.05</td>\n",
       "      <td>9.92</td>\n",
       "      <td>9.67</td>\n",
       "      <td>0.20</td>\n",
       "      <td>0.45</td>\n",
       "    </tr>\n",
       "  </tbody>\n",
       "</table>\n",
       "</div>"
      ],
      "text/plain": [
       "                         0       1       2       3       4       5       6  \\\n",
       "threaded_torch      254.81  294.47  263.60  270.62  296.06  259.10  263.11   \n",
       "threaded_lightning  311.39  281.37  293.97  291.39  293.90  281.01  285.26   \n",
       "asyncio_torch       300.49  285.56  256.46  277.53  285.77  269.35  271.00   \n",
       "asyncio_lightning   305.22  283.23  290.63  283.20  290.29  279.66  280.61   \n",
       "vanilla_torch        38.50   39.79   38.96   39.93   40.36   38.58   41.20   \n",
       "vanilla_lightning     8.94    9.00    9.38    9.69    9.60    9.76    9.97   \n",
       "\n",
       "                         7       8       9    mean     var    std  \n",
       "threaded_torch      280.70  276.27  264.52  272.33  205.11  14.32  \n",
       "threaded_lightning  288.99  287.07  280.80  289.52   84.45   9.19  \n",
       "asyncio_torch       282.95  285.45  271.31  278.59  148.07  12.17  \n",
       "asyncio_lightning   283.88  283.16  276.87  285.68   65.43   8.09  \n",
       "vanilla_torch        42.83   41.76   41.22   40.31    2.06   1.44  \n",
       "vanilla_lightning    10.35   10.05    9.92    9.67    0.20   0.45  "
      ]
     },
     "execution_count": 21,
     "metadata": {},
     "output_type": "execute_result"
    }
   ],
   "source": [
    "df_t_s3 = add_stats(throughput_all_s3)\n",
    "df_t_s3"
   ]
  },
  {
   "cell_type": "code",
   "execution_count": 22,
   "id": "7b07f62c",
   "metadata": {},
   "outputs": [
    {
     "data": {
      "text/html": [
       "<div>\n",
       "<style scoped>\n",
       "    .dataframe tbody tr th:only-of-type {\n",
       "        vertical-align: middle;\n",
       "    }\n",
       "\n",
       "    .dataframe tbody tr th {\n",
       "        vertical-align: top;\n",
       "    }\n",
       "\n",
       "    .dataframe thead th {\n",
       "        text-align: right;\n",
       "    }\n",
       "</style>\n",
       "<table border=\"1\" class=\"dataframe\">\n",
       "  <thead>\n",
       "    <tr style=\"text-align: right;\">\n",
       "      <th></th>\n",
       "      <th>0</th>\n",
       "      <th>1</th>\n",
       "      <th>2</th>\n",
       "      <th>3</th>\n",
       "      <th>4</th>\n",
       "      <th>5</th>\n",
       "      <th>6</th>\n",
       "      <th>7</th>\n",
       "      <th>8</th>\n",
       "      <th>9</th>\n",
       "      <th>mean</th>\n",
       "      <th>var</th>\n",
       "      <th>std</th>\n",
       "    </tr>\n",
       "  </thead>\n",
       "  <tbody>\n",
       "    <tr>\n",
       "      <th>threaded_torch</th>\n",
       "      <td>797.32</td>\n",
       "      <td>841.05</td>\n",
       "      <td>839.31</td>\n",
       "      <td>833.56</td>\n",
       "      <td>826.42</td>\n",
       "      <td>843.44</td>\n",
       "      <td>827.64</td>\n",
       "      <td>836.90</td>\n",
       "      <td>803.78</td>\n",
       "      <td>811.30</td>\n",
       "      <td>826.07</td>\n",
       "      <td>268.77</td>\n",
       "      <td>16.39</td>\n",
       "    </tr>\n",
       "    <tr>\n",
       "      <th>threaded_lightning</th>\n",
       "      <td>513.07</td>\n",
       "      <td>560.36</td>\n",
       "      <td>552.72</td>\n",
       "      <td>550.47</td>\n",
       "      <td>559.82</td>\n",
       "      <td>555.45</td>\n",
       "      <td>552.31</td>\n",
       "      <td>553.43</td>\n",
       "      <td>530.33</td>\n",
       "      <td>523.67</td>\n",
       "      <td>545.16</td>\n",
       "      <td>274.25</td>\n",
       "      <td>16.56</td>\n",
       "    </tr>\n",
       "    <tr>\n",
       "      <th>asyncio_torch</th>\n",
       "      <td>802.24</td>\n",
       "      <td>863.95</td>\n",
       "      <td>842.31</td>\n",
       "      <td>811.98</td>\n",
       "      <td>826.47</td>\n",
       "      <td>827.58</td>\n",
       "      <td>809.18</td>\n",
       "      <td>813.83</td>\n",
       "      <td>798.96</td>\n",
       "      <td>783.59</td>\n",
       "      <td>818.01</td>\n",
       "      <td>532.47</td>\n",
       "      <td>23.08</td>\n",
       "    </tr>\n",
       "    <tr>\n",
       "      <th>asyncio_lightning</th>\n",
       "      <td>537.44</td>\n",
       "      <td>552.60</td>\n",
       "      <td>539.20</td>\n",
       "      <td>547.28</td>\n",
       "      <td>558.26</td>\n",
       "      <td>541.16</td>\n",
       "      <td>528.82</td>\n",
       "      <td>527.27</td>\n",
       "      <td>541.37</td>\n",
       "      <td>523.17</td>\n",
       "      <td>539.66</td>\n",
       "      <td>124.97</td>\n",
       "      <td>11.18</td>\n",
       "    </tr>\n",
       "    <tr>\n",
       "      <th>vanilla_torch</th>\n",
       "      <td>570.33</td>\n",
       "      <td>554.45</td>\n",
       "      <td>573.75</td>\n",
       "      <td>572.26</td>\n",
       "      <td>565.08</td>\n",
       "      <td>545.69</td>\n",
       "      <td>559.31</td>\n",
       "      <td>554.78</td>\n",
       "      <td>552.43</td>\n",
       "      <td>544.65</td>\n",
       "      <td>559.27</td>\n",
       "      <td>113.65</td>\n",
       "      <td>10.66</td>\n",
       "    </tr>\n",
       "    <tr>\n",
       "      <th>vanilla_lightning</th>\n",
       "      <td>160.30</td>\n",
       "      <td>160.40</td>\n",
       "      <td>162.59</td>\n",
       "      <td>161.38</td>\n",
       "      <td>158.68</td>\n",
       "      <td>159.13</td>\n",
       "      <td>159.51</td>\n",
       "      <td>158.73</td>\n",
       "      <td>158.29</td>\n",
       "      <td>156.49</td>\n",
       "      <td>159.55</td>\n",
       "      <td>2.94</td>\n",
       "      <td>1.71</td>\n",
       "    </tr>\n",
       "  </tbody>\n",
       "</table>\n",
       "</div>"
      ],
      "text/plain": [
       "                         0       1       2       3       4       5       6  \\\n",
       "threaded_torch      797.32  841.05  839.31  833.56  826.42  843.44  827.64   \n",
       "threaded_lightning  513.07  560.36  552.72  550.47  559.82  555.45  552.31   \n",
       "asyncio_torch       802.24  863.95  842.31  811.98  826.47  827.58  809.18   \n",
       "asyncio_lightning   537.44  552.60  539.20  547.28  558.26  541.16  528.82   \n",
       "vanilla_torch       570.33  554.45  573.75  572.26  565.08  545.69  559.31   \n",
       "vanilla_lightning   160.30  160.40  162.59  161.38  158.68  159.13  159.51   \n",
       "\n",
       "                         7       8       9    mean     var    std  \n",
       "threaded_torch      836.90  803.78  811.30  826.07  268.77  16.39  \n",
       "threaded_lightning  553.43  530.33  523.67  545.16  274.25  16.56  \n",
       "asyncio_torch       813.83  798.96  783.59  818.01  532.47  23.08  \n",
       "asyncio_lightning   527.27  541.37  523.17  539.66  124.97  11.18  \n",
       "vanilla_torch       554.78  552.43  544.65  559.27  113.65  10.66  \n",
       "vanilla_lightning   158.73  158.29  156.49  159.55    2.94   1.71  "
      ]
     },
     "execution_count": 22,
     "metadata": {},
     "output_type": "execute_result"
    }
   ],
   "source": [
    "df_t_scratch = add_stats(throughput_all_scratch)\n",
    "df_t_scratch"
   ]
  },
  {
   "cell_type": "code",
   "execution_count": 23,
   "id": "460c4fba",
   "metadata": {},
   "outputs": [
    {
     "data": {
      "image/png": "[encoded data removed]",
      "text/plain": [
       "<Figure size 720x720 with 1 Axes>"
      ]
     },
     "metadata": {
      "needs_background": "light"
     },
     "output_type": "display_data"
    }
   ],
   "source": [
    "plot_violins(df_t_s3, \"IARAI Remote storage - AWS S3\")"
   ]
  },
  {
   "cell_type": "code",
   "execution_count": 24,
   "id": "136560c5",
   "metadata": {},
   "outputs": [
    {
     "data": {
      "image/png": "[encoded data removed]",
      "text/plain": [
       "<Figure size 720x720 with 1 Axes>"
      ]
     },
     "metadata": {
      "needs_background": "light"
     },
     "output_type": "display_data"
    }
   ],
   "source": [
    "plot_violins(df_t_scratch, \"IARAI Local storage\")"
   ]
  },
  {
   "cell_type": "code",
   "execution_count": 26,
   "id": "c061720c",
   "metadata": {},
   "outputs": [],
   "source": [
    "### mibts\n",
    "throughput_all_s3 = plot_all_histograms(results_s3, impls, libs, False, value=\"Mbit/s\") # display = False (doesn't plot histogrms)\n",
    "throughput_all_scratch = plot_all_histograms(results_scratch, impls, libs, False, value=\"Mbit/s\") # display = False (doesn't plot histogrms)"
   ]
  },
  {
   "cell_type": "code",
   "execution_count": 27,
   "id": "3fc3a93b",
   "metadata": {},
   "outputs": [
    {
     "data": {
      "text/html": [
       "<div>\n",
       "<style scoped>\n",
       "    .dataframe tbody tr th:only-of-type {\n",
       "        vertical-align: middle;\n",
       "    }\n",
       "\n",
       "    .dataframe tbody tr th {\n",
       "        vertical-align: top;\n",
       "    }\n",
       "\n",
       "    .dataframe thead th {\n",
       "        text-align: right;\n",
       "    }\n",
       "</style>\n",
       "<table border=\"1\" class=\"dataframe\">\n",
       "  <thead>\n",
       "    <tr style=\"text-align: right;\">\n",
       "      <th></th>\n",
       "      <th>0</th>\n",
       "      <th>1</th>\n",
       "      <th>2</th>\n",
       "      <th>3</th>\n",
       "      <th>4</th>\n",
       "      <th>5</th>\n",
       "      <th>6</th>\n",
       "      <th>7</th>\n",
       "      <th>8</th>\n",
       "      <th>9</th>\n",
       "      <th>mean</th>\n",
       "      <th>var</th>\n",
       "      <th>std</th>\n",
       "    </tr>\n",
       "  </thead>\n",
       "  <tbody>\n",
       "    <tr>\n",
       "      <th>threaded_torch</th>\n",
       "      <td>174.14</td>\n",
       "      <td>201.25</td>\n",
       "      <td>180.16</td>\n",
       "      <td>184.95</td>\n",
       "      <td>202.34</td>\n",
       "      <td>177.08</td>\n",
       "      <td>179.82</td>\n",
       "      <td>191.84</td>\n",
       "      <td>188.81</td>\n",
       "      <td>180.79</td>\n",
       "      <td>186.12</td>\n",
       "      <td>95.80</td>\n",
       "      <td>9.79</td>\n",
       "    </tr>\n",
       "    <tr>\n",
       "      <th>threaded_lightning</th>\n",
       "      <td>212.82</td>\n",
       "      <td>192.30</td>\n",
       "      <td>200.91</td>\n",
       "      <td>199.15</td>\n",
       "      <td>200.86</td>\n",
       "      <td>192.05</td>\n",
       "      <td>194.96</td>\n",
       "      <td>197.51</td>\n",
       "      <td>196.20</td>\n",
       "      <td>191.91</td>\n",
       "      <td>197.87</td>\n",
       "      <td>39.46</td>\n",
       "      <td>6.28</td>\n",
       "    </tr>\n",
       "    <tr>\n",
       "      <th>asyncio_torch</th>\n",
       "      <td>271.31</td>\n",
       "      <td>257.83</td>\n",
       "      <td>231.56</td>\n",
       "      <td>250.58</td>\n",
       "      <td>258.02</td>\n",
       "      <td>243.20</td>\n",
       "      <td>244.69</td>\n",
       "      <td>255.48</td>\n",
       "      <td>257.73</td>\n",
       "      <td>244.96</td>\n",
       "      <td>251.54</td>\n",
       "      <td>120.68</td>\n",
       "      <td>10.99</td>\n",
       "    </tr>\n",
       "    <tr>\n",
       "      <th>asyncio_lightning</th>\n",
       "      <td>275.58</td>\n",
       "      <td>255.73</td>\n",
       "      <td>262.41</td>\n",
       "      <td>255.70</td>\n",
       "      <td>262.10</td>\n",
       "      <td>252.51</td>\n",
       "      <td>253.36</td>\n",
       "      <td>256.31</td>\n",
       "      <td>255.67</td>\n",
       "      <td>249.98</td>\n",
       "      <td>257.94</td>\n",
       "      <td>53.33</td>\n",
       "      <td>7.30</td>\n",
       "    </tr>\n",
       "    <tr>\n",
       "      <th>vanilla_torch</th>\n",
       "      <td>34.76</td>\n",
       "      <td>35.93</td>\n",
       "      <td>35.18</td>\n",
       "      <td>36.05</td>\n",
       "      <td>36.44</td>\n",
       "      <td>34.84</td>\n",
       "      <td>37.20</td>\n",
       "      <td>38.67</td>\n",
       "      <td>37.70</td>\n",
       "      <td>37.22</td>\n",
       "      <td>36.40</td>\n",
       "      <td>1.68</td>\n",
       "      <td>1.30</td>\n",
       "    </tr>\n",
       "    <tr>\n",
       "      <th>vanilla_lightning</th>\n",
       "      <td>8.07</td>\n",
       "      <td>8.13</td>\n",
       "      <td>8.47</td>\n",
       "      <td>8.75</td>\n",
       "      <td>8.67</td>\n",
       "      <td>8.82</td>\n",
       "      <td>9.00</td>\n",
       "      <td>9.34</td>\n",
       "      <td>9.07</td>\n",
       "      <td>8.95</td>\n",
       "      <td>8.73</td>\n",
       "      <td>0.16</td>\n",
       "      <td>0.41</td>\n",
       "    </tr>\n",
       "  </tbody>\n",
       "</table>\n",
       "</div>"
      ],
      "text/plain": [
       "                         0       1       2       3       4       5       6  \\\n",
       "threaded_torch      174.14  201.25  180.16  184.95  202.34  177.08  179.82   \n",
       "threaded_lightning  212.82  192.30  200.91  199.15  200.86  192.05  194.96   \n",
       "asyncio_torch       271.31  257.83  231.56  250.58  258.02  243.20  244.69   \n",
       "asyncio_lightning   275.58  255.73  262.41  255.70  262.10  252.51  253.36   \n",
       "vanilla_torch        34.76   35.93   35.18   36.05   36.44   34.84   37.20   \n",
       "vanilla_lightning     8.07    8.13    8.47    8.75    8.67    8.82    9.00   \n",
       "\n",
       "                         7       8       9    mean     var    std  \n",
       "threaded_torch      191.84  188.81  180.79  186.12   95.80   9.79  \n",
       "threaded_lightning  197.51  196.20  191.91  197.87   39.46   6.28  \n",
       "asyncio_torch       255.48  257.73  244.96  251.54  120.68  10.99  \n",
       "asyncio_lightning   256.31  255.67  249.98  257.94   53.33   7.30  \n",
       "vanilla_torch        38.67   37.70   37.22   36.40    1.68   1.30  \n",
       "vanilla_lightning     9.34    9.07    8.95    8.73    0.16   0.41  "
      ]
     },
     "execution_count": 27,
     "metadata": {},
     "output_type": "execute_result"
    }
   ],
   "source": [
    "df_t_s3 = add_stats(throughput_all_s3)\n",
    "df_t_s3"
   ]
  },
  {
   "cell_type": "code",
   "execution_count": 28,
   "id": "d99b9eb2",
   "metadata": {},
   "outputs": [
    {
     "data": {
      "text/html": [
       "<div>\n",
       "<style scoped>\n",
       "    .dataframe tbody tr th:only-of-type {\n",
       "        vertical-align: middle;\n",
       "    }\n",
       "\n",
       "    .dataframe tbody tr th {\n",
       "        vertical-align: top;\n",
       "    }\n",
       "\n",
       "    .dataframe thead th {\n",
       "        text-align: right;\n",
       "    }\n",
       "</style>\n",
       "<table border=\"1\" class=\"dataframe\">\n",
       "  <thead>\n",
       "    <tr style=\"text-align: right;\">\n",
       "      <th></th>\n",
       "      <th>0</th>\n",
       "      <th>1</th>\n",
       "      <th>2</th>\n",
       "      <th>3</th>\n",
       "      <th>4</th>\n",
       "      <th>5</th>\n",
       "      <th>6</th>\n",
       "      <th>7</th>\n",
       "      <th>8</th>\n",
       "      <th>9</th>\n",
       "      <th>mean</th>\n",
       "      <th>var</th>\n",
       "      <th>std</th>\n",
       "    </tr>\n",
       "  </thead>\n",
       "  <tbody>\n",
       "    <tr>\n",
       "      <th>threaded_torch</th>\n",
       "      <td>825.70</td>\n",
       "      <td>870.99</td>\n",
       "      <td>869.19</td>\n",
       "      <td>863.23</td>\n",
       "      <td>855.84</td>\n",
       "      <td>873.46</td>\n",
       "      <td>857.10</td>\n",
       "      <td>866.69</td>\n",
       "      <td>832.40</td>\n",
       "      <td>840.18</td>\n",
       "      <td>855.48</td>\n",
       "      <td>288.21</td>\n",
       "      <td>16.98</td>\n",
       "    </tr>\n",
       "    <tr>\n",
       "      <th>threaded_lightning</th>\n",
       "      <td>531.34</td>\n",
       "      <td>580.31</td>\n",
       "      <td>572.40</td>\n",
       "      <td>570.06</td>\n",
       "      <td>579.75</td>\n",
       "      <td>575.22</td>\n",
       "      <td>571.97</td>\n",
       "      <td>573.13</td>\n",
       "      <td>549.21</td>\n",
       "      <td>542.32</td>\n",
       "      <td>564.57</td>\n",
       "      <td>294.03</td>\n",
       "      <td>17.15</td>\n",
       "    </tr>\n",
       "    <tr>\n",
       "      <th>asyncio_torch</th>\n",
       "      <td>723.66</td>\n",
       "      <td>779.33</td>\n",
       "      <td>759.81</td>\n",
       "      <td>732.45</td>\n",
       "      <td>745.52</td>\n",
       "      <td>746.52</td>\n",
       "      <td>729.93</td>\n",
       "      <td>734.12</td>\n",
       "      <td>720.71</td>\n",
       "      <td>706.84</td>\n",
       "      <td>737.89</td>\n",
       "      <td>433.26</td>\n",
       "      <td>20.81</td>\n",
       "    </tr>\n",
       "    <tr>\n",
       "      <th>asyncio_lightning</th>\n",
       "      <td>484.80</td>\n",
       "      <td>498.48</td>\n",
       "      <td>486.39</td>\n",
       "      <td>493.68</td>\n",
       "      <td>503.58</td>\n",
       "      <td>488.16</td>\n",
       "      <td>477.02</td>\n",
       "      <td>475.63</td>\n",
       "      <td>488.34</td>\n",
       "      <td>471.92</td>\n",
       "      <td>486.80</td>\n",
       "      <td>101.73</td>\n",
       "      <td>10.09</td>\n",
       "    </tr>\n",
       "    <tr>\n",
       "      <th>vanilla_torch</th>\n",
       "      <td>514.47</td>\n",
       "      <td>500.15</td>\n",
       "      <td>517.55</td>\n",
       "      <td>516.21</td>\n",
       "      <td>509.73</td>\n",
       "      <td>492.24</td>\n",
       "      <td>504.53</td>\n",
       "      <td>500.44</td>\n",
       "      <td>498.32</td>\n",
       "      <td>491.31</td>\n",
       "      <td>504.50</td>\n",
       "      <td>92.45</td>\n",
       "      <td>9.62</td>\n",
       "    </tr>\n",
       "    <tr>\n",
       "      <th>vanilla_lightning</th>\n",
       "      <td>144.60</td>\n",
       "      <td>144.69</td>\n",
       "      <td>146.67</td>\n",
       "      <td>145.57</td>\n",
       "      <td>143.14</td>\n",
       "      <td>143.54</td>\n",
       "      <td>143.89</td>\n",
       "      <td>143.18</td>\n",
       "      <td>142.79</td>\n",
       "      <td>141.17</td>\n",
       "      <td>143.92</td>\n",
       "      <td>2.39</td>\n",
       "      <td>1.54</td>\n",
       "    </tr>\n",
       "  </tbody>\n",
       "</table>\n",
       "</div>"
      ],
      "text/plain": [
       "                         0       1       2       3       4       5       6  \\\n",
       "threaded_torch      825.70  870.99  869.19  863.23  855.84  873.46  857.10   \n",
       "threaded_lightning  531.34  580.31  572.40  570.06  579.75  575.22  571.97   \n",
       "asyncio_torch       723.66  779.33  759.81  732.45  745.52  746.52  729.93   \n",
       "asyncio_lightning   484.80  498.48  486.39  493.68  503.58  488.16  477.02   \n",
       "vanilla_torch       514.47  500.15  517.55  516.21  509.73  492.24  504.53   \n",
       "vanilla_lightning   144.60  144.69  146.67  145.57  143.14  143.54  143.89   \n",
       "\n",
       "                         7       8       9    mean     var    std  \n",
       "threaded_torch      866.69  832.40  840.18  855.48  288.21  16.98  \n",
       "threaded_lightning  573.13  549.21  542.32  564.57  294.03  17.15  \n",
       "asyncio_torch       734.12  720.71  706.84  737.89  433.26  20.81  \n",
       "asyncio_lightning   475.63  488.34  471.92  486.80  101.73  10.09  \n",
       "vanilla_torch       500.44  498.32  491.31  504.50   92.45   9.62  \n",
       "vanilla_lightning   143.18  142.79  141.17  143.92    2.39   1.54  "
      ]
     },
     "execution_count": 28,
     "metadata": {},
     "output_type": "execute_result"
    }
   ],
   "source": [
    "df_t_scratch = add_stats(throughput_all_scratch)\n",
    "df_t_scratch"
   ]
  },
  {
   "cell_type": "code",
   "execution_count": 30,
   "id": "06ac3851",
   "metadata": {},
   "outputs": [
    {
     "data": {
      "image/png": "[encoded data removed]",
      "text/plain": [
       "<Figure size 720x720 with 1 Axes>"
      ]
     },
     "metadata": {
      "needs_background": "light"
     },
     "output_type": "display_data"
    },
    {
     "data": {
      "image/png": "[encoded data removed]",
      "text/plain": [
       "<Figure size 720x720 with 1 Axes>"
      ]
     },
     "metadata": {
      "needs_background": "light"
     },
     "output_type": "display_data"
    }
   ],
   "source": [
    "plot_violins(df_t_s3, \"TU Remote storage - AWS S3\", \"Throughput [Mbit/s]\")\n",
    "plot_violins(df_t_scratch, \"TU Local storage\", \"Throughput [Mbit/s]\")"
   ]
  }
 ],
 "metadata": {
  "kernelspec": {
   "display_name": "Python (myenv)",
   "language": "python",
   "name": "storage-benchmarking"
  },
  "language_info": {
   "codemirror_mode": {
    "name": "ipython",
    "version": 3
   },
   "file_extension": ".py",
   "mimetype": "text/x-python",
   "name": "python",
   "nbconvert_exporter": "python",
   "pygments_lexer": "ipython3",
   "version": "3.8.11"
  }
 },
 "nbformat": 4,
 "nbformat_minor": 5
}
