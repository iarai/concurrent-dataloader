{
 "cells": [
  {
   "cell_type": "markdown",
   "id": "6b63b8b0",
   "metadata": {},
   "source": [
    "### All modifications - repeat 10 times\n",
    "\n",
    "This experiment involves the default setup for all the parameters, however with the reduced dataset size to 15000, as explained in the write up. The expeirment is repeated 10 times, and here, we are interested in measurement consistency, i.e. throughput dispersion between different experiments. \n",
    "Also, we consider two different execution environments, IARAI and TU."
   ]
  },
  {
   "cell_type": "code",
   "execution_count": 1,
   "id": "1c4388f7",
   "metadata": {},
   "outputs": [],
   "source": [
    "from benchmarking.analysis.analyze_results import *"
   ]
  },
  {
   "cell_type": "code",
   "execution_count": 2,
   "id": "90ed8927",
   "metadata": {},
   "outputs": [],
   "source": [
    "# dataset size\n",
    "samples = 15000"
   ]
  },
  {
   "cell_type": "markdown",
   "id": "cf26273a",
   "metadata": {},
   "source": [
    "Data loading function:"
   ]
  },
  {
   "cell_type": "code",
   "execution_count": 3,
   "id": "073ca5f4",
   "metadata": {},
   "outputs": [],
   "source": [
    "def load_all_experiments(output_base_folder, base_folder):\n",
    "    results_scratch = []\n",
    "    results_s3 = []\n",
    "    for folder_index in range(1, 11):\n",
    "        print(f\"Working with {folder_index}\")\n",
    "        s3_folder_filter= base_folder + str(folder_index) + \"/s3/*benchmark_e2e*\"\n",
    "        scratch_folder_filter= base_folder + str(folder_index) + \"/scratch/*benchmark_e2e*\"\n",
    "\n",
    "        # read data\n",
    "        df_dataloader_s3 = extract_timelines(output_base_folder, folder_filter=s3_folder_filter)\n",
    "        df_dataloader_scratch = extract_timelines(output_base_folder, folder_filter=scratch_folder_filter)\n",
    "\n",
    "        # Get unique functions \n",
    "        unique_functions_scratch = np.unique(df_dataloader_scratch[\"item_x\"])\n",
    "        print(f\"Unique functions: {unique_functions_scratch}\")\n",
    "\n",
    "        unique_runs_scratch = np.unique(df_dataloader_scratch[\"run\"])\n",
    "        unique_runs_s3 = np.unique(df_dataloader_s3[\"run\"])\n",
    "\n",
    "        # extract GPU UTIL\n",
    "        df_gpuutil_scratch = extract_gpuutil(output_base_folder, folder_filter=scratch_folder_filter)\n",
    "        unique_runs_scratch = np.unique(df_dataloader_scratch[\"run\"])\n",
    "\n",
    "        df_gpuutil_s3 = extract_gpuutil(output_base_folder, folder_filter=s3_folder_filter)\n",
    "        unique_runs_s3 = np.unique(df_dataloader_s3[\"run\"])\n",
    "\n",
    "        # Get data for scratch\n",
    "        returns_scratch = []\n",
    "        for run in sorted(unique_runs_scratch):\n",
    "            df = df_dataloader_scratch[df_dataloader_scratch[\"run\"]==run]\n",
    "            dfgpu = df_gpuutil_scratch[df_gpuutil_scratch[\"run\"]==run]\n",
    "            returns_scratch.append(get_gpu_stats(df, dfgpu, run, False, True, False, 2))\n",
    "        result = pd.DataFrame.from_records(data=returns_scratch)\n",
    "        result[\"throughput\"] = samples / result[\"runtime\"]\n",
    "        results_scratch.append(result)\n",
    "\n",
    "        # Get data for S3\n",
    "        returns_s3 = []\n",
    "        for run in sorted(unique_runs_s3):\n",
    "            df = df_dataloader_s3[df_dataloader_s3[\"run\"]==run]\n",
    "            dfgpu = df_gpuutil_s3[df_gpuutil_s3[\"run\"]==run]\n",
    "            returns_s3.append(get_gpu_stats(df, dfgpu, run, False, True, False, 2))\n",
    "        result = pd.DataFrame.from_records(data=returns_s3)\n",
    "        result[\"throughput\"] = samples / result[\"runtime\"]\n",
    "        results_s3.append(result)\n",
    "    return results_s3, results_scratch"
   ]
  },
  {
   "cell_type": "code",
   "execution_count": 4,
   "id": "9d6d16d0",
   "metadata": {},
   "outputs": [],
   "source": [
    "impls = [\"threaded\", \"asyncio\", \"vanilla\"]\n",
    "libs = [\"torch\", \"lightning\"]"
   ]
  },
  {
   "cell_type": "code",
   "execution_count": 5,
   "id": "a3a1f47a",
   "metadata": {},
   "outputs": [],
   "source": [
    "def add_stats(throughputs):\n",
    "    df = throughputs.T\n",
    "\n",
    "    mean = df.mean(axis=1)\n",
    "    var = df.var(axis=1)\n",
    "    std = df.std(axis=1)\n",
    "\n",
    "    df[\"mean\"] = mean.round(2)\n",
    "    df[\"var\"] = var.round(2)\n",
    "    df[\"std\"] = std.round(2)\n",
    "    return df"
   ]
  },
  {
   "cell_type": "markdown",
   "id": "bd47bef6",
   "metadata": {},
   "source": [
    "### TU environment"
   ]
  },
  {
   "cell_type": "code",
   "execution_count": 6,
   "id": "88135d3e",
   "metadata": {
    "scrolled": true
   },
   "outputs": [
    {
     "name": "stdout",
     "output_type": "stream",
     "text": [
      "Working with 1\n"
     ]
    },
    {
     "name": "stderr",
     "output_type": "stream",
     "text": [
      "100%|████████████████████████████████████████████████████████████████████████████████████████████████████████████████████████████████████████████████████████████████████████████████████████████| 216/216 [00:00<00:00, 261.14it/s]\n",
      "100%|████████████████████████████████████████████████████████████████████████████████████████████████████████████████████████████████████████████████████████████████████████████████████████████| 216/216 [00:00<00:00, 265.07it/s]\n"
     ]
    },
    {
     "name": "stdout",
     "output_type": "stream",
     "text": [
      "Unique functions: ['batch' 'next_data' 'run_training_batch' 'training_batch_to_device']\n"
     ]
    },
    {
     "name": "stderr",
     "output_type": "stream",
     "text": [
      "100%|███████████████████████████████████████████████████████████████████████████████████████████████████████████████████████████████████████████████████████████████████████████████████████████| 216/216 [00:00<00:00, 3874.93it/s]\n",
      "100%|████████████████████████████████████████████████████████████████████████████████████████████████████████████████████████████████████████████████████████████████████████████████████████████| 216/216 [00:00<00:00, 335.42it/s]\n"
     ]
    },
    {
     "name": "stdout",
     "output_type": "stream",
     "text": [
      "Working with 2\n"
     ]
    },
    {
     "name": "stderr",
     "output_type": "stream",
     "text": [
      "100%|████████████████████████████████████████████████████████████████████████████████████████████████████████████████████████████████████████████████████████████████████████████████████████████| 216/216 [00:00<00:00, 268.98it/s]\n",
      "100%|████████████████████████████████████████████████████████████████████████████████████████████████████████████████████████████████████████████████████████████████████████████████████████████| 216/216 [00:00<00:00, 239.61it/s]\n"
     ]
    },
    {
     "name": "stdout",
     "output_type": "stream",
     "text": [
      "Unique functions: ['batch' 'next_data' 'run_training_batch' 'training_batch_to_device']\n"
     ]
    },
    {
     "name": "stderr",
     "output_type": "stream",
     "text": [
      "100%|███████████████████████████████████████████████████████████████████████████████████████████████████████████████████████████████████████████████████████████████████████████████████████████| 216/216 [00:00<00:00, 4080.47it/s]\n",
      "100%|████████████████████████████████████████████████████████████████████████████████████████████████████████████████████████████████████████████████████████████████████████████████████████████| 216/216 [00:00<00:00, 402.84it/s]\n"
     ]
    },
    {
     "name": "stdout",
     "output_type": "stream",
     "text": [
      "Working with 3\n"
     ]
    },
    {
     "name": "stderr",
     "output_type": "stream",
     "text": [
      "100%|████████████████████████████████████████████████████████████████████████████████████████████████████████████████████████████████████████████████████████████████████████████████████████████| 216/216 [00:00<00:00, 238.04it/s]\n",
      "100%|████████████████████████████████████████████████████████████████████████████████████████████████████████████████████████████████████████████████████████████████████████████████████████████| 216/216 [00:00<00:00, 258.70it/s]\n"
     ]
    },
    {
     "name": "stdout",
     "output_type": "stream",
     "text": [
      "Unique functions: ['batch' 'next_data' 'run_training_batch' 'training_batch_to_device']\n"
     ]
    },
    {
     "name": "stderr",
     "output_type": "stream",
     "text": [
      "100%|███████████████████████████████████████████████████████████████████████████████████████████████████████████████████████████████████████████████████████████████████████████████████████████| 216/216 [00:00<00:00, 4422.75it/s]\n",
      "100%|████████████████████████████████████████████████████████████████████████████████████████████████████████████████████████████████████████████████████████████████████████████████████████████| 216/216 [00:00<00:00, 323.51it/s]\n"
     ]
    },
    {
     "name": "stdout",
     "output_type": "stream",
     "text": [
      "Working with 4\n"
     ]
    },
    {
     "name": "stderr",
     "output_type": "stream",
     "text": [
      "100%|████████████████████████████████████████████████████████████████████████████████████████████████████████████████████████████████████████████████████████████████████████████████████████████| 216/216 [00:00<00:00, 258.30it/s]\n",
      "100%|████████████████████████████████████████████████████████████████████████████████████████████████████████████████████████████████████████████████████████████████████████████████████████████| 216/216 [00:00<00:00, 272.14it/s]\n"
     ]
    },
    {
     "name": "stdout",
     "output_type": "stream",
     "text": [
      "Unique functions: ['batch' 'next_data' 'run_training_batch' 'training_batch_to_device']\n"
     ]
    },
    {
     "name": "stderr",
     "output_type": "stream",
     "text": [
      "100%|███████████████████████████████████████████████████████████████████████████████████████████████████████████████████████████████████████████████████████████████████████████████████████████| 216/216 [00:00<00:00, 4328.14it/s]\n",
      "100%|████████████████████████████████████████████████████████████████████████████████████████████████████████████████████████████████████████████████████████████████████████████████████████████| 216/216 [00:00<00:00, 321.04it/s]\n"
     ]
    },
    {
     "name": "stdout",
     "output_type": "stream",
     "text": [
      "Working with 5\n"
     ]
    },
    {
     "name": "stderr",
     "output_type": "stream",
     "text": [
      "100%|████████████████████████████████████████████████████████████████████████████████████████████████████████████████████████████████████████████████████████████████████████████████████████████| 216/216 [00:00<00:00, 269.94it/s]\n",
      "100%|████████████████████████████████████████████████████████████████████████████████████████████████████████████████████████████████████████████████████████████████████████████████████████████| 216/216 [00:00<00:00, 267.99it/s]\n"
     ]
    },
    {
     "name": "stdout",
     "output_type": "stream",
     "text": [
      "Unique functions: ['batch' 'next_data' 'run_training_batch' 'training_batch_to_device']\n"
     ]
    },
    {
     "name": "stderr",
     "output_type": "stream",
     "text": [
      "100%|███████████████████████████████████████████████████████████████████████████████████████████████████████████████████████████████████████████████████████████████████████████████████████████| 216/216 [00:00<00:00, 4527.13it/s]\n",
      "100%|████████████████████████████████████████████████████████████████████████████████████████████████████████████████████████████████████████████████████████████████████████████████████████████| 216/216 [00:00<00:00, 325.29it/s]\n"
     ]
    },
    {
     "name": "stdout",
     "output_type": "stream",
     "text": [
      "Working with 6\n"
     ]
    },
    {
     "name": "stderr",
     "output_type": "stream",
     "text": [
      "100%|████████████████████████████████████████████████████████████████████████████████████████████████████████████████████████████████████████████████████████████████████████████████████████████| 216/216 [00:00<00:00, 268.16it/s]\n",
      "100%|████████████████████████████████████████████████████████████████████████████████████████████████████████████████████████████████████████████████████████████████████████████████████████████| 216/216 [00:00<00:00, 269.68it/s]\n"
     ]
    },
    {
     "name": "stdout",
     "output_type": "stream",
     "text": [
      "Unique functions: ['batch' 'next_data' 'run_training_batch' 'training_batch_to_device']\n"
     ]
    },
    {
     "name": "stderr",
     "output_type": "stream",
     "text": [
      "100%|███████████████████████████████████████████████████████████████████████████████████████████████████████████████████████████████████████████████████████████████████████████████████████████| 216/216 [00:00<00:00, 4449.53it/s]\n",
      "100%|████████████████████████████████████████████████████████████████████████████████████████████████████████████████████████████████████████████████████████████████████████████████████████████| 216/216 [00:00<00:00, 335.09it/s]\n"
     ]
    },
    {
     "name": "stdout",
     "output_type": "stream",
     "text": [
      "Working with 7\n"
     ]
    },
    {
     "name": "stderr",
     "output_type": "stream",
     "text": [
      "100%|████████████████████████████████████████████████████████████████████████████████████████████████████████████████████████████████████████████████████████████████████████████████████████████| 216/216 [00:00<00:00, 271.34it/s]\n",
      "100%|████████████████████████████████████████████████████████████████████████████████████████████████████████████████████████████████████████████████████████████████████████████████████████████| 216/216 [00:00<00:00, 271.68it/s]\n"
     ]
    },
    {
     "name": "stdout",
     "output_type": "stream",
     "text": [
      "Unique functions: ['batch' 'next_data' 'run_training_batch' 'training_batch_to_device']\n"
     ]
    },
    {
     "name": "stderr",
     "output_type": "stream",
     "text": [
      "100%|███████████████████████████████████████████████████████████████████████████████████████████████████████████████████████████████████████████████████████████████████████████████████████████| 216/216 [00:00<00:00, 4701.60it/s]\n",
      "100%|████████████████████████████████████████████████████████████████████████████████████████████████████████████████████████████████████████████████████████████████████████████████████████████| 216/216 [00:00<00:00, 329.26it/s]\n"
     ]
    },
    {
     "name": "stdout",
     "output_type": "stream",
     "text": [
      "Working with 8\n"
     ]
    },
    {
     "name": "stderr",
     "output_type": "stream",
     "text": [
      "100%|████████████████████████████████████████████████████████████████████████████████████████████████████████████████████████████████████████████████████████████████████████████████████████████| 216/216 [00:00<00:00, 270.22it/s]\n",
      "100%|████████████████████████████████████████████████████████████████████████████████████████████████████████████████████████████████████████████████████████████████████████████████████████████| 216/216 [00:00<00:00, 269.41it/s]\n"
     ]
    },
    {
     "name": "stdout",
     "output_type": "stream",
     "text": [
      "Unique functions: ['batch' 'next_data' 'run_training_batch' 'training_batch_to_device']\n"
     ]
    },
    {
     "name": "stderr",
     "output_type": "stream",
     "text": [
      "100%|███████████████████████████████████████████████████████████████████████████████████████████████████████████████████████████████████████████████████████████████████████████████████████████| 216/216 [00:00<00:00, 4694.53it/s]\n",
      "100%|████████████████████████████████████████████████████████████████████████████████████████████████████████████████████████████████████████████████████████████████████████████████████████████| 216/216 [00:00<00:00, 357.19it/s]\n"
     ]
    },
    {
     "name": "stdout",
     "output_type": "stream",
     "text": [
      "Working with 9\n"
     ]
    },
    {
     "name": "stderr",
     "output_type": "stream",
     "text": [
      "100%|████████████████████████████████████████████████████████████████████████████████████████████████████████████████████████████████████████████████████████████████████████████████████████████| 216/216 [00:00<00:00, 265.59it/s]\n",
      "100%|████████████████████████████████████████████████████████████████████████████████████████████████████████████████████████████████████████████████████████████████████████████████████████████| 216/216 [00:00<00:00, 269.34it/s]\n"
     ]
    },
    {
     "name": "stdout",
     "output_type": "stream",
     "text": [
      "Unique functions: ['batch' 'next_data' 'run_training_batch' 'training_batch_to_device']\n"
     ]
    },
    {
     "name": "stderr",
     "output_type": "stream",
     "text": [
      "100%|███████████████████████████████████████████████████████████████████████████████████████████████████████████████████████████████████████████████████████████████████████████████████████████| 216/216 [00:00<00:00, 4477.79it/s]\n",
      "100%|████████████████████████████████████████████████████████████████████████████████████████████████████████████████████████████████████████████████████████████████████████████████████████████| 216/216 [00:00<00:00, 354.02it/s]\n"
     ]
    },
    {
     "name": "stdout",
     "output_type": "stream",
     "text": [
      "Working with 10\n"
     ]
    },
    {
     "name": "stderr",
     "output_type": "stream",
     "text": [
      "100%|████████████████████████████████████████████████████████████████████████████████████████████████████████████████████████████████████████████████████████████████████████████████████████████| 216/216 [00:00<00:00, 264.75it/s]\n",
      "100%|████████████████████████████████████████████████████████████████████████████████████████████████████████████████████████████████████████████████████████████████████████████████████████████| 216/216 [00:00<00:00, 269.21it/s]\n"
     ]
    },
    {
     "name": "stdout",
     "output_type": "stream",
     "text": [
      "Unique functions: ['batch' 'next_data' 'run_training_batch' 'training_batch_to_device']\n"
     ]
    },
    {
     "name": "stderr",
     "output_type": "stream",
     "text": [
      "100%|███████████████████████████████████████████████████████████████████████████████████████████████████████████████████████████████████████████████████████████████████████████████████████████| 216/216 [00:00<00:00, 1948.11it/s]\n",
      "100%|████████████████████████████████████████████████████████████████████████████████████████████████████████████████████████████████████████████████████████████████████████████████████████████| 216/216 [00:00<00:00, 412.44it/s]\n"
     ]
    }
   ],
   "source": [
    "# setup folders\n",
    "output_base_folder = Path(\"/iarai/home/ivan.svogor/storage-benchmarking-raw/repeated-runs-0212/tu\")\n",
    "base_folder = \"0212_run_\"\n",
    "\n",
    "# Load data\n",
    "results_s3, results_scratch = load_all_experiments(output_base_folder, base_folder)"
   ]
  },
  {
   "cell_type": "code",
   "execution_count": 7,
   "id": "9be74623",
   "metadata": {},
   "outputs": [
    {
     "name": "stdout",
     "output_type": "stream",
     "text": [
      "Experiments loaded ... S3: 10, Scratch: 10\n"
     ]
    }
   ],
   "source": [
    "# Check the sizes\n",
    "print(f\"Experiments loaded ... S3: {len(results_s3)}, Scratch: {len(results_scratch)}\")"
   ]
  },
  {
   "cell_type": "code",
   "execution_count": 8,
   "id": "469df9e0",
   "metadata": {},
   "outputs": [],
   "source": [
    "throughput_all_s3 = plot_all_histograms(results_s3, impls, libs, False) # display = False (doesn't plot histogrms)"
   ]
  },
  {
   "cell_type": "code",
   "execution_count": 9,
   "id": "d365dadb",
   "metadata": {},
   "outputs": [],
   "source": [
    "throughput_all_scratch = plot_all_histograms(results_scratch, impls, libs, False) # display = False (doesn't plot histogrms)"
   ]
  },
  {
   "cell_type": "code",
   "execution_count": 10,
   "id": "9c98e920",
   "metadata": {},
   "outputs": [
    {
     "data": {
      "text/html": [
       "<div>\n",
       "<style scoped>\n",
       "    .dataframe tbody tr th:only-of-type {\n",
       "        vertical-align: middle;\n",
       "    }\n",
       "\n",
       "    .dataframe tbody tr th {\n",
       "        vertical-align: top;\n",
       "    }\n",
       "\n",
       "    .dataframe thead th {\n",
       "        text-align: right;\n",
       "    }\n",
       "</style>\n",
       "<table border=\"1\" class=\"dataframe\">\n",
       "  <thead>\n",
       "    <tr style=\"text-align: right;\">\n",
       "      <th></th>\n",
       "      <th>0</th>\n",
       "      <th>1</th>\n",
       "      <th>2</th>\n",
       "      <th>3</th>\n",
       "      <th>4</th>\n",
       "      <th>5</th>\n",
       "      <th>6</th>\n",
       "      <th>7</th>\n",
       "      <th>8</th>\n",
       "      <th>9</th>\n",
       "      <th>mean</th>\n",
       "      <th>var</th>\n",
       "      <th>std</th>\n",
       "    </tr>\n",
       "  </thead>\n",
       "  <tbody>\n",
       "    <tr>\n",
       "      <th>threaded_torch</th>\n",
       "      <td>39.93</td>\n",
       "      <td>43.13</td>\n",
       "      <td>38.31</td>\n",
       "      <td>36.25</td>\n",
       "      <td>36.86</td>\n",
       "      <td>36.35</td>\n",
       "      <td>36.64</td>\n",
       "      <td>36.34</td>\n",
       "      <td>36.44</td>\n",
       "      <td>36.04</td>\n",
       "      <td>37.63</td>\n",
       "      <td>5.19</td>\n",
       "      <td>2.28</td>\n",
       "    </tr>\n",
       "    <tr>\n",
       "      <th>threaded_lightning</th>\n",
       "      <td>38.51</td>\n",
       "      <td>40.56</td>\n",
       "      <td>38.52</td>\n",
       "      <td>35.43</td>\n",
       "      <td>36.12</td>\n",
       "      <td>35.77</td>\n",
       "      <td>36.51</td>\n",
       "      <td>36.30</td>\n",
       "      <td>36.30</td>\n",
       "      <td>36.01</td>\n",
       "      <td>37.00</td>\n",
       "      <td>2.69</td>\n",
       "      <td>1.64</td>\n",
       "    </tr>\n",
       "    <tr>\n",
       "      <th>asyncio_torch</th>\n",
       "      <td>38.55</td>\n",
       "      <td>39.31</td>\n",
       "      <td>38.13</td>\n",
       "      <td>34.56</td>\n",
       "      <td>34.50</td>\n",
       "      <td>35.02</td>\n",
       "      <td>34.64</td>\n",
       "      <td>34.91</td>\n",
       "      <td>35.13</td>\n",
       "      <td>34.91</td>\n",
       "      <td>35.97</td>\n",
       "      <td>3.58</td>\n",
       "      <td>1.89</td>\n",
       "    </tr>\n",
       "    <tr>\n",
       "      <th>asyncio_lightning</th>\n",
       "      <td>38.86</td>\n",
       "      <td>38.22</td>\n",
       "      <td>37.34</td>\n",
       "      <td>35.80</td>\n",
       "      <td>35.22</td>\n",
       "      <td>34.80</td>\n",
       "      <td>35.58</td>\n",
       "      <td>35.25</td>\n",
       "      <td>35.71</td>\n",
       "      <td>35.56</td>\n",
       "      <td>36.23</td>\n",
       "      <td>1.94</td>\n",
       "      <td>1.39</td>\n",
       "    </tr>\n",
       "    <tr>\n",
       "      <th>vanilla_torch</th>\n",
       "      <td>4.04</td>\n",
       "      <td>3.89</td>\n",
       "      <td>3.73</td>\n",
       "      <td>3.84</td>\n",
       "      <td>3.83</td>\n",
       "      <td>3.96</td>\n",
       "      <td>4.03</td>\n",
       "      <td>4.11</td>\n",
       "      <td>4.06</td>\n",
       "      <td>4.09</td>\n",
       "      <td>3.96</td>\n",
       "      <td>0.02</td>\n",
       "      <td>0.13</td>\n",
       "    </tr>\n",
       "    <tr>\n",
       "      <th>vanilla_lightning</th>\n",
       "      <td>0.91</td>\n",
       "      <td>0.93</td>\n",
       "      <td>0.94</td>\n",
       "      <td>0.96</td>\n",
       "      <td>0.96</td>\n",
       "      <td>0.99</td>\n",
       "      <td>1.01</td>\n",
       "      <td>1.01</td>\n",
       "      <td>1.01</td>\n",
       "      <td>0.96</td>\n",
       "      <td>0.97</td>\n",
       "      <td>0.00</td>\n",
       "      <td>0.04</td>\n",
       "    </tr>\n",
       "  </tbody>\n",
       "</table>\n",
       "</div>"
      ],
      "text/plain": [
       "                        0      1      2      3      4      5      6      7  \\\n",
       "threaded_torch      39.93  43.13  38.31  36.25  36.86  36.35  36.64  36.34   \n",
       "threaded_lightning  38.51  40.56  38.52  35.43  36.12  35.77  36.51  36.30   \n",
       "asyncio_torch       38.55  39.31  38.13  34.56  34.50  35.02  34.64  34.91   \n",
       "asyncio_lightning   38.86  38.22  37.34  35.80  35.22  34.80  35.58  35.25   \n",
       "vanilla_torch        4.04   3.89   3.73   3.84   3.83   3.96   4.03   4.11   \n",
       "vanilla_lightning    0.91   0.93   0.94   0.96   0.96   0.99   1.01   1.01   \n",
       "\n",
       "                        8      9   mean   var   std  \n",
       "threaded_torch      36.44  36.04  37.63  5.19  2.28  \n",
       "threaded_lightning  36.30  36.01  37.00  2.69  1.64  \n",
       "asyncio_torch       35.13  34.91  35.97  3.58  1.89  \n",
       "asyncio_lightning   35.71  35.56  36.23  1.94  1.39  \n",
       "vanilla_torch        4.06   4.09   3.96  0.02  0.13  \n",
       "vanilla_lightning    1.01   0.96   0.97  0.00  0.04  "
      ]
     },
     "execution_count": 10,
     "metadata": {},
     "output_type": "execute_result"
    }
   ],
   "source": [
    "df_t_s3 = add_stats(throughput_all_s3)\n",
    "df_t_s3"
   ]
  },
  {
   "cell_type": "code",
   "execution_count": 11,
   "id": "3b5451ec",
   "metadata": {},
   "outputs": [
    {
     "data": {
      "text/html": [
       "<div>\n",
       "<style scoped>\n",
       "    .dataframe tbody tr th:only-of-type {\n",
       "        vertical-align: middle;\n",
       "    }\n",
       "\n",
       "    .dataframe tbody tr th {\n",
       "        vertical-align: top;\n",
       "    }\n",
       "\n",
       "    .dataframe thead th {\n",
       "        text-align: right;\n",
       "    }\n",
       "</style>\n",
       "<table border=\"1\" class=\"dataframe\">\n",
       "  <thead>\n",
       "    <tr style=\"text-align: right;\">\n",
       "      <th></th>\n",
       "      <th>0</th>\n",
       "      <th>1</th>\n",
       "      <th>2</th>\n",
       "      <th>3</th>\n",
       "      <th>4</th>\n",
       "      <th>5</th>\n",
       "      <th>6</th>\n",
       "      <th>7</th>\n",
       "      <th>8</th>\n",
       "      <th>9</th>\n",
       "      <th>mean</th>\n",
       "      <th>var</th>\n",
       "      <th>std</th>\n",
       "    </tr>\n",
       "  </thead>\n",
       "  <tbody>\n",
       "    <tr>\n",
       "      <th>threaded_torch</th>\n",
       "      <td>76.59</td>\n",
       "      <td>77.64</td>\n",
       "      <td>81.78</td>\n",
       "      <td>81.74</td>\n",
       "      <td>82.01</td>\n",
       "      <td>82.21</td>\n",
       "      <td>84.56</td>\n",
       "      <td>83.06</td>\n",
       "      <td>82.49</td>\n",
       "      <td>84.80</td>\n",
       "      <td>81.69</td>\n",
       "      <td>7.02</td>\n",
       "      <td>2.65</td>\n",
       "    </tr>\n",
       "    <tr>\n",
       "      <th>threaded_lightning</th>\n",
       "      <td>51.55</td>\n",
       "      <td>51.35</td>\n",
       "      <td>53.23</td>\n",
       "      <td>52.26</td>\n",
       "      <td>52.69</td>\n",
       "      <td>51.68</td>\n",
       "      <td>52.30</td>\n",
       "      <td>52.09</td>\n",
       "      <td>52.59</td>\n",
       "      <td>52.40</td>\n",
       "      <td>52.21</td>\n",
       "      <td>0.33</td>\n",
       "      <td>0.57</td>\n",
       "    </tr>\n",
       "    <tr>\n",
       "      <th>asyncio_torch</th>\n",
       "      <td>80.49</td>\n",
       "      <td>81.50</td>\n",
       "      <td>84.39</td>\n",
       "      <td>81.55</td>\n",
       "      <td>82.56</td>\n",
       "      <td>82.29</td>\n",
       "      <td>81.16</td>\n",
       "      <td>81.06</td>\n",
       "      <td>82.02</td>\n",
       "      <td>80.90</td>\n",
       "      <td>81.79</td>\n",
       "      <td>1.25</td>\n",
       "      <td>1.12</td>\n",
       "    </tr>\n",
       "    <tr>\n",
       "      <th>asyncio_lightning</th>\n",
       "      <td>52.48</td>\n",
       "      <td>52.48</td>\n",
       "      <td>51.48</td>\n",
       "      <td>52.56</td>\n",
       "      <td>51.83</td>\n",
       "      <td>51.62</td>\n",
       "      <td>52.04</td>\n",
       "      <td>52.25</td>\n",
       "      <td>51.85</td>\n",
       "      <td>51.81</td>\n",
       "      <td>52.04</td>\n",
       "      <td>0.15</td>\n",
       "      <td>0.38</td>\n",
       "    </tr>\n",
       "    <tr>\n",
       "      <th>vanilla_torch</th>\n",
       "      <td>51.18</td>\n",
       "      <td>55.06</td>\n",
       "      <td>56.17</td>\n",
       "      <td>56.29</td>\n",
       "      <td>56.09</td>\n",
       "      <td>56.32</td>\n",
       "      <td>56.44</td>\n",
       "      <td>55.56</td>\n",
       "      <td>55.95</td>\n",
       "      <td>56.25</td>\n",
       "      <td>55.53</td>\n",
       "      <td>2.51</td>\n",
       "      <td>1.58</td>\n",
       "    </tr>\n",
       "    <tr>\n",
       "      <th>vanilla_lightning</th>\n",
       "      <td>14.23</td>\n",
       "      <td>15.46</td>\n",
       "      <td>15.59</td>\n",
       "      <td>15.71</td>\n",
       "      <td>15.58</td>\n",
       "      <td>15.69</td>\n",
       "      <td>15.45</td>\n",
       "      <td>15.50</td>\n",
       "      <td>15.62</td>\n",
       "      <td>15.58</td>\n",
       "      <td>15.44</td>\n",
       "      <td>0.19</td>\n",
       "      <td>0.43</td>\n",
       "    </tr>\n",
       "  </tbody>\n",
       "</table>\n",
       "</div>"
      ],
      "text/plain": [
       "                        0      1      2      3      4      5      6      7  \\\n",
       "threaded_torch      76.59  77.64  81.78  81.74  82.01  82.21  84.56  83.06   \n",
       "threaded_lightning  51.55  51.35  53.23  52.26  52.69  51.68  52.30  52.09   \n",
       "asyncio_torch       80.49  81.50  84.39  81.55  82.56  82.29  81.16  81.06   \n",
       "asyncio_lightning   52.48  52.48  51.48  52.56  51.83  51.62  52.04  52.25   \n",
       "vanilla_torch       51.18  55.06  56.17  56.29  56.09  56.32  56.44  55.56   \n",
       "vanilla_lightning   14.23  15.46  15.59  15.71  15.58  15.69  15.45  15.50   \n",
       "\n",
       "                        8      9   mean   var   std  \n",
       "threaded_torch      82.49  84.80  81.69  7.02  2.65  \n",
       "threaded_lightning  52.59  52.40  52.21  0.33  0.57  \n",
       "asyncio_torch       82.02  80.90  81.79  1.25  1.12  \n",
       "asyncio_lightning   51.85  51.81  52.04  0.15  0.38  \n",
       "vanilla_torch       55.95  56.25  55.53  2.51  1.58  \n",
       "vanilla_lightning   15.62  15.58  15.44  0.19  0.43  "
      ]
     },
     "execution_count": 11,
     "metadata": {},
     "output_type": "execute_result"
    }
   ],
   "source": [
    "df_t_scratch = add_stats(throughput_all_scratch)\n",
    "df_t_scratch"
   ]
  },
  {
   "cell_type": "code",
   "execution_count": 12,
   "id": "5a910782",
   "metadata": {},
   "outputs": [
    {
     "data": {
      "image/png": "[encoded data removed]",
      "text/plain": [
       "<Figure size 720x720 with 1 Axes>"
      ]
     },
     "metadata": {
      "needs_background": "light"
     },
     "output_type": "display_data"
    }
   ],
   "source": [
    "plot_violins(df_t_s3, \"TU Remote storage - AWS S3\")"
   ]
  },
  {
   "cell_type": "code",
   "execution_count": 13,
   "id": "77bd4bb1",
   "metadata": {},
   "outputs": [
    {
     "data": {
      "image/png": "[encoded data removed]",
      "text/plain": [
       "<Figure size 720x720 with 1 Axes>"
      ]
     },
     "metadata": {
      "needs_background": "light"
     },
     "output_type": "display_data"
    }
   ],
   "source": [
    "plot_violins(df_t_scratch, \"TU Local storage\")"
   ]
  },
  {
   "cell_type": "markdown",
   "id": "6badcd77",
   "metadata": {},
   "source": [
    "### IARAI environment"
   ]
  },
  {
   "cell_type": "code",
   "execution_count": 14,
   "id": "0db2a9d2",
   "metadata": {
    "scrolled": true
   },
   "outputs": [
    {
     "name": "stdout",
     "output_type": "stream",
     "text": [
      "Working with 1\n"
     ]
    },
    {
     "name": "stderr",
     "output_type": "stream",
     "text": [
      "100%|██████████████████████████████████████████████████████████████████████████████████████████████████████████████████████████████████| 216/216 [00:00<00:00, 261.01it/s]\n",
      "100%|██████████████████████████████████████████████████████████████████████████████████████████████████████████████████████████████████| 216/216 [00:00<00:00, 271.97it/s]\n"
     ]
    },
    {
     "name": "stdout",
     "output_type": "stream",
     "text": [
      "Unique functions: ['batch' 'next_data' 'run_training_batch' 'training_batch_to_device']\n"
     ]
    },
    {
     "name": "stderr",
     "output_type": "stream",
     "text": [
      "100%|█████████████████████████████████████████████████████████████████████████████████████████████████████████████████████████████████| 216/216 [00:00<00:00, 6174.95it/s]\n",
      "100%|██████████████████████████████████████████████████████████████████████████████████████████████████████████████████████████████████| 216/216 [00:00<00:00, 447.59it/s]\n"
     ]
    },
    {
     "name": "stdout",
     "output_type": "stream",
     "text": [
      "Working with 2\n"
     ]
    },
    {
     "name": "stderr",
     "output_type": "stream",
     "text": [
      "100%|██████████████████████████████████████████████████████████████████████████████████████████████████████████████████████████████████| 216/216 [00:00<00:00, 270.94it/s]\n",
      "100%|██████████████████████████████████████████████████████████████████████████████████████████████████████████████████████████████████| 216/216 [00:00<00:00, 252.28it/s]\n"
     ]
    },
    {
     "name": "stdout",
     "output_type": "stream",
     "text": [
      "Unique functions: ['batch' 'next_data' 'run_training_batch' 'training_batch_to_device']\n"
     ]
    },
    {
     "name": "stderr",
     "output_type": "stream",
     "text": [
      "100%|█████████████████████████████████████████████████████████████████████████████████████████████████████████████████████████████████| 216/216 [00:00<00:00, 6426.50it/s]\n",
      "100%|██████████████████████████████████████████████████████████████████████████████████████████████████████████████████████████████████| 216/216 [00:00<00:00, 451.02it/s]\n"
     ]
    },
    {
     "name": "stdout",
     "output_type": "stream",
     "text": [
      "Working with 3\n"
     ]
    },
    {
     "name": "stderr",
     "output_type": "stream",
     "text": [
      "100%|██████████████████████████████████████████████████████████████████████████████████████████████████████████████████████████████████| 216/216 [00:00<00:00, 271.25it/s]\n",
      "100%|██████████████████████████████████████████████████████████████████████████████████████████████████████████████████████████████████| 216/216 [00:00<00:00, 271.27it/s]\n"
     ]
    },
    {
     "name": "stdout",
     "output_type": "stream",
     "text": [
      "Unique functions: ['batch' 'next_data' 'run_training_batch' 'training_batch_to_device']\n"
     ]
    },
    {
     "name": "stderr",
     "output_type": "stream",
     "text": [
      "100%|█████████████████████████████████████████████████████████████████████████████████████████████████████████████████████████████████| 216/216 [00:00<00:00, 6324.26it/s]\n",
      "100%|██████████████████████████████████████████████████████████████████████████████████████████████████████████████████████████████████| 216/216 [00:00<00:00, 480.14it/s]\n"
     ]
    },
    {
     "name": "stdout",
     "output_type": "stream",
     "text": [
      "Working with 4\n"
     ]
    },
    {
     "name": "stderr",
     "output_type": "stream",
     "text": [
      "100%|██████████████████████████████████████████████████████████████████████████████████████████████████████████████████████████████████| 216/216 [00:00<00:00, 270.54it/s]\n",
      "100%|██████████████████████████████████████████████████████████████████████████████████████████████████████████████████████████████████| 216/216 [00:00<00:00, 271.75it/s]\n"
     ]
    },
    {
     "name": "stdout",
     "output_type": "stream",
     "text": [
      "Unique functions: ['batch' 'next_data' 'run_training_batch' 'training_batch_to_device']\n"
     ]
    },
    {
     "name": "stderr",
     "output_type": "stream",
     "text": [
      "100%|█████████████████████████████████████████████████████████████████████████████████████████████████████████████████████████████████| 216/216 [00:00<00:00, 6365.86it/s]\n",
      "100%|██████████████████████████████████████████████████████████████████████████████████████████████████████████████████████████████████| 216/216 [00:00<00:00, 490.73it/s]\n"
     ]
    },
    {
     "name": "stdout",
     "output_type": "stream",
     "text": [
      "Working with 5\n"
     ]
    },
    {
     "name": "stderr",
     "output_type": "stream",
     "text": [
      "100%|██████████████████████████████████████████████████████████████████████████████████████████████████████████████████████████████████| 216/216 [00:00<00:00, 270.71it/s]\n",
      "100%|██████████████████████████████████████████████████████████████████████████████████████████████████████████████████████████████████| 216/216 [00:00<00:00, 272.11it/s]\n"
     ]
    },
    {
     "name": "stdout",
     "output_type": "stream",
     "text": [
      "Unique functions: ['batch' 'next_data' 'run_training_batch' 'training_batch_to_device']\n"
     ]
    },
    {
     "name": "stderr",
     "output_type": "stream",
     "text": [
      "100%|█████████████████████████████████████████████████████████████████████████████████████████████████████████████████████████████████| 216/216 [00:00<00:00, 2277.11it/s]\n",
      "100%|██████████████████████████████████████████████████████████████████████████████████████████████████████████████████████████████████| 216/216 [00:00<00:00, 568.31it/s]\n"
     ]
    },
    {
     "name": "stdout",
     "output_type": "stream",
     "text": [
      "Working with 6\n"
     ]
    },
    {
     "name": "stderr",
     "output_type": "stream",
     "text": [
      "100%|██████████████████████████████████████████████████████████████████████████████████████████████████████████████████████████████████| 216/216 [00:00<00:00, 270.51it/s]\n",
      "100%|██████████████████████████████████████████████████████████████████████████████████████████████████████████████████████████████████| 216/216 [00:00<00:00, 254.66it/s]\n"
     ]
    },
    {
     "name": "stdout",
     "output_type": "stream",
     "text": [
      "Unique functions: ['batch' 'next_data' 'run_training_batch' 'training_batch_to_device']\n"
     ]
    },
    {
     "name": "stderr",
     "output_type": "stream",
     "text": [
      "100%|█████████████████████████████████████████████████████████████████████████████████████████████████████████████████████████████████| 216/216 [00:00<00:00, 6255.49it/s]\n",
      "100%|██████████████████████████████████████████████████████████████████████████████████████████████████████████████████████████████████| 216/216 [00:00<00:00, 567.87it/s]\n"
     ]
    },
    {
     "name": "stdout",
     "output_type": "stream",
     "text": [
      "Working with 7\n"
     ]
    },
    {
     "name": "stderr",
     "output_type": "stream",
     "text": [
      "100%|██████████████████████████████████████████████████████████████████████████████████████████████████████████████████████████████████| 216/216 [00:00<00:00, 252.72it/s]\n",
      "100%|██████████████████████████████████████████████████████████████████████████████████████████████████████████████████████████████████| 216/216 [00:00<00:00, 274.71it/s]\n"
     ]
    },
    {
     "name": "stdout",
     "output_type": "stream",
     "text": [
      "Unique functions: ['batch' 'next_data' 'run_training_batch' 'training_batch_to_device']\n"
     ]
    },
    {
     "name": "stderr",
     "output_type": "stream",
     "text": [
      "100%|█████████████████████████████████████████████████████████████████████████████████████████████████████████████████████████████████| 216/216 [00:00<00:00, 6065.64it/s]\n",
      "100%|██████████████████████████████████████████████████████████████████████████████████████████████████████████████████████████████████| 216/216 [00:00<00:00, 492.02it/s]\n"
     ]
    },
    {
     "name": "stdout",
     "output_type": "stream",
     "text": [
      "Working with 8\n"
     ]
    },
    {
     "name": "stderr",
     "output_type": "stream",
     "text": [
      "100%|██████████████████████████████████████████████████████████████████████████████████████████████████████████████████████████████████| 216/216 [00:00<00:00, 272.58it/s]\n",
      "100%|██████████████████████████████████████████████████████████████████████████████████████████████████████████████████████████████████| 216/216 [00:00<00:00, 269.54it/s]\n"
     ]
    },
    {
     "name": "stdout",
     "output_type": "stream",
     "text": [
      "Unique functions: ['batch' 'next_data' 'run_training_batch' 'training_batch_to_device']\n"
     ]
    },
    {
     "name": "stderr",
     "output_type": "stream",
     "text": [
      "100%|█████████████████████████████████████████████████████████████████████████████████████████████████████████████████████████████████| 216/216 [00:00<00:00, 6575.38it/s]\n",
      "100%|██████████████████████████████████████████████████████████████████████████████████████████████████████████████████████████████████| 216/216 [00:00<00:00, 502.24it/s]\n"
     ]
    },
    {
     "name": "stdout",
     "output_type": "stream",
     "text": [
      "Working with 9\n"
     ]
    },
    {
     "name": "stderr",
     "output_type": "stream",
     "text": [
      "100%|██████████████████████████████████████████████████████████████████████████████████████████████████████████████████████████████████| 216/216 [00:00<00:00, 273.02it/s]\n",
      "100%|██████████████████████████████████████████████████████████████████████████████████████████████████████████████████████████████████| 216/216 [00:00<00:00, 271.53it/s]\n"
     ]
    },
    {
     "name": "stdout",
     "output_type": "stream",
     "text": [
      "Unique functions: ['batch' 'next_data' 'run_training_batch' 'training_batch_to_device']\n"
     ]
    },
    {
     "name": "stderr",
     "output_type": "stream",
     "text": [
      "100%|█████████████████████████████████████████████████████████████████████████████████████████████████████████████████████████████████| 216/216 [00:00<00:00, 6423.90it/s]\n",
      "100%|██████████████████████████████████████████████████████████████████████████████████████████████████████████████████████████████████| 216/216 [00:00<00:00, 516.01it/s]\n"
     ]
    },
    {
     "name": "stdout",
     "output_type": "stream",
     "text": [
      "Working with 10\n"
     ]
    },
    {
     "name": "stderr",
     "output_type": "stream",
     "text": [
      "100%|██████████████████████████████████████████████████████████████████████████████████████████████████████████████████████████████████| 216/216 [00:00<00:00, 271.72it/s]\n",
      "100%|██████████████████████████████████████████████████████████████████████████████████████████████████████████████████████████████████| 216/216 [00:00<00:00, 269.69it/s]\n"
     ]
    },
    {
     "name": "stdout",
     "output_type": "stream",
     "text": [
      "Unique functions: ['batch' 'next_data' 'run_training_batch' 'training_batch_to_device']\n"
     ]
    },
    {
     "name": "stderr",
     "output_type": "stream",
     "text": [
      "100%|█████████████████████████████████████████████████████████████████████████████████████████████████████████████████████████████████| 216/216 [00:00<00:00, 6794.99it/s]\n",
      "100%|██████████████████████████████████████████████████████████████████████████████████████████████████████████████████████████████████| 216/216 [00:00<00:00, 639.43it/s]\n"
     ]
    }
   ],
   "source": [
    "# setup folders\n",
    "output_base_folder = Path(\"/iarai/home/ivan.svogor/storage-benchmarking-raw/repeated-runs-0212/iarai\")\n",
    "base_folder = \"0212_run_\"\n",
    "\n",
    "# Load data\n",
    "results_s3, results_scratch = load_all_experiments(output_base_folder, base_folder)"
   ]
  },
  {
   "cell_type": "code",
   "execution_count": 15,
   "id": "b75ae1de",
   "metadata": {},
   "outputs": [
    {
     "name": "stdout",
     "output_type": "stream",
     "text": [
      "Experiments loaded ... S3: 10, Scratch: 10\n"
     ]
    }
   ],
   "source": [
    "# Check the sizes\n",
    "print(f\"Experiments loaded ... S3: {len(results_s3)}, Scratch: {len(results_scratch)}\")"
   ]
  },
  {
   "cell_type": "code",
   "execution_count": 16,
   "id": "ab45935b",
   "metadata": {},
   "outputs": [],
   "source": [
    "throughput_all_s3 = plot_all_histograms(results_s3, impls, libs, False) # display = False (doesn't plot histogrms)"
   ]
  },
  {
   "cell_type": "code",
   "execution_count": 17,
   "id": "e691cc64",
   "metadata": {},
   "outputs": [],
   "source": [
    "throughput_all_scratch = plot_all_histograms(results_scratch, impls, libs, False) # display = False (doesn't plot histogrms)"
   ]
  },
  {
   "cell_type": "code",
   "execution_count": 18,
   "id": "54549606",
   "metadata": {},
   "outputs": [
    {
     "data": {
      "text/html": [
       "<div>\n",
       "<style scoped>\n",
       "    .dataframe tbody tr th:only-of-type {\n",
       "        vertical-align: middle;\n",
       "    }\n",
       "\n",
       "    .dataframe tbody tr th {\n",
       "        vertical-align: top;\n",
       "    }\n",
       "\n",
       "    .dataframe thead th {\n",
       "        text-align: right;\n",
       "    }\n",
       "</style>\n",
       "<table border=\"1\" class=\"dataframe\">\n",
       "  <thead>\n",
       "    <tr style=\"text-align: right;\">\n",
       "      <th></th>\n",
       "      <th>0</th>\n",
       "      <th>1</th>\n",
       "      <th>2</th>\n",
       "      <th>3</th>\n",
       "      <th>4</th>\n",
       "      <th>5</th>\n",
       "      <th>6</th>\n",
       "      <th>7</th>\n",
       "      <th>8</th>\n",
       "      <th>9</th>\n",
       "      <th>mean</th>\n",
       "      <th>var</th>\n",
       "      <th>std</th>\n",
       "    </tr>\n",
       "  </thead>\n",
       "  <tbody>\n",
       "    <tr>\n",
       "      <th>threaded_torch</th>\n",
       "      <td>25.48</td>\n",
       "      <td>29.45</td>\n",
       "      <td>26.36</td>\n",
       "      <td>27.06</td>\n",
       "      <td>29.61</td>\n",
       "      <td>25.91</td>\n",
       "      <td>26.31</td>\n",
       "      <td>28.07</td>\n",
       "      <td>27.63</td>\n",
       "      <td>26.45</td>\n",
       "      <td>27.23</td>\n",
       "      <td>2.06</td>\n",
       "      <td>1.43</td>\n",
       "    </tr>\n",
       "    <tr>\n",
       "      <th>threaded_lightning</th>\n",
       "      <td>31.14</td>\n",
       "      <td>28.14</td>\n",
       "      <td>29.40</td>\n",
       "      <td>29.14</td>\n",
       "      <td>29.39</td>\n",
       "      <td>28.10</td>\n",
       "      <td>28.53</td>\n",
       "      <td>28.90</td>\n",
       "      <td>28.71</td>\n",
       "      <td>28.08</td>\n",
       "      <td>28.95</td>\n",
       "      <td>0.84</td>\n",
       "      <td>0.92</td>\n",
       "    </tr>\n",
       "    <tr>\n",
       "      <th>asyncio_torch</th>\n",
       "      <td>30.05</td>\n",
       "      <td>28.56</td>\n",
       "      <td>25.65</td>\n",
       "      <td>27.75</td>\n",
       "      <td>28.58</td>\n",
       "      <td>26.94</td>\n",
       "      <td>27.10</td>\n",
       "      <td>28.30</td>\n",
       "      <td>28.54</td>\n",
       "      <td>27.13</td>\n",
       "      <td>27.86</td>\n",
       "      <td>1.48</td>\n",
       "      <td>1.22</td>\n",
       "    </tr>\n",
       "    <tr>\n",
       "      <th>asyncio_lightning</th>\n",
       "      <td>30.52</td>\n",
       "      <td>28.32</td>\n",
       "      <td>29.06</td>\n",
       "      <td>28.32</td>\n",
       "      <td>29.03</td>\n",
       "      <td>27.97</td>\n",
       "      <td>28.06</td>\n",
       "      <td>28.39</td>\n",
       "      <td>28.32</td>\n",
       "      <td>27.69</td>\n",
       "      <td>28.57</td>\n",
       "      <td>0.65</td>\n",
       "      <td>0.81</td>\n",
       "    </tr>\n",
       "    <tr>\n",
       "      <th>vanilla_torch</th>\n",
       "      <td>3.85</td>\n",
       "      <td>3.98</td>\n",
       "      <td>3.90</td>\n",
       "      <td>3.99</td>\n",
       "      <td>4.04</td>\n",
       "      <td>3.86</td>\n",
       "      <td>4.12</td>\n",
       "      <td>4.28</td>\n",
       "      <td>4.18</td>\n",
       "      <td>4.12</td>\n",
       "      <td>4.03</td>\n",
       "      <td>0.02</td>\n",
       "      <td>0.14</td>\n",
       "    </tr>\n",
       "    <tr>\n",
       "      <th>vanilla_lightning</th>\n",
       "      <td>0.89</td>\n",
       "      <td>0.90</td>\n",
       "      <td>0.94</td>\n",
       "      <td>0.97</td>\n",
       "      <td>0.96</td>\n",
       "      <td>0.98</td>\n",
       "      <td>1.00</td>\n",
       "      <td>1.03</td>\n",
       "      <td>1.00</td>\n",
       "      <td>0.99</td>\n",
       "      <td>0.97</td>\n",
       "      <td>0.00</td>\n",
       "      <td>0.04</td>\n",
       "    </tr>\n",
       "  </tbody>\n",
       "</table>\n",
       "</div>"
      ],
      "text/plain": [
       "                        0      1      2      3      4      5      6      7  \\\n",
       "threaded_torch      25.48  29.45  26.36  27.06  29.61  25.91  26.31  28.07   \n",
       "threaded_lightning  31.14  28.14  29.40  29.14  29.39  28.10  28.53  28.90   \n",
       "asyncio_torch       30.05  28.56  25.65  27.75  28.58  26.94  27.10  28.30   \n",
       "asyncio_lightning   30.52  28.32  29.06  28.32  29.03  27.97  28.06  28.39   \n",
       "vanilla_torch        3.85   3.98   3.90   3.99   4.04   3.86   4.12   4.28   \n",
       "vanilla_lightning    0.89   0.90   0.94   0.97   0.96   0.98   1.00   1.03   \n",
       "\n",
       "                        8      9   mean   var   std  \n",
       "threaded_torch      27.63  26.45  27.23  2.06  1.43  \n",
       "threaded_lightning  28.71  28.08  28.95  0.84  0.92  \n",
       "asyncio_torch       28.54  27.13  27.86  1.48  1.22  \n",
       "asyncio_lightning   28.32  27.69  28.57  0.65  0.81  \n",
       "vanilla_torch        4.18   4.12   4.03  0.02  0.14  \n",
       "vanilla_lightning    1.00   0.99   0.97  0.00  0.04  "
      ]
     },
     "execution_count": 18,
     "metadata": {},
     "output_type": "execute_result"
    }
   ],
   "source": [
    "df_t_s3 = add_stats(throughput_all_s3)\n",
    "df_t_s3"
   ]
  },
  {
   "cell_type": "code",
   "execution_count": 19,
   "id": "7b07f62c",
   "metadata": {},
   "outputs": [
    {
     "data": {
      "text/html": [
       "<div>\n",
       "<style scoped>\n",
       "    .dataframe tbody tr th:only-of-type {\n",
       "        vertical-align: middle;\n",
       "    }\n",
       "\n",
       "    .dataframe tbody tr th {\n",
       "        vertical-align: top;\n",
       "    }\n",
       "\n",
       "    .dataframe thead th {\n",
       "        text-align: right;\n",
       "    }\n",
       "</style>\n",
       "<table border=\"1\" class=\"dataframe\">\n",
       "  <thead>\n",
       "    <tr style=\"text-align: right;\">\n",
       "      <th></th>\n",
       "      <th>0</th>\n",
       "      <th>1</th>\n",
       "      <th>2</th>\n",
       "      <th>3</th>\n",
       "      <th>4</th>\n",
       "      <th>5</th>\n",
       "      <th>6</th>\n",
       "      <th>7</th>\n",
       "      <th>8</th>\n",
       "      <th>9</th>\n",
       "      <th>mean</th>\n",
       "      <th>var</th>\n",
       "      <th>std</th>\n",
       "    </tr>\n",
       "  </thead>\n",
       "  <tbody>\n",
       "    <tr>\n",
       "      <th>threaded_torch</th>\n",
       "      <td>79.73</td>\n",
       "      <td>84.11</td>\n",
       "      <td>83.93</td>\n",
       "      <td>83.36</td>\n",
       "      <td>82.64</td>\n",
       "      <td>84.34</td>\n",
       "      <td>82.76</td>\n",
       "      <td>83.69</td>\n",
       "      <td>80.38</td>\n",
       "      <td>81.13</td>\n",
       "      <td>82.61</td>\n",
       "      <td>2.69</td>\n",
       "      <td>1.64</td>\n",
       "    </tr>\n",
       "    <tr>\n",
       "      <th>threaded_lightning</th>\n",
       "      <td>51.31</td>\n",
       "      <td>56.04</td>\n",
       "      <td>55.27</td>\n",
       "      <td>55.05</td>\n",
       "      <td>55.98</td>\n",
       "      <td>55.55</td>\n",
       "      <td>55.23</td>\n",
       "      <td>55.34</td>\n",
       "      <td>53.03</td>\n",
       "      <td>52.37</td>\n",
       "      <td>54.52</td>\n",
       "      <td>2.74</td>\n",
       "      <td>1.66</td>\n",
       "    </tr>\n",
       "    <tr>\n",
       "      <th>asyncio_torch</th>\n",
       "      <td>80.22</td>\n",
       "      <td>86.40</td>\n",
       "      <td>84.23</td>\n",
       "      <td>81.20</td>\n",
       "      <td>82.65</td>\n",
       "      <td>82.76</td>\n",
       "      <td>80.92</td>\n",
       "      <td>81.38</td>\n",
       "      <td>79.90</td>\n",
       "      <td>78.36</td>\n",
       "      <td>81.80</td>\n",
       "      <td>5.33</td>\n",
       "      <td>2.31</td>\n",
       "    </tr>\n",
       "    <tr>\n",
       "      <th>asyncio_lightning</th>\n",
       "      <td>53.74</td>\n",
       "      <td>55.26</td>\n",
       "      <td>53.92</td>\n",
       "      <td>54.73</td>\n",
       "      <td>55.83</td>\n",
       "      <td>54.12</td>\n",
       "      <td>52.88</td>\n",
       "      <td>52.73</td>\n",
       "      <td>54.14</td>\n",
       "      <td>52.32</td>\n",
       "      <td>53.97</td>\n",
       "      <td>1.25</td>\n",
       "      <td>1.12</td>\n",
       "    </tr>\n",
       "    <tr>\n",
       "      <th>vanilla_torch</th>\n",
       "      <td>57.03</td>\n",
       "      <td>55.45</td>\n",
       "      <td>57.37</td>\n",
       "      <td>57.23</td>\n",
       "      <td>56.51</td>\n",
       "      <td>54.57</td>\n",
       "      <td>55.93</td>\n",
       "      <td>55.48</td>\n",
       "      <td>55.24</td>\n",
       "      <td>54.47</td>\n",
       "      <td>55.93</td>\n",
       "      <td>1.13</td>\n",
       "      <td>1.06</td>\n",
       "    </tr>\n",
       "    <tr>\n",
       "      <th>vanilla_lightning</th>\n",
       "      <td>16.03</td>\n",
       "      <td>16.04</td>\n",
       "      <td>16.26</td>\n",
       "      <td>16.14</td>\n",
       "      <td>15.87</td>\n",
       "      <td>15.91</td>\n",
       "      <td>15.95</td>\n",
       "      <td>15.87</td>\n",
       "      <td>15.83</td>\n",
       "      <td>15.65</td>\n",
       "      <td>15.96</td>\n",
       "      <td>0.03</td>\n",
       "      <td>0.17</td>\n",
       "    </tr>\n",
       "  </tbody>\n",
       "</table>\n",
       "</div>"
      ],
      "text/plain": [
       "                        0      1      2      3      4      5      6      7  \\\n",
       "threaded_torch      79.73  84.11  83.93  83.36  82.64  84.34  82.76  83.69   \n",
       "threaded_lightning  51.31  56.04  55.27  55.05  55.98  55.55  55.23  55.34   \n",
       "asyncio_torch       80.22  86.40  84.23  81.20  82.65  82.76  80.92  81.38   \n",
       "asyncio_lightning   53.74  55.26  53.92  54.73  55.83  54.12  52.88  52.73   \n",
       "vanilla_torch       57.03  55.45  57.37  57.23  56.51  54.57  55.93  55.48   \n",
       "vanilla_lightning   16.03  16.04  16.26  16.14  15.87  15.91  15.95  15.87   \n",
       "\n",
       "                        8      9   mean   var   std  \n",
       "threaded_torch      80.38  81.13  82.61  2.69  1.64  \n",
       "threaded_lightning  53.03  52.37  54.52  2.74  1.66  \n",
       "asyncio_torch       79.90  78.36  81.80  5.33  2.31  \n",
       "asyncio_lightning   54.14  52.32  53.97  1.25  1.12  \n",
       "vanilla_torch       55.24  54.47  55.93  1.13  1.06  \n",
       "vanilla_lightning   15.83  15.65  15.96  0.03  0.17  "
      ]
     },
     "execution_count": 19,
     "metadata": {},
     "output_type": "execute_result"
    }
   ],
   "source": [
    "df_t_scratch = add_stats(throughput_all_scratch)\n",
    "df_t_scratch"
   ]
  },
  {
   "cell_type": "code",
   "execution_count": 20,
   "id": "460c4fba",
   "metadata": {},
   "outputs": [
    {
     "data": {
      "image/png": "[encoded data removed]",
      "text/plain": [
       "<Figure size 720x720 with 1 Axes>"
      ]
     },
     "metadata": {
      "needs_background": "light"
     },
     "output_type": "display_data"
    }
   ],
   "source": [
    "plot_violins(df_t_s3, \"IARAI Remote storage - AWS S3\")"
   ]
  },
  {
   "cell_type": "code",
   "execution_count": 21,
   "id": "136560c5",
   "metadata": {},
   "outputs": [
    {
     "data": {
      "image/png": "[encoded data removed]",
      "text/plain": [
       "<Figure size 720x720 with 1 Axes>"
      ]
     },
     "metadata": {
      "needs_background": "light"
     },
     "output_type": "display_data"
    }
   ],
   "source": [
    "plot_violins(df_t_scratch, \"IARAI Local storage\")"
   ]
  },
  {
   "cell_type": "code",
   "execution_count": null,
   "id": "c061720c",
   "metadata": {},
   "outputs": [],
   "source": []
  }
 ],
 "metadata": {
  "kernelspec": {
   "display_name": "Python (myenv)",
   "language": "python",
   "name": "storage-benchmarking"
  },
  "language_info": {
   "codemirror_mode": {
    "name": "ipython",
    "version": 3
   },
   "file_extension": ".py",
   "mimetype": "text/x-python",
   "name": "python",
   "nbconvert_exporter": "python",
   "pygments_lexer": "ipython3",
   "version": "3.8.11"
  }
 },
 "nbformat": 4,
 "nbformat_minor": 5
}
