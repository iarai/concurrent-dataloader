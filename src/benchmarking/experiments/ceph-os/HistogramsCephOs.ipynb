{
 "cells": [
  {
   "cell_type": "markdown",
   "id": "6b63b8b0",
   "metadata": {},
   "source": [
    "#### All modifications - repeat 10 times\n",
    "\n",
    "This experiment involves the default setup for all the parameters on GlusterFS (IARAI server local non-scratch local storage), however with the reduced dataset size to 35000, as explained in the write up. The expeirment is repeated 10 times, and here, we are interested in measurement consistency, i.e. throughput dispersion between different experiments. "
   ]
  },
  {
   "cell_type": "code",
   "execution_count": 4,
   "id": "1c4388f7",
   "metadata": {},
   "outputs": [],
   "source": [
    "from benchmarking.analysis.analyze_results import *"
   ]
  },
  {
   "cell_type": "code",
   "execution_count": 5,
   "id": "90ed8927",
   "metadata": {},
   "outputs": [],
   "source": [
    "# dataset size\n",
    "samples = 35000"
   ]
  },
  {
   "cell_type": "markdown",
   "id": "cf26273a",
   "metadata": {},
   "source": [
    "Data loading function:"
   ]
  },
  {
   "cell_type": "code",
   "execution_count": 6,
   "id": "073ca5f4",
   "metadata": {},
   "outputs": [],
   "source": [
    "def load_all_experiments(output_base_folder, base_folder):\n",
    "    results = []\n",
    "    for folder_index in range(1, 7):\n",
    "        print(f\"Working with {folder_index}\")\n",
    "        gluster_folder_filter= base_folder + str(folder_index) + \"/*benchmark_e2e*\"\n",
    "\n",
    "        # read datahttp://localhost:8888/notebooks/src/benchmarking/experiments/ceph-os/HistogramsCephOs.ipynb#\n",
    "        df_dataloader_gluster = extract_timelines(output_base_folder, folder_filter=gluster_folder_filter)\n",
    "\n",
    "        # Get unique functions \n",
    "        unique_functions_gluster = np.unique(df_dataloader_gluster[\"item_x\"])\n",
    "        print(f\"Unique functions: {unique_functions_gluster}\")\n",
    "\n",
    "        unique_runs_gluster = np.unique(df_dataloader_gluster[\"run\"])\n",
    "\n",
    "        # extract GPU UTIL\n",
    "        df_gpuutil_gluster = extract_gpuutil(output_base_folder, folder_filter=gluster_folder_filter)\n",
    "        unique_runs_gluster = np.unique(df_dataloader_gluster[\"run\"])\n",
    "\n",
    "        # Get data for gluster\n",
    "        returns_gluster = []\n",
    "        for run in sorted(unique_runs_gluster):\n",
    "            df = df_dataloader_gluster[df_dataloader_gluster[\"run\"]==run]\n",
    "            dfgpu = df_gpuutil_gluster[df_gpuutil_gluster[\"run\"]==run]\n",
    "            returns_gluster.append(get_gpu_stats(df, dfgpu, run, False, True, False, 2))\n",
    "        result = pd.DataFrame.from_records(data=returns_gluster)\n",
    "        result[\"throughput\"] = samples / result[\"runtime\"]\n",
    "        results.append(result)\n",
    "    return results"
   ]
  },
  {
   "cell_type": "code",
   "execution_count": 7,
   "id": "9d6d16d0",
   "metadata": {},
   "outputs": [],
   "source": [
    "impls = [\"threaded\", \"asyncio\", \"vanilla\"]\n",
    "libs = [\"torch\", \"lightning\"]"
   ]
  },
  {
   "cell_type": "code",
   "execution_count": 8,
   "id": "a3a1f47a",
   "metadata": {},
   "outputs": [],
   "source": [
    "def add_stats(throughputs):\n",
    "    df = throughputs.T\n",
    "\n",
    "    mean = df.mean(axis=1)\n",
    "    var = df.var(axis=1)\n",
    "    std = df.std(axis=1)\n",
    "\n",
    "    df[\"mean\"] = mean.round(2)\n",
    "    df[\"var\"] = var.round(2)\n",
    "    df[\"std\"] = std.round(2)\n",
    "    return df"
   ]
  },
  {
   "cell_type": "markdown",
   "id": "bd47bef6",
   "metadata": {},
   "source": [
    "### TU-1 ... CEPH object store"
   ]
  },
  {
   "cell_type": "code",
   "execution_count": 10,
   "id": "88135d3e",
   "metadata": {
    "scrolled": true
   },
   "outputs": [
    {
     "name": "stdout",
     "output_type": "stream",
     "text": [
      "Working with 1\n"
     ]
    },
    {
     "name": "stderr",
     "output_type": "stream",
     "text": [
      "100%|██████████████████████████████████████████████████████████████████████████████████████████████████████████████████████████████████████████████████████████████████████████████████████████| 2092/2092 [00:09<00:00, 212.64it/s]\n"
     ]
    },
    {
     "name": "stdout",
     "output_type": "stream",
     "text": [
      "Unique functions: ['batch' 'next_data' 'run_training_batch' 'training_batch_to_device']\n"
     ]
    },
    {
     "name": "stderr",
     "output_type": "stream",
     "text": [
      "100%|██████████████████████████████████████████████████████████████████████████████████████████████████████████████████████████████████████████████████████████████████████████████████████████| 2092/2092 [00:04<00:00, 496.59it/s]\n"
     ]
    },
    {
     "name": "stdout",
     "output_type": "stream",
     "text": [
      "Working with 2\n"
     ]
    },
    {
     "name": "stderr",
     "output_type": "stream",
     "text": [
      "100%|██████████████████████████████████████████████████████████████████████████████████████████████████████████████████████████████████████████████████████████████████████████████████████████| 2098/2098 [00:09<00:00, 210.70it/s]\n"
     ]
    },
    {
     "name": "stdout",
     "output_type": "stream",
     "text": [
      "Unique functions: ['batch' 'next_data' 'run_training_batch' 'training_batch_to_device']\n"
     ]
    },
    {
     "name": "stderr",
     "output_type": "stream",
     "text": [
      "100%|██████████████████████████████████████████████████████████████████████████████████████████████████████████████████████████████████████████████████████████████████████████████████████████| 2098/2098 [00:04<00:00, 523.36it/s]\n"
     ]
    },
    {
     "name": "stdout",
     "output_type": "stream",
     "text": [
      "Working with 3\n"
     ]
    },
    {
     "name": "stderr",
     "output_type": "stream",
     "text": [
      "100%|██████████████████████████████████████████████████████████████████████████████████████████████████████████████████████████████████████████████████████████████████████████████████████████| 2097/2097 [00:10<00:00, 209.28it/s]\n"
     ]
    },
    {
     "name": "stdout",
     "output_type": "stream",
     "text": [
      "Unique functions: ['batch' 'next_data' 'run_training_batch' 'training_batch_to_device']\n"
     ]
    },
    {
     "name": "stderr",
     "output_type": "stream",
     "text": [
      "100%|██████████████████████████████████████████████████████████████████████████████████████████████████████████████████████████████████████████████████████████████████████████████████████████| 2097/2097 [00:04<00:00, 515.49it/s]\n"
     ]
    },
    {
     "name": "stdout",
     "output_type": "stream",
     "text": [
      "Working with 4\n"
     ]
    },
    {
     "name": "stderr",
     "output_type": "stream",
     "text": [
      "100%|██████████████████████████████████████████████████████████████████████████████████████████████████████████████████████████████████████████████████████████████████████████████████████████| 2104/2104 [00:09<00:00, 210.77it/s]\n"
     ]
    },
    {
     "name": "stdout",
     "output_type": "stream",
     "text": [
      "Unique functions: ['batch' 'next_data' 'run_training_batch' 'training_batch_to_device']\n"
     ]
    },
    {
     "name": "stderr",
     "output_type": "stream",
     "text": [
      "100%|██████████████████████████████████████████████████████████████████████████████████████████████████████████████████████████████████████████████████████████████████████████████████████████| 2104/2104 [00:04<00:00, 517.47it/s]\n"
     ]
    },
    {
     "name": "stdout",
     "output_type": "stream",
     "text": [
      "Working with 5\n"
     ]
    },
    {
     "name": "stderr",
     "output_type": "stream",
     "text": [
      "100%|██████████████████████████████████████████████████████████████████████████████████████████████████████████████████████████████████████████████████████████████████████████████████████████| 2104/2104 [00:10<00:00, 209.20it/s]\n"
     ]
    },
    {
     "name": "stdout",
     "output_type": "stream",
     "text": [
      "Unique functions: ['batch' 'next_data' 'run_training_batch' 'training_batch_to_device']\n"
     ]
    },
    {
     "name": "stderr",
     "output_type": "stream",
     "text": [
      "100%|██████████████████████████████████████████████████████████████████████████████████████████████████████████████████████████████████████████████████████████████████████████████████████████| 2104/2104 [00:04<00:00, 523.85it/s]\n"
     ]
    },
    {
     "name": "stdout",
     "output_type": "stream",
     "text": [
      "Working with 6\n"
     ]
    },
    {
     "name": "stderr",
     "output_type": "stream",
     "text": [
      "100%|██████████████████████████████████████████████████████████████████████████████████████████████████████████████████████████████████████████████████████████████████████████████████████████| 2098/2098 [00:10<00:00, 208.66it/s]\n"
     ]
    },
    {
     "name": "stdout",
     "output_type": "stream",
     "text": [
      "Unique functions: ['batch' 'next_data' 'run_training_batch' 'training_batch_to_device']\n"
     ]
    },
    {
     "name": "stderr",
     "output_type": "stream",
     "text": [
      "100%|██████████████████████████████████████████████████████████████████████████████████████████████████████████████████████████████████████████████████████████████████████████████████████████| 2098/2098 [00:04<00:00, 511.47it/s]\n"
     ]
    }
   ],
   "source": [
    "# setup folders\n",
    "output_base_folder = Path(\"/iarai/home/ivan.svogor/storage-benchmarking-raw/referenced-experiments/1701ceph-os\")\n",
    "base_folder = \"ceph_\"\n",
    "\n",
    "# Load data\n",
    "results_cephos = load_all_experiments(output_base_folder, base_folder)"
   ]
  },
  {
   "cell_type": "code",
   "execution_count": 12,
   "id": "9be74623",
   "metadata": {},
   "outputs": [
    {
     "name": "stdout",
     "output_type": "stream",
     "text": [
      "Experiments loaded ... CEPH Object store: 6\n"
     ]
    }
   ],
   "source": [
    "# Check the sizes\n",
    "print(f\"Experiments loaded ... CEPH Object store: {len(results_cephos)}\")"
   ]
  },
  {
   "cell_type": "code",
   "execution_count": 13,
   "id": "d365dadb",
   "metadata": {},
   "outputs": [],
   "source": [
    "throughput_all_cephos = plot_all_histograms(results_cephos, impls, libs, False) # display = False (doesn't plot histogrms)"
   ]
  },
  {
   "cell_type": "code",
   "execution_count": 14,
   "id": "9c98e920",
   "metadata": {},
   "outputs": [
    {
     "data": {
      "text/html": [
       "<div>\n",
       "<style scoped>\n",
       "    .dataframe tbody tr th:only-of-type {\n",
       "        vertical-align: middle;\n",
       "    }\n",
       "\n",
       "    .dataframe tbody tr th {\n",
       "        vertical-align: top;\n",
       "    }\n",
       "\n",
       "    .dataframe thead th {\n",
       "        text-align: right;\n",
       "    }\n",
       "</style>\n",
       "<table border=\"1\" class=\"dataframe\">\n",
       "  <thead>\n",
       "    <tr style=\"text-align: right;\">\n",
       "      <th></th>\n",
       "      <th>0</th>\n",
       "      <th>1</th>\n",
       "      <th>2</th>\n",
       "      <th>3</th>\n",
       "      <th>4</th>\n",
       "      <th>5</th>\n",
       "      <th>mean</th>\n",
       "      <th>var</th>\n",
       "      <th>std</th>\n",
       "    </tr>\n",
       "  </thead>\n",
       "  <tbody>\n",
       "    <tr>\n",
       "      <th>threaded_torch</th>\n",
       "      <td>3.49</td>\n",
       "      <td>4.36</td>\n",
       "      <td>4.30</td>\n",
       "      <td>4.24</td>\n",
       "      <td>4.23</td>\n",
       "      <td>4.26</td>\n",
       "      <td>4.15</td>\n",
       "      <td>0.11</td>\n",
       "      <td>0.33</td>\n",
       "    </tr>\n",
       "    <tr>\n",
       "      <th>threaded_lightning</th>\n",
       "      <td>3.50</td>\n",
       "      <td>3.58</td>\n",
       "      <td>3.47</td>\n",
       "      <td>3.54</td>\n",
       "      <td>3.53</td>\n",
       "      <td>3.55</td>\n",
       "      <td>3.53</td>\n",
       "      <td>0.00</td>\n",
       "      <td>0.04</td>\n",
       "    </tr>\n",
       "    <tr>\n",
       "      <th>asyncio_torch</th>\n",
       "      <td>3.56</td>\n",
       "      <td>4.41</td>\n",
       "      <td>4.41</td>\n",
       "      <td>4.41</td>\n",
       "      <td>4.33</td>\n",
       "      <td>4.33</td>\n",
       "      <td>4.24</td>\n",
       "      <td>0.11</td>\n",
       "      <td>0.34</td>\n",
       "    </tr>\n",
       "    <tr>\n",
       "      <th>asyncio_lightning</th>\n",
       "      <td>3.53</td>\n",
       "      <td>3.52</td>\n",
       "      <td>3.49</td>\n",
       "      <td>3.49</td>\n",
       "      <td>3.47</td>\n",
       "      <td>3.49</td>\n",
       "      <td>3.50</td>\n",
       "      <td>0.00</td>\n",
       "      <td>0.02</td>\n",
       "    </tr>\n",
       "    <tr>\n",
       "      <th>vanilla_torch</th>\n",
       "      <td>2.04</td>\n",
       "      <td>2.21</td>\n",
       "      <td>2.23</td>\n",
       "      <td>2.20</td>\n",
       "      <td>2.22</td>\n",
       "      <td>2.20</td>\n",
       "      <td>2.18</td>\n",
       "      <td>0.01</td>\n",
       "      <td>0.07</td>\n",
       "    </tr>\n",
       "    <tr>\n",
       "      <th>vanilla_lightning</th>\n",
       "      <td>0.52</td>\n",
       "      <td>0.55</td>\n",
       "      <td>0.55</td>\n",
       "      <td>0.55</td>\n",
       "      <td>0.54</td>\n",
       "      <td>0.55</td>\n",
       "      <td>0.54</td>\n",
       "      <td>0.00</td>\n",
       "      <td>0.01</td>\n",
       "    </tr>\n",
       "  </tbody>\n",
       "</table>\n",
       "</div>"
      ],
      "text/plain": [
       "                       0     1     2     3     4     5  mean   var   std\n",
       "threaded_torch      3.49  4.36  4.30  4.24  4.23  4.26  4.15  0.11  0.33\n",
       "threaded_lightning  3.50  3.58  3.47  3.54  3.53  3.55  3.53  0.00  0.04\n",
       "asyncio_torch       3.56  4.41  4.41  4.41  4.33  4.33  4.24  0.11  0.34\n",
       "asyncio_lightning   3.53  3.52  3.49  3.49  3.47  3.49  3.50  0.00  0.02\n",
       "vanilla_torch       2.04  2.21  2.23  2.20  2.22  2.20  2.18  0.01  0.07\n",
       "vanilla_lightning   0.52  0.55  0.55  0.55  0.54  0.55  0.54  0.00  0.01"
      ]
     },
     "execution_count": 14,
     "metadata": {},
     "output_type": "execute_result"
    }
   ],
   "source": [
    "df_throughput = add_stats(throughput_all_cephos)\n",
    "df_throughput"
   ]
  },
  {
   "cell_type": "code",
   "execution_count": 16,
   "id": "5a910782",
   "metadata": {},
   "outputs": [
    {
     "data": {
      "image/png": "[encoded data removed]",
      "text/plain": [
       "<Figure size 720x720 with 1 Axes>"
      ]
     },
     "metadata": {
      "needs_background": "light"
     },
     "output_type": "display_data"
    }
   ],
   "source": [
    "plot_violins(df_throughput, \"CEPH object store\")"
   ]
  },
  {
   "cell_type": "code",
   "execution_count": 19,
   "id": "8edaf5a7",
   "metadata": {},
   "outputs": [],
   "source": [
    "runtime_all_cephos = plot_all_histograms(results_cephos, impls, libs, False, value=\"runtime\") # display = False (doesn't plot histogrms)"
   ]
  },
  {
   "cell_type": "code",
   "execution_count": 20,
   "id": "396a8bfe",
   "metadata": {},
   "outputs": [
    {
     "data": {
      "image/png": "[encoded data removed]",
      "text/plain": [
       "<Figure size 720x720 with 1 Axes>"
      ]
     },
     "metadata": {
      "needs_background": "light"
     },
     "output_type": "display_data"
    }
   ],
   "source": [
    "plot_violins(add_stats(runtime_all_cephos), \"CEPH Object store - time\", \"Runtime [S]\")"
   ]
  },
  {
   "cell_type": "code",
   "execution_count": 22,
   "id": "6c2deb42",
   "metadata": {},
   "outputs": [],
   "source": [
    "t = add_stats(runtime_all_cephos)"
   ]
  },
  {
   "cell_type": "code",
   "execution_count": 23,
   "id": "8b496033",
   "metadata": {},
   "outputs": [
    {
     "data": {
      "text/html": [
       "<div>\n",
       "<style scoped>\n",
       "    .dataframe tbody tr th:only-of-type {\n",
       "        vertical-align: middle;\n",
       "    }\n",
       "\n",
       "    .dataframe tbody tr th {\n",
       "        vertical-align: top;\n",
       "    }\n",
       "\n",
       "    .dataframe thead th {\n",
       "        text-align: right;\n",
       "    }\n",
       "</style>\n",
       "<table border=\"1\" class=\"dataframe\">\n",
       "  <thead>\n",
       "    <tr style=\"text-align: right;\">\n",
       "      <th></th>\n",
       "      <th>0</th>\n",
       "      <th>1</th>\n",
       "      <th>2</th>\n",
       "      <th>3</th>\n",
       "      <th>4</th>\n",
       "      <th>5</th>\n",
       "      <th>mean</th>\n",
       "      <th>var</th>\n",
       "      <th>std</th>\n",
       "    </tr>\n",
       "  </thead>\n",
       "  <tbody>\n",
       "    <tr>\n",
       "      <th>threaded_torch</th>\n",
       "      <td>10025.96</td>\n",
       "      <td>8025.03</td>\n",
       "      <td>8132.14</td>\n",
       "      <td>8258.64</td>\n",
       "      <td>8265.53</td>\n",
       "      <td>8221.87</td>\n",
       "      <td>8488.20</td>\n",
       "      <td>575844.48</td>\n",
       "      <td>758.84</td>\n",
       "    </tr>\n",
       "    <tr>\n",
       "      <th>threaded_lightning</th>\n",
       "      <td>9991.67</td>\n",
       "      <td>9783.06</td>\n",
       "      <td>10073.23</td>\n",
       "      <td>9875.67</td>\n",
       "      <td>9917.41</td>\n",
       "      <td>9863.19</td>\n",
       "      <td>9917.37</td>\n",
       "      <td>10505.27</td>\n",
       "      <td>102.50</td>\n",
       "    </tr>\n",
       "    <tr>\n",
       "      <th>asyncio_torch</th>\n",
       "      <td>9839.17</td>\n",
       "      <td>7944.83</td>\n",
       "      <td>7942.06</td>\n",
       "      <td>7932.78</td>\n",
       "      <td>8085.30</td>\n",
       "      <td>8080.52</td>\n",
       "      <td>8304.11</td>\n",
       "      <td>570465.56</td>\n",
       "      <td>755.29</td>\n",
       "    </tr>\n",
       "    <tr>\n",
       "      <th>asyncio_lightning</th>\n",
       "      <td>9918.40</td>\n",
       "      <td>9932.68</td>\n",
       "      <td>10027.18</td>\n",
       "      <td>10031.85</td>\n",
       "      <td>10092.24</td>\n",
       "      <td>10033.01</td>\n",
       "      <td>10005.89</td>\n",
       "      <td>4466.64</td>\n",
       "      <td>66.83</td>\n",
       "    </tr>\n",
       "    <tr>\n",
       "      <th>vanilla_torch</th>\n",
       "      <td>17150.39</td>\n",
       "      <td>15831.51</td>\n",
       "      <td>15699.84</td>\n",
       "      <td>15913.45</td>\n",
       "      <td>15773.04</td>\n",
       "      <td>15929.20</td>\n",
       "      <td>16049.57</td>\n",
       "      <td>298230.47</td>\n",
       "      <td>546.10</td>\n",
       "    </tr>\n",
       "    <tr>\n",
       "      <th>vanilla_lightning</th>\n",
       "      <td>67425.42</td>\n",
       "      <td>63658.29</td>\n",
       "      <td>63891.90</td>\n",
       "      <td>64208.76</td>\n",
       "      <td>64354.83</td>\n",
       "      <td>64188.38</td>\n",
       "      <td>64621.26</td>\n",
       "      <td>1950223.37</td>\n",
       "      <td>1396.50</td>\n",
       "    </tr>\n",
       "  </tbody>\n",
       "</table>\n",
       "</div>"
      ],
      "text/plain": [
       "                           0         1         2         3         4  \\\n",
       "threaded_torch      10025.96   8025.03   8132.14   8258.64   8265.53   \n",
       "threaded_lightning   9991.67   9783.06  10073.23   9875.67   9917.41   \n",
       "asyncio_torch        9839.17   7944.83   7942.06   7932.78   8085.30   \n",
       "asyncio_lightning    9918.40   9932.68  10027.18  10031.85  10092.24   \n",
       "vanilla_torch       17150.39  15831.51  15699.84  15913.45  15773.04   \n",
       "vanilla_lightning   67425.42  63658.29  63891.90  64208.76  64354.83   \n",
       "\n",
       "                           5      mean         var      std  \n",
       "threaded_torch       8221.87   8488.20   575844.48   758.84  \n",
       "threaded_lightning   9863.19   9917.37    10505.27   102.50  \n",
       "asyncio_torch        8080.52   8304.11   570465.56   755.29  \n",
       "asyncio_lightning   10033.01  10005.89     4466.64    66.83  \n",
       "vanilla_torch       15929.20  16049.57   298230.47   546.10  \n",
       "vanilla_lightning   64188.38  64621.26  1950223.37  1396.50  "
      ]
     },
     "execution_count": 23,
     "metadata": {},
     "output_type": "execute_result"
    }
   ],
   "source": [
    "t"
   ]
  },
  {
   "cell_type": "code",
   "execution_count": null,
   "id": "dae55fef",
   "metadata": {},
   "outputs": [],
   "source": []
  }
 ],
 "metadata": {
  "kernelspec": {
   "display_name": "Python (myenv)",
   "language": "python",
   "name": "storage-benchmarking"
  },
  "language_info": {
   "codemirror_mode": {
    "name": "ipython",
    "version": 3
   },
   "file_extension": ".py",
   "mimetype": "text/x-python",
   "name": "python",
   "nbconvert_exporter": "python",
   "pygments_lexer": "ipython3",
   "version": "3.8.11"
  }
 },
 "nbformat": 4,
 "nbformat_minor": 5
}
