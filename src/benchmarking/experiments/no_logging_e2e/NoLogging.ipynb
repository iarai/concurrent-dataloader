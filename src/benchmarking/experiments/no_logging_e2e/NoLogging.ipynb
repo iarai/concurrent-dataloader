{
 "cells": [
  {
   "cell_type": "markdown",
   "id": "8ab636fa",
   "metadata": {},
   "source": [
    "### Asyncio implementation - no logging\n",
    "\n",
    "Repeating Asyncio implementation with torch library 10 times, only monitoring the total runtime."
   ]
  },
  {
   "cell_type": "code",
   "execution_count": 12,
   "id": "3918dbf7",
   "metadata": {},
   "outputs": [],
   "source": [
    "# Asyncio\n",
    "mod_asyncio_results = []\n",
    "for i in range(11):\n",
    "  data = !python ../../../../example/imagenet.py --epochs 10 \\\n",
    "  --print-freq 500 \\\n",
    "  --num-fetch-workers 16 \\\n",
    "  --num-workers 4 \\\n",
    "  --batch-pool 256 \\\n",
    "  --dataset-limit 3000 \\\n",
    "  --batch-size 64 \\\n",
    "  --prefetch-factor 2 \\\n",
    "  --fetch-impl asyncio \n",
    "  mod_asyncio_results.append(data[-1].split(\":\")[1])"
   ]
  },
  {
   "cell_type": "code",
   "execution_count": 13,
   "id": "1d198f01",
   "metadata": {},
   "outputs": [
    {
     "data": {
      "text/plain": [
       "[' 156.72559475898743',\n",
       " ' 158.45774793624878',\n",
       " ' 159.21712398529053',\n",
       " ' 158.96907019615173',\n",
       " ' 159.34435987472534',\n",
       " ' 153.8767855167389',\n",
       " ' 157.03680276870728',\n",
       " ' 162.08472156524658',\n",
       " ' 151.75454354286194',\n",
       " ' 153.0406448841095',\n",
       " ' 155.47693061828613']"
      ]
     },
     "execution_count": 13,
     "metadata": {},
     "output_type": "execute_result"
    }
   ],
   "source": [
    "mod_asyncio_results ## total runtime in seconds "
   ]
  },
  {
   "cell_type": "markdown",
   "id": "4c208b58",
   "metadata": {},
   "source": [
    "### Threaded implementation - no logging\n",
    "\n",
    "Repeating Threaded implementation with torch library 10 times, only monitoring the total runtime."
   ]
  },
  {
   "cell_type": "code",
   "execution_count": 14,
   "id": "823829f4",
   "metadata": {},
   "outputs": [],
   "source": [
    "# Threaded\n",
    "mod_threaded_results = []\n",
    "for i in range(11):\n",
    "  data = !python ../../../../example/imagenet.py --epochs 10 \\\n",
    "  --print-freq 500 \\\n",
    "  --num-fetch-workers 16 \\\n",
    "  --num-workers 4 \\\n",
    "  --batch-pool 256 \\\n",
    "  --dataset-limit 3000 \\\n",
    "  --batch-size 64 \\\n",
    "  --prefetch-factor 2 \\\n",
    "  --fetch-impl threaded \n",
    "  mod_threaded_results.append(data[-1].split(\":\")[1])"
   ]
  },
  {
   "cell_type": "code",
   "execution_count": 15,
   "id": "9514b279",
   "metadata": {},
   "outputs": [
    {
     "data": {
      "text/plain": [
       "[' 135.12003755569458',\n",
       " ' 133.5577311515808',\n",
       " ' 137.20769000053406',\n",
       " ' 137.46790027618408',\n",
       " ' 135.9814167022705',\n",
       " ' 140.78052473068237',\n",
       " ' 143.8040897846222',\n",
       " ' 141.28272557258606',\n",
       " ' 134.85411620140076',\n",
       " ' 136.75570487976074',\n",
       " ' 136.90389680862427']"
      ]
     },
     "execution_count": 15,
     "metadata": {},
     "output_type": "execute_result"
    }
   ],
   "source": [
    "mod_threaded_results"
   ]
  },
  {
   "cell_type": "markdown",
   "id": "7936e0a5",
   "metadata": {},
   "source": [
    "### Vanilla"
   ]
  },
  {
   "cell_type": "code",
   "execution_count": 16,
   "id": "65cdbf42",
   "metadata": {},
   "outputs": [],
   "source": [
    "vnl_threaded_results = []\n",
    "for i in range(11):\n",
    "  data = !python ../../../../example/imagenet_vanilla.py --epochs 10 \\\n",
    "  --print-freq 500 \\\n",
    "  --num-workers 4 \\\n",
    "  --dataset-limit 3000 \\\n",
    "  --batch-size 64 \\\n",
    "  --prefetch-factor 2 \n",
    "  vnl_threaded_results.append(data[-1].split(\":\")[1])"
   ]
  },
  {
   "cell_type": "code",
   "execution_count": null,
   "id": "e9434d1b",
   "metadata": {},
   "outputs": [],
   "source": []
  },
  {
   "cell_type": "code",
   "execution_count": 17,
   "id": "6c5d8aae",
   "metadata": {},
   "outputs": [
    {
     "data": {
      "text/plain": [
       "[' 1165.5836746692657',\n",
       " ' 1090.7652978897095',\n",
       " ' 1097.251514673233',\n",
       " ' 1086.6000680923462',\n",
       " ' 1089.1871163845062',\n",
       " ' 1069.332929134369',\n",
       " ' 1063.8400392532349',\n",
       " ' 1056.8525087833405',\n",
       " ' 1065.3817954063416',\n",
       " ' 1060.9138841629028']"
      ]
     },
     "execution_count": 17,
     "metadata": {},
     "output_type": "execute_result"
    }
   ],
   "source": [
    "vnl_threaded_results"
   ]
  },
  {
   "cell_type": "code",
   "execution_count": 70,
   "id": "d6dcf003",
   "metadata": {},
   "outputs": [],
   "source": [
    "import pandas as pd\n",
    "import numpy as np"
   ]
  },
  {
   "cell_type": "code",
   "execution_count": 71,
   "id": "4f7455f4",
   "metadata": {},
   "outputs": [],
   "source": [
    "vnl_results = [round(float(i), 2) for i in vnl_threaded_results]\n",
    "threaded_results = [round(float(i), 2) for i in mod_threaded_results[:-1]]\n",
    "asyncio_results = [round(float(i), 2) for i in mod_asyncio_results[:-1]]\n"
   ]
  },
  {
   "cell_type": "code",
   "execution_count": 78,
   "id": "315991e6",
   "metadata": {},
   "outputs": [
    {
     "data": {
      "text/html": [
       "<div>\n",
       "<style scoped>\n",
       "    .dataframe tbody tr th:only-of-type {\n",
       "        vertical-align: middle;\n",
       "    }\n",
       "\n",
       "    .dataframe tbody tr th {\n",
       "        vertical-align: top;\n",
       "    }\n",
       "\n",
       "    .dataframe thead th {\n",
       "        text-align: right;\n",
       "    }\n",
       "</style>\n",
       "<table border=\"1\" class=\"dataframe\">\n",
       "  <thead>\n",
       "    <tr style=\"text-align: right;\">\n",
       "      <th></th>\n",
       "      <th>0</th>\n",
       "      <th>1</th>\n",
       "      <th>2</th>\n",
       "      <th>3</th>\n",
       "      <th>4</th>\n",
       "      <th>5</th>\n",
       "      <th>6</th>\n",
       "      <th>7</th>\n",
       "      <th>8</th>\n",
       "      <th>9</th>\n",
       "    </tr>\n",
       "  </thead>\n",
       "  <tbody>\n",
       "    <tr>\n",
       "      <th>0</th>\n",
       "      <td>1165.58</td>\n",
       "      <td>1090.77</td>\n",
       "      <td>1097.25</td>\n",
       "      <td>1086.60</td>\n",
       "      <td>1089.19</td>\n",
       "      <td>1069.33</td>\n",
       "      <td>1063.84</td>\n",
       "      <td>1056.85</td>\n",
       "      <td>1065.38</td>\n",
       "      <td>1060.91</td>\n",
       "    </tr>\n",
       "    <tr>\n",
       "      <th>1</th>\n",
       "      <td>135.12</td>\n",
       "      <td>133.56</td>\n",
       "      <td>137.21</td>\n",
       "      <td>137.47</td>\n",
       "      <td>135.98</td>\n",
       "      <td>140.78</td>\n",
       "      <td>143.80</td>\n",
       "      <td>141.28</td>\n",
       "      <td>134.85</td>\n",
       "      <td>136.76</td>\n",
       "    </tr>\n",
       "    <tr>\n",
       "      <th>2</th>\n",
       "      <td>156.73</td>\n",
       "      <td>158.46</td>\n",
       "      <td>159.22</td>\n",
       "      <td>158.97</td>\n",
       "      <td>159.34</td>\n",
       "      <td>153.88</td>\n",
       "      <td>157.04</td>\n",
       "      <td>162.08</td>\n",
       "      <td>151.75</td>\n",
       "      <td>153.04</td>\n",
       "    </tr>\n",
       "  </tbody>\n",
       "</table>\n",
       "</div>"
      ],
      "text/plain": [
       "         0        1        2        3        4        5        6        7  \\\n",
       "0  1165.58  1090.77  1097.25  1086.60  1089.19  1069.33  1063.84  1056.85   \n",
       "1   135.12   133.56   137.21   137.47   135.98   140.78   143.80   141.28   \n",
       "2   156.73   158.46   159.22   158.97   159.34   153.88   157.04   162.08   \n",
       "\n",
       "         8        9  \n",
       "0  1065.38  1060.91  \n",
       "1   134.85   136.76  \n",
       "2   151.75   153.04  "
      ]
     },
     "execution_count": 78,
     "metadata": {},
     "output_type": "execute_result"
    }
   ],
   "source": [
    "df = pd.DataFrame([vnl_results, threaded_results, asyncio_results])\n",
    "df"
   ]
  },
  {
   "cell_type": "code",
   "execution_count": 79,
   "id": "a96bdfdf",
   "metadata": {},
   "outputs": [
    {
     "data": {
      "text/html": [
       "<div>\n",
       "<style scoped>\n",
       "    .dataframe tbody tr th:only-of-type {\n",
       "        vertical-align: middle;\n",
       "    }\n",
       "\n",
       "    .dataframe tbody tr th {\n",
       "        vertical-align: top;\n",
       "    }\n",
       "\n",
       "    .dataframe thead th {\n",
       "        text-align: right;\n",
       "    }\n",
       "</style>\n",
       "<table border=\"1\" class=\"dataframe\">\n",
       "  <thead>\n",
       "    <tr style=\"text-align: right;\">\n",
       "      <th></th>\n",
       "      <th>0</th>\n",
       "      <th>1</th>\n",
       "      <th>2</th>\n",
       "      <th>3</th>\n",
       "      <th>4</th>\n",
       "      <th>5</th>\n",
       "      <th>6</th>\n",
       "      <th>7</th>\n",
       "      <th>8</th>\n",
       "      <th>9</th>\n",
       "      <th>mean</th>\n",
       "      <th>var</th>\n",
       "      <th>std</th>\n",
       "    </tr>\n",
       "  </thead>\n",
       "  <tbody>\n",
       "    <tr>\n",
       "      <th>0</th>\n",
       "      <td>1165.58</td>\n",
       "      <td>1090.77</td>\n",
       "      <td>1097.25</td>\n",
       "      <td>1086.60</td>\n",
       "      <td>1089.19</td>\n",
       "      <td>1069.33</td>\n",
       "      <td>1063.84</td>\n",
       "      <td>1056.85</td>\n",
       "      <td>1065.38</td>\n",
       "      <td>1060.91</td>\n",
       "      <td>1084.57</td>\n",
       "      <td>1016.19</td>\n",
       "      <td>31.88</td>\n",
       "    </tr>\n",
       "    <tr>\n",
       "      <th>1</th>\n",
       "      <td>135.12</td>\n",
       "      <td>133.56</td>\n",
       "      <td>137.21</td>\n",
       "      <td>137.47</td>\n",
       "      <td>135.98</td>\n",
       "      <td>140.78</td>\n",
       "      <td>143.80</td>\n",
       "      <td>141.28</td>\n",
       "      <td>134.85</td>\n",
       "      <td>136.76</td>\n",
       "      <td>137.68</td>\n",
       "      <td>10.62</td>\n",
       "      <td>3.26</td>\n",
       "    </tr>\n",
       "    <tr>\n",
       "      <th>2</th>\n",
       "      <td>156.73</td>\n",
       "      <td>158.46</td>\n",
       "      <td>159.22</td>\n",
       "      <td>158.97</td>\n",
       "      <td>159.34</td>\n",
       "      <td>153.88</td>\n",
       "      <td>157.04</td>\n",
       "      <td>162.08</td>\n",
       "      <td>151.75</td>\n",
       "      <td>153.04</td>\n",
       "      <td>157.05</td>\n",
       "      <td>10.58</td>\n",
       "      <td>3.25</td>\n",
       "    </tr>\n",
       "  </tbody>\n",
       "</table>\n",
       "</div>"
      ],
      "text/plain": [
       "         0        1        2        3        4        5        6        7  \\\n",
       "0  1165.58  1090.77  1097.25  1086.60  1089.19  1069.33  1063.84  1056.85   \n",
       "1   135.12   133.56   137.21   137.47   135.98   140.78   143.80   141.28   \n",
       "2   156.73   158.46   159.22   158.97   159.34   153.88   157.04   162.08   \n",
       "\n",
       "         8        9     mean      var    std  \n",
       "0  1065.38  1060.91  1084.57  1016.19  31.88  \n",
       "1   134.85   136.76   137.68    10.62   3.26  \n",
       "2   151.75   153.04   157.05    10.58   3.25  "
      ]
     },
     "execution_count": 79,
     "metadata": {},
     "output_type": "execute_result"
    }
   ],
   "source": [
    "mean = df.mean(axis=1)\n",
    "var = df.var(axis=1)\n",
    "std = df.std(axis=1)\n",
    "\n",
    "mean, var, std\n",
    "\n",
    "df[\"mean\"] = mean.round(2)\n",
    "df[\"var\"] = var.round(2)\n",
    "df[\"std\"] = std.round(2)\n",
    "\n",
    "df"
   ]
  },
  {
   "cell_type": "code",
   "execution_count": null,
   "id": "9edce1f2",
   "metadata": {},
   "outputs": [],
   "source": []
  },
  {
   "cell_type": "code",
   "execution_count": null,
   "id": "77b9f680",
   "metadata": {},
   "outputs": [],
   "source": []
  }
 ],
 "metadata": {
  "kernelspec": {
   "display_name": "Python (myenv)",
   "language": "python",
   "name": "storage-benchmarking"
  },
  "language_info": {
   "codemirror_mode": {
    "name": "ipython",
    "version": 3
   },
   "file_extension": ".py",
   "mimetype": "text/x-python",
   "name": "python",
   "nbconvert_exporter": "python",
   "pygments_lexer": "ipython3",
   "version": "3.8.11"
  }
 },
 "nbformat": 4,
 "nbformat_minor": 5
}
