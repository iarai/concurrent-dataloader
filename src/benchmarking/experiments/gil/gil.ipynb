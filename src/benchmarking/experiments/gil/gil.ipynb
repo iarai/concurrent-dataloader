{
 "cells": [
  {
   "cell_type": "code",
   "execution_count": 92,
   "id": "73f79b01",
   "metadata": {},
   "outputs": [],
   "source": [
    "import pandas as pd \n",
    "import matplotlib\n",
    "import matplotlib.pyplot as plt\n",
    "import numpy as np"
   ]
  },
  {
   "cell_type": "code",
   "execution_count": 93,
   "id": "a0ff0182",
   "metadata": {},
   "outputs": [],
   "source": [
    "# java_raw=pd.read_csv(\"java_raw.csv\")\n",
    "java_raw=pd.read_csv(\"java_raw_5k.csv\")\n",
    "py_raw=pd.read_csv(\"py_raw.csv\")"
   ]
  },
  {
   "cell_type": "code",
   "execution_count": 94,
   "id": "8aa6a91d",
   "metadata": {},
   "outputs": [
    {
     "data": {
      "text/html": [
       "<div>\n",
       "<style scoped>\n",
       "    .dataframe tbody tr th:only-of-type {\n",
       "        vertical-align: middle;\n",
       "    }\n",
       "\n",
       "    .dataframe tbody tr th {\n",
       "        vertical-align: top;\n",
       "    }\n",
       "\n",
       "    .dataframe thead th {\n",
       "        text-align: right;\n",
       "    }\n",
       "</style>\n",
       "<table border=\"1\" class=\"dataframe\">\n",
       "  <thead>\n",
       "    <tr style=\"text-align: right;\">\n",
       "      <th></th>\n",
       "      <th>mbit/s</th>\n",
       "      <th>time</th>\n",
       "      <th>imgs</th>\n",
       "      <th>mb_dl</th>\n",
       "      <th>endpoint</th>\n",
       "    </tr>\n",
       "  </thead>\n",
       "  <tbody>\n",
       "    <tr>\n",
       "      <th>0</th>\n",
       "      <td>939.65</td>\n",
       "      <td>4.68</td>\n",
       "      <td>5000</td>\n",
       "      <td>549.11</td>\n",
       "      <td>http://s3.eu-west-1.amazonaws.com</td>\n",
       "    </tr>\n",
       "    <tr>\n",
       "      <th>1</th>\n",
       "      <td>742.26</td>\n",
       "      <td>5.73</td>\n",
       "      <td>5000</td>\n",
       "      <td>532.02</td>\n",
       "      <td>http://s3.eu-west-1.amazonaws.com</td>\n",
       "    </tr>\n",
       "    <tr>\n",
       "      <th>2</th>\n",
       "      <td>526.57</td>\n",
       "      <td>8.23</td>\n",
       "      <td>5000</td>\n",
       "      <td>541.91</td>\n",
       "      <td>http://s3.amazonaws.com</td>\n",
       "    </tr>\n",
       "    <tr>\n",
       "      <th>3</th>\n",
       "      <td>3427.08</td>\n",
       "      <td>1.30</td>\n",
       "      <td>5000</td>\n",
       "      <td>557.76</td>\n",
       "      <td>http://10.0.2.1:80</td>\n",
       "    </tr>\n",
       "    <tr>\n",
       "      <th>4</th>\n",
       "      <td>3606.40</td>\n",
       "      <td>1.24</td>\n",
       "      <td>5000</td>\n",
       "      <td>556.74</td>\n",
       "      <td>http://10.0.2.1:80</td>\n",
       "    </tr>\n",
       "    <tr>\n",
       "      <th>5</th>\n",
       "      <td>701.39</td>\n",
       "      <td>6.23</td>\n",
       "      <td>5000</td>\n",
       "      <td>546.30</td>\n",
       "      <td>http://s3.eu-west-1.amazonaws.com</td>\n",
       "    </tr>\n",
       "    <tr>\n",
       "      <th>6</th>\n",
       "      <td>369.57</td>\n",
       "      <td>11.58</td>\n",
       "      <td>5000</td>\n",
       "      <td>534.95</td>\n",
       "      <td>http://s3.eu-west-1.amazonaws.com</td>\n",
       "    </tr>\n",
       "    <tr>\n",
       "      <th>7</th>\n",
       "      <td>1037.73</td>\n",
       "      <td>4.21</td>\n",
       "      <td>5000</td>\n",
       "      <td>545.97</td>\n",
       "      <td>http://s3.amazonaws.com</td>\n",
       "    </tr>\n",
       "    <tr>\n",
       "      <th>8</th>\n",
       "      <td>3467.42</td>\n",
       "      <td>1.24</td>\n",
       "      <td>5000</td>\n",
       "      <td>539.18</td>\n",
       "      <td>http://10.0.2.1:80</td>\n",
       "    </tr>\n",
       "    <tr>\n",
       "      <th>9</th>\n",
       "      <td>1879.17</td>\n",
       "      <td>2.31</td>\n",
       "      <td>5000</td>\n",
       "      <td>543.32</td>\n",
       "      <td>http://10.0.2.1:80</td>\n",
       "    </tr>\n",
       "    <tr>\n",
       "      <th>10</th>\n",
       "      <td>412.42</td>\n",
       "      <td>10.51</td>\n",
       "      <td>5000</td>\n",
       "      <td>541.61</td>\n",
       "      <td>http://s3.eu-west-1.amazonaws.com</td>\n",
       "    </tr>\n",
       "    <tr>\n",
       "      <th>11</th>\n",
       "      <td>603.87</td>\n",
       "      <td>7.43</td>\n",
       "      <td>5000</td>\n",
       "      <td>560.84</td>\n",
       "      <td>http://s3.eu-west-1.amazonaws.com</td>\n",
       "    </tr>\n",
       "    <tr>\n",
       "      <th>12</th>\n",
       "      <td>663.22</td>\n",
       "      <td>6.46</td>\n",
       "      <td>5000</td>\n",
       "      <td>535.38</td>\n",
       "      <td>http://s3.amazonaws.com</td>\n",
       "    </tr>\n",
       "    <tr>\n",
       "      <th>13</th>\n",
       "      <td>3529.22</td>\n",
       "      <td>1.21</td>\n",
       "      <td>5000</td>\n",
       "      <td>534.24</td>\n",
       "      <td>http://10.0.2.1:80</td>\n",
       "    </tr>\n",
       "    <tr>\n",
       "      <th>14</th>\n",
       "      <td>3774.11</td>\n",
       "      <td>1.18</td>\n",
       "      <td>5000</td>\n",
       "      <td>556.21</td>\n",
       "      <td>http://10.0.2.1:80</td>\n",
       "    </tr>\n",
       "  </tbody>\n",
       "</table>\n",
       "</div>"
      ],
      "text/plain": [
       "     mbit/s   time  imgs   mb_dl                           endpoint\n",
       "0    939.65   4.68  5000  549.11  http://s3.eu-west-1.amazonaws.com\n",
       "1    742.26   5.73  5000  532.02  http://s3.eu-west-1.amazonaws.com\n",
       "2    526.57   8.23  5000  541.91            http://s3.amazonaws.com\n",
       "3   3427.08   1.30  5000  557.76                 http://10.0.2.1:80\n",
       "4   3606.40   1.24  5000  556.74                 http://10.0.2.1:80\n",
       "5    701.39   6.23  5000  546.30  http://s3.eu-west-1.amazonaws.com\n",
       "6    369.57  11.58  5000  534.95  http://s3.eu-west-1.amazonaws.com\n",
       "7   1037.73   4.21  5000  545.97            http://s3.amazonaws.com\n",
       "8   3467.42   1.24  5000  539.18                 http://10.0.2.1:80\n",
       "9   1879.17   2.31  5000  543.32                 http://10.0.2.1:80\n",
       "10   412.42  10.51  5000  541.61  http://s3.eu-west-1.amazonaws.com\n",
       "11   603.87   7.43  5000  560.84  http://s3.eu-west-1.amazonaws.com\n",
       "12   663.22   6.46  5000  535.38            http://s3.amazonaws.com\n",
       "13  3529.22   1.21  5000  534.24                 http://10.0.2.1:80\n",
       "14  3774.11   1.18  5000  556.21                 http://10.0.2.1:80"
      ]
     },
     "execution_count": 94,
     "metadata": {},
     "output_type": "execute_result"
    }
   ],
   "source": [
    "java_raw"
   ]
  },
  {
   "cell_type": "code",
   "execution_count": 102,
   "id": "f383835c",
   "metadata": {},
   "outputs": [],
   "source": [
    "java_s3_eu = java_raw[java_raw[\"endpoint\"]==\"http://s3.eu-west-1.amazonaws.com\"].reset_index()"
   ]
  },
  {
   "cell_type": "code",
   "execution_count": 110,
   "id": "feb69f7f",
   "metadata": {},
   "outputs": [],
   "source": [
    "font_size=20\n",
    "params = {'legend.fontsize': font_size,\n",
    "          'figure.figsize': (15, 10),\n",
    "          'axes.labelsize': font_size,\n",
    "          'axes.titlesize': font_size,\n",
    "          'xtick.labelsize': font_size,\n",
    "          'ytick.labelsize': font_size}"
   ]
  },
  {
   "cell_type": "code",
   "execution_count": 124,
   "id": "6105454a",
   "metadata": {
    "scrolled": false
   },
   "outputs": [
    {
     "data": {
      "image/png": "[encoded data removed]",
      "text/plain": [
       "<Figure size 1080x720 with 1 Axes>"
      ]
     },
     "metadata": {
      "needs_background": "light"
     },
     "output_type": "display_data"
    }
   ],
   "source": [
    "plt.rcParams.update(params)\n",
    "_linewidth=3\n",
    "\n",
    "fig, ax = plt.subplots()\n",
    "ax.plot(java_s3_eu[\"mbit/s\"][:-1], linewidth=_linewidth, label=\"Java\", color=\"b\")\n",
    "ax.plot(py_raw[\"throughput_mbitps\"], linewidth=_linewidth, label=\"Python\", color=\"r\")\n",
    "\n",
    "ax.set_ylabel(\"Throughput [Mbit/s]\")\n",
    "ax.set_xlabel(\"Experiment \")\n",
    "ax.set_xticks(range(len(py_raw)), range(1, len(py_raw)+1))\n",
    "ax.set_ylim([0, 1300])\n",
    "ax.legend()\n",
    "\n",
    "java_median = np.median(java_s3_eu[\"mbit/s\"][:-1])\n",
    "python_median = np.median(py_raw[\"throughput_mbitps\"])\n",
    "\n",
    "ax.axhline(y=java_median, color='b',linewidth=_linewidth,linestyle='--')\n",
    "ax.axhline(y=python_median, color='r',linewidth=_linewidth,linestyle='--')\n",
    "\n",
    "ax.text(3.2, java_median+20, f\"{round(java_median, 2)} Mbit/s\", fontsize=font_size, color=\"b\")\n",
    "ax.text(3.2, python_median+20, f\"{round(python_median, 2)} Mbit/s\", fontsize=font_size, color=\"r\")\n",
    "\n",
    "ax.grid(linestyle=\"--\", which=\"both\")\n",
    "fig.savefig(f\"py-vs-java.pdf\", bbox_inches='tight')"
   ]
  },
  {
   "cell_type": "code",
   "execution_count": 115,
   "id": "9a78521d",
   "metadata": {},
   "outputs": [
    {
     "data": {
      "text/plain": [
       "369.57"
      ]
     },
     "execution_count": 115,
     "metadata": {},
     "output_type": "execute_result"
    }
   ],
   "source": [
    "java_s3_eu[\"mbit/s\"].min()"
   ]
  },
  {
   "cell_type": "code",
   "execution_count": null,
   "id": "118b7ba6",
   "metadata": {},
   "outputs": [],
   "source": []
  }
 ],
 "metadata": {
  "kernelspec": {
   "display_name": "Python (myenv)",
   "language": "python",
   "name": "myenv"
  },
  "language_info": {
   "codemirror_mode": {
    "name": "ipython",
    "version": 3
   },
   "file_extension": ".py",
   "mimetype": "text/x-python",
   "name": "python",
   "nbconvert_exporter": "python",
   "pygments_lexer": "ipython3",
   "version": "3.8.11"
  }
 },
 "nbformat": 4,
 "nbformat_minor": 5
}
