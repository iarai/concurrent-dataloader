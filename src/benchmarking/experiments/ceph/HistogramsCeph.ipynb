{
 "cells": [
  {
   "cell_type": "markdown",
   "id": "6b63b8b0",
   "metadata": {},
   "source": [
    "#### All modifications - repeat 10 times\n",
    "\n",
    "This experiment involves the default setup for all the parameters on GlusterFS (IARAI server local non-scratch local storage), however with the reduced dataset size to 35000, as explained in the write up. The expeirment is repeated 10 times, and here, we are interested in measurement consistency, i.e. throughput dispersion between different experiments. "
   ]
  },
  {
   "cell_type": "code",
   "execution_count": 1,
   "id": "1c4388f7",
   "metadata": {},
   "outputs": [],
   "source": [
    "from benchmarking.analysis.analyze_results import *"
   ]
  },
  {
   "cell_type": "markdown",
   "id": "cf26273a",
   "metadata": {},
   "source": [
    "Data loading function:"
   ]
  },
  {
   "cell_type": "code",
   "execution_count": 2,
   "id": "9d6d16d0",
   "metadata": {},
   "outputs": [],
   "source": [
    "impls = [\"threaded\", \"asyncio\", \"vanilla\"]\n",
    "libs = [\"torch\", \"lightning\"]"
   ]
  },
  {
   "cell_type": "code",
   "execution_count": 3,
   "id": "a3a1f47a",
   "metadata": {},
   "outputs": [],
   "source": [
    "def add_stats(throughputs):\n",
    "    df = throughputs.T\n",
    "\n",
    "    mean = df.mean(axis=1)\n",
    "    var = df.var(axis=1)\n",
    "    std = df.std(axis=1)\n",
    "\n",
    "    df[\"mean\"] = mean.round(2)\n",
    "    df[\"var\"] = var.round(2)\n",
    "    df[\"std\"] = std.round(2)\n",
    "    return df"
   ]
  },
  {
   "cell_type": "markdown",
   "id": "bd47bef6",
   "metadata": {},
   "source": [
    "### TU-1 ... CEPH"
   ]
  },
  {
   "cell_type": "code",
   "execution_count": 4,
   "id": "88135d3e",
   "metadata": {
    "scrolled": true
   },
   "outputs": [
    {
     "name": "stdout",
     "output_type": "stream",
     "text": [
      "Working with 1\n"
     ]
    },
    {
     "name": "stderr",
     "output_type": "stream",
     "text": [
      "100%|██████████████████████████████████████████████████████████████████████████████████████████████████████████████████████████████████████████████████████████████████████████████████████████| 2102/2102 [00:11<00:00, 178.88it/s]\n"
     ]
    },
    {
     "name": "stdout",
     "output_type": "stream",
     "text": [
      "Unique functions: ['batch' 'next_data' 'run_training_batch' 'training_batch_to_device']\n"
     ]
    },
    {
     "name": "stderr",
     "output_type": "stream",
     "text": [
      "100%|█████████████████████████████████████████████████████████████████████████████████████████████████████████████████████████████████████████████████████████████████████████████████████████| 2102/2102 [00:01<00:00, 1276.08it/s]\n"
     ]
    },
    {
     "name": "stdout",
     "output_type": "stream",
     "text": [
      "Dataset:  35000\n",
      "Batch size: 256\n",
      "Epochs:  100\n",
      "Images total:  3500000\n",
      "Batches per epoch 137\n",
      "Images total (rounded):  3507200\n",
      "timestamp False\n",
      "Dataset:  35000\n",
      "Batch size: 256\n",
      "Epochs:  100\n",
      "Images total:  3500000\n",
      "Batches per epoch 137\n",
      "Images total (rounded):  3507200\n",
      "timestamp False\n",
      "Dataset:  35000\n",
      "Batch size: 256\n",
      "Epochs:  100\n",
      "Images total:  3500000\n",
      "Batches per epoch 137\n",
      "Images total (rounded):  3507200\n",
      "timestamp False\n",
      "Dataset:  35000\n",
      "Batch size: 256\n",
      "Epochs:  100\n",
      "Images total:  3500000\n",
      "Batches per epoch 137\n",
      "Images total (rounded):  3507200\n",
      "timestamp False\n",
      "Dataset:  35000\n",
      "Batch size: 256\n",
      "Epochs:  100\n",
      "Images total:  3500000\n",
      "Batches per epoch 137\n",
      "Images total (rounded):  3507200\n",
      "timestamp False\n",
      "Dataset:  35000\n",
      "Batch size: 256\n",
      "Epochs:  100\n",
      "Images total:  3500000\n",
      "Batches per epoch 137\n",
      "Images total (rounded):  3507200\n",
      "timestamp False\n"
     ]
    },
    {
     "name": "stderr",
     "output_type": "stream",
     "text": [
      "100%|███████████████████████████████████████████████████████████████████████████████████████████████████████████████████████████████████████████████████████████████████████████████████████████| 2102/2102 [07:52<00:00,  4.45it/s]\n"
     ]
    },
    {
     "name": "stdout",
     "output_type": "stream",
     "text": [
      "Working with 2\n"
     ]
    },
    {
     "name": "stderr",
     "output_type": "stream",
     "text": [
      "100%|██████████████████████████████████████████████████████████████████████████████████████████████████████████████████████████████████████████████████████████████████████████████████████████| 2099/2099 [00:12<00:00, 170.63it/s]\n"
     ]
    },
    {
     "name": "stdout",
     "output_type": "stream",
     "text": [
      "Unique functions: ['batch' 'next_data' 'run_training_batch' 'training_batch_to_device']\n"
     ]
    },
    {
     "name": "stderr",
     "output_type": "stream",
     "text": [
      "100%|█████████████████████████████████████████████████████████████████████████████████████████████████████████████████████████████████████████████████████████████████████████████████████████| 2099/2099 [00:01<00:00, 1160.19it/s]\n"
     ]
    },
    {
     "name": "stdout",
     "output_type": "stream",
     "text": [
      "Dataset:  35000\n",
      "Batch size: 256\n",
      "Epochs:  100\n",
      "Images total:  3500000\n",
      "Batches per epoch 137\n",
      "Images total (rounded):  3507200\n",
      "timestamp False\n",
      "Dataset:  35000\n",
      "Batch size: 256\n",
      "Epochs:  100\n",
      "Images total:  3500000\n",
      "Batches per epoch 137\n",
      "Images total (rounded):  3507200\n",
      "timestamp False\n",
      "Dataset:  35000\n",
      "Batch size: 256\n",
      "Epochs:  100\n",
      "Images total:  3500000\n",
      "Batches per epoch 137\n",
      "Images total (rounded):  3507200\n",
      "timestamp False\n",
      "Dataset:  35000\n",
      "Batch size: 256\n",
      "Epochs:  100\n",
      "Images total:  3500000\n",
      "Batches per epoch 137\n",
      "Images total (rounded):  3507200\n",
      "timestamp False\n",
      "Dataset:  35000\n",
      "Batch size: 256\n",
      "Epochs:  100\n",
      "Images total:  3500000\n",
      "Batches per epoch 137\n",
      "Images total (rounded):  3507200\n",
      "timestamp False\n",
      "Dataset:  35000\n",
      "Batch size: 256\n",
      "Epochs:  100\n",
      "Images total:  3500000\n",
      "Batches per epoch 137\n",
      "Images total (rounded):  3507200\n",
      "timestamp False\n"
     ]
    },
    {
     "name": "stderr",
     "output_type": "stream",
     "text": [
      "100%|███████████████████████████████████████████████████████████████████████████████████████████████████████████████████████████████████████████████████████████████████████████████████████████| 2099/2099 [07:53<00:00,  4.44it/s]\n"
     ]
    },
    {
     "name": "stdout",
     "output_type": "stream",
     "text": [
      "Working with 3\n"
     ]
    },
    {
     "name": "stderr",
     "output_type": "stream",
     "text": [
      "100%|██████████████████████████████████████████████████████████████████████████████████████████████████████████████████████████████████████████████████████████████████████████████████████████| 2100/2100 [00:12<00:00, 170.94it/s]\n"
     ]
    },
    {
     "name": "stdout",
     "output_type": "stream",
     "text": [
      "Unique functions: ['batch' 'next_data' 'run_training_batch' 'training_batch_to_device']\n"
     ]
    },
    {
     "name": "stderr",
     "output_type": "stream",
     "text": [
      "100%|██████████████████████████████████████████████████████████████████████████████████████████████████████████████████████████████████████████████████████████████████████████████████████████| 2100/2100 [00:02<00:00, 967.18it/s]\n"
     ]
    },
    {
     "name": "stdout",
     "output_type": "stream",
     "text": [
      "Dataset:  35000\n",
      "Batch size: 256\n",
      "Epochs:  100\n",
      "Images total:  3500000\n",
      "Batches per epoch 137\n",
      "Images total (rounded):  3507200\n",
      "timestamp False\n",
      "Dataset:  35000\n",
      "Batch size: 256\n",
      "Epochs:  100\n",
      "Images total:  3500000\n",
      "Batches per epoch 137\n",
      "Images total (rounded):  3507200\n",
      "timestamp False\n",
      "Dataset:  35000\n",
      "Batch size: 256\n",
      "Epochs:  100\n",
      "Images total:  3500000\n",
      "Batches per epoch 137\n",
      "Images total (rounded):  3507200\n",
      "timestamp False\n",
      "Dataset:  35000\n",
      "Batch size: 256\n",
      "Epochs:  100\n",
      "Images total:  3500000\n",
      "Batches per epoch 137\n",
      "Images total (rounded):  3507200\n",
      "timestamp False\n",
      "Dataset:  35000\n",
      "Batch size: 256\n",
      "Epochs:  100\n",
      "Images total:  3500000\n",
      "Batches per epoch 137\n",
      "Images total (rounded):  3507200\n",
      "timestamp False\n",
      "Dataset:  35000\n",
      "Batch size: 256\n",
      "Epochs:  100\n",
      "Images total:  3500000\n",
      "Batches per epoch 137\n",
      "Images total (rounded):  3507200\n",
      "timestamp False\n"
     ]
    },
    {
     "name": "stderr",
     "output_type": "stream",
     "text": [
      "100%|███████████████████████████████████████████████████████████████████████████████████████████████████████████████████████████████████████████████████████████████████████████████████████████| 2100/2100 [08:12<00:00,  4.26it/s]\n"
     ]
    },
    {
     "name": "stdout",
     "output_type": "stream",
     "text": [
      "Working with 4\n"
     ]
    },
    {
     "name": "stderr",
     "output_type": "stream",
     "text": [
      "100%|██████████████████████████████████████████████████████████████████████████████████████████████████████████████████████████████████████████████████████████████████████████████████████████| 2096/2096 [00:12<00:00, 167.88it/s]\n"
     ]
    },
    {
     "name": "stdout",
     "output_type": "stream",
     "text": [
      "Unique functions: ['batch' 'next_data' 'run_training_batch' 'training_batch_to_device']\n"
     ]
    },
    {
     "name": "stderr",
     "output_type": "stream",
     "text": [
      "100%|██████████████████████████████████████████████████████████████████████████████████████████████████████████████████████████████████████████████████████████████████████████████████████████| 2096/2096 [00:02<00:00, 994.13it/s]\n"
     ]
    },
    {
     "name": "stdout",
     "output_type": "stream",
     "text": [
      "Dataset:  35000\n",
      "Batch size: 256\n",
      "Epochs:  100\n",
      "Images total:  3500000\n",
      "Batches per epoch 137\n",
      "Images total (rounded):  3507200\n",
      "timestamp False\n",
      "Dataset:  35000\n",
      "Batch size: 256\n",
      "Epochs:  100\n",
      "Images total:  3500000\n",
      "Batches per epoch 137\n",
      "Images total (rounded):  3507200\n",
      "timestamp False\n",
      "Dataset:  35000\n",
      "Batch size: 256\n",
      "Epochs:  100\n",
      "Images total:  3500000\n",
      "Batches per epoch 137\n",
      "Images total (rounded):  3507200\n",
      "timestamp False\n",
      "Dataset:  35000\n",
      "Batch size: 256\n",
      "Epochs:  100\n",
      "Images total:  3500000\n",
      "Batches per epoch 137\n",
      "Images total (rounded):  3507200\n",
      "timestamp False\n",
      "Dataset:  35000\n",
      "Batch size: 256\n",
      "Epochs:  100\n",
      "Images total:  3500000\n",
      "Batches per epoch 137\n",
      "Images total (rounded):  3507200\n",
      "timestamp False\n",
      "Dataset:  35000\n",
      "Batch size: 256\n",
      "Epochs:  100\n",
      "Images total:  3500000\n",
      "Batches per epoch 137\n",
      "Images total (rounded):  3507200\n",
      "timestamp False\n"
     ]
    },
    {
     "name": "stderr",
     "output_type": "stream",
     "text": [
      "100%|███████████████████████████████████████████████████████████████████████████████████████████████████████████████████████████████████████████████████████████████████████████████████████████| 2096/2096 [08:37<00:00,  4.05it/s]\n"
     ]
    },
    {
     "name": "stdout",
     "output_type": "stream",
     "text": [
      "Working with 5\n"
     ]
    },
    {
     "name": "stderr",
     "output_type": "stream",
     "text": [
      "100%|██████████████████████████████████████████████████████████████████████████████████████████████████████████████████████████████████████████████████████████████████████████████████████████| 2100/2100 [00:12<00:00, 171.45it/s]\n"
     ]
    },
    {
     "name": "stdout",
     "output_type": "stream",
     "text": [
      "Unique functions: ['batch' 'next_data' 'run_training_batch' 'training_batch_to_device']\n"
     ]
    },
    {
     "name": "stderr",
     "output_type": "stream",
     "text": [
      "100%|█████████████████████████████████████████████████████████████████████████████████████████████████████████████████████████████████████████████████████████████████████████████████████████| 2100/2100 [00:01<00:00, 1068.08it/s]\n"
     ]
    },
    {
     "name": "stdout",
     "output_type": "stream",
     "text": [
      "Dataset:  35000\n",
      "Batch size: 256\n",
      "Epochs:  100\n",
      "Images total:  3500000\n",
      "Batches per epoch 137\n",
      "Images total (rounded):  3507200\n",
      "timestamp False\n",
      "Dataset:  35000\n",
      "Batch size: 256\n",
      "Epochs:  100\n",
      "Images total:  3500000\n",
      "Batches per epoch 137\n",
      "Images total (rounded):  3507200\n",
      "timestamp False\n",
      "Dataset:  35000\n",
      "Batch size: 256\n",
      "Epochs:  100\n",
      "Images total:  3500000\n",
      "Batches per epoch 137\n",
      "Images total (rounded):  3507200\n",
      "timestamp False\n",
      "Dataset:  35000\n",
      "Batch size: 256\n",
      "Epochs:  100\n",
      "Images total:  3500000\n",
      "Batches per epoch 137\n",
      "Images total (rounded):  3507200\n",
      "timestamp False\n",
      "Dataset:  35000\n",
      "Batch size: 256\n",
      "Epochs:  100\n",
      "Images total:  3500000\n",
      "Batches per epoch 137\n",
      "Images total (rounded):  3507200\n",
      "timestamp False\n",
      "Dataset:  35000\n",
      "Batch size: 256\n",
      "Epochs:  100\n",
      "Images total:  3500000\n",
      "Batches per epoch 137\n",
      "Images total (rounded):  3507200\n",
      "timestamp False\n"
     ]
    },
    {
     "name": "stderr",
     "output_type": "stream",
     "text": [
      "100%|███████████████████████████████████████████████████████████████████████████████████████████████████████████████████████████████████████████████████████████████████████████████████████████| 2100/2100 [08:46<00:00,  3.99it/s]\n"
     ]
    },
    {
     "name": "stdout",
     "output_type": "stream",
     "text": [
      "Working with 6\n"
     ]
    },
    {
     "name": "stderr",
     "output_type": "stream",
     "text": [
      "100%|██████████████████████████████████████████████████████████████████████████████████████████████████████████████████████████████████████████████████████████████████████████████████████████| 2104/2104 [00:12<00:00, 167.23it/s]\n"
     ]
    },
    {
     "name": "stdout",
     "output_type": "stream",
     "text": [
      "Unique functions: ['batch' 'next_data' 'run_training_batch' 'training_batch_to_device']\n"
     ]
    },
    {
     "name": "stderr",
     "output_type": "stream",
     "text": [
      "100%|█████████████████████████████████████████████████████████████████████████████████████████████████████████████████████████████████████████████████████████████████████████████████████████| 2104/2104 [00:02<00:00, 1042.46it/s]\n"
     ]
    },
    {
     "name": "stdout",
     "output_type": "stream",
     "text": [
      "Dataset:  35000\n",
      "Batch size: 256\n",
      "Epochs:  100\n",
      "Images total:  3500000\n",
      "Batches per epoch 137\n",
      "Images total (rounded):  3507200\n",
      "timestamp False\n",
      "Dataset:  35000\n",
      "Batch size: 256\n",
      "Epochs:  100\n",
      "Images total:  3500000\n",
      "Batches per epoch 137\n",
      "Images total (rounded):  3507200\n",
      "timestamp False\n",
      "Dataset:  35000\n",
      "Batch size: 256\n",
      "Epochs:  100\n",
      "Images total:  3500000\n",
      "Batches per epoch 137\n",
      "Images total (rounded):  3507200\n",
      "timestamp False\n",
      "Dataset:  35000\n",
      "Batch size: 256\n",
      "Epochs:  100\n",
      "Images total:  3500000\n",
      "Batches per epoch 137\n",
      "Images total (rounded):  3507200\n",
      "timestamp False\n",
      "Dataset:  35000\n",
      "Batch size: 256\n",
      "Epochs:  100\n",
      "Images total:  3500000\n",
      "Batches per epoch 137\n",
      "Images total (rounded):  3507200\n",
      "timestamp False\n",
      "Dataset:  35000\n",
      "Batch size: 256\n",
      "Epochs:  100\n",
      "Images total:  3500000\n",
      "Batches per epoch 137\n",
      "Images total (rounded):  3507200\n",
      "timestamp False\n"
     ]
    },
    {
     "name": "stderr",
     "output_type": "stream",
     "text": [
      "100%|███████████████████████████████████████████████████████████████████████████████████████████████████████████████████████████████████████████████████████████████████████████████████████████| 2104/2104 [08:41<00:00,  4.04it/s]\n"
     ]
    },
    {
     "name": "stdout",
     "output_type": "stream",
     "text": [
      "Working with 7\n"
     ]
    },
    {
     "name": "stderr",
     "output_type": "stream",
     "text": [
      "100%|██████████████████████████████████████████████████████████████████████████████████████████████████████████████████████████████████████████████████████████████████████████████████████████| 2104/2104 [00:12<00:00, 168.61it/s]\n"
     ]
    },
    {
     "name": "stdout",
     "output_type": "stream",
     "text": [
      "Unique functions: ['batch' 'next_data' 'run_training_batch' 'training_batch_to_device']\n"
     ]
    },
    {
     "name": "stderr",
     "output_type": "stream",
     "text": [
      "100%|█████████████████████████████████████████████████████████████████████████████████████████████████████████████████████████████████████████████████████████████████████████████████████████| 2104/2104 [00:02<00:00, 1006.87it/s]\n"
     ]
    },
    {
     "name": "stdout",
     "output_type": "stream",
     "text": [
      "Dataset:  35000\n",
      "Batch size: 256\n",
      "Epochs:  100\n",
      "Images total:  3500000\n",
      "Batches per epoch 137\n",
      "Images total (rounded):  3507200\n",
      "timestamp False\n",
      "Dataset:  35000\n",
      "Batch size: 256\n",
      "Epochs:  100\n",
      "Images total:  3500000\n",
      "Batches per epoch 137\n",
      "Images total (rounded):  3507200\n",
      "timestamp False\n",
      "Dataset:  35000\n",
      "Batch size: 256\n",
      "Epochs:  100\n",
      "Images total:  3500000\n",
      "Batches per epoch 137\n",
      "Images total (rounded):  3507200\n",
      "timestamp False\n",
      "Dataset:  35000\n",
      "Batch size: 256\n",
      "Epochs:  100\n",
      "Images total:  3500000\n",
      "Batches per epoch 137\n",
      "Images total (rounded):  3507200\n",
      "timestamp False\n",
      "Dataset:  35000\n",
      "Batch size: 256\n",
      "Epochs:  100\n",
      "Images total:  3500000\n",
      "Batches per epoch 137\n",
      "Images total (rounded):  3507200\n",
      "timestamp False\n",
      "Dataset:  35000\n",
      "Batch size: 256\n",
      "Epochs:  100\n",
      "Images total:  3500000\n",
      "Batches per epoch 137\n",
      "Images total (rounded):  3507200\n",
      "timestamp False\n"
     ]
    },
    {
     "name": "stderr",
     "output_type": "stream",
     "text": [
      "100%|███████████████████████████████████████████████████████████████████████████████████████████████████████████████████████████████████████████████████████████████████████████████████████████| 2104/2104 [08:34<00:00,  4.09it/s]\n"
     ]
    },
    {
     "name": "stdout",
     "output_type": "stream",
     "text": [
      "Working with 8\n"
     ]
    },
    {
     "name": "stderr",
     "output_type": "stream",
     "text": [
      "100%|██████████████████████████████████████████████████████████████████████████████████████████████████████████████████████████████████████████████████████████████████████████████████████████| 2101/2101 [00:12<00:00, 170.62it/s]\n"
     ]
    },
    {
     "name": "stdout",
     "output_type": "stream",
     "text": [
      "Unique functions: ['batch' 'next_data' 'run_training_batch' 'training_batch_to_device']\n"
     ]
    },
    {
     "name": "stderr",
     "output_type": "stream",
     "text": [
      "100%|█████████████████████████████████████████████████████████████████████████████████████████████████████████████████████████████████████████████████████████████████████████████████████████| 2101/2101 [00:01<00:00, 1102.16it/s]\n"
     ]
    },
    {
     "name": "stdout",
     "output_type": "stream",
     "text": [
      "Dataset:  35000\n",
      "Batch size: 256\n",
      "Epochs:  100\n",
      "Images total:  3500000\n",
      "Batches per epoch 137\n",
      "Images total (rounded):  3507200\n",
      "timestamp False\n",
      "Dataset:  35000\n",
      "Batch size: 256\n",
      "Epochs:  100\n",
      "Images total:  3500000\n",
      "Batches per epoch 137\n",
      "Images total (rounded):  3507200\n",
      "timestamp False\n",
      "Dataset:  35000\n",
      "Batch size: 256\n",
      "Epochs:  100\n",
      "Images total:  3500000\n",
      "Batches per epoch 137\n",
      "Images total (rounded):  3507200\n",
      "timestamp False\n",
      "Dataset:  35000\n",
      "Batch size: 256\n",
      "Epochs:  100\n",
      "Images total:  3500000\n",
      "Batches per epoch 137\n",
      "Images total (rounded):  3507200\n",
      "timestamp False\n",
      "Dataset:  35000\n",
      "Batch size: 256\n",
      "Epochs:  100\n",
      "Images total:  3500000\n",
      "Batches per epoch 137\n",
      "Images total (rounded):  3507200\n",
      "timestamp False\n",
      "Dataset:  35000\n",
      "Batch size: 256\n",
      "Epochs:  100\n",
      "Images total:  3500000\n",
      "Batches per epoch 137\n",
      "Images total (rounded):  3507200\n",
      "timestamp False\n"
     ]
    },
    {
     "name": "stderr",
     "output_type": "stream",
     "text": [
      "100%|███████████████████████████████████████████████████████████████████████████████████████████████████████████████████████████████████████████████████████████████████████████████████████████| 2101/2101 [08:33<00:00,  4.09it/s]\n"
     ]
    },
    {
     "name": "stdout",
     "output_type": "stream",
     "text": [
      "Working with 9\n"
     ]
    },
    {
     "name": "stderr",
     "output_type": "stream",
     "text": [
      "100%|██████████████████████████████████████████████████████████████████████████████████████████████████████████████████████████████████████████████████████████████████████████████████████████| 2101/2101 [00:12<00:00, 167.42it/s]\n"
     ]
    },
    {
     "name": "stdout",
     "output_type": "stream",
     "text": [
      "Unique functions: ['batch' 'next_data' 'run_training_batch' 'training_batch_to_device']\n"
     ]
    },
    {
     "name": "stderr",
     "output_type": "stream",
     "text": [
      "100%|█████████████████████████████████████████████████████████████████████████████████████████████████████████████████████████████████████████████████████████████████████████████████████████| 2101/2101 [00:01<00:00, 1182.83it/s]\n"
     ]
    },
    {
     "name": "stdout",
     "output_type": "stream",
     "text": [
      "Dataset:  35000\n",
      "Batch size: 256\n",
      "Epochs:  100\n",
      "Images total:  3500000\n",
      "Batches per epoch 137\n",
      "Images total (rounded):  3507200\n",
      "timestamp False\n",
      "Dataset:  35000\n",
      "Batch size: 256\n",
      "Epochs:  100\n",
      "Images total:  3500000\n",
      "Batches per epoch 137\n",
      "Images total (rounded):  3507200\n",
      "timestamp False\n",
      "Dataset:  35000\n",
      "Batch size: 256\n",
      "Epochs:  100\n",
      "Images total:  3500000\n",
      "Batches per epoch 137\n",
      "Images total (rounded):  3507200\n",
      "timestamp False\n",
      "Dataset:  35000\n",
      "Batch size: 256\n",
      "Epochs:  100\n",
      "Images total:  3500000\n",
      "Batches per epoch 137\n",
      "Images total (rounded):  3507200\n",
      "timestamp False\n",
      "Dataset:  35000\n",
      "Batch size: 256\n",
      "Epochs:  100\n",
      "Images total:  3500000\n",
      "Batches per epoch 137\n",
      "Images total (rounded):  3507200\n",
      "timestamp False\n",
      "Dataset:  35000\n",
      "Batch size: 256\n",
      "Epochs:  100\n",
      "Images total:  3500000\n",
      "Batches per epoch 137\n",
      "Images total (rounded):  3507200\n",
      "timestamp False\n"
     ]
    },
    {
     "name": "stderr",
     "output_type": "stream",
     "text": [
      "100%|███████████████████████████████████████████████████████████████████████████████████████████████████████████████████████████████████████████████████████████████████████████████████████████| 2101/2101 [08:24<00:00,  4.16it/s]\n"
     ]
    },
    {
     "name": "stdout",
     "output_type": "stream",
     "text": [
      "Working with 10\n"
     ]
    },
    {
     "name": "stderr",
     "output_type": "stream",
     "text": [
      "100%|██████████████████████████████████████████████████████████████████████████████████████████████████████████████████████████████████████████████████████████████████████████████████████████| 2103/2103 [00:11<00:00, 175.31it/s]\n"
     ]
    },
    {
     "name": "stdout",
     "output_type": "stream",
     "text": [
      "Unique functions: ['batch' 'next_data' 'run_training_batch' 'training_batch_to_device']\n"
     ]
    },
    {
     "name": "stderr",
     "output_type": "stream",
     "text": [
      "100%|█████████████████████████████████████████████████████████████████████████████████████████████████████████████████████████████████████████████████████████████████████████████████████████| 2103/2103 [00:01<00:00, 1130.75it/s]\n"
     ]
    },
    {
     "name": "stdout",
     "output_type": "stream",
     "text": [
      "Dataset:  35000\n",
      "Batch size: 256\n",
      "Epochs:  100\n",
      "Images total:  3500000\n",
      "Batches per epoch 137\n",
      "Images total (rounded):  3507200\n",
      "timestamp False\n",
      "Dataset:  35000\n",
      "Batch size: 256\n",
      "Epochs:  100\n",
      "Images total:  3500000\n",
      "Batches per epoch 137\n",
      "Images total (rounded):  3507200\n",
      "timestamp False\n",
      "Dataset:  35000\n",
      "Batch size: 256\n",
      "Epochs:  100\n",
      "Images total:  3500000\n",
      "Batches per epoch 137\n",
      "Images total (rounded):  3507200\n",
      "timestamp False\n",
      "Dataset:  35000\n",
      "Batch size: 256\n",
      "Epochs:  100\n",
      "Images total:  3500000\n",
      "Batches per epoch 137\n",
      "Images total (rounded):  3507200\n",
      "timestamp False\n",
      "Dataset:  35000\n",
      "Batch size: 256\n",
      "Epochs:  100\n",
      "Images total:  3500000\n",
      "Batches per epoch 137\n",
      "Images total (rounded):  3507200\n",
      "timestamp False\n",
      "Dataset:  35000\n",
      "Batch size: 256\n",
      "Epochs:  100\n",
      "Images total:  3500000\n",
      "Batches per epoch 137\n",
      "Images total (rounded):  3507200\n",
      "timestamp False\n"
     ]
    },
    {
     "name": "stderr",
     "output_type": "stream",
     "text": [
      "100%|███████████████████████████████████████████████████████████████████████████████████████████████████████████████████████████████████████████████████████████████████████████████████████████| 2103/2103 [08:30<00:00,  4.12it/s]\n"
     ]
    }
   ],
   "source": [
    "# setup folders\n",
    "output_base_folder = Path(\"/iarai/home/ivan.svogor/storage-benchmarking-raw/referenced-experiments/1001ceph\")\n",
    "base_folder = \"ceph_\"\n",
    "\n",
    "# Load data\n",
    "# results_ceph = load_all_experiments(output_base_folder, base_folder)\n",
    "results_ceph = load_all_experiments(output_base_folder, base_folder, 11, \"/*benchmark_e2e*\", \"\")"
   ]
  },
  {
   "cell_type": "code",
   "execution_count": 5,
   "id": "9be74623",
   "metadata": {},
   "outputs": [
    {
     "name": "stdout",
     "output_type": "stream",
     "text": [
      "Experiments loaded ... CEPH: 10\n"
     ]
    }
   ],
   "source": [
    "# Check the sizes\n",
    "print(f\"Experiments loaded ... CEPH: {len(results_ceph)}\")"
   ]
  },
  {
   "cell_type": "code",
   "execution_count": 16,
   "id": "d365dadb",
   "metadata": {},
   "outputs": [],
   "source": [
    "throughput_all_ceph = plot_all_histograms(results_ceph, impls, libs, False) # display = False (doesn't plot histogrms)"
   ]
  },
  {
   "cell_type": "code",
   "execution_count": 17,
   "id": "9c98e920",
   "metadata": {},
   "outputs": [],
   "source": [
    "df_t_ceph = add_stats(throughput_all_ceph)\n",
    "df_t_ceph\n",
    "df_t_ceph.to_csv(\"df_t_ceph_imgs.csv\")"
   ]
  },
  {
   "cell_type": "code",
   "execution_count": 18,
   "id": "5a910782",
   "metadata": {},
   "outputs": [
    {
     "data": {
      "image/png": "[encoded data removed]",
      "text/plain": [
       "<Figure size 720x720 with 1 Axes>"
      ]
     },
     "metadata": {
      "needs_background": "light"
     },
     "output_type": "display_data"
    }
   ],
   "source": [
    "plot_violins(df_t_ceph, \"CEPH storage\")"
   ]
  },
  {
   "cell_type": "code",
   "execution_count": 19,
   "id": "c061720c",
   "metadata": {},
   "outputs": [],
   "source": [
    "runtime_all_ceph = plot_all_histograms(results_ceph, impls, libs, False, value=\"runtime\") # display = False (doesn't plot histogrms)"
   ]
  },
  {
   "cell_type": "code",
   "execution_count": 20,
   "id": "d09f6e03",
   "metadata": {},
   "outputs": [
    {
     "data": {
      "image/png": "[encoded data removed]",
      "text/plain": [
       "<Figure size 720x720 with 1 Axes>"
      ]
     },
     "metadata": {
      "needs_background": "light"
     },
     "output_type": "display_data"
    }
   ],
   "source": [
    "plot_violins(add_stats(runtime_all_ceph), \"CEPH\", \"Runtime [S]\")"
   ]
  },
  {
   "cell_type": "code",
   "execution_count": 21,
   "id": "3001b801",
   "metadata": {},
   "outputs": [
    {
     "data": {
      "image/png": "[encoded data removed]",
      "text/plain": [
       "<Figure size 720x720 with 1 Axes>"
      ]
     },
     "metadata": {
      "needs_background": "light"
     },
     "output_type": "display_data"
    }
   ],
   "source": [
    "### mibts\n",
    "runtime_all_ceph = plot_all_histograms(results_ceph, impls, libs, False, value=\"Mbit/s\") # display = False (doesn't plot histogrms)\n",
    "plot_violins(add_stats(runtime_all_ceph), \"CEPH\", \"Throughput [Mbit/s]\")"
   ]
  },
  {
   "cell_type": "code",
   "execution_count": 22,
   "id": "3ed2eab5",
   "metadata": {},
   "outputs": [
    {
     "data": {
      "text/html": [
       "<div>\n",
       "<style scoped>\n",
       "    .dataframe tbody tr th:only-of-type {\n",
       "        vertical-align: middle;\n",
       "    }\n",
       "\n",
       "    .dataframe tbody tr th {\n",
       "        vertical-align: top;\n",
       "    }\n",
       "\n",
       "    .dataframe thead th {\n",
       "        text-align: right;\n",
       "    }\n",
       "</style>\n",
       "<table border=\"1\" class=\"dataframe\">\n",
       "  <thead>\n",
       "    <tr style=\"text-align: right;\">\n",
       "      <th></th>\n",
       "      <th>0</th>\n",
       "      <th>1</th>\n",
       "      <th>2</th>\n",
       "      <th>3</th>\n",
       "      <th>4</th>\n",
       "      <th>5</th>\n",
       "      <th>6</th>\n",
       "      <th>7</th>\n",
       "      <th>8</th>\n",
       "      <th>9</th>\n",
       "      <th>mean</th>\n",
       "      <th>var</th>\n",
       "      <th>std</th>\n",
       "    </tr>\n",
       "  </thead>\n",
       "  <tbody>\n",
       "    <tr>\n",
       "      <th>threaded_torch</th>\n",
       "      <td>899.67</td>\n",
       "      <td>889.81</td>\n",
       "      <td>892.70</td>\n",
       "      <td>889.45</td>\n",
       "      <td>898.98</td>\n",
       "      <td>901.22</td>\n",
       "      <td>899.59</td>\n",
       "      <td>896.80</td>\n",
       "      <td>893.06</td>\n",
       "      <td>903.35</td>\n",
       "      <td>896.46</td>\n",
       "      <td>23.97</td>\n",
       "      <td>4.90</td>\n",
       "    </tr>\n",
       "    <tr>\n",
       "      <th>threaded_lightning</th>\n",
       "      <td>564.46</td>\n",
       "      <td>558.57</td>\n",
       "      <td>558.92</td>\n",
       "      <td>565.15</td>\n",
       "      <td>552.69</td>\n",
       "      <td>484.68</td>\n",
       "      <td>553.20</td>\n",
       "      <td>559.23</td>\n",
       "      <td>565.09</td>\n",
       "      <td>561.94</td>\n",
       "      <td>552.39</td>\n",
       "      <td>586.00</td>\n",
       "      <td>24.21</td>\n",
       "    </tr>\n",
       "    <tr>\n",
       "      <th>asyncio_torch</th>\n",
       "      <td>812.82</td>\n",
       "      <td>780.66</td>\n",
       "      <td>806.56</td>\n",
       "      <td>810.48</td>\n",
       "      <td>801.97</td>\n",
       "      <td>781.16</td>\n",
       "      <td>802.63</td>\n",
       "      <td>794.12</td>\n",
       "      <td>793.96</td>\n",
       "      <td>803.05</td>\n",
       "      <td>798.74</td>\n",
       "      <td>124.61</td>\n",
       "      <td>11.16</td>\n",
       "    </tr>\n",
       "    <tr>\n",
       "      <th>asyncio_lightning</th>\n",
       "      <td>508.22</td>\n",
       "      <td>487.87</td>\n",
       "      <td>497.83</td>\n",
       "      <td>501.20</td>\n",
       "      <td>493.13</td>\n",
       "      <td>494.72</td>\n",
       "      <td>501.69</td>\n",
       "      <td>495.35</td>\n",
       "      <td>502.61</td>\n",
       "      <td>498.06</td>\n",
       "      <td>498.07</td>\n",
       "      <td>32.63</td>\n",
       "      <td>5.71</td>\n",
       "    </tr>\n",
       "    <tr>\n",
       "      <th>vanilla_torch</th>\n",
       "      <td>538.80</td>\n",
       "      <td>548.64</td>\n",
       "      <td>547.63</td>\n",
       "      <td>540.36</td>\n",
       "      <td>545.85</td>\n",
       "      <td>545.71</td>\n",
       "      <td>469.26</td>\n",
       "      <td>548.09</td>\n",
       "      <td>548.06</td>\n",
       "      <td>549.56</td>\n",
       "      <td>538.20</td>\n",
       "      <td>599.41</td>\n",
       "      <td>24.48</td>\n",
       "    </tr>\n",
       "    <tr>\n",
       "      <th>vanilla_lightning</th>\n",
       "      <td>141.02</td>\n",
       "      <td>144.52</td>\n",
       "      <td>143.13</td>\n",
       "      <td>145.28</td>\n",
       "      <td>138.46</td>\n",
       "      <td>145.14</td>\n",
       "      <td>143.87</td>\n",
       "      <td>144.27</td>\n",
       "      <td>144.44</td>\n",
       "      <td>145.16</td>\n",
       "      <td>143.53</td>\n",
       "      <td>4.77</td>\n",
       "      <td>2.18</td>\n",
       "    </tr>\n",
       "  </tbody>\n",
       "</table>\n",
       "</div>"
      ],
      "text/plain": [
       "                         0       1       2       3       4       5       6  \\\n",
       "threaded_torch      899.67  889.81  892.70  889.45  898.98  901.22  899.59   \n",
       "threaded_lightning  564.46  558.57  558.92  565.15  552.69  484.68  553.20   \n",
       "asyncio_torch       812.82  780.66  806.56  810.48  801.97  781.16  802.63   \n",
       "asyncio_lightning   508.22  487.87  497.83  501.20  493.13  494.72  501.69   \n",
       "vanilla_torch       538.80  548.64  547.63  540.36  545.85  545.71  469.26   \n",
       "vanilla_lightning   141.02  144.52  143.13  145.28  138.46  145.14  143.87   \n",
       "\n",
       "                         7       8       9    mean     var    std  \n",
       "threaded_torch      896.80  893.06  903.35  896.46   23.97   4.90  \n",
       "threaded_lightning  559.23  565.09  561.94  552.39  586.00  24.21  \n",
       "asyncio_torch       794.12  793.96  803.05  798.74  124.61  11.16  \n",
       "asyncio_lightning   495.35  502.61  498.06  498.07   32.63   5.71  \n",
       "vanilla_torch       548.09  548.06  549.56  538.20  599.41  24.48  \n",
       "vanilla_lightning   144.27  144.44  145.16  143.53    4.77   2.18  "
      ]
     },
     "execution_count": 22,
     "metadata": {},
     "output_type": "execute_result"
    }
   ],
   "source": [
    "# Throughput in Mbit/s\n",
    "throughput_all_ceph = plot_all_histograms(results_ceph, impls, libs, False, value=\"Mbit/s\") # display = False (doesn't plot histogrms)\n",
    "df_t_ceph = add_stats(throughput_all_ceph)\n",
    "df_t_ceph"
   ]
  },
  {
   "cell_type": "code",
   "execution_count": 23,
   "id": "57bb1a3b",
   "metadata": {},
   "outputs": [],
   "source": [
    "df_t_ceph.to_csv(\"df_t_ceph_mbit.csv\")"
   ]
  },
  {
   "cell_type": "code",
   "execution_count": null,
   "id": "5e2689ba",
   "metadata": {},
   "outputs": [],
   "source": []
  }
 ],
 "metadata": {
  "kernelspec": {
   "display_name": "Python (myenv)",
   "language": "python",
   "name": "storage-benchmarking"
  },
  "language_info": {
   "codemirror_mode": {
    "name": "ipython",
    "version": 3
   },
   "file_extension": ".py",
   "mimetype": "text/x-python",
   "name": "python",
   "nbconvert_exporter": "python",
   "pygments_lexer": "ipython3",
   "version": "3.8.11"
  }
 },
 "nbformat": 4,
 "nbformat_minor": 5
}
